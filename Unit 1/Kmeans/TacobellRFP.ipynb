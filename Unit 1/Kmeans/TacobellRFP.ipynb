{
 "cells": [
  {
   "cell_type": "markdown",
   "id": "1b940825",
   "metadata": {},
   "source": [
    "# RFP: Targeted Taco Bell Ads\n",
    "\n",
    "## Project Overview\n",
    "You are invited to submit a proposal that answers the following question:\n",
    "\n",
    "### What ad will you create and why?\n",
    "\n",
    "*Please submit your proposal by **1/30/25 at 11:59 PM**.*"
   ]
  },
  {
   "cell_type": "markdown",
   "id": "968a85f0",
   "metadata": {},
   "source": [
    "## Required Proposal Components\n",
    "\n",
    "### 1. Data Description\n",
    "In the code cell below, read in the data you will need to train and test your model. Call `info()` once you have read the data into a dataframe. Consider using some or all of the following sources:\n",
    "- [Customer Demographics](https://drive.google.com/file/d/1HK42Oa3bhhRDWR1y1wVBDAQ2tbNwg1gS/view?usp=sharing)\n",
    "- [Ad Response Data](https://drive.google.com/file/d/1cuLqXPNKhP66m5BP9BAlci2G--Vopt-Z/view?usp=sharing)\n",
    "\n",
    "*Note, a level 5 dataset combines these two data sets.*"
   ]
  },
  {
   "cell_type": "code",
   "execution_count": 1,
   "id": "08c1688a",
   "metadata": {},
   "outputs": [
    {
     "name": "stdout",
     "output_type": "stream",
     "text": [
      "\n",
      "Customer Dems:\n",
      "<class 'pandas.core.frame.DataFrame'>\n",
      "RangeIndex: 10000 entries, 0 to 9999\n",
      "Data columns (total 7 columns):\n",
      " #   Column       Non-Null Count  Dtype  \n",
      "---  ------       --------------  -----  \n",
      " 0   customer_id  10000 non-null  int64  \n",
      " 1   state        10000 non-null  object \n",
      " 2   sex          10000 non-null  object \n",
      " 3   age          10000 non-null  float64\n",
      " 4   occupation   10000 non-null  object \n",
      " 5   family_size  10000 non-null  int64  \n",
      " 6   income       10000 non-null  int64  \n",
      "dtypes: float64(1), int64(3), object(3)\n",
      "memory usage: 547.0+ KB\n",
      "\n",
      "Add info:\n",
      "<class 'pandas.core.frame.DataFrame'>\n",
      "RangeIndex: 10000 entries, 0 to 9999\n",
      "Data columns (total 6 columns):\n",
      " #   Column            Non-Null Count  Dtype \n",
      "---  ------            --------------  ----- \n",
      " 0   customer_id       10000 non-null  int64 \n",
      " 1   ad_type           10000 non-null  object\n",
      " 2   ad_medium         10000 non-null  object\n",
      " 3   ad_response       10000 non-null  bool  \n",
      " 4   items_purchased   10000 non-null  object\n",
      " 5   drinks_purchased  10000 non-null  object\n",
      "dtypes: bool(1), int64(1), object(4)\n",
      "memory usage: 400.5+ KB\n",
      "\n",
      "Merged info:\n",
      "<class 'pandas.core.frame.DataFrame'>\n",
      "RangeIndex: 10000 entries, 0 to 9999\n",
      "Data columns (total 12 columns):\n",
      " #   Column            Non-Null Count  Dtype  \n",
      "---  ------            --------------  -----  \n",
      " 0   customer_id       10000 non-null  int64  \n",
      " 1   state             10000 non-null  object \n",
      " 2   sex               10000 non-null  object \n",
      " 3   age               10000 non-null  float64\n",
      " 4   occupation        10000 non-null  object \n",
      " 5   family_size       10000 non-null  int64  \n",
      " 6   income            10000 non-null  int64  \n",
      " 7   ad_type           10000 non-null  object \n",
      " 8   ad_medium         10000 non-null  object \n",
      " 9   ad_response       10000 non-null  bool   \n",
      " 10  items_purchased   10000 non-null  object \n",
      " 11  drinks_purchased  10000 non-null  object \n",
      "dtypes: bool(1), float64(1), int64(3), object(7)\n",
      "memory usage: 869.3+ KB\n"
     ]
    },
    {
     "data": {
      "text/html": [
       "<div>\n",
       "<style scoped>\n",
       "    .dataframe tbody tr th:only-of-type {\n",
       "        vertical-align: middle;\n",
       "    }\n",
       "\n",
       "    .dataframe tbody tr th {\n",
       "        vertical-align: top;\n",
       "    }\n",
       "\n",
       "    .dataframe thead th {\n",
       "        text-align: right;\n",
       "    }\n",
       "</style>\n",
       "<table border=\"1\" class=\"dataframe\">\n",
       "  <thead>\n",
       "    <tr style=\"text-align: right;\">\n",
       "      <th></th>\n",
       "      <th>customer_id</th>\n",
       "      <th>state</th>\n",
       "      <th>sex</th>\n",
       "      <th>age</th>\n",
       "      <th>occupation</th>\n",
       "      <th>family_size</th>\n",
       "      <th>income</th>\n",
       "      <th>ad_type</th>\n",
       "      <th>ad_medium</th>\n",
       "      <th>ad_response</th>\n",
       "      <th>items_purchased</th>\n",
       "      <th>drinks_purchased</th>\n",
       "    </tr>\n",
       "  </thead>\n",
       "  <tbody>\n",
       "    <tr>\n",
       "      <th>0</th>\n",
       "      <td>9167</td>\n",
       "      <td>MO</td>\n",
       "      <td>F</td>\n",
       "      <td>42.0</td>\n",
       "      <td>Food Service</td>\n",
       "      <td>1</td>\n",
       "      <td>40343</td>\n",
       "      <td>DISCOUNT-20%</td>\n",
       "      <td>Instagram photo ad</td>\n",
       "      <td>True</td>\n",
       "      <td>['mexican pizza', 'chicken quesadilla']</td>\n",
       "      <td>['mountain dew', 'mug root beer']</td>\n",
       "    </tr>\n",
       "    <tr>\n",
       "      <th>1</th>\n",
       "      <td>531</td>\n",
       "      <td>MI</td>\n",
       "      <td>F</td>\n",
       "      <td>36.0</td>\n",
       "      <td>Retail</td>\n",
       "      <td>4</td>\n",
       "      <td>41730</td>\n",
       "      <td>DISCOUNT-10%</td>\n",
       "      <td>Instagram photo ad</td>\n",
       "      <td>False</td>\n",
       "      <td>['steak garlic nacho fries', 'crunchy taco', '...</td>\n",
       "      <td>['mug root beer', 'iced tea', 'starry', 'iced ...</td>\n",
       "    </tr>\n",
       "    <tr>\n",
       "      <th>2</th>\n",
       "      <td>2265</td>\n",
       "      <td>CA</td>\n",
       "      <td>F</td>\n",
       "      <td>25.0</td>\n",
       "      <td>IT</td>\n",
       "      <td>0</td>\n",
       "      <td>84024</td>\n",
       "      <td>DISCOUNT-20%</td>\n",
       "      <td>15 sec YouTube ad</td>\n",
       "      <td>False</td>\n",
       "      <td>['chicken quesadilla']</td>\n",
       "      <td>['mug root beer']</td>\n",
       "    </tr>\n",
       "    <tr>\n",
       "      <th>3</th>\n",
       "      <td>7550</td>\n",
       "      <td>VA</td>\n",
       "      <td>M</td>\n",
       "      <td>38.0</td>\n",
       "      <td>Food Service</td>\n",
       "      <td>2</td>\n",
       "      <td>38990</td>\n",
       "      <td>BOGO - Garlic Steak Nacho Fries</td>\n",
       "      <td>15 sec YouTube ad</td>\n",
       "      <td>True</td>\n",
       "      <td>['steak garlic nacho fries', 'steak garlic nac...</td>\n",
       "      <td>['pepsi', 'diet pepsi', 'diet pepsi']</td>\n",
       "    </tr>\n",
       "    <tr>\n",
       "      <th>4</th>\n",
       "      <td>5334</td>\n",
       "      <td>MT</td>\n",
       "      <td>M</td>\n",
       "      <td>35.0</td>\n",
       "      <td>Food Service</td>\n",
       "      <td>1</td>\n",
       "      <td>33400</td>\n",
       "      <td>DISCOUNT-20%</td>\n",
       "      <td>15 sec YouTube ad</td>\n",
       "      <td>False</td>\n",
       "      <td>['spicy potato soft taco', 'nachos bellgrande']</td>\n",
       "      <td>['gatorade', 'baja blast']</td>\n",
       "    </tr>\n",
       "  </tbody>\n",
       "</table>\n",
       "</div>"
      ],
      "text/plain": [
       "   customer_id state sex   age    occupation  family_size  income  \\\n",
       "0         9167    MO   F  42.0  Food Service            1   40343   \n",
       "1          531    MI   F  36.0        Retail            4   41730   \n",
       "2         2265    CA   F  25.0            IT            0   84024   \n",
       "3         7550    VA   M  38.0  Food Service            2   38990   \n",
       "4         5334    MT   M  35.0  Food Service            1   33400   \n",
       "\n",
       "                           ad_type           ad_medium  ad_response  \\\n",
       "0                     DISCOUNT-20%  Instagram photo ad         True   \n",
       "1                     DISCOUNT-10%  Instagram photo ad        False   \n",
       "2                     DISCOUNT-20%   15 sec YouTube ad        False   \n",
       "3  BOGO - Garlic Steak Nacho Fries   15 sec YouTube ad         True   \n",
       "4                     DISCOUNT-20%   15 sec YouTube ad        False   \n",
       "\n",
       "                                     items_purchased  \\\n",
       "0            ['mexican pizza', 'chicken quesadilla']   \n",
       "1  ['steak garlic nacho fries', 'crunchy taco', '...   \n",
       "2                             ['chicken quesadilla']   \n",
       "3  ['steak garlic nacho fries', 'steak garlic nac...   \n",
       "4    ['spicy potato soft taco', 'nachos bellgrande']   \n",
       "\n",
       "                                    drinks_purchased  \n",
       "0                  ['mountain dew', 'mug root beer']  \n",
       "1  ['mug root beer', 'iced tea', 'starry', 'iced ...  \n",
       "2                                  ['mug root beer']  \n",
       "3              ['pepsi', 'diet pepsi', 'diet pepsi']  \n",
       "4                         ['gatorade', 'baja blast']  "
      ]
     },
     "execution_count": 1,
     "metadata": {},
     "output_type": "execute_result"
    }
   ],
   "source": [
    "# Read data into a dataframe(s).\n",
    "import pandas as pd\n",
    "customerdems=pd.read_csv('customer_data.csv')\n",
    "addata=pd.read_csv('ad_data.csv')\n",
    "\n",
    "print('\\nCustomer Dems:')\n",
    "customerdems.info()\n",
    "df=customerdems.merge(addata, how='left', on='customer_id')\n",
    "print('\\nAdd info:')\n",
    "addata.info()\n",
    "\n",
    "print('\\nMerged info:')\n",
    "df.info()\n",
    "\n",
    "df.head()\n",
    "# Don't forget to call info()!"
   ]
  },
  {
   "cell_type": "markdown",
   "id": "880ff05f",
   "metadata": {},
   "source": [
    "### 2. Training Your Model\n",
    "In the cell seen below, write the code you need to train a K-means clustering model. Make sure you describe the center of each cluster found.\n",
    "\n",
    "*Note, level 5 work uses at least 3 features to train a K-means model using only the standard Python library and Pandas. A level 4 uses external libraries like scikit or numpy.*"
   ]
  },
  {
   "cell_type": "code",
   "execution_count": 2,
   "id": "a87a9144",
   "metadata": {},
   "outputs": [
    {
     "name": "stdout",
     "output_type": "stream",
     "text": [
      "<class 'pandas.core.frame.DataFrame'>\n",
      "Index: 4379 entries, 4 to 9998\n",
      "Data columns (total 12 columns):\n",
      " #   Column            Non-Null Count  Dtype  \n",
      "---  ------            --------------  -----  \n",
      " 0   customer_id       4379 non-null   int64  \n",
      " 1   state             4379 non-null   object \n",
      " 2   sex               4379 non-null   object \n",
      " 3   age               4379 non-null   float64\n",
      " 4   occupation        4379 non-null   object \n",
      " 5   family_size       4379 non-null   int64  \n",
      " 6   income            4379 non-null   int64  \n",
      " 7   ad_type           4379 non-null   object \n",
      " 8   ad_medium         4379 non-null   object \n",
      " 9   ad_response       4379 non-null   bool   \n",
      " 10  items_purchased   4379 non-null   object \n",
      " 11  drinks_purchased  4379 non-null   object \n",
      "dtypes: bool(1), float64(1), int64(3), object(7)\n",
      "memory usage: 414.8+ KB\n",
      "<class 'pandas.core.frame.DataFrame'>\n",
      "Index: 4379 entries, 4 to 9998\n",
      "Data columns (total 13 columns):\n",
      " #   Column            Non-Null Count  Dtype  \n",
      "---  ------            --------------  -----  \n",
      " 0   customer_id       4379 non-null   int64  \n",
      " 1   state             4379 non-null   object \n",
      " 2   sex               4379 non-null   object \n",
      " 3   age               4379 non-null   float64\n",
      " 4   occupation        4379 non-null   object \n",
      " 5   family_size       4379 non-null   int64  \n",
      " 6   income            4379 non-null   int64  \n",
      " 7   ad_type           4379 non-null   object \n",
      " 8   ad_medium         4379 non-null   object \n",
      " 9   ad_response       4379 non-null   bool   \n",
      " 10  items_purchased   4379 non-null   object \n",
      " 11  drinks_purchased  4379 non-null   object \n",
      " 12  ad_rep_num        4379 non-null   object \n",
      "dtypes: bool(1), float64(1), int64(3), object(8)\n",
      "memory usage: 578.1+ KB\n"
     ]
    },
    {
     "data": {
      "text/html": [
       "<div>\n",
       "<style scoped>\n",
       "    .dataframe tbody tr th:only-of-type {\n",
       "        vertical-align: middle;\n",
       "    }\n",
       "\n",
       "    .dataframe tbody tr th {\n",
       "        vertical-align: top;\n",
       "    }\n",
       "\n",
       "    .dataframe thead th {\n",
       "        text-align: right;\n",
       "    }\n",
       "</style>\n",
       "<table border=\"1\" class=\"dataframe\">\n",
       "  <thead>\n",
       "    <tr style=\"text-align: right;\">\n",
       "      <th></th>\n",
       "      <th>customer_id</th>\n",
       "      <th>state</th>\n",
       "      <th>sex</th>\n",
       "      <th>age</th>\n",
       "      <th>occupation</th>\n",
       "      <th>family_size</th>\n",
       "      <th>income</th>\n",
       "      <th>ad_type</th>\n",
       "      <th>ad_medium</th>\n",
       "      <th>ad_response</th>\n",
       "      <th>items_purchased</th>\n",
       "      <th>drinks_purchased</th>\n",
       "      <th>ad_rep_num</th>\n",
       "    </tr>\n",
       "  </thead>\n",
       "  <tbody>\n",
       "    <tr>\n",
       "      <th>4</th>\n",
       "      <td>5334</td>\n",
       "      <td>MT</td>\n",
       "      <td>M</td>\n",
       "      <td>35.0</td>\n",
       "      <td>Food Service</td>\n",
       "      <td>1</td>\n",
       "      <td>33400</td>\n",
       "      <td>DISCOUNT-20%</td>\n",
       "      <td>15 sec YouTube ad</td>\n",
       "      <td>False</td>\n",
       "      <td>['spicy potato soft taco', 'nachos bellgrande']</td>\n",
       "      <td>['gatorade', 'baja blast']</td>\n",
       "      <td>0</td>\n",
       "    </tr>\n",
       "    <tr>\n",
       "      <th>5</th>\n",
       "      <td>9168</td>\n",
       "      <td>FL</td>\n",
       "      <td>F</td>\n",
       "      <td>68.0</td>\n",
       "      <td>Retired</td>\n",
       "      <td>3</td>\n",
       "      <td>0</td>\n",
       "      <td>DISCOUNT-5%</td>\n",
       "      <td>30 sec cable TV ad</td>\n",
       "      <td>False</td>\n",
       "      <td>['cinnamon twists', 'mexican pizza', 'soft tac...</td>\n",
       "      <td>['brisk', 'iced tea', 'baja blast', 'iced tea']</td>\n",
       "      <td>0</td>\n",
       "    </tr>\n",
       "    <tr>\n",
       "      <th>7</th>\n",
       "      <td>5405</td>\n",
       "      <td>NC</td>\n",
       "      <td>M</td>\n",
       "      <td>45.0</td>\n",
       "      <td>Other</td>\n",
       "      <td>3</td>\n",
       "      <td>70379</td>\n",
       "      <td>DISCOUNT-20%</td>\n",
       "      <td>30 sec Hulu commercial</td>\n",
       "      <td>False</td>\n",
       "      <td>['nachos bellgrande', 'spicy potato soft taco'...</td>\n",
       "      <td>['baja blast', 'baja blast', 'pepsi', 'pepsi']</td>\n",
       "      <td>0</td>\n",
       "    </tr>\n",
       "    <tr>\n",
       "      <th>9</th>\n",
       "      <td>9385</td>\n",
       "      <td>NE</td>\n",
       "      <td>M</td>\n",
       "      <td>20.0</td>\n",
       "      <td>IT</td>\n",
       "      <td>0</td>\n",
       "      <td>77982</td>\n",
       "      <td>REWARD - Free Baja Blast with purchase of $20 ...</td>\n",
       "      <td>15 sec YouTube ad</td>\n",
       "      <td>True</td>\n",
       "      <td>['chicken quesadilla', 'beefy 5 layer burrito'...</td>\n",
       "      <td>['baja blast']</td>\n",
       "      <td>1</td>\n",
       "    </tr>\n",
       "    <tr>\n",
       "      <th>11</th>\n",
       "      <td>3989</td>\n",
       "      <td>AL</td>\n",
       "      <td>M</td>\n",
       "      <td>46.0</td>\n",
       "      <td>Retail</td>\n",
       "      <td>1</td>\n",
       "      <td>47946</td>\n",
       "      <td>BOGO - Baja Blast</td>\n",
       "      <td>Static Facebook ad</td>\n",
       "      <td>True</td>\n",
       "      <td>['spicy potato soft taco', 'beefy 5 layer burr...</td>\n",
       "      <td>['baja blast', 'baja blast']</td>\n",
       "      <td>1</td>\n",
       "    </tr>\n",
       "  </tbody>\n",
       "</table>\n",
       "</div>"
      ],
      "text/plain": [
       "    customer_id state sex   age    occupation  family_size  income  \\\n",
       "4          5334    MT   M  35.0  Food Service            1   33400   \n",
       "5          9168    FL   F  68.0       Retired            3       0   \n",
       "7          5405    NC   M  45.0         Other            3   70379   \n",
       "9          9385    NE   M  20.0            IT            0   77982   \n",
       "11         3989    AL   M  46.0        Retail            1   47946   \n",
       "\n",
       "                                              ad_type               ad_medium  \\\n",
       "4                                        DISCOUNT-20%       15 sec YouTube ad   \n",
       "5                                         DISCOUNT-5%      30 sec cable TV ad   \n",
       "7                                        DISCOUNT-20%  30 sec Hulu commercial   \n",
       "9   REWARD - Free Baja Blast with purchase of $20 ...       15 sec YouTube ad   \n",
       "11                                  BOGO - Baja Blast      Static Facebook ad   \n",
       "\n",
       "    ad_response                                    items_purchased  \\\n",
       "4         False    ['spicy potato soft taco', 'nachos bellgrande']   \n",
       "5         False  ['cinnamon twists', 'mexican pizza', 'soft tac...   \n",
       "7         False  ['nachos bellgrande', 'spicy potato soft taco'...   \n",
       "9          True  ['chicken quesadilla', 'beefy 5 layer burrito'...   \n",
       "11         True  ['spicy potato soft taco', 'beefy 5 layer burr...   \n",
       "\n",
       "                                   drinks_purchased ad_rep_num  \n",
       "4                        ['gatorade', 'baja blast']          0  \n",
       "5   ['brisk', 'iced tea', 'baja blast', 'iced tea']          0  \n",
       "7    ['baja blast', 'baja blast', 'pepsi', 'pepsi']          0  \n",
       "9                                    ['baja blast']          1  \n",
       "11                     ['baja blast', 'baja blast']          1  "
      ]
     },
     "execution_count": 2,
     "metadata": {},
     "output_type": "execute_result"
    }
   ],
   "source": [
    "# Train model here.\n",
    "\n",
    "#Features:  Ad_response, Income, age, ad_medium\n",
    "\n",
    "\n",
    "sdf=[]\n",
    "for i, player in df.iterrows():\n",
    "    drinks = player['drinks_purchased']\n",
    "    if 'baja blast' in drinks:\n",
    "        sdf.append(player)\n",
    "sdf=pd.DataFrame(sdf)\n",
    "sdf.info()\n",
    "sdf.head()\n",
    "\n",
    "sdf['ad_rep_num']=None\n",
    "for i, row in sdf.iterrows():\n",
    "    rep = row['ad_response']\n",
    "    if rep is False:\n",
    "        sdf.loc[i, 'ad_rep_num'] = 0\n",
    "    else:\n",
    "        sdf.loc[i, 'ad_rep_num'] = 1\n",
    "\n",
    "sdf.info()\n",
    "sdf.head()"
   ]
  },
  {
   "cell_type": "code",
   "execution_count": 3,
   "id": "198eb001-399c-44c0-a1fe-d9152734156d",
   "metadata": {},
   "outputs": [
    {
     "name": "stdout",
     "output_type": "stream",
     "text": [
      "['15 sec YouTube ad' '30 sec cable TV ad' '30 sec Hulu commercial'\n",
      " 'Static Facebook ad' 'Instagram photo ad' '15 sec TikTok ad'\n",
      " 'Newspaper ad']\n"
     ]
    }
   ],
   "source": [
    "print(sdf['ad_medium'].unique())"
   ]
  },
  {
   "cell_type": "code",
   "execution_count": 4,
   "id": "26fe564e-4389-462b-a1b5-c31bf5bd71b1",
   "metadata": {},
   "outputs": [
    {
     "name": "stdout",
     "output_type": "stream",
     "text": [
      "<class 'pandas.core.frame.DataFrame'>\n",
      "Index: 4379 entries, 4 to 9998\n",
      "Data columns (total 14 columns):\n",
      " #   Column            Non-Null Count  Dtype  \n",
      "---  ------            --------------  -----  \n",
      " 0   customer_id       4379 non-null   int64  \n",
      " 1   state             4379 non-null   object \n",
      " 2   sex               4379 non-null   object \n",
      " 3   age               4379 non-null   float64\n",
      " 4   occupation        4379 non-null   object \n",
      " 5   family_size       4379 non-null   int64  \n",
      " 6   income            4379 non-null   int64  \n",
      " 7   ad_type           4379 non-null   object \n",
      " 8   ad_medium         4379 non-null   object \n",
      " 9   ad_response       4379 non-null   bool   \n",
      " 10  items_purchased   4379 non-null   object \n",
      " 11  drinks_purchased  4379 non-null   object \n",
      " 12  ad_rep_num        4379 non-null   object \n",
      " 13  ad_med_num        4379 non-null   object \n",
      "dtypes: bool(1), float64(1), int64(3), object(9)\n",
      "memory usage: 612.3+ KB\n"
     ]
    },
    {
     "data": {
      "text/html": [
       "<div>\n",
       "<style scoped>\n",
       "    .dataframe tbody tr th:only-of-type {\n",
       "        vertical-align: middle;\n",
       "    }\n",
       "\n",
       "    .dataframe tbody tr th {\n",
       "        vertical-align: top;\n",
       "    }\n",
       "\n",
       "    .dataframe thead th {\n",
       "        text-align: right;\n",
       "    }\n",
       "</style>\n",
       "<table border=\"1\" class=\"dataframe\">\n",
       "  <thead>\n",
       "    <tr style=\"text-align: right;\">\n",
       "      <th></th>\n",
       "      <th>customer_id</th>\n",
       "      <th>state</th>\n",
       "      <th>sex</th>\n",
       "      <th>age</th>\n",
       "      <th>occupation</th>\n",
       "      <th>family_size</th>\n",
       "      <th>income</th>\n",
       "      <th>ad_type</th>\n",
       "      <th>ad_medium</th>\n",
       "      <th>ad_response</th>\n",
       "      <th>items_purchased</th>\n",
       "      <th>drinks_purchased</th>\n",
       "      <th>ad_rep_num</th>\n",
       "      <th>ad_med_num</th>\n",
       "    </tr>\n",
       "  </thead>\n",
       "  <tbody>\n",
       "    <tr>\n",
       "      <th>4</th>\n",
       "      <td>5334</td>\n",
       "      <td>MT</td>\n",
       "      <td>M</td>\n",
       "      <td>35.0</td>\n",
       "      <td>Food Service</td>\n",
       "      <td>1</td>\n",
       "      <td>33400</td>\n",
       "      <td>DISCOUNT-20%</td>\n",
       "      <td>15 sec YouTube ad</td>\n",
       "      <td>False</td>\n",
       "      <td>['spicy potato soft taco', 'nachos bellgrande']</td>\n",
       "      <td>['gatorade', 'baja blast']</td>\n",
       "      <td>0</td>\n",
       "      <td>1</td>\n",
       "    </tr>\n",
       "    <tr>\n",
       "      <th>5</th>\n",
       "      <td>9168</td>\n",
       "      <td>FL</td>\n",
       "      <td>F</td>\n",
       "      <td>68.0</td>\n",
       "      <td>Retired</td>\n",
       "      <td>3</td>\n",
       "      <td>0</td>\n",
       "      <td>DISCOUNT-5%</td>\n",
       "      <td>30 sec cable TV ad</td>\n",
       "      <td>False</td>\n",
       "      <td>['cinnamon twists', 'mexican pizza', 'soft tac...</td>\n",
       "      <td>['brisk', 'iced tea', 'baja blast', 'iced tea']</td>\n",
       "      <td>0</td>\n",
       "      <td>1</td>\n",
       "    </tr>\n",
       "    <tr>\n",
       "      <th>7</th>\n",
       "      <td>5405</td>\n",
       "      <td>NC</td>\n",
       "      <td>M</td>\n",
       "      <td>45.0</td>\n",
       "      <td>Other</td>\n",
       "      <td>3</td>\n",
       "      <td>70379</td>\n",
       "      <td>DISCOUNT-20%</td>\n",
       "      <td>30 sec Hulu commercial</td>\n",
       "      <td>False</td>\n",
       "      <td>['nachos bellgrande', 'spicy potato soft taco'...</td>\n",
       "      <td>['baja blast', 'baja blast', 'pepsi', 'pepsi']</td>\n",
       "      <td>0</td>\n",
       "      <td>1</td>\n",
       "    </tr>\n",
       "    <tr>\n",
       "      <th>9</th>\n",
       "      <td>9385</td>\n",
       "      <td>NE</td>\n",
       "      <td>M</td>\n",
       "      <td>20.0</td>\n",
       "      <td>IT</td>\n",
       "      <td>0</td>\n",
       "      <td>77982</td>\n",
       "      <td>REWARD - Free Baja Blast with purchase of $20 ...</td>\n",
       "      <td>15 sec YouTube ad</td>\n",
       "      <td>True</td>\n",
       "      <td>['chicken quesadilla', 'beefy 5 layer burrito'...</td>\n",
       "      <td>['baja blast']</td>\n",
       "      <td>1</td>\n",
       "      <td>1</td>\n",
       "    </tr>\n",
       "    <tr>\n",
       "      <th>11</th>\n",
       "      <td>3989</td>\n",
       "      <td>AL</td>\n",
       "      <td>M</td>\n",
       "      <td>46.0</td>\n",
       "      <td>Retail</td>\n",
       "      <td>1</td>\n",
       "      <td>47946</td>\n",
       "      <td>BOGO - Baja Blast</td>\n",
       "      <td>Static Facebook ad</td>\n",
       "      <td>True</td>\n",
       "      <td>['spicy potato soft taco', 'beefy 5 layer burr...</td>\n",
       "      <td>['baja blast', 'baja blast']</td>\n",
       "      <td>1</td>\n",
       "      <td>0</td>\n",
       "    </tr>\n",
       "  </tbody>\n",
       "</table>\n",
       "</div>"
      ],
      "text/plain": [
       "    customer_id state sex   age    occupation  family_size  income  \\\n",
       "4          5334    MT   M  35.0  Food Service            1   33400   \n",
       "5          9168    FL   F  68.0       Retired            3       0   \n",
       "7          5405    NC   M  45.0         Other            3   70379   \n",
       "9          9385    NE   M  20.0            IT            0   77982   \n",
       "11         3989    AL   M  46.0        Retail            1   47946   \n",
       "\n",
       "                                              ad_type               ad_medium  \\\n",
       "4                                        DISCOUNT-20%       15 sec YouTube ad   \n",
       "5                                         DISCOUNT-5%      30 sec cable TV ad   \n",
       "7                                        DISCOUNT-20%  30 sec Hulu commercial   \n",
       "9   REWARD - Free Baja Blast with purchase of $20 ...       15 sec YouTube ad   \n",
       "11                                  BOGO - Baja Blast      Static Facebook ad   \n",
       "\n",
       "    ad_response                                    items_purchased  \\\n",
       "4         False    ['spicy potato soft taco', 'nachos bellgrande']   \n",
       "5         False  ['cinnamon twists', 'mexican pizza', 'soft tac...   \n",
       "7         False  ['nachos bellgrande', 'spicy potato soft taco'...   \n",
       "9          True  ['chicken quesadilla', 'beefy 5 layer burrito'...   \n",
       "11         True  ['spicy potato soft taco', 'beefy 5 layer burr...   \n",
       "\n",
       "                                   drinks_purchased ad_rep_num ad_med_num  \n",
       "4                        ['gatorade', 'baja blast']          0          1  \n",
       "5   ['brisk', 'iced tea', 'baja blast', 'iced tea']          0          1  \n",
       "7    ['baja blast', 'baja blast', 'pepsi', 'pepsi']          0          1  \n",
       "9                                    ['baja blast']          1          1  \n",
       "11                     ['baja blast', 'baja blast']          1          0  "
      ]
     },
     "execution_count": 4,
     "metadata": {},
     "output_type": "execute_result"
    }
   ],
   "source": [
    "sdf['ad_med_num']=None\n",
    "for i, row in sdf.iterrows():\n",
    "    med = row['ad_medium']\n",
    "    if 'Static' in med or 'photo' in med or 'Newspaper' in med:\n",
    "        sdf.loc[i, 'ad_med_num'] = 0\n",
    "    else:\n",
    "        sdf.loc[i, 'ad_med_num'] = 1\n",
    "\n",
    "sdf.info()\n",
    "sdf.head()"
   ]
  },
  {
   "cell_type": "code",
   "execution_count": 5,
   "id": "fb81a710-78e9-42bc-b820-5f9cd4af3341",
   "metadata": {},
   "outputs": [
    {
     "name": "stdout",
     "output_type": "stream",
     "text": [
      "[[6.23824451e-01 5.20376176e-01 3.48507837e+03 4.64858934e+01]\n",
      " [6.03260870e-01 6.25000000e-01 1.13814505e+05 4.39130435e+01]\n",
      " [4.53125000e-01 5.93750000e-01 1.85479609e+05 4.86718750e+01]\n",
      " [6.64335664e-01 6.08391608e-01 5.26230023e+04 3.99813520e+01]\n",
      " [5.96153846e-01 5.00000000e-01 2.51082885e+05 5.89615385e+01]\n",
      " [5.81699346e-01 5.62091503e-01 1.44894059e+05 4.90653595e+01]\n",
      " [6.00950119e-01 6.34204276e-01 6.92579026e+04 3.50617577e+01]\n",
      " [6.16692427e-01 6.18238022e-01 3.71283478e+04 3.48377125e+01]\n",
      " [6.00558659e-01 6.11731844e-01 8.91929749e+04 3.96592179e+01]]\n"
     ]
    },
    {
     "name": "stderr",
     "output_type": "stream",
     "text": [
      "C:\\Users\\georg\\anaconda3\\Lib\\site-packages\\joblib\\externals\\loky\\backend\\context.py:136: UserWarning: Could not find the number of physical cores for the following reason:\n",
      "[WinError 2] The system cannot find the file specified\n",
      "Returning the number of logical cores instead. You can silence this warning by setting LOKY_MAX_CPU_COUNT to the number of cores you want to use.\n",
      "  warnings.warn(\n",
      "  File \"C:\\Users\\georg\\anaconda3\\Lib\\site-packages\\joblib\\externals\\loky\\backend\\context.py\", line 257, in _count_physical_cores\n",
      "    cpu_info = subprocess.run(\n",
      "               ^^^^^^^^^^^^^^^\n",
      "  File \"C:\\Users\\georg\\anaconda3\\Lib\\subprocess.py\", line 548, in run\n",
      "    with Popen(*popenargs, **kwargs) as process:\n",
      "         ^^^^^^^^^^^^^^^^^^^^^^^^^^^\n",
      "  File \"C:\\Users\\georg\\anaconda3\\Lib\\subprocess.py\", line 1026, in __init__\n",
      "    self._execute_child(args, executable, preexec_fn, close_fds,\n",
      "  File \"C:\\Users\\georg\\anaconda3\\Lib\\subprocess.py\", line 1538, in _execute_child\n",
      "    hp, ht, pid, tid = _winapi.CreateProcess(executable, args,\n",
      "                       ^^^^^^^^^^^^^^^^^^^^^^^^^^^^^^^^^^^^^^^\n",
      "C:\\Users\\georg\\anaconda3\\Lib\\site-packages\\sklearn\\cluster\\_kmeans.py:1429: UserWarning: KMeans is known to have a memory leak on Windows with MKL, when there are less chunks than available threads. You can avoid it by setting the environment variable OMP_NUM_THREADS=11.\n",
      "  warnings.warn(\n"
     ]
    },
    {
     "data": {
      "text/plain": [
       "<Axes: >"
      ]
     },
     "execution_count": 5,
     "metadata": {},
     "output_type": "execute_result"
    },
    {
     "data": {
      "image/png": "[encoded data removed]",
      "text/plain": [
       "<Figure size 640x480 with 1 Axes>"
      ]
     },
     "metadata": {},
     "output_type": "display_data"
    }
   ],
   "source": [
    "from sklearn.model_selection import train_test_split\n",
    "from sklearn.cluster import KMeans\n",
    "\n",
    "train_df, test_df = train_test_split(sdf, test_size=0.4, random_state=42)\n",
    "train_df = train_df[[\"ad_med_num\", \"ad_rep_num\", \"income\", \"age\"]]\n",
    "\n",
    "import matplotlib.pyplot as plt\n",
    "import seaborn as sns\n",
    "model = KMeans(n_clusters=9)\n",
    "model.fit(train_df)\n",
    "cluster_centers = model.cluster_centers_\n",
    "print(cluster_centers)\n",
    "\n",
    "x = cluster_centers[:, 0]\n",
    "y = cluster_centers[:, 1]\n",
    "sns.scatterplot(x=x, y=y, s=100, color='blue', marker='o')\n"
   ]
  },
  {
   "cell_type": "code",
   "execution_count": 6,
   "id": "76fb80d7-37ba-4ddb-bb37-10ca5b6b3c16",
   "metadata": {},
   "outputs": [
    {
     "data": {
      "text/plain": [
       "<Axes: >"
      ]
     },
     "execution_count": 6,
     "metadata": {},
     "output_type": "execute_result"
    },
    {
     "data": {
      "image/png": "[encoded data removed]",
      "text/plain": [
       "<Figure size 640x480 with 1 Axes>"
      ]
     },
     "metadata": {},
     "output_type": "display_data"
    }
   ],
   "source": [
    "\n",
    "x = cluster_centers[:, 1]\n",
    "y = cluster_centers[:, 2]\n",
    "sns.scatterplot(x=x, y=y, s=100, color='blue', marker='o')"
   ]
  },
  {
   "cell_type": "code",
   "execution_count": 7,
   "id": "1c93f7c5-e50e-4ded-8934-5df5b3c05aef",
   "metadata": {},
   "outputs": [
    {
     "data": {
      "text/plain": [
       "<Axes: >"
      ]
     },
     "execution_count": 7,
     "metadata": {},
     "output_type": "execute_result"
    },
    {
     "data": {
      "image/png": "[encoded data removed]",
      "text/plain": [
       "<Figure size 640x480 with 1 Axes>"
      ]
     },
     "metadata": {},
     "output_type": "display_data"
    }
   ],
   "source": [
    "\n",
    "x = cluster_centers[:, 2]\n",
    "y = cluster_centers[:, 3]\n",
    "sns.scatterplot(x=x, y=y, s=100, color='blue', marker='o')"
   ]
  },
  {
   "cell_type": "code",
   "execution_count": 8,
   "id": "c7fa3d5a-11b5-411e-a716-f9f1d022d265",
   "metadata": {},
   "outputs": [
    {
     "data": {
      "text/plain": [
       "<Axes: >"
      ]
     },
     "execution_count": 8,
     "metadata": {},
     "output_type": "execute_result"
    },
    {
     "data": {
      "image/png": "[encoded data removed]",
      "text/plain": [
       "<Figure size 640x480 with 1 Axes>"
      ]
     },
     "metadata": {},
     "output_type": "display_data"
    }
   ],
   "source": [
    "\n",
    "x = cluster_centers[:, 3]\n",
    "y = cluster_centers[:, 0]\n",
    "sns.scatterplot(x=x, y=y, s=100, color='blue', marker='o')"
   ]
  },
  {
   "cell_type": "code",
   "execution_count": 25,
   "id": "ff0a9b49-f490-452a-b6c7-676809f2cd0a",
   "metadata": {},
   "outputs": [
    {
     "name": "stderr",
     "output_type": "stream",
     "text": [
      "C:\\Users\\georg\\anaconda3\\Lib\\site-packages\\sklearn\\cluster\\_kmeans.py:1429: UserWarning: KMeans is known to have a memory leak on Windows with MKL, when there are less chunks than available threads. You can avoid it by setting the environment variable OMP_NUM_THREADS=11.\n",
      "  warnings.warn(\n",
      "C:\\Users\\georg\\anaconda3\\Lib\\site-packages\\sklearn\\cluster\\_kmeans.py:1429: UserWarning: KMeans is known to have a memory leak on Windows with MKL, when there are less chunks than available threads. You can avoid it by setting the environment variable OMP_NUM_THREADS=11.\n",
      "  warnings.warn(\n",
      "C:\\Users\\georg\\anaconda3\\Lib\\site-packages\\sklearn\\cluster\\_kmeans.py:1429: UserWarning: KMeans is known to have a memory leak on Windows with MKL, when there are less chunks than available threads. You can avoid it by setting the environment variable OMP_NUM_THREADS=11.\n",
      "  warnings.warn(\n",
      "C:\\Users\\georg\\anaconda3\\Lib\\site-packages\\sklearn\\cluster\\_kmeans.py:1429: UserWarning: KMeans is known to have a memory leak on Windows with MKL, when there are less chunks than available threads. You can avoid it by setting the environment variable OMP_NUM_THREADS=11.\n",
      "  warnings.warn(\n",
      "C:\\Users\\georg\\anaconda3\\Lib\\site-packages\\sklearn\\cluster\\_kmeans.py:1429: UserWarning: KMeans is known to have a memory leak on Windows with MKL, when there are less chunks than available threads. You can avoid it by setting the environment variable OMP_NUM_THREADS=11.\n",
      "  warnings.warn(\n",
      "C:\\Users\\georg\\anaconda3\\Lib\\site-packages\\sklearn\\cluster\\_kmeans.py:1429: UserWarning: KMeans is known to have a memory leak on Windows with MKL, when there are less chunks than available threads. You can avoid it by setting the environment variable OMP_NUM_THREADS=11.\n",
      "  warnings.warn(\n",
      "C:\\Users\\georg\\anaconda3\\Lib\\site-packages\\sklearn\\cluster\\_kmeans.py:1429: UserWarning: KMeans is known to have a memory leak on Windows with MKL, when there are less chunks than available threads. You can avoid it by setting the environment variable OMP_NUM_THREADS=11.\n",
      "  warnings.warn(\n",
      "C:\\Users\\georg\\anaconda3\\Lib\\site-packages\\sklearn\\cluster\\_kmeans.py:1429: UserWarning: KMeans is known to have a memory leak on Windows with MKL, when there are less chunks than available threads. You can avoid it by setting the environment variable OMP_NUM_THREADS=11.\n",
      "  warnings.warn(\n",
      "C:\\Users\\georg\\anaconda3\\Lib\\site-packages\\sklearn\\cluster\\_kmeans.py:1429: UserWarning: KMeans is known to have a memory leak on Windows with MKL, when there are less chunks than available threads. You can avoid it by setting the environment variable OMP_NUM_THREADS=11.\n",
      "  warnings.warn(\n",
      "C:\\Users\\georg\\anaconda3\\Lib\\site-packages\\sklearn\\cluster\\_kmeans.py:1429: UserWarning: KMeans is known to have a memory leak on Windows with MKL, when there are less chunks than available threads. You can avoid it by setting the environment variable OMP_NUM_THREADS=11.\n",
      "  warnings.warn(\n"
     ]
    },
    {
     "data": {
      "image/png": "[encoded data removed]",
      "text/plain": [
       "<Figure size 640x480 with 1 Axes>"
      ]
     },
     "metadata": {},
     "output_type": "display_data"
    }
   ],
   "source": [
    "tests=[]\n",
    "X = train_df[[\"ad_med_num\", \"ad_rep_num\", \"income\", \"age\"]].values\n",
    "for k in range(1, 11):\n",
    "    kmeans = KMeans(n_clusters=k, random_state=42)\n",
    "    kmeans.fit(X)\n",
    "    tests.append(kmeans.inertia_)\n",
    "plt.plot(range(1, 11), tests, marker='o')\n",
    "plt.title('Elbow Method for Optimal k')\n",
    "plt.xlabel('Number of Clusters')\n",
    "plt.ylabel('Inertia')\n",
    "plt.show()\n"
   ]
  },
  {
   "cell_type": "code",
   "execution_count": null,
   "id": "e4846de5-f96a-470a-a051-a34851b418b1",
   "metadata": {},
   "outputs": [],
   "source": []
  },
  {
   "cell_type": "markdown",
   "id": "0fe52f67",
   "metadata": {},
   "source": [
    "#### Don't forget to describe the centers of the clusters you found."
   ]
  },
  {
   "cell_type": "markdown",
   "id": "cfb2b903",
   "metadata": {},
   "source": [
    "### 3. Testing Your Model\n",
    "In the cell seen below, write the code you need to test your K-means model. Then, interpret your findings.\n",
    "\n",
    "*Note, level 5 testing uses both an elbow plot and a silhouette score to evaluate your model. Level 4 uses one or the other.*"
   ]
  },
  {
   "cell_type": "code",
   "execution_count": 13,
   "id": "24f8b990",
   "metadata": {},
   "outputs": [
    {
     "name": "stderr",
     "output_type": "stream",
     "text": [
      "C:\\Users\\georg\\anaconda3\\Lib\\site-packages\\sklearn\\cluster\\_kmeans.py:1429: UserWarning: KMeans is known to have a memory leak on Windows with MKL, when there are less chunks than available threads. You can avoid it by setting the environment variable OMP_NUM_THREADS=11.\n",
      "  warnings.warn(\n",
      "C:\\Users\\georg\\anaconda3\\Lib\\site-packages\\sklearn\\cluster\\_kmeans.py:1429: UserWarning: KMeans is known to have a memory leak on Windows with MKL, when there are less chunks than available threads. You can avoid it by setting the environment variable OMP_NUM_THREADS=11.\n",
      "  warnings.warn(\n",
      "C:\\Users\\georg\\anaconda3\\Lib\\site-packages\\sklearn\\cluster\\_kmeans.py:1429: UserWarning: KMeans is known to have a memory leak on Windows with MKL, when there are less chunks than available threads. You can avoid it by setting the environment variable OMP_NUM_THREADS=11.\n",
      "  warnings.warn(\n",
      "C:\\Users\\georg\\anaconda3\\Lib\\site-packages\\sklearn\\cluster\\_kmeans.py:1429: UserWarning: KMeans is known to have a memory leak on Windows with MKL, when there are less chunks than available threads. You can avoid it by setting the environment variable OMP_NUM_THREADS=11.\n",
      "  warnings.warn(\n",
      "C:\\Users\\georg\\anaconda3\\Lib\\site-packages\\sklearn\\cluster\\_kmeans.py:1429: UserWarning: KMeans is known to have a memory leak on Windows with MKL, when there are less chunks than available threads. You can avoid it by setting the environment variable OMP_NUM_THREADS=11.\n",
      "  warnings.warn(\n",
      "C:\\Users\\georg\\anaconda3\\Lib\\site-packages\\sklearn\\cluster\\_kmeans.py:1429: UserWarning: KMeans is known to have a memory leak on Windows with MKL, when there are less chunks than available threads. You can avoid it by setting the environment variable OMP_NUM_THREADS=11.\n",
      "  warnings.warn(\n",
      "C:\\Users\\georg\\anaconda3\\Lib\\site-packages\\sklearn\\cluster\\_kmeans.py:1429: UserWarning: KMeans is known to have a memory leak on Windows with MKL, when there are less chunks than available threads. You can avoid it by setting the environment variable OMP_NUM_THREADS=11.\n",
      "  warnings.warn(\n",
      "C:\\Users\\georg\\anaconda3\\Lib\\site-packages\\sklearn\\cluster\\_kmeans.py:1429: UserWarning: KMeans is known to have a memory leak on Windows with MKL, when there are less chunks than available threads. You can avoid it by setting the environment variable OMP_NUM_THREADS=11.\n",
      "  warnings.warn(\n",
      "C:\\Users\\georg\\anaconda3\\Lib\\site-packages\\sklearn\\cluster\\_kmeans.py:1429: UserWarning: KMeans is known to have a memory leak on Windows with MKL, when there are less chunks than available threads. You can avoid it by setting the environment variable OMP_NUM_THREADS=11.\n",
      "  warnings.warn(\n",
      "C:\\Users\\georg\\anaconda3\\Lib\\site-packages\\sklearn\\cluster\\_kmeans.py:1429: UserWarning: KMeans is known to have a memory leak on Windows with MKL, when there are less chunks than available threads. You can avoid it by setting the environment variable OMP_NUM_THREADS=11.\n",
      "  warnings.warn(\n"
     ]
    },
    {
     "data": {
      "image/png": "[encoded data removed]",
      "text/plain": [
       "<Figure size 640x480 with 1 Axes>"
      ]
     },
     "metadata": {},
     "output_type": "display_data"
    }
   ],
   "source": [
    "# Test model here.\n",
    "#optimal k is 5\n",
    "\n",
    "tests=[]\n",
    "X = train_df[[\"ad_med_num\", \"ad_rep_num\", \"income\", \"age\"]].values\n",
    "for k in range(1, 11):\n",
    "    kmeans = KMeans(n_clusters=k, random_state=42)\n",
    "    kmeans.fit(X)\n",
    "    tests.append(kmeans.inertia_)\n",
    "plt.plot(range(1, 11), tests, marker='o')\n",
    "plt.title('Elbow Graph')\n",
    "plt.xlabel('Number of Clusters')\n",
    "plt.ylabel('Inertia')\n",
    "plt.show()\n"
   ]
  },
  {
   "cell_type": "code",
   "execution_count": 52,
   "id": "2c8f7e05-c1ca-4442-b31f-df0b190b51b0",
   "metadata": {},
   "outputs": [
    {
     "name": "stdout",
     "output_type": "stream",
     "text": [
      "[[6.39931741e-01 6.14334471e-01 4.48832927e+04 3.67363481e+01]\n",
      " [5.85284281e-01 5.95317726e-01 1.39187886e+05 4.72508361e+01]\n",
      " [4.93670886e-01 5.56962025e-01 2.33784253e+05 5.58734177e+01]\n",
      " [6.23824451e-01 5.20376176e-01 3.48507837e+03 4.64858934e+01]\n",
      " [5.91029024e-01 6.20052770e-01 8.31586847e+04 3.80237467e+01]]\n"
     ]
    },
    {
     "name": "stderr",
     "output_type": "stream",
     "text": [
      "C:\\Users\\georg\\anaconda3\\Lib\\site-packages\\sklearn\\cluster\\_kmeans.py:1429: UserWarning: KMeans is known to have a memory leak on Windows with MKL, when there are less chunks than available threads. You can avoid it by setting the environment variable OMP_NUM_THREADS=11.\n",
      "  warnings.warn(\n"
     ]
    },
    {
     "data": {
      "text/plain": [
       "array([[1, 0, 55302, 26.0],\n",
       "       [0, 0, 83587, 36.0],\n",
       "       [0, 1, 71967, 42.0],\n",
       "       ...,\n",
       "       [0, 0, 95616, 31.0],\n",
       "       [1, 1, 93631, 61.0],\n",
       "       [1, 0, 16075, 23.0]], dtype=object)"
      ]
     },
     "execution_count": 52,
     "metadata": {},
     "output_type": "execute_result"
    }
   ],
   "source": [
    "#optimal k is 5\n",
    "model = KMeans(n_clusters=5)\n",
    "model.fit(train_df)\n",
    "cluster_centers = model.cluster_centers_\n",
    "print(cluster_centers)\n",
    "\n",
    "\n",
    "#clusters follow pattern of \"ad_med_num\", \"ad_rep_num\", \"income\", \"age\"\n",
    "X"
   ]
  },
  {
   "cell_type": "code",
   "execution_count": 50,
   "id": "4be44531-0c2f-48b7-8614-b21917f7b3ca",
   "metadata": {},
   "outputs": [
    {
     "name": "stdout",
     "output_type": "stream",
     "text": [
      "Silhouette Score for k=5: 0.6103188260605298\n"
     ]
    }
   ],
   "source": [
    "from sklearn.metrics import silhouette_score\n",
    "\n",
    "labels = model.labels_\n",
    "\n",
    "sihouette = silhouette_score(X, labels)\n",
    "\n",
    "print(f\"Silhouette Score for k=5: {sihouette}\")"
   ]
  },
  {
   "cell_type": "markdown",
   "id": "32a8c369",
   "metadata": {},
   "source": [
    "#### Interpret your elbow plot and/or silhouette score here."
   ]
  },
  {
   "cell_type": "markdown",
   "id": "93ff9900-cdc9-4c8c-9b41-462332a00666",
   "metadata": {},
   "source": [
    "Analyzing my elbow plot helps me identify that the optimal amount of clusters is 5. This is when the changes in inertia, sum of squared distances between each data point and the centroid, is minimal. 5 is the elbow point. Furthermore, the silhouette score of .61031 is quite good. As the silhouette score approaches 1, then the model has well defined, separate clusters. A score of .61031 thus suggests that my model defines the clusters quite well. There may be some overlap with some datapoints, but overall the clustering is moderately successful. There are likely patterns which can be used to market to different demographics. I have attempted to use different amounts of clusters, but they all had less high silhouette scores."
   ]
  },
  {
   "cell_type": "markdown",
   "id": "343eb3f7",
   "metadata": {},
   "source": [
    "### 4. Final Answer\n",
    "\n",
    "In the first cell seen below, describe the cluster you have chosen to target with your ad, making sure to describe the type of ad they were the most likely to respond to. Then, use software of your choosing to create the ad you will need to target this cluster. You do not need to create an ad for both the nacho fries and the Baja Blast. You can focus on one if that's what your cluster cares about most.\n",
    "\n",
    "In the second cell seen below, include a link to your ad.\n",
    "\n",
    "*Note, a level 5 ad uses the medium (static image or video) the cluster most likely responded to.* "
   ]
  },
  {
   "cell_type": "markdown",
   "id": "7a589911-8f1a-4089-b34f-2565228474ba",
   "metadata": {},
   "source": [
    "The cluster I am targetting has this array: [4.93670886e-01 5.56962025e-01 2.33784253e+05 5.58734177e+01]. This implies static content (picture, newspaper ad, etc.). This cluster tends to react well to the ad considering the .5569 in the ad response. While this cluster does not have the highest ad response like this cluster [5.91029024e-01 6.20052770e-01 8.31586847e+04 3.80237467e+01], the lack of personal resources and skills in regards to creation of dynamic content pushes me to use the only successful static cluster. It will focus on high income, middle aged people. "
   ]
  },
  {
   "cell_type": "code",
   "execution_count": 60,
   "id": "b69923fd-7fba-486c-a4bb-ae8b841fd7cb",
   "metadata": {},
   "outputs": [
    {
     "name": "stdout",
     "output_type": "stream",
     "text": [
      "['BOGO - Baja Blast' 'BOGO - Garlic Steak Nacho Fries' 'DISCOUNT-50%'\n",
      " 'DISCOUNT-20%'\n",
      " 'REWARD - Free Garlic Steak Nacho Fries with purchase of $20 or more'\n",
      " 'DISCOUNT-10%' 'DISCOUNT-5%']\n"
     ]
    },
    {
     "data": {
      "text/html": [
       "<div>\n",
       "<style scoped>\n",
       "    .dataframe tbody tr th:only-of-type {\n",
       "        vertical-align: middle;\n",
       "    }\n",
       "\n",
       "    .dataframe tbody tr th {\n",
       "        vertical-align: top;\n",
       "    }\n",
       "\n",
       "    .dataframe thead th {\n",
       "        text-align: right;\n",
       "    }\n",
       "</style>\n",
       "<table border=\"1\" class=\"dataframe\">\n",
       "  <thead>\n",
       "    <tr style=\"text-align: right;\">\n",
       "      <th></th>\n",
       "      <th>customer_id</th>\n",
       "      <th>state</th>\n",
       "      <th>sex</th>\n",
       "      <th>age</th>\n",
       "      <th>occupation</th>\n",
       "      <th>family_size</th>\n",
       "      <th>income</th>\n",
       "      <th>ad_type</th>\n",
       "      <th>ad_medium</th>\n",
       "      <th>ad_response</th>\n",
       "      <th>items_purchased</th>\n",
       "      <th>drinks_purchased</th>\n",
       "      <th>ad_rep_num</th>\n",
       "      <th>ad_med_num</th>\n",
       "    </tr>\n",
       "  </thead>\n",
       "  <tbody>\n",
       "    <tr>\n",
       "      <th>11</th>\n",
       "      <td>3989</td>\n",
       "      <td>AL</td>\n",
       "      <td>M</td>\n",
       "      <td>46.0</td>\n",
       "      <td>Retail</td>\n",
       "      <td>1</td>\n",
       "      <td>47946</td>\n",
       "      <td>BOGO - Baja Blast</td>\n",
       "      <td>Static Facebook ad</td>\n",
       "      <td>True</td>\n",
       "      <td>['spicy potato soft taco', 'beefy 5 layer burr...</td>\n",
       "      <td>['baja blast', 'baja blast']</td>\n",
       "      <td>1</td>\n",
       "      <td>0</td>\n",
       "    </tr>\n",
       "    <tr>\n",
       "      <th>14</th>\n",
       "      <td>1838</td>\n",
       "      <td>AL</td>\n",
       "      <td>M</td>\n",
       "      <td>33.0</td>\n",
       "      <td>Retail</td>\n",
       "      <td>4</td>\n",
       "      <td>36491</td>\n",
       "      <td>BOGO - Garlic Steak Nacho Fries</td>\n",
       "      <td>Instagram photo ad</td>\n",
       "      <td>True</td>\n",
       "      <td>['steak garlic nacho fries', 'steak garlic nac...</td>\n",
       "      <td>['iced tea', 'mountain dew', 'baja blast', 'ga...</td>\n",
       "      <td>1</td>\n",
       "      <td>0</td>\n",
       "    </tr>\n",
       "    <tr>\n",
       "      <th>69</th>\n",
       "      <td>6665</td>\n",
       "      <td>NC</td>\n",
       "      <td>F</td>\n",
       "      <td>42.0</td>\n",
       "      <td>IT</td>\n",
       "      <td>2</td>\n",
       "      <td>159601</td>\n",
       "      <td>BOGO - Baja Blast</td>\n",
       "      <td>Instagram photo ad</td>\n",
       "      <td>True</td>\n",
       "      <td>['crunchwrap supreme', 'soft taco', 'nachos be...</td>\n",
       "      <td>['baja blast', 'baja blast', 'gatorade']</td>\n",
       "      <td>1</td>\n",
       "      <td>0</td>\n",
       "    </tr>\n",
       "    <tr>\n",
       "      <th>79</th>\n",
       "      <td>4520</td>\n",
       "      <td>IA</td>\n",
       "      <td>M</td>\n",
       "      <td>40.0</td>\n",
       "      <td>IT</td>\n",
       "      <td>4</td>\n",
       "      <td>154690</td>\n",
       "      <td>BOGO - Baja Blast</td>\n",
       "      <td>Instagram photo ad</td>\n",
       "      <td>True</td>\n",
       "      <td>['cheesy gordita crunch', 'crunchwrap supreme'...</td>\n",
       "      <td>['baja blast', 'baja blast', 'starry', 'gatora...</td>\n",
       "      <td>1</td>\n",
       "      <td>0</td>\n",
       "    </tr>\n",
       "    <tr>\n",
       "      <th>95</th>\n",
       "      <td>1148</td>\n",
       "      <td>WV</td>\n",
       "      <td>F</td>\n",
       "      <td>31.0</td>\n",
       "      <td>Healthcare</td>\n",
       "      <td>5</td>\n",
       "      <td>86552</td>\n",
       "      <td>DISCOUNT-50%</td>\n",
       "      <td>Instagram photo ad</td>\n",
       "      <td>True</td>\n",
       "      <td>['beefy 5 layer burrito', 'cheesy gordita crun...</td>\n",
       "      <td>['starry', 'starry', 'baja blast', 'diet pepsi...</td>\n",
       "      <td>1</td>\n",
       "      <td>0</td>\n",
       "    </tr>\n",
       "  </tbody>\n",
       "</table>\n",
       "</div>"
      ],
      "text/plain": [
       "    customer_id state sex   age  occupation  family_size  income  \\\n",
       "11         3989    AL   M  46.0      Retail            1   47946   \n",
       "14         1838    AL   M  33.0      Retail            4   36491   \n",
       "69         6665    NC   F  42.0          IT            2  159601   \n",
       "79         4520    IA   M  40.0          IT            4  154690   \n",
       "95         1148    WV   F  31.0  Healthcare            5   86552   \n",
       "\n",
       "                            ad_type           ad_medium  ad_response  \\\n",
       "11                BOGO - Baja Blast  Static Facebook ad         True   \n",
       "14  BOGO - Garlic Steak Nacho Fries  Instagram photo ad         True   \n",
       "69                BOGO - Baja Blast  Instagram photo ad         True   \n",
       "79                BOGO - Baja Blast  Instagram photo ad         True   \n",
       "95                     DISCOUNT-50%  Instagram photo ad         True   \n",
       "\n",
       "                                      items_purchased  \\\n",
       "11  ['spicy potato soft taco', 'beefy 5 layer burr...   \n",
       "14  ['steak garlic nacho fries', 'steak garlic nac...   \n",
       "69  ['crunchwrap supreme', 'soft taco', 'nachos be...   \n",
       "79  ['cheesy gordita crunch', 'crunchwrap supreme'...   \n",
       "95  ['beefy 5 layer burrito', 'cheesy gordita crun...   \n",
       "\n",
       "                                     drinks_purchased ad_rep_num ad_med_num  \n",
       "11                       ['baja blast', 'baja blast']          1          0  \n",
       "14  ['iced tea', 'mountain dew', 'baja blast', 'ga...          1          0  \n",
       "69           ['baja blast', 'baja blast', 'gatorade']          1          0  \n",
       "79  ['baja blast', 'baja blast', 'starry', 'gatora...          1          0  \n",
       "95  ['starry', 'starry', 'baja blast', 'diet pepsi...          1          0  "
      ]
     },
     "execution_count": 60,
     "metadata": {},
     "output_type": "execute_result"
    }
   ],
   "source": [
    "statics=sdf\n",
    "\n",
    "statics = statics[statics['ad_med_num'] != 1]\n",
    "statics = statics[statics['ad_rep_num'] != 0]\n",
    "\n",
    "print(statics['ad_type'].unique())\n",
    "statics.head()"
   ]
  },
  {
   "cell_type": "markdown",
   "id": "f999817a-1ff0-4ffb-9c53-d836b945eee6",
   "metadata": {},
   "source": [
    "After seeing which static ads tend to be successful, I will create a Buy-One-Get-One (BOGO) free ad.\n",
    "\n",
    "Overall: I will use a static BOGO ad targetting wealthy, middle aged people."
   ]
  },
  {
   "cell_type": "markdown",
   "id": "e29adde2",
   "metadata": {},
   "source": [
    "https://github.com/Charred-Baguette/ML-AT-CCIC/blob/main/Unit%201/Kmeans/Design%201.png"
   ]
  },
  {
   "cell_type": "code",
   "execution_count": null,
   "id": "2a4ed8ca-a084-4046-9d1e-3ab57922d187",
   "metadata": {},
   "outputs": [],
   "source": []
  }
 ],
 "metadata": {
  "kernelspec": {
   "display_name": "Python 3 (ipykernel)",
   "language": "python",
   "name": "python3"
  },
  "language_info": {
   "codemirror_mode": {
    "name": "ipython",
    "version": 3
   },
   "file_extension": ".py",
   "mimetype": "text/x-python",
   "name": "python",
   "nbconvert_exporter": "python",
   "pygments_lexer": "ipython3",
   "version": "3.12.7"
  }
 },
 "nbformat": 4,
 "nbformat_minor": 5
}
