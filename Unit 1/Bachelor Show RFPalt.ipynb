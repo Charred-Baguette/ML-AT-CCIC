{
 "cells": [
  {
   "cell_type": "markdown",
   "id": "1b940825",
   "metadata": {},
   "source": [
    "# RFP: Betting on the Bachelor\n",
    "\n",
    "## Project Overview\n",
    "You are invited to submit a proposal that answers the following question:\n",
    "\n",
    "### Who will win season 29 of the Bachelor?\n",
    "\n",
    "*All proposals must be submitted by **1/15/25 at 11:59 PM**.*"
   ]
  },
  {
   "cell_type": "markdown",
   "id": "968a85f0",
   "metadata": {},
   "source": [
    "## Required Proposal Components\n",
    "\n",
    "### 1. Data Description\n",
    "In the code cell below, read in the data you plan on using to train and test your model. Call `info()` once you have read the data into a dataframe. Consider using some or all of the following sources:\n",
    "- [Scrape Fandom Wikis](https://bachelor-nation.fandom.com/wiki/The_Bachelor) or [the official Bachelor website]('https://bachelornation.com/shows/the-bachelor/')\n",
    "- [Ask ChatGPT to genereate it](https://chatgpt.com/)\n",
    "- [Read in csv files like this](https://www.kaggle.com/datasets/brianbgonz/the-bachelor-contestants?select=contestants.csv)\n",
    "\n",
    "*Note, a level 5 dataset contains at least 1000 rows of non-null data. A level 4 contains at least 500 rows of non-null data.*"
   ]
  },
  {
   "cell_type": "code",
   "execution_count": 33,
   "id": "08c1688a",
   "metadata": {},
   "outputs": [
    {
     "name": "stdout",
     "output_type": "stream",
     "text": [
      "no table\n",
      "no table\n",
      "no table\n",
      "no table\n",
      "no table\n",
      "<class 'pandas.core.frame.DataFrame'>\n",
      "RangeIndex: 613 entries, 0 to 612\n",
      "Data columns (total 6 columns):\n",
      " #   Column      Non-Null Count  Dtype \n",
      "---  ------      --------------  ----- \n",
      " 0   Name        613 non-null    object\n",
      " 1   Age         613 non-null    object\n",
      " 2   Home town   613 non-null    object\n",
      " 3   Occupation  613 non-null    object\n",
      " 4   Outcome     613 non-null    object\n",
      " 5   Season      613 non-null    int64 \n",
      "dtypes: int64(1), object(5)\n",
      "memory usage: 28.9+ KB\n",
      "pains: []\n"
     ]
    },
    {
     "data": {
      "text/html": [
       "<div>\n",
       "<style scoped>\n",
       "    .dataframe tbody tr th:only-of-type {\n",
       "        vertical-align: middle;\n",
       "    }\n",
       "\n",
       "    .dataframe tbody tr th {\n",
       "        vertical-align: top;\n",
       "    }\n",
       "\n",
       "    .dataframe thead th {\n",
       "        text-align: right;\n",
       "    }\n",
       "</style>\n",
       "<table border=\"1\" class=\"dataframe\">\n",
       "  <thead>\n",
       "    <tr style=\"text-align: right;\">\n",
       "      <th></th>\n",
       "      <th>Name</th>\n",
       "      <th>Age</th>\n",
       "      <th>Home town</th>\n",
       "      <th>Occupation</th>\n",
       "      <th>Outcome</th>\n",
       "      <th>Season</th>\n",
       "    </tr>\n",
       "  </thead>\n",
       "  <tbody>\n",
       "    <tr>\n",
       "      <th>0</th>\n",
       "      <td>Amanda Marsh</td>\n",
       "      <td>23</td>\n",
       "      <td>Chanute, Kansas</td>\n",
       "      <td>Event Planner</td>\n",
       "      <td>Winner</td>\n",
       "      <td>1</td>\n",
       "    </tr>\n",
       "    <tr>\n",
       "      <th>1</th>\n",
       "      <td>Trista Rehn</td>\n",
       "      <td>29</td>\n",
       "      <td>St. Louis, Missouri</td>\n",
       "      <td>Miami Heat Dancer</td>\n",
       "      <td>Runner-up</td>\n",
       "      <td>1</td>\n",
       "    </tr>\n",
       "    <tr>\n",
       "      <th>2</th>\n",
       "      <td>Shannon Oliver</td>\n",
       "      <td>24</td>\n",
       "      <td>Dallas, Texas</td>\n",
       "      <td>Financial Management Consultant</td>\n",
       "      <td>Week 5</td>\n",
       "      <td>1</td>\n",
       "    </tr>\n",
       "    <tr>\n",
       "      <th>3</th>\n",
       "      <td>Kimberly Karels</td>\n",
       "      <td>24</td>\n",
       "      <td>Tempe, Arizona</td>\n",
       "      <td>Nanny</td>\n",
       "      <td>Week 4</td>\n",
       "      <td>1</td>\n",
       "    </tr>\n",
       "    <tr>\n",
       "      <th>4</th>\n",
       "      <td>Cathy Grimes</td>\n",
       "      <td>22</td>\n",
       "      <td>Terre Haute, Indiana</td>\n",
       "      <td>Graduate Student</td>\n",
       "      <td>Week 3</td>\n",
       "      <td>1</td>\n",
       "    </tr>\n",
       "  </tbody>\n",
       "</table>\n",
       "</div>"
      ],
      "text/plain": [
       "              Name Age             Home town                       Occupation  \\\n",
       "0     Amanda Marsh  23       Chanute, Kansas                    Event Planner   \n",
       "1      Trista Rehn  29   St. Louis, Missouri                Miami Heat Dancer   \n",
       "2   Shannon Oliver  24         Dallas, Texas  Financial Management Consultant   \n",
       "3  Kimberly Karels  24        Tempe, Arizona                            Nanny   \n",
       "4     Cathy Grimes  22  Terre Haute, Indiana                 Graduate Student   \n",
       "\n",
       "     Outcome  Season  \n",
       "0     Winner       1  \n",
       "1  Runner-up       1  \n",
       "2     Week 5       1  \n",
       "3     Week 4       1  \n",
       "4     Week 3       1  "
      ]
     },
     "execution_count": 33,
     "metadata": {},
     "output_type": "execute_result"
    }
   ],
   "source": [
    "import requests\n",
    "import seaborn as sns\n",
    "import pandas as pd\n",
    "import time\n",
    "from bs4 import BeautifulSoup\n",
    "pastsets = {'Name':[], \n",
    "           'Age': [],\n",
    "            'Home town':[],\n",
    "           'Occupation': [],\n",
    "           'Outcome': [],\n",
    "           'Season': []}\n",
    "\n",
    "pain=[]\n",
    "doublepain=[]\n",
    "for i in range(1, 28):\n",
    "    url=f'https://en.wikipedia.org/wiki/The_Bachelor_(American_TV_series)_season_{i}'\n",
    "    response=requests.get(url)\n",
    "    soup = BeautifulSoup(response.text, 'html.parser')\n",
    "    for li in soup.find_all('li'):\n",
    "        li.decompose()\n",
    "    for sup_tag in soup.find_all('sup', class_='reference'):\n",
    "        sup_tag.decompose()\n",
    "    for p in soup.find_all('p'):\n",
    "        p.decompose()\n",
    "    try:\n",
    "        \n",
    "        table = soup.find('table', {'class': 'wikitable sortable'})\n",
    "        if table:\n",
    "            rows = table.find_all('tr')[1:]\n",
    "\n",
    "            for tr in rows:\n",
    "                cells = tr.find_all('td')\n",
    "                \n",
    "                if cells:  \n",
    "                    name = cells[0].text.strip() if len(cells) > 0 else \"N/A\"\n",
    "                    age = cells[1].text.strip() if len(cells) > 1 else \"N/A\"\n",
    "                    hometown = cells[2].text.strip() if len(cells) > 2 else \"N/A\"\n",
    "                    occupation = cells[3].text.strip() if len(cells) > 3 else \"N/A\"\n",
    "                    outcome = cells[4].text.strip() if len(cells) > 4 else \"N/A\"\n",
    "                    place = cells[5].text.strip() if len(cells) > 5 else \"N/A\"\n",
    "                    if name == 'N/A':\n",
    "                        continue\n",
    "                    else:\n",
    "                        pastsets['Name'].append(name)\n",
    "                        pastsets['Age'].append(age)\n",
    "                        pastsets['Home town'].append(hometown)\n",
    "                        pastsets['Occupation'].append(occupation)\n",
    "                        pastsets['Outcome'].append(outcome)\n",
    "                        pastsets['Season'].append(i)\n",
    "            time.sleep(1)\n",
    "        else:\n",
    "            print(\"no table\")\n",
    "    except:\n",
    "        pain.append(url)\n",
    "        print(pain)\n",
    "    \n",
    "df = pd.DataFrame(pastsets)\n",
    "df.info()\n",
    "print(\"pains:\", pain)\n",
    "df.head()\n",
    "# Don't forget to call info()!"
   ]
  },
  {
   "cell_type": "code",
   "execution_count": 34,
   "id": "33eb492d-3d44-4df5-9a24-058464698fc9",
   "metadata": {},
   "outputs": [
    {
     "name": "stdout",
     "output_type": "stream",
     "text": [
      "<class 'pandas.core.frame.DataFrame'>\n",
      "RangeIndex: 816 entries, 0 to 815\n",
      "Data columns (total 6 columns):\n",
      " #   Column      Non-Null Count  Dtype \n",
      "---  ------      --------------  ----- \n",
      " 0   Name        816 non-null    object\n",
      " 1   Age         816 non-null    object\n",
      " 2   Home town   816 non-null    object\n",
      " 3   Occupation  816 non-null    object\n",
      " 4   Outcome     816 non-null    object\n",
      " 5   Season      816 non-null    int64 \n",
      "dtypes: int64(1), object(5)\n",
      "memory usage: 38.4+ KB\n",
      "pains: []\n",
      "\n",
      "                    Name Age                 Home town  \\\n",
      "811        Georgie Glass  32          Hobart, Tasmania   \n",
      "812      Leilani Vakaahi  27  Forster, New South Wales   \n",
      "813  Marlaina McPhillips  31       Melbourne, Victoria   \n",
      "814         Nadine Kodsi  30       Melbourne, Victoria   \n",
      "815          Paige Royal  31       Melbourne, Victoria   \n",
      "\n",
      "                  Occupation    Outcome  Season  \n",
      "811          Project Manager  Episode 3      48  \n",
      "812     Partnerships Manager        N/A      48  \n",
      "813  Fundraising Coordinator        N/A      48  \n",
      "814             Entrepreneur  Episode 1      48  \n",
      "815       Professional Model        N/A      48  \n"
     ]
    }
   ],
   "source": [
    "for i in range(1, 9):\n",
    "    url=f'https://en.wikipedia.org/wiki/The_Bachelor_(Australian_TV_series)_season_{i}'\n",
    "    response=requests.get(url)\n",
    "    soup = BeautifulSoup(response.text, 'html.parser')\n",
    "    for li in soup.find_all('li'):\n",
    "        li.decompose()\n",
    "    for sup_tag in soup.find_all('sup', class_='reference'):\n",
    "        sup_tag.decompose()\n",
    "    for p in soup.find_all('p'):\n",
    "        p.decompose()\n",
    "    try:\n",
    "        \n",
    "        table = soup.find('table', {'class': 'wikitable'})\n",
    "        if table:\n",
    "            rows = table.find_all('tr')[1:]\n",
    "\n",
    "            for tr in rows:\n",
    "                cells = tr.find_all('td')\n",
    "                \n",
    "                if cells:  \n",
    "                    name = cells[0].text.strip() if len(cells) > 0 else \"N/A\"\n",
    "                    age = cells[1].text.strip() if len(cells) > 1 else \"N/A\"\n",
    "                    hometown = cells[2].text.strip() if len(cells) > 2 else \"N/A\"\n",
    "                    occupation = cells[3].text.strip() if len(cells) > 3 else \"N/A\"\n",
    "                    outcome = cells[4].text.strip() if len(cells) > 4 else \"N/A\"\n",
    "                    if name == 'N/A':\n",
    "                        continue\n",
    "                    else:\n",
    "                        pastsets['Name'].append(name)\n",
    "                        pastsets['Age'].append(age)\n",
    "                        pastsets['Home town'].append(hometown)\n",
    "                        pastsets['Occupation'].append(occupation)\n",
    "                        pastsets['Outcome'].append(outcome)\n",
    "                        pastsets['Season'].append(i+40)\n",
    "            time.sleep(1)\n",
    "        else:\n",
    "            print(\"no table\")\n",
    "    except:\n",
    "        pain.append(url)\n",
    "        print(pain)\n",
    "    \n",
    "df = pd.DataFrame(pastsets)\n",
    "df.info()\n",
    "print(\"pains:\", pain)\n",
    "df.head()\n",
    "print(f'\\n{df.tail()}')"
   ]
  },
  {
   "cell_type": "code",
   "execution_count": 35,
   "id": "8ecd34de-565d-43ae-bf0f-c03120db08e5",
   "metadata": {},
   "outputs": [
    {
     "name": "stdout",
     "output_type": "stream",
     "text": [
      "<class 'pandas.core.frame.DataFrame'>\n",
      "RangeIndex: 864 entries, 0 to 863\n",
      "Data columns (total 6 columns):\n",
      " #   Column      Non-Null Count  Dtype \n",
      "---  ------      --------------  ----- \n",
      " 0   Name        864 non-null    object\n",
      " 1   Age         864 non-null    object\n",
      " 2   Home town   864 non-null    object\n",
      " 3   Occupation  864 non-null    object\n",
      " 4   Outcome     864 non-null    object\n",
      " 5   Season      864 non-null    int64 \n",
      "dtypes: int64(1), object(5)\n",
      "memory usage: 40.6+ KB\n",
      "pains: []\n",
      "\n",
      "              Name Age                                   Home town  \\\n",
      "859  Kelsey Palmer  28                            Calgary, Alberta   \n",
      "860  Raelee Fedyna  26                            Calgary, Alberta   \n",
      "861  Ritiuska Leon  33  Puerto Ordaz, Venezuela / Calgary, Alberta   \n",
      "862   Sarah Barber  31                     St. Catharines, Ontario   \n",
      "863  Sharan Garcha  23                 Vancouver, British Columbia   \n",
      "\n",
      "                  Occupation    Outcome  Season  \n",
      "859                Sommelier  Episode 1      52  \n",
      "860     Gymnast/Art Director  Episode 1      52  \n",
      "861                 Engineer  Episode 1      52  \n",
      "862  Personal Trainer Worker  Episode 1      52  \n",
      "863                 IT Sales  Episode 1      52  \n"
     ]
    }
   ],
   "source": [
    "\n",
    "for i in range(1, 3):\n",
    "    url=f'https://en.wikipedia.org/wiki/The_Bachelor_Canada_season_{i}'\n",
    "    response=requests.get(url)\n",
    "    soup = BeautifulSoup(response.text, 'html.parser')\n",
    "    for li in soup.find_all('li'):\n",
    "        li.decompose()\n",
    "    for sup_tag in soup.find_all('sup', class_='reference'):\n",
    "        sup_tag.decompose()\n",
    "    for p in soup.find_all('p'):\n",
    "        p.decompose()\n",
    "    try:\n",
    "        \n",
    "        table = soup.find('table', {'class': 'wikitable'})\n",
    "        if table:\n",
    "            rows = table.find_all('tr')[1:]\n",
    "\n",
    "            for tr in rows:\n",
    "                cells = tr.find_all('td')\n",
    "                \n",
    "                if cells:  \n",
    "                    name = cells[0].text.strip() if len(cells) > 0 else \"N/A\"\n",
    "                    age = cells[1].text.strip() if len(cells) > 1 else \"N/A\"\n",
    "                    hometown = cells[2].text.strip() if len(cells) > 2 else \"N/A\"\n",
    "                    occupation = cells[3].text.strip() if len(cells) > 3 else \"N/A\"\n",
    "                    outcome = cells[4].text.strip() if len(cells) > 4 else \"N/A\"\n",
    "                    if name == 'N/A':\n",
    "                        continue\n",
    "                    else:\n",
    "                        pastsets['Name'].append(name)\n",
    "                        pastsets['Age'].append(age)\n",
    "                        pastsets['Home town'].append(hometown)\n",
    "                        pastsets['Occupation'].append(occupation)\n",
    "                        pastsets['Outcome'].append(outcome)\n",
    "                        pastsets['Season'].append(i+50)\n",
    "            time.sleep(1)\n",
    "        else:\n",
    "            print(\"no table\")\n",
    "    except:\n",
    "        pain.append(url)\n",
    "        print(pain)\n",
    "    \n",
    "df = pd.DataFrame(pastsets)\n",
    "df.info()\n",
    "print(\"pains:\", pain)\n",
    "df.head()\n",
    "print(f'\\n{df.tail()}')"
   ]
  },
  {
   "cell_type": "code",
   "execution_count": 36,
   "id": "1aba5122-3207-4578-a2f8-945c51cfab34",
   "metadata": {},
   "outputs": [
    {
     "name": "stdout",
     "output_type": "stream",
     "text": [
      "<class 'pandas.core.frame.DataFrame'>\n",
      "RangeIndex: 911 entries, 0 to 910\n",
      "Data columns (total 6 columns):\n",
      " #   Column      Non-Null Count  Dtype \n",
      "---  ------      --------------  ----- \n",
      " 0   Name        911 non-null    object\n",
      " 1   Age         911 non-null    object\n",
      " 2   Home town   911 non-null    object\n",
      " 3   Occupation  911 non-null    object\n",
      " 4   Outcome     911 non-null    object\n",
      " 5   Season      911 non-null    int64 \n",
      "dtypes: int64(1), object(5)\n",
      "memory usage: 42.8+ KB\n",
      "pains: []\n",
      "\n",
      "                  Name Age Home town                            Occupation  \\\n",
      "906  Irene Katsigianni  19    Athens  Primary and Community Health Student   \n",
      "907    Valeria Merakou  28    Athens                                Author   \n",
      "908             Laoura  19    Rhodes                             Bartender   \n",
      "909        Dora Kinali  22    Serres                                Dancer   \n",
      "910   Lena Nikolarakou  22   Trikala                              Aclogist   \n",
      "\n",
      "    Outcome  Season  \n",
      "906  Week 1      62  \n",
      "907  Week 1      62  \n",
      "908  Week 1      62  \n",
      "909  Week 1      62  \n",
      "910  Week 1      62  \n"
     ]
    }
   ],
   "source": [
    "\n",
    "for i in range(1, 3):\n",
    "    url=f'https://en.wikipedia.org/wiki/The_Bachelor_(Greek_TV_series)_season_{i}'\n",
    "    response=requests.get(url)\n",
    "    soup = BeautifulSoup(response.text, 'html.parser')\n",
    "    for li in soup.find_all('li'):\n",
    "        li.decompose()\n",
    "    for sup_tag in soup.find_all('sup', class_='reference'):\n",
    "        sup_tag.decompose()\n",
    "    for p in soup.find_all('p'):\n",
    "        p.decompose()\n",
    "    try:\n",
    "        \n",
    "        table = soup.find('table', {'class': 'wikitable'})\n",
    "        if table:\n",
    "            rows = table.find_all('tr')[1:]\n",
    "\n",
    "            for tr in rows:\n",
    "                cells = tr.find_all('td')\n",
    "                \n",
    "                if cells:  \n",
    "                    name = cells[0].text.strip() if len(cells) > 0 else \"N/A\"\n",
    "                    age = cells[1].text.strip() if len(cells) > 1 else \"N/A\"\n",
    "                    hometown = cells[2].text.strip() if len(cells) > 2 else \"N/A\"\n",
    "                    occupation = cells[3].text.strip() if len(cells) > 3 else \"N/A\"\n",
    "                    outcome = cells[4].text.strip() if len(cells) > 4 else \"N/A\"\n",
    "                    if name == 'N/A':\n",
    "                        continue\n",
    "                    else:\n",
    "                        pastsets['Name'].append(name)\n",
    "                        pastsets['Age'].append(age)\n",
    "                        pastsets['Home town'].append(hometown)\n",
    "                        pastsets['Occupation'].append(occupation)\n",
    "                        pastsets['Outcome'].append(outcome)\n",
    "                        pastsets['Season'].append(i+60)\n",
    "            time.sleep(1)\n",
    "        else:\n",
    "            print(\"no table\")\n",
    "    except:\n",
    "        pain.append(url)\n",
    "        print(pain)\n",
    "    \n",
    "df = pd.DataFrame(pastsets)\n",
    "df.info()\n",
    "print(\"pains:\", pain)\n",
    "df.head()\n",
    "print(f'\\n{df.tail()}')"
   ]
  },
  {
   "cell_type": "code",
   "execution_count": 37,
   "id": "45fa31cd-d67b-47a3-9798-728927a1fc08",
   "metadata": {},
   "outputs": [
    {
     "name": "stdout",
     "output_type": "stream",
     "text": [
      "<class 'pandas.core.frame.DataFrame'>\n",
      "RangeIndex: 955 entries, 0 to 954\n",
      "Data columns (total 6 columns):\n",
      " #   Column      Non-Null Count  Dtype \n",
      "---  ------      --------------  ----- \n",
      " 0   Name        955 non-null    object\n",
      " 1   Age         955 non-null    object\n",
      " 2   Home town   955 non-null    object\n",
      " 3   Occupation  955 non-null    object\n",
      " 4   Outcome     955 non-null    object\n",
      " 5   Season      955 non-null    int64 \n",
      "dtypes: int64(1), object(5)\n",
      "memory usage: 44.9+ KB\n",
      "pains: []\n",
      "\n",
      "                                 Name Age     Home town  \\\n",
      "950  Metotisi \"Metz\" Komiti-Faalavaau  28      Auckland   \n",
      "951                     Catherine Lum  26      Auckland   \n",
      "952                        Emily Rose  33      Auckland   \n",
      "953                       Freya Jones  26  Christchurch   \n",
      "954                      Harmony Moki  27      Auckland   \n",
      "\n",
      "                     Occupation         Outcome  Season  \n",
      "950               Administrator  Quit Episode 3      72  \n",
      "951  Ambulance customer service       Episode 2      72  \n",
      "952          Pilates instructor       Episode 1      72  \n",
      "953      Business administrator       Episode 1      72  \n",
      "954                      Jockey       Episode 1      72  \n"
     ]
    }
   ],
   "source": [
    "\n",
    "for i in range(1, 3):\n",
    "    url=f'https://en.wikipedia.org/wiki/The_Bachelor_New_Zealand_season_{i}'\n",
    "    response=requests.get(url)\n",
    "    soup = BeautifulSoup(response.text, 'html.parser')\n",
    "    for li in soup.find_all('li'):\n",
    "        li.decompose()\n",
    "    for sup_tag in soup.find_all('sup', class_='reference'):\n",
    "        sup_tag.decompose()\n",
    "    for p in soup.find_all('p'):\n",
    "        p.decompose()\n",
    "    try:\n",
    "        \n",
    "        table = soup.find('table', {'class': 'wikitable'})\n",
    "        if table:\n",
    "            rows = table.find_all('tr')[1:]\n",
    "\n",
    "            for tr in rows:\n",
    "                cells = tr.find_all('td')\n",
    "                \n",
    "                if cells:  \n",
    "                    name = cells[0].text.strip() if len(cells) > 0 else \"N/A\"\n",
    "                    age = cells[1].text.strip() if len(cells) > 1 else \"N/A\"\n",
    "                    hometown = cells[2].text.strip() if len(cells) > 2 else \"N/A\"\n",
    "                    occupation = cells[3].text.strip() if len(cells) > 3 else \"N/A\"\n",
    "                    outcome = cells[4].text.strip() if len(cells) > 4 else \"N/A\"\n",
    "                    if name == 'N/A':\n",
    "                        continue\n",
    "                    else:\n",
    "                        pastsets['Name'].append(name)\n",
    "                        pastsets['Age'].append(age)\n",
    "                        pastsets['Home town'].append(hometown)\n",
    "                        pastsets['Occupation'].append(occupation)\n",
    "                        pastsets['Outcome'].append(outcome)\n",
    "                        pastsets['Season'].append(i+70)\n",
    "            time.sleep(1)\n",
    "        else:\n",
    "            print(\"no table\")\n",
    "    except:\n",
    "        pain.append(url)\n",
    "        print(pain)\n",
    "    \n",
    "df = pd.DataFrame(pastsets)\n",
    "df.info()\n",
    "print(\"pains:\", pain)\n",
    "df.head()\n",
    "print(f'\\n{df.tail()}')"
   ]
  },
  {
   "cell_type": "code",
   "execution_count": 38,
   "id": "cac5406f-7b2d-4116-b9e2-6a17c529d81c",
   "metadata": {},
   "outputs": [
    {
     "name": "stdout",
     "output_type": "stream",
     "text": [
      "<class 'pandas.core.frame.DataFrame'>\n",
      "RangeIndex: 980 entries, 0 to 979\n",
      "Data columns (total 6 columns):\n",
      " #   Column      Non-Null Count  Dtype \n",
      "---  ------      --------------  ----- \n",
      " 0   Name        980 non-null    object\n",
      " 1   Age         980 non-null    object\n",
      " 2   Home town   980 non-null    object\n",
      " 3   Occupation  980 non-null    object\n",
      " 4   Outcome     980 non-null    object\n",
      " 5   Season      980 non-null    int64 \n",
      "dtypes: int64(1), object(5)\n",
      "memory usage: 46.1+ KB\n",
      "pains: []\n",
      "\n",
      "                Name Age              Home town                Occupation  \\\n",
      "975    Letícia Mello  20  São Bernardo do Campo  Public relations student   \n",
      "976  Michelle Mignon  26                Uberaba                     Model   \n",
      "977     Nanny Correa  30           Bom Despacho                        DJ   \n",
      "978    Suzy Pianista  33              São Paulo                   Pianist   \n",
      "979  Viviane Pereira  27         Jaraguá do Sul         Real estate agent   \n",
      "\n",
      "    Outcome  Season  \n",
      "975     N/A      80  \n",
      "976     N/A      80  \n",
      "977     N/A      80  \n",
      "978     N/A      80  \n",
      "979     N/A      80  \n"
     ]
    }
   ],
   "source": [
    "\n",
    "for i in range(1):\n",
    "    url=\"https://en.wikipedia.org/wiki/The_Bachelor_(Brazilian_TV_series)\"\n",
    "    response=requests.get(url)\n",
    "    soup = BeautifulSoup(response.text, 'html.parser')\n",
    "    for li in soup.find_all('li'):\n",
    "        li.decompose()\n",
    "    for sup_tag in soup.find_all('sup', class_='reference'):\n",
    "        sup_tag.decompose()\n",
    "    for p in soup.find_all('p'):\n",
    "        p.decompose()\n",
    "    try:\n",
    "        \n",
    "        table = soup.find('table', {'class': 'wikitable'})\n",
    "        if table:\n",
    "            rows = table.find_all('tr')[1:]\n",
    "\n",
    "            for tr in rows:\n",
    "                cells = tr.find_all('td')\n",
    "                \n",
    "                if cells:  \n",
    "                    name = cells[0].text.strip() if len(cells) > 0 else \"N/A\"\n",
    "                    age = cells[1].text.strip() if len(cells) > 1 else \"N/A\"\n",
    "                    hometown = cells[2].text.strip() if len(cells) > 2 else \"N/A\"\n",
    "                    occupation = cells[3].text.strip() if len(cells) > 3 else \"N/A\"\n",
    "                    outcome = cells[4].text.strip() if len(cells) > 4 else \"N/A\"\n",
    "                    if name == 'N/A':\n",
    "                        continue\n",
    "                    else:\n",
    "                        pastsets['Name'].append(name)\n",
    "                        pastsets['Age'].append(age)\n",
    "                        pastsets['Home town'].append(hometown)\n",
    "                        pastsets['Occupation'].append(occupation)\n",
    "                        pastsets['Outcome'].append(outcome)\n",
    "                        pastsets['Season'].append(i+80)\n",
    "            time.sleep(1)\n",
    "        else:\n",
    "            print(\"no table\")\n",
    "    except:\n",
    "        pain.append(url)\n",
    "        print(pain)\n",
    "    \n",
    "df = pd.DataFrame(pastsets)\n",
    "df.info()\n",
    "print(\"pains:\", pain)\n",
    "df.head()\n",
    "print(f'\\n{df.tail()}')"
   ]
  },
  {
   "cell_type": "code",
   "execution_count": 39,
   "id": "1043e1b7-2768-4484-8045-bf9d8a1611ee",
   "metadata": {},
   "outputs": [
    {
     "name": "stdout",
     "output_type": "stream",
     "text": [
      "<class 'pandas.core.frame.DataFrame'>\n",
      "RangeIndex: 1004 entries, 0 to 1003\n",
      "Data columns (total 6 columns):\n",
      " #   Column      Non-Null Count  Dtype \n",
      "---  ------      --------------  ----- \n",
      " 0   Name        1004 non-null   object\n",
      " 1   Age         1004 non-null   object\n",
      " 2   Home town   1004 non-null   object\n",
      " 3   Occupation  1004 non-null   object\n",
      " 4   Outcome     1004 non-null   object\n",
      " 5   Season      1004 non-null   int64 \n",
      "dtypes: int64(1), object(5)\n",
      "memory usage: 47.2+ KB\n",
      "pains: []\n",
      "\n",
      "               Name Age      Home town              Occupation    Outcome  \\\n",
      "999     Rachel Boon  24         Surrey             Childminder  Episode 1   \n",
      "1000   Rebecca Rock  25  Hertfordshire          Hair Colourist  Episode 1   \n",
      "1001    Sophia Port  25         London              Finance PA  Episode 1   \n",
      "1002  Sarah Stewart  21     Nottingham                 Student  Episode 1   \n",
      "1003  Victoria Ebel  23      Guildford  Health Care Technician  Episode 1   \n",
      "\n",
      "      Season  \n",
      "999       95  \n",
      "1000      95  \n",
      "1001      95  \n",
      "1002      95  \n",
      "1003      95  \n"
     ]
    }
   ],
   "source": [
    "\n",
    "for i in range(5,6):\n",
    "    url=f\"https://en.wikipedia.org/wiki/The_Bachelor_(British_TV_series)_series_{i}\"\n",
    "    response=requests.get(url)\n",
    "    soup = BeautifulSoup(response.text, 'html.parser')\n",
    "    for li in soup.find_all('li'):\n",
    "        li.decompose()\n",
    "    for sup_tag in soup.find_all('sup', class_='reference'):\n",
    "        sup_tag.decompose()\n",
    "    for p in soup.find_all('p'):\n",
    "        p.decompose()\n",
    "    try:\n",
    "        \n",
    "        table = soup.find('table', {'class': 'wikitable'})\n",
    "        if table:\n",
    "            rows = table.find_all('tr')[1:]\n",
    "\n",
    "            for tr in rows:\n",
    "                cells = tr.find_all('td')\n",
    "                \n",
    "                if cells:  \n",
    "                    name = cells[0].text.strip() if len(cells) > 0 else \"N/A\"\n",
    "                    age = cells[1].text.strip() if len(cells) > 1 else \"N/A\"\n",
    "                    hometown = cells[2].text.strip() if len(cells) > 2 else \"N/A\"\n",
    "                    occupation = cells[3].text.strip() if len(cells) > 3 else \"N/A\"\n",
    "                    outcome = cells[4].text.strip() if len(cells) > 4 else \"N/A\"\n",
    "                    if name == 'N/A':\n",
    "                        continue\n",
    "                    else:\n",
    "                        pastsets['Name'].append(name)\n",
    "                        pastsets['Age'].append(age)\n",
    "                        pastsets['Home town'].append(hometown)\n",
    "                        pastsets['Occupation'].append(occupation)\n",
    "                        pastsets['Outcome'].append(outcome)\n",
    "                        pastsets['Season'].append(i+90)\n",
    "            time.sleep(1)\n",
    "        else:\n",
    "            print(\"no table\")\n",
    "    except:\n",
    "        pain.append(url)\n",
    "        print(pain)\n",
    "    \n",
    "df = pd.DataFrame(pastsets)\n",
    "df.info()\n",
    "print(\"pains:\", pain)\n",
    "df.head()\n",
    "print(f'\\n{df.tail()}')"
   ]
  },
  {
   "cell_type": "markdown",
   "id": "880ff05f",
   "metadata": {},
   "source": [
    "### 2. Training Your Model\n",
    "In the cell seen below, write the code you need to train a linear regression model. Make sure you display the equation of the plane that best fits your chosen data at the end of your program. \n",
    "\n",
    "*Note, level 5 work trains a model using only the standard Python library and Pandas. A level 5 model is trained with at least two features, where one of the features begins as a categorical value (e.g. occupation, hometown, etc.). A level 4 uses external libraries like scikit or numpy.*"
   ]
  },
  {
   "cell_type": "code",
   "execution_count": 40,
   "id": "a73f2107-0c48-4ca0-8a40-5d9d699857f4",
   "metadata": {},
   "outputs": [
    {
     "name": "stdout",
     "output_type": "stream",
     "text": [
      "['Winner' 'Runner-up' 'Week 5' 'Week 4' 'Week 3' 'Week 2' 'Week 1'\n",
      " 'Week 6' 'Week 2 (Quit)' 'Week 7' 'N/A' 'Week 8' 'Co-runners-up' '9'\n",
      " 'Runner-Up' '12' '15 (quit)' '8' '15 (DQ)' 'Week 9' '6' '11' '17 (quit)'\n",
      " '8 (DQ)' '13' '16 (quit)' '16' '19 (quit)' '6 (quit)' '18' '15' '' '14'\n",
      " '21 (quit)' '22' '7 (quit)' '10' '17' '3' '7' '10 (quit)' '13 (quit)'\n",
      " '19' '17–19' '20' 'Runner-Up(Week 10)' '29 (quit)' '30' 'Episode 12'\n",
      " 'Episode 11' 'Episode 10' 'Episode 9' 'Episode 8' 'Episode 7' 'Episode 6'\n",
      " 'Episode 5' 'Episode 4' 'Episode 3' 'Episode 2' 'Episode 2 (Quit)'\n",
      " 'Episode 1' 'Episode 19' 'Episode 18' 'Episode 16' 'Episode 15'\n",
      " 'Episode 14' 'Episode 13' 'Episode 4 (Quit)' 'Episode 9 (Quit)'\n",
      " 'Episode 7 (quit)' 'Episode 1 (quit)' 'Episode 10 (quit)'\n",
      " 'Episode 15 (quit)' 'Episode 8 (quit)' 'Episode 10 (Quit)'\n",
      " 'Episode 5 (quit)' 'Episode 4 (quit)' 'Quit Episode 10' 'Quit Episode 3'\n",
      " 'Quit Episode 1' 'Quit Episode 8' 'Week 12' 'Week 11' 'Week 10']\n"
     ]
    }
   ],
   "source": [
    "print(df['Outcome'].unique())\n"
   ]
  },
  {
   "cell_type": "code",
   "execution_count": 41,
   "id": "f574fac0-71a5-48b4-bd8e-57b8dba4faee",
   "metadata": {},
   "outputs": [
    {
     "name": "stdout",
     "output_type": "stream",
     "text": [
      "['Event Planner' 'Miami Heat Dancer' 'Financial Management Consultant'\n",
      " 'Nanny' 'Graduate Student' 'Attorney' 'Actress'\n",
      " 'Commercial Real Estate Agent' 'Special Ed. Teacher'\n",
      " 'Production Coordinator' 'Hooters Waitress' 'Power Tool Sales Rep.'\n",
      " 'Photographer' 'Business Development Director' 'Neuropsychologist'\n",
      " 'Doctor' 'Bar Manager' 'Retail Manager' 'Advertising Executive'\n",
      " 'Insurance Representative' '6th Grade Teacher' 'Technology Specialist'\n",
      " 'School Psychologist' 'College Student' 'Executive Recruiter'\n",
      " 'Registered Nurse' 'Flight Attendant' 'Assistant Financial Advisor'\n",
      " 'Marriage Therapy Trainee' 'Airline Supervisor' 'Graphic Artist'\n",
      " 'Radio Sales' 'Publications Quality Control' 'Strategic Planning Analyst'\n",
      " 'Psychologist' '3rd Grade Teacher' 'Radiological Technologist'\n",
      " 'Interior Designer' 'Paralegal' 'Former NBA Cheerleader'\n",
      " '1st Grade Teacher' 'Communications Specialist' 'Student'\n",
      " 'General Contractor' 'Architect Designer' 'Model'\n",
      " 'Pharmaceutical Salesperson' 'Prosthetic Technician' 'Swim Instructor'\n",
      " 'Professional Cheerleader' 'LASIK Eye & Skin Center Manager' 'Consultant'\n",
      " 'Executive Assistant' 'Massage Therapist' 'Hairstylist'\n",
      " 'Professional Soccer Player' 'Account Manager' 'Bank Representative'\n",
      " 'Singer' 'Fashion PR Manager' 'Teacher' 'Publicist' 'Marketing manager'\n",
      " 'Realtor' 'Ultrasound technician' 'Event planner' 'Interior designer'\n",
      " 'Journalist' 'Hotel concierge' 'Beer chemist' 'Restaurateur' 'Dancer'\n",
      " 'Physician' 'Registered nurse' 'Assistant buyer' 'Dolphin trainer'\n",
      " 'Broadcast marketer' 'Policy advisor' 'Make-up artist' 'Social Worker'\n",
      " 'Assistant' 'Graphic Designer' 'Project Manager' 'Medical student'\n",
      " 'Boutique owner' 'Sales Manager' 'Organ donor coordinator'\n",
      " 'Financial analyst' 'Sorority recruiter' 'Boutique manager'\n",
      " 'Medical equipment sales rep' 'Radio sales' 'Waitress'\n",
      " 'Former Miss Illinois' 'Executive coordinator' 'Health care manager'\n",
      " 'Hedge fund analyst' 'Real estate sales/development'\n",
      " 'Phoenix Suns Cheerleader' 'Internet marketing executive' 'Acupuncturist'\n",
      " 'Account manager' 'Executive assistant' 'Boutique sales worker'\n",
      " 'Bar manager' 'Esthetician' 'Publishing sales executive' 'News anchor'\n",
      " 'Law student' 'Biology teacher' 'Graduate student'\n",
      " 'Account representative' 'Emergency room nurse' 'Project analyst'\n",
      " 'Pharmaceutical sales rep.' 'Account Executive' 'Fashion designer'\n",
      " 'Advertising coordinator' 'Singer-songwriter'\n",
      " 'Medical sales representative' \"Children's book author\" 'Vendor'\n",
      " 'Personal trainer' 'Church marketing rep.' 'Administrative assistant'\n",
      " 'Biology student' 'Attorney and former White House aide' 'Youth minister'\n",
      " 'Cocktail waitress' 'Real estate marketing rep.' 'Sales Representative'\n",
      " 'Department Store Buyer' 'Medical Marketing Representative'\n",
      " 'Lacrosse Coach' 'Dental Hygienist' 'Administrative Assistant'\n",
      " 'Human Resources Recruiter' 'Medical Student'\n",
      " 'Public Relations Associate' 'Medical Sales Representative'\n",
      " 'Casino Marketing Representative' 'Wedding Coordinator' 'Menswear Buyer'\n",
      " 'Jewelry Designer' 'Charity Accountant' 'Nurse Practitioner'\n",
      " 'Marketing Representative' 'College Admissions' 'Swimsuit Model'\n",
      " 'Advertising Account Manager' 'Wardrobe Consultant'\n",
      " 'Cosmetic Sales Manager' 'Corporate Flight Attendant' 'Hair Stylist'\n",
      " 'Homemaker' 'Office Manager' 'Restaurant Manager' 'Model/Make-Up Artist'\n",
      " 'Entrepreneur' 'Spokesmodel' 'Mortgage Loan Officer'\n",
      " 'Captain, Air National Guard' 'Fit Model' 'NBA Dancer' 'Commercial Pilot'\n",
      " 'Dance Teacher' 'Medical Technician' \"Children's Hospital Event Planner\"\n",
      " 'Dental Student' 'Funeral Director' 'Food Writer' 'Artist'\n",
      " 'Apparel Merchant' 'Marketing Coordinator' 'Sports Publicist'\n",
      " 'First Grade Teacher' 'Fashion Marketer' 'Bartender' 'Real Estate Broker'\n",
      " 'Radio City Rockette' 'Manscaper' 'Operations Manager' 'Sales Director'\n",
      " 'Insurance Agent' 'High School Teacher' 'Sales Consultant'\n",
      " 'Musical Theatre Performer' 'Business Development Manager' 'PhD Student'\n",
      " 'Fashion Sales Representative' 'Trading Clerk' 'VIP Cocktail Waitress'\n",
      " 'Accountant' 'Personal Trainer' 'Dental Consultant' 'Law Student'\n",
      " 'Blogger' 'Financial Advisor' 'Labor and Delivery Nurse'\n",
      " 'Critical Care Nurse' 'Nonprofit Director'\n",
      " 'Pharmaceutical Sales Representative' 'Internet Entrepreneur'\n",
      " 'Substitute Teacher' 'Personal Organizer' 'Bridal Stylist'\n",
      " 'Political Consultant' 'Leasing Consultant'\n",
      " 'Commercial Casting Associate' 'Real Estate Dealer'\n",
      " 'Oil Field Account Manager' 'Cosmetics Consultant' 'Poker Dealer'\n",
      " 'Health Club Manager' 'Community Organizer' 'Salon Owner'\n",
      " 'Yoga Instructor' 'Fashion Model' 'Cruise Ship Entertainer'\n",
      " 'Jumbotron Operator' 'Pediatric Nurse' 'Assistant District Attorney'\n",
      " 'Real Estate Agent' 'Science Educator' 'Opera Singer' 'Medical Sales Rep'\n",
      " 'Former NBA Dancer' 'Psychiatric Nurse' 'Dog Lover' 'Music Composer'\n",
      " 'Marketing Manager' 'Free Spirit' 'Local News Reporter' 'Legal Assistant'\n",
      " 'Communications Director' 'Grade School Teacher'\n",
      " 'Police Support Specialist' 'Nursing Home Owner' 'Mineral Coordinator'\n",
      " 'Personal Banker' 'Fertility Nurse' 'Chiropractic Assistant'\n",
      " 'Dance Instructor' 'Cosmetics Developer' 'Cruise Ship Singer'\n",
      " 'Make-Up Artist' 'Guidance Counselor' 'Dental Assistant'\n",
      " 'Fashion Designer' 'Former NFL Cheerleader' 'News Producer'\n",
      " 'Fourth Grade Teacher' 'Special Education Teacher'\n",
      " 'Sport Fishing Enthusiast' 'Ballet Teacher' 'Plus-Size Model'\n",
      " 'WWE Diva-in-Training' 'High School Soccer Coach' 'Wedding Cake Baker'\n",
      " 'Cadaver Tissue Saleswoman' 'Real Estate Developer'\n",
      " 'Software Sales Representative' 'Kindergarten Teacher'\n",
      " 'Former News Anchor' 'Small Business Owner' 'War Veteran' 'Unemployed'\n",
      " 'Property Manager' 'Dentist' 'Gerontologist' 'Fashion Buyer'\n",
      " 'Nutritional Therapist' 'Math Teacher' 'Cowgirl' 'Chicken Enthusiast'\n",
      " 'Fashion Boutique Owner' 'Business Owner' 'Neonatal Nurse'\n",
      " 'Pilates Instructor' 'Pro Basketball Dancer' 'Aspiring Dolphin Trainer'\n",
      " 'Chef' 'Mental Health Counselor' 'Plastic Surgery Office Manager'\n",
      " 'Travel Nurse' 'Wedding Videographer' 'Restaurant Server'\n",
      " 'Digital Marketing Manager' 'Doula' 'Surgical Unit Nurse'\n",
      " 'Law School Graduate' 'Food Truck Owner' 'Apparel Sales Representative'\n",
      " 'Technology Salesperson' 'Creative Director' 'Physical Therapist'\n",
      " 'Research Coordinator' 'Real Estate Executive Assistant'\n",
      " 'Social Media Manager' 'Fitness Coach' 'Restaurant Owner'\n",
      " 'Tech Recruiter' 'N/A' 'Event Designer' 'Server' 'Personal Stylist'\n",
      " 'Sports Reporter' 'Television Host' \"Recent Master's Graduate\"\n",
      " 'Orthopedic Nurse' 'Marketing Associate' 'Speech Pathologist'\n",
      " 'Content Creator' 'Phlebotomist' '' 'Miss North Carolina USA 2018'\n",
      " 'Assistant Program Manager' 'Miss Alabama USA 2018'\n",
      " 'Social Media Coordinator' 'IT Risk Consultant' 'Makeup Artist' 'Caterer'\n",
      " 'Wardrobe Stylist' 'DJ' 'Sales Account Manager' 'Dog Rescuer'\n",
      " 'Marketing Salesperson' 'Financial Associate' 'Recruiter' 'Sloth'\n",
      " 'Broadcast Journalist' 'Cinderella' 'Nurse'\n",
      " 'Business Development Associate' 'Foster Parent Recruiter'\n",
      " 'Professional Clothier' 'Fashion Blogger' 'Retail Marketing Manager'\n",
      " 'House Flipper' 'Home Care Coordinator' 'Orthodontist Assistant'\n",
      " 'Client Relations Manager' 'Medical Radiographer' 'Cosmetologist'\n",
      " 'Marketing Executive' 'Business Development Rep' 'Cattle Rancher'\n",
      " 'Media Buyer' 'Nursing Student' 'Pro NBA Dancer'\n",
      " 'Entertainment Sales Associate' 'Patient Care Coordinator'\n",
      " 'Communications Manager' 'Social Media Marketer' 'Fashion Entrepreneur'\n",
      " 'Client Financial Manager' 'Runway Model' 'Bank Marketing Manager'\n",
      " 'Pharmacist' 'Dancer/Choreographer' 'Former Miss Universe Puerto Rico'\n",
      " 'Corporate Attorney' 'Marketing Director' 'Queen' 'Copywriter' 'Hostess'\n",
      " 'Healthcare Advocate' 'ICU Nurse' 'Health Food Developer'\n",
      " 'Event Coordinator' 'Marketing Specialist' 'Professional Ballerina'\n",
      " 'Airline Recruiter' 'IT Consultant' 'Flight Instructor'\n",
      " 'Elementary School Teacher' 'Wealth Management Advisor'\n",
      " 'Human Resources Specialist' 'Former Olympian' 'Architectural Historian'\n",
      " 'Industrial Sales Representative' 'Real Estate Advisor'\n",
      " 'Bar Mitzvah Dancer' 'Social Media Director' 'Occupational Therapist'\n",
      " 'Spray Tanner' 'Senior Account Executive' 'Child and Family Therapist'\n",
      " 'Rodeo Racer' 'Healthcare Strategist' 'E-Commerce Coordinator'\n",
      " 'Postpartum Nurse' 'Nonprofit Case Manager' 'Content Marketing Manager'\n",
      " 'Professional Dancer' 'Hospitality Manager' 'Professional Makeup Artist'\n",
      " 'Corporate Recruiter' 'Insurance Marketer' 'Patient Care Technician'\n",
      " 'Stylist' 'Restaurant Marketer' 'Lawyer' 'Events Coordinator'\n",
      " 'Child Psychologist' 'Florist' 'Fitness Instructor' 'Brand Strategist'\n",
      " 'Finance Manager' 'PR Consultant' 'Customer Relations' 'Fitness Model'\n",
      " 'Fashion Stylist' 'Events Director' 'Cosmetic Clinic Director'\n",
      " 'Emergency Nurse' 'Pre-School Teacher' 'Professional Skateboarder'\n",
      " 'Financial Assistant' 'Event Manager' 'Accounting Student'\n",
      " 'Acting Student' 'Oil & Gas Consultant' 'Law Graduate' 'Legal Secretary'\n",
      " 'Dog Groomer' 'I.T. Student' 'Musician' 'Fitness Trainer'\n",
      " 'Professional Netballer' 'Scientific Sales Rep'\n",
      " 'Communications Assistant' 'Filmmaker' 'Wedding Planner' 'Food Blogger'\n",
      " 'Portfolio Manager' 'Dietitian' 'Charity Worker' 'Marketing Graduate'\n",
      " 'Personal Assistant' 'Primary P.E. Teacher' 'Veterinary Surgeon'\n",
      " 'Motivational Speaker' 'Travel Agent' 'Accounts Manager' 'Venue Manager'\n",
      " 'Support Worker' 'Hairdresser' 'Swimwear Designer'\n",
      " 'Health Promotions Officer' 'Customer Support Manager'\n",
      " \"Children's Entertainer\" 'Training Administrator'\n",
      " 'Former Athlete/Student' 'Communications Officer' 'Jewellery Designer'\n",
      " 'Brand Manager' 'Coal Plant Operator' 'Office Administrator'\n",
      " 'Police Officer' 'Safety Administrator' 'Body Painter'\n",
      " 'Architecture Student' 'Midwife' 'Retail Assistant' 'Property Executive'\n",
      " 'Love Coach' 'Gymnastics Coach' 'Criminal Lawyer' 'Gym Instructor'\n",
      " 'Medical Receptionist' 'Radiographer' 'Property Valuer' 'Youth Worker'\n",
      " 'Car Care Consultant' 'Dental Nurse' 'Photo Shoot Director'\n",
      " 'Political Adviser' 'Housing Officer' 'Property Consultant'\n",
      " 'P.E. Teacher' 'Yoga Teacher' 'Energy Healer' 'Lifeguard'\n",
      " 'Business Analyst' 'Digital Designer' 'Chemical Engineer'\n",
      " 'Property Analyst' 'Wellness Coach' 'Fashion Brand Manager'\n",
      " 'China Researcher' 'Civil Engineer' 'Cook' 'Café Manager'\n",
      " 'Clerical Officer' 'Executive PA' 'Healthcare Coordinator'\n",
      " 'Cosmetic Nurse' 'Public Servant' 'Sports Teacher' 'Textiles Designer'\n",
      " 'Marketing Consultant' 'Senior Beauty Consultant' 'HR Advisor'\n",
      " 'Special Needs Teacher' 'Mechanical Engineer' 'Home Loan Officer'\n",
      " 'Car Sales Consultant' 'PhD Scholar' 'Administration Assistant'\n",
      " 'Partnerships Manager' 'Fundraising Coordinator' 'Professional Model'\n",
      " 'Grad Student' 'Cocktail Waitress' 'Pastor' 'Optician'\n",
      " 'University Recruitment Agent' 'Playboy Model'\n",
      " 'Petroleum Land Administrator' 'Model/Neuroscientist' 'Strip Club Server'\n",
      " 'Sales Associate' 'Photo Lab Manager' 'Trial Lawyer' 'Beauty Queen'\n",
      " 'University Recruitment Coordinator' 'Ballerina' 'Reception & IT'\n",
      " 'Elementary French Teacher' 'Philosophy Student/Waitress' 'Wax Artist'\n",
      " 'Music Teacher' 'ER Doctor' 'Lingerie Model' 'Law Office Admin Assistant'\n",
      " 'Joyologist' 'Sommelier' 'Gymnast/Art Director' 'Engineer'\n",
      " 'Personal Trainer Worker' 'IT Sales' 'Cheerleader' 'Pharmacy student'\n",
      " 'Baby nurse' 'Tourist enterprises' 'Dietician' 'Business Administrator'\n",
      " 'Private employee' 'Beautician' 'Web developer' 'Acting student'\n",
      " 'Painter/Artist' 'Interior architect/designer' 'Law  School Graduate'\n",
      " 'Air hostess' 'Make up artist' 'Pastry cook' 'Fitness Influencer'\n",
      " 'Businesswoman' 'Marketing Management' 'Mixologist' 'Coach'\n",
      " 'Physics Student & Latin Dance Champion' 'Philology' 'Nail Technician'\n",
      " 'Nursing Teacher' 'Digital Μarketing Specialist'\n",
      " 'Primary and Community Health Student' 'Author' 'Aclogist'\n",
      " 'Media sales executive' 'Marketing assistant'\n",
      " 'High school English teacher' 'Yoga instructor' 'Yoga teacher'\n",
      " 'Event manager' 'Primary school teacher' 'Hair & makeup artist' 'Retail'\n",
      " 'Chiropractor' 'Clinical research associate' 'Advertising executive'\n",
      " 'Project manager' 'Lawyer/caregiver' 'Telecommunications'\n",
      " 'Fashion buyers administrator' 'Solicitor' 'Real estate agent'\n",
      " 'Youth worker' 'Landscaper' 'Super yacht masseuse' 'Travel consultant'\n",
      " 'Early childhood teacher' 'Retirement village attendant'\n",
      " 'File management officer' 'Veterinarian' 'Cruise consultant'\n",
      " 'Model/fashion designer' 'Nursing student' 'Administrator'\n",
      " 'Ambulance customer service' 'Pilates instructor'\n",
      " 'Business administrator' 'Jockey' 'Gastronomy student' 'Ring girl'\n",
      " 'Event coordinator' 'Engineering student' 'TV host' 'Promoter'\n",
      " 'Flight attendant' 'Public relations' 'Public relations student'\n",
      " 'Pianist' 'Model Booker and Dancer' 'Finance PA' 'Glamour Model'\n",
      " 'Mental Health Care Worker' 'Promotional Model' 'Shop Assistant'\n",
      " 'Care Worker' 'Office Temp' 'Professional Footballer' 'Childminder'\n",
      " 'Hair Colourist' 'Health Care Technician']\n"
     ]
    },
    {
     "data": {
      "text/html": [
       "<div>\n",
       "<style scoped>\n",
       "    .dataframe tbody tr th:only-of-type {\n",
       "        vertical-align: middle;\n",
       "    }\n",
       "\n",
       "    .dataframe tbody tr th {\n",
       "        vertical-align: top;\n",
       "    }\n",
       "\n",
       "    .dataframe thead th {\n",
       "        text-align: right;\n",
       "    }\n",
       "</style>\n",
       "<table border=\"1\" class=\"dataframe\">\n",
       "  <thead>\n",
       "    <tr style=\"text-align: right;\">\n",
       "      <th></th>\n",
       "      <th>occupation</th>\n",
       "      <th>number</th>\n",
       "    </tr>\n",
       "  </thead>\n",
       "  <tbody>\n",
       "    <tr>\n",
       "      <th>0</th>\n",
       "      <td>Event Planner</td>\n",
       "      <td>0</td>\n",
       "    </tr>\n",
       "    <tr>\n",
       "      <th>1</th>\n",
       "      <td>Miami Heat Dancer</td>\n",
       "      <td>1</td>\n",
       "    </tr>\n",
       "    <tr>\n",
       "      <th>2</th>\n",
       "      <td>Financial Management Consultant</td>\n",
       "      <td>2</td>\n",
       "    </tr>\n",
       "    <tr>\n",
       "      <th>3</th>\n",
       "      <td>Nanny</td>\n",
       "      <td>3</td>\n",
       "    </tr>\n",
       "    <tr>\n",
       "      <th>4</th>\n",
       "      <td>Graduate Student</td>\n",
       "      <td>4</td>\n",
       "    </tr>\n",
       "  </tbody>\n",
       "</table>\n",
       "</div>"
      ],
      "text/plain": [
       "                        occupation  number\n",
       "0                    Event Planner       0\n",
       "1                Miami Heat Dancer       1\n",
       "2  Financial Management Consultant       2\n",
       "3                            Nanny       3\n",
       "4                 Graduate Student       4"
      ]
     },
     "execution_count": 41,
     "metadata": {},
     "output_type": "execute_result"
    }
   ],
   "source": [
    "print(df['Occupation'].unique())\n",
    "occupationnumber= {'occupation':[], 'number':[]}\n",
    "for i, occupation in enumerate(df['Occupation'].unique()):\n",
    "    occupationnumber['occupation'].append(occupation)\n",
    "    occupationnumber['number'].append(i)\n",
    "occupationnumber=pd.DataFrame(occupationnumber)\n",
    "occupationnumber.head()"
   ]
  },
  {
   "cell_type": "code",
   "execution_count": 42,
   "id": "d3847d58-8927-4aee-9626-8caa379c960e",
   "metadata": {},
   "outputs": [
    {
     "name": "stdout",
     "output_type": "stream",
     "text": [
      "\n",
      "Info\n",
      "<class 'pandas.core.frame.DataFrame'>\n",
      "RangeIndex: 1004 entries, 0 to 1003\n",
      "Data columns (total 7 columns):\n",
      " #   Column      Non-Null Count  Dtype \n",
      "---  ------      --------------  ----- \n",
      " 0   Name        1004 non-null   object\n",
      " 1   Age         1004 non-null   object\n",
      " 2   Home town   1004 non-null   object\n",
      " 3   Occupation  1004 non-null   object\n",
      " 4   Outcome     1004 non-null   object\n",
      " 5   Season      1004 non-null   int64 \n",
      " 6   occnum      1004 non-null   int64 \n",
      "dtypes: int64(2), object(5)\n",
      "memory usage: 55.0+ KB\n",
      "\n",
      "Head\n"
     ]
    },
    {
     "data": {
      "text/html": [
       "<div>\n",
       "<style scoped>\n",
       "    .dataframe tbody tr th:only-of-type {\n",
       "        vertical-align: middle;\n",
       "    }\n",
       "\n",
       "    .dataframe tbody tr th {\n",
       "        vertical-align: top;\n",
       "    }\n",
       "\n",
       "    .dataframe thead th {\n",
       "        text-align: right;\n",
       "    }\n",
       "</style>\n",
       "<table border=\"1\" class=\"dataframe\">\n",
       "  <thead>\n",
       "    <tr style=\"text-align: right;\">\n",
       "      <th></th>\n",
       "      <th>Name</th>\n",
       "      <th>Age</th>\n",
       "      <th>Home town</th>\n",
       "      <th>Occupation</th>\n",
       "      <th>Outcome</th>\n",
       "      <th>Season</th>\n",
       "      <th>occnum</th>\n",
       "    </tr>\n",
       "  </thead>\n",
       "  <tbody>\n",
       "    <tr>\n",
       "      <th>0</th>\n",
       "      <td>Amanda Marsh</td>\n",
       "      <td>23</td>\n",
       "      <td>Chanute, Kansas</td>\n",
       "      <td>Event Planner</td>\n",
       "      <td>Winner</td>\n",
       "      <td>1</td>\n",
       "      <td>0</td>\n",
       "    </tr>\n",
       "    <tr>\n",
       "      <th>1</th>\n",
       "      <td>Trista Rehn</td>\n",
       "      <td>29</td>\n",
       "      <td>St. Louis, Missouri</td>\n",
       "      <td>Miami Heat Dancer</td>\n",
       "      <td>Runner-up</td>\n",
       "      <td>1</td>\n",
       "      <td>1</td>\n",
       "    </tr>\n",
       "    <tr>\n",
       "      <th>2</th>\n",
       "      <td>Shannon Oliver</td>\n",
       "      <td>24</td>\n",
       "      <td>Dallas, Texas</td>\n",
       "      <td>Financial Management Consultant</td>\n",
       "      <td>Week 5</td>\n",
       "      <td>1</td>\n",
       "      <td>2</td>\n",
       "    </tr>\n",
       "    <tr>\n",
       "      <th>3</th>\n",
       "      <td>Kimberly Karels</td>\n",
       "      <td>24</td>\n",
       "      <td>Tempe, Arizona</td>\n",
       "      <td>Nanny</td>\n",
       "      <td>Week 4</td>\n",
       "      <td>1</td>\n",
       "      <td>3</td>\n",
       "    </tr>\n",
       "    <tr>\n",
       "      <th>4</th>\n",
       "      <td>Cathy Grimes</td>\n",
       "      <td>22</td>\n",
       "      <td>Terre Haute, Indiana</td>\n",
       "      <td>Graduate Student</td>\n",
       "      <td>Week 3</td>\n",
       "      <td>1</td>\n",
       "      <td>4</td>\n",
       "    </tr>\n",
       "  </tbody>\n",
       "</table>\n",
       "</div>"
      ],
      "text/plain": [
       "              Name Age             Home town                       Occupation  \\\n",
       "0     Amanda Marsh  23       Chanute, Kansas                    Event Planner   \n",
       "1      Trista Rehn  29   St. Louis, Missouri                Miami Heat Dancer   \n",
       "2   Shannon Oliver  24         Dallas, Texas  Financial Management Consultant   \n",
       "3  Kimberly Karels  24        Tempe, Arizona                            Nanny   \n",
       "4     Cathy Grimes  22  Terre Haute, Indiana                 Graduate Student   \n",
       "\n",
       "     Outcome  Season  occnum  \n",
       "0     Winner       1       0  \n",
       "1  Runner-up       1       1  \n",
       "2     Week 5       1       2  \n",
       "3     Week 4       1       3  \n",
       "4     Week 3       1       4  "
      ]
     },
     "execution_count": 42,
     "metadata": {},
     "output_type": "execute_result"
    }
   ],
   "source": [
    "df['occnum']=None\n",
    "for i, player in df.iterrows():\n",
    "    occupation = player['Occupation']\n",
    "    assignment = occupationnumber[occupationnumber['occupation'] == occupation]\n",
    "    df.loc[i, 'occnum']=assignment['number'].values[0]\n",
    "df['occnum']=pd.to_numeric(df['occnum'], errors='coerce')\n",
    "print(f'\\nInfo')\n",
    "df.info()\n",
    "print(f'\\nHead')\n",
    "df.head()\n"
   ]
  },
  {
   "cell_type": "code",
   "execution_count": null,
   "id": "73b054f8-693d-437a-90d3-73e6acee8d2d",
   "metadata": {},
   "outputs": [],
   "source": []
  },
  {
   "cell_type": "code",
   "execution_count": 43,
   "id": "ae0bca91-9131-41fd-a5b1-ac5fd80ae295",
   "metadata": {},
   "outputs": [
    {
     "name": "stdout",
     "output_type": "stream",
     "text": [
      "['Winner' 'Runner-up' 'Week 5' 'Week 4' 'Week 3' 'Week 2' 'Week 1'\n",
      " 'Week 6' 'Week 2 (Quit)' 'Week 7' 'N/A' 'Week 8' 'Co-runners-up' '9'\n",
      " 'Runner-Up' '12' '15 (quit)' '8' '15 (DQ)' 'Week 9' '6' '11' '17 (quit)'\n",
      " '8 (DQ)' '13' '16 (quit)' '16' '19 (quit)' '6 (quit)' '18' '15' '' '14'\n",
      " '21 (quit)' '22' '7 (quit)' '10' '17' '3' '7' '10 (quit)' '13 (quit)'\n",
      " '19' '17–19' '20' 'Runner-Up(Week 10)' '29 (quit)' '30' 'Episode 12'\n",
      " 'Episode 11' 'Episode 10' 'Episode 9' 'Episode 8' 'Episode 7' 'Episode 6'\n",
      " 'Episode 5' 'Episode 4' 'Episode 3' 'Episode 2' 'Episode 2 (Quit)'\n",
      " 'Episode 1' 'Episode 19' 'Episode 18' 'Episode 16' 'Episode 15'\n",
      " 'Episode 14' 'Episode 13' 'Episode 4 (Quit)' 'Episode 9 (Quit)'\n",
      " 'Episode 7 (quit)' 'Episode 1 (quit)' 'Episode 10 (quit)'\n",
      " 'Episode 15 (quit)' 'Episode 8 (quit)' 'Episode 10 (Quit)'\n",
      " 'Episode 5 (quit)' 'Episode 4 (quit)' 'Quit Episode 10' 'Quit Episode 3'\n",
      " 'Quit Episode 1' 'Quit Episode 8' 'Week 12' 'Week 11' 'Week 10']\n"
     ]
    },
    {
     "name": "stderr",
     "output_type": "stream",
     "text": [
      "C:\\Users\\georg\\AppData\\Local\\Temp\\ipykernel_5200\\3854915055.py:45: FutureWarning: Setting an item of incompatible dtype is deprecated and will raise an error in a future version of pandas. Value '2.0794415416798357' has dtype incompatible with int64, please explicitly cast to a compatible dtype first.\n",
      "  df.loc[i, 'outnum'] = math.log(df.loc[i, 'outnum'] + 1)\n"
     ]
    },
    {
     "data": {
      "text/html": [
       "<div>\n",
       "<style scoped>\n",
       "    .dataframe tbody tr th:only-of-type {\n",
       "        vertical-align: middle;\n",
       "    }\n",
       "\n",
       "    .dataframe tbody tr th {\n",
       "        vertical-align: top;\n",
       "    }\n",
       "\n",
       "    .dataframe thead th {\n",
       "        text-align: right;\n",
       "    }\n",
       "</style>\n",
       "<table border=\"1\" class=\"dataframe\">\n",
       "  <thead>\n",
       "    <tr style=\"text-align: right;\">\n",
       "      <th></th>\n",
       "      <th>Name</th>\n",
       "      <th>Age</th>\n",
       "      <th>Home town</th>\n",
       "      <th>Occupation</th>\n",
       "      <th>Outcome</th>\n",
       "      <th>Season</th>\n",
       "      <th>occnum</th>\n",
       "      <th>outnum</th>\n",
       "    </tr>\n",
       "  </thead>\n",
       "  <tbody>\n",
       "    <tr>\n",
       "      <th>0</th>\n",
       "      <td>Amanda Marsh</td>\n",
       "      <td>23.0</td>\n",
       "      <td>Chanute, Kansas</td>\n",
       "      <td>Event Planner</td>\n",
       "      <td>winner</td>\n",
       "      <td>1</td>\n",
       "      <td>0</td>\n",
       "      <td>2.079442</td>\n",
       "    </tr>\n",
       "    <tr>\n",
       "      <th>1</th>\n",
       "      <td>Trista Rehn</td>\n",
       "      <td>29.0</td>\n",
       "      <td>St. Louis, Missouri</td>\n",
       "      <td>Miami Heat Dancer</td>\n",
       "      <td>runner-up</td>\n",
       "      <td>1</td>\n",
       "      <td>1</td>\n",
       "      <td>1.945910</td>\n",
       "    </tr>\n",
       "    <tr>\n",
       "      <th>2</th>\n",
       "      <td>Shannon Oliver</td>\n",
       "      <td>24.0</td>\n",
       "      <td>Dallas, Texas</td>\n",
       "      <td>Financial Management Consultant</td>\n",
       "      <td>week 5</td>\n",
       "      <td>1</td>\n",
       "      <td>2</td>\n",
       "      <td>1.791759</td>\n",
       "    </tr>\n",
       "    <tr>\n",
       "      <th>3</th>\n",
       "      <td>Kimberly Karels</td>\n",
       "      <td>24.0</td>\n",
       "      <td>Tempe, Arizona</td>\n",
       "      <td>Nanny</td>\n",
       "      <td>week 4</td>\n",
       "      <td>1</td>\n",
       "      <td>3</td>\n",
       "      <td>1.609438</td>\n",
       "    </tr>\n",
       "    <tr>\n",
       "      <th>4</th>\n",
       "      <td>Cathy Grimes</td>\n",
       "      <td>22.0</td>\n",
       "      <td>Terre Haute, Indiana</td>\n",
       "      <td>Graduate Student</td>\n",
       "      <td>week 3</td>\n",
       "      <td>1</td>\n",
       "      <td>4</td>\n",
       "      <td>1.386294</td>\n",
       "    </tr>\n",
       "  </tbody>\n",
       "</table>\n",
       "</div>"
      ],
      "text/plain": [
       "              Name   Age             Home town  \\\n",
       "0     Amanda Marsh  23.0       Chanute, Kansas   \n",
       "1      Trista Rehn  29.0   St. Louis, Missouri   \n",
       "2   Shannon Oliver  24.0         Dallas, Texas   \n",
       "3  Kimberly Karels  24.0        Tempe, Arizona   \n",
       "4     Cathy Grimes  22.0  Terre Haute, Indiana   \n",
       "\n",
       "                        Occupation    Outcome  Season  occnum    outnum  \n",
       "0                    Event Planner     winner       1       0  2.079442  \n",
       "1                Miami Heat Dancer  runner-up       1       1  1.945910  \n",
       "2  Financial Management Consultant     week 5       1       2  1.791759  \n",
       "3                            Nanny     week 4       1       3  1.609438  \n",
       "4                 Graduate Student     week 3       1       4  1.386294  "
      ]
     },
     "execution_count": 43,
     "metadata": {},
     "output_type": "execute_result"
    }
   ],
   "source": [
    "import math\n",
    "\n",
    "print(df['Outcome'].unique())\n",
    "\n",
    "df['outnum'] = None\n",
    "\n",
    "df['Outcome'] = df['Outcome'].str.lower()\n",
    "\n",
    "for i, player in df.iterrows():\n",
    "    outcome = player['Outcome']\n",
    "    outcome = outcome.replace(\"week \", \"\")\n",
    "    outcome = outcome.replace(\"(quit)\", \"\")\n",
    "    outcome = outcome.replace(\"(dq)\", \"\")\n",
    "    outcome = outcome.replace(\"(DQ)\", \"\")\n",
    "    outcome = outcome.replace(\"(Quit)\", \"\")\n",
    "    outcome = outcome.replace(\"episode\", \"\")\n",
    "    outcome = outcome.replace(\"quit\", \"\")\n",
    "    outcome = outcome.replace(\" \", \"\")\n",
    "\n",
    "    if \"in\" in outcome:\n",
    "        df.loc[i, 'outnum'] = 0\n",
    "    elif \"un\" in outcome:\n",
    "        df.loc[i, 'outnum'] = 0\n",
    "    elif 'n/a' in outcome:\n",
    "        df.loc[i, 'outnum'] = 1\n",
    "    elif outcome == '':\n",
    "        df.loc[i, 'outnum'] = 1\n",
    "    elif outcome == '17–19':\n",
    "        df.loc[i, 'outnum'] = 17\n",
    "\n",
    "    else:\n",
    "        df.loc[i, 'outnum'] = float(outcome)  \n",
    "\n",
    "df['outnum'] = pd.to_numeric(df['outnum'], errors='coerce')\n",
    "\n",
    "seasonmax = df.groupby('Season')['outnum'].max().reset_index()\n",
    "\n",
    "for i, player in df.iterrows():\n",
    "    season = player['Season']\n",
    "    outcome = player['Outcome']\n",
    "    max_outnum = seasonmax.loc[seasonmax['Season'] == season, 'outnum'].values[0]\n",
    "\n",
    "    if \"winner\" in outcome:\n",
    "        df.loc[i, 'outnum'] = max_outnum + 2\n",
    "        df.loc[i, 'outnum'] = math.log(df.loc[i, 'outnum'] + 1)\n",
    "\n",
    "    elif \"run\" in outcome:\n",
    "        df.loc[i, 'outnum'] = max_outnum + 1\n",
    "        df.loc[i, 'outnum'] = math.log(df.loc[i, 'outnum'] + 1)\n",
    "\n",
    "    else:\n",
    "        df.loc[i, 'outnum'] = math.log(df.loc[i, 'outnum'] + 1)\n",
    "\n",
    "df['outnum'] = pd.to_numeric(df['outnum'], errors='coerce')\n",
    "df['Age'] = pd.to_numeric(df['Age'], errors='coerce')\n",
    "\n",
    "df = df.dropna()\n",
    "\n",
    "df.head()\n"
   ]
  },
  {
   "cell_type": "code",
   "execution_count": 44,
   "id": "83243fdb-b537-45d7-a7de-5dc46e912ad9",
   "metadata": {},
   "outputs": [
    {
     "data": {
      "text/plain": [
       "'\\ndf[\\'state\\']=None\\nfor i, player in df.iterrows():\\n    state = player[\\'Home town\\']\\n    if \", \" in state: \\n        assignment = state.split(\", \")[1] \\n    else:\\n        assignment = \\'None\\'\\n    df.loc[i, \\'state\\']=assignment\\nprint(f\\'\\nInfo\\')\\ndf.info()\\nprint(f\\'\\nHead\\')\\ndf.head()\\nprint(df[\\'state\\'].unique())\\nstatenumber= {\\'state\\':[], \\'number\\':[]}\\nfor i, state in enumerate(df[\\'state\\'].unique()):\\n    statenumber[\\'state\\'].append(state)\\n    statenumber[\\'number\\'].append(i)\\nstatenumber=pd.DataFrame(statenumber)\\nstatenumber.head()\\ndf[\\'statnum\\']=None\\nfor i, player in df.iterrows():\\n    state = player[\\'state\\']\\n    assignment = statenumber[statenumber[\\'state\\'] == state]\\n    df.loc[i, \\'statnum\\']=assignment[\\'number\\'].values[0]\\ndf[\\'statnum\\']=pd.to_numeric(df[\\'statnum\\'], errors=\\'coerce\\')\\nprint(f\\'\\nInfo\\')\\ndf.info()\\nprint(f\\'\\nHead\\')\\ndf.head()\\n'"
      ]
     },
     "execution_count": 44,
     "metadata": {},
     "output_type": "execute_result"
    }
   ],
   "source": [
    "\"\"\"\n",
    "df['state']=None\n",
    "for i, player in df.iterrows():\n",
    "    state = player['Home town']\n",
    "    if \", \" in state: \n",
    "        assignment = state.split(\", \")[1] \n",
    "    else:\n",
    "        assignment = 'None'\n",
    "    df.loc[i, 'state']=assignment\n",
    "print(f'\\nInfo')\n",
    "df.info()\n",
    "print(f'\\nHead')\n",
    "df.head()\n",
    "print(df['state'].unique())\n",
    "statenumber= {'state':[], 'number':[]}\n",
    "for i, state in enumerate(df['state'].unique()):\n",
    "    statenumber['state'].append(state)\n",
    "    statenumber['number'].append(i)\n",
    "statenumber=pd.DataFrame(statenumber)\n",
    "statenumber.head()\n",
    "df['statnum']=None\n",
    "for i, player in df.iterrows():\n",
    "    state = player['state']\n",
    "    assignment = statenumber[statenumber['state'] == state]\n",
    "    df.loc[i, 'statnum']=assignment['number'].values[0]\n",
    "df['statnum']=pd.to_numeric(df['statnum'], errors='coerce')\n",
    "print(f'\\nInfo')\n",
    "df.info()\n",
    "print(f'\\nHead')\n",
    "df.head()\n",
    "\"\"\""
   ]
  },
  {
   "cell_type": "code",
   "execution_count": 45,
   "id": "3a250dc4-8480-4d16-b00a-2c40c4bdedce",
   "metadata": {},
   "outputs": [
    {
     "data": {
      "text/plain": [
       "<Axes: xlabel='Age', ylabel='outnum'>"
      ]
     },
     "execution_count": 45,
     "metadata": {},
     "output_type": "execute_result"
    },
    {
     "data": {
      "image/png": "[encoded data removed]",
      "text/plain": [
       "<Figure size 640x480 with 1 Axes>"
      ]
     },
     "metadata": {},
     "output_type": "display_data"
    }
   ],
   "source": [
    "sns.scatterplot(data=df, x='Age', y='outnum')"
   ]
  },
  {
   "cell_type": "code",
   "execution_count": 46,
   "id": "14da75cd-3c81-4860-ad13-6c085030408b",
   "metadata": {},
   "outputs": [
    {
     "data": {
      "text/plain": [
       "<Axes: xlabel='occnum', ylabel='outnum'>"
      ]
     },
     "execution_count": 46,
     "metadata": {},
     "output_type": "execute_result"
    },
    {
     "data": {
      "image/png": "[encoded data removed]",
      "text/plain": [
       "<Figure size 640x480 with 1 Axes>"
      ]
     },
     "metadata": {},
     "output_type": "display_data"
    }
   ],
   "source": [
    "sns.scatterplot(data=df, x='occnum', y='outnum')"
   ]
  },
  {
   "cell_type": "code",
   "execution_count": 47,
   "id": "c5bb06f0-64a0-40d3-82a4-cacbc9b78f80",
   "metadata": {},
   "outputs": [],
   "source": [
    "#sns.scatterplot(data=df, x='statnum', y='outnum')"
   ]
  },
  {
   "cell_type": "code",
   "execution_count": 48,
   "id": "a87a9144",
   "metadata": {
    "scrolled": true
   },
   "outputs": [
    {
     "name": "stderr",
     "output_type": "stream",
     "text": [
      "training:   0%|          | 2/899 [00:00<02:37,  5.68iteration/s]"
     ]
    },
    {
     "name": "stdout",
     "output_type": "stream",
     "text": [
      "Epoch: 0 \n",
      "Accuracy: 0.6773458559219269\n",
      "Epoch: 1 \n",
      "Accuracy: 0.6617469730470228\n"
     ]
    },
    {
     "name": "stderr",
     "output_type": "stream",
     "text": [
      "training:   0%|          | 3/899 [00:00<02:33,  5.85iteration/s]"
     ]
    },
    {
     "name": "stdout",
     "output_type": "stream",
     "text": [
      "Epoch: 2 \n",
      "Accuracy: 0.6463712146929637\n",
      "Epoch: 3 \n",
      "Accuracy: 0.6312153399915186\n"
     ]
    },
    {
     "name": "stderr",
     "output_type": "stream",
     "text": [
      "training:   1%|          | 6/899 [00:00<02:21,  6.32iteration/s]"
     ]
    },
    {
     "name": "stdout",
     "output_type": "stream",
     "text": [
      "Epoch: 4 \n",
      "Accuracy: 0.6162761552794582\n",
      "Epoch: 5 \n",
      "Accuracy: 0.6015505134105534\n"
     ]
    },
    {
     "name": "stderr",
     "output_type": "stream",
     "text": [
      "training:   1%|          | 8/899 [00:01<02:29,  5.96iteration/s]"
     ]
    },
    {
     "name": "stdout",
     "output_type": "stream",
     "text": [
      "Epoch: 6 \n",
      "Accuracy: 0.5870353130776017\n",
      "Epoch: 7 \n",
      "Accuracy: 0.5727274981443378\n"
     ]
    },
    {
     "name": "stderr",
     "output_type": "stream",
     "text": [
      "training:   1%|          | 9/899 [00:01<02:31,  5.87iteration/s]"
     ]
    },
    {
     "name": "stdout",
     "output_type": "stream",
     "text": [
      "Epoch: 8 \n",
      "Accuracy: 0.5586240569870835\n",
      "Epoch: 9 \n",
      "Accuracy: 0.5447220218459932\n"
     ]
    },
    {
     "name": "stderr",
     "output_type": "stream",
     "text": [
      "training:   1%|▏         | 12/899 [00:02<02:33,  5.76iteration/s]"
     ]
    },
    {
     "name": "stdout",
     "output_type": "stream",
     "text": [
      "Epoch: 10 \n",
      "Accuracy: 0.5310184681857562\n",
      "Epoch: 11 \n",
      "Accuracy: 0.5175105140656187\n"
     ]
    },
    {
     "name": "stderr",
     "output_type": "stream",
     "text": [
      "training:   2%|▏         | 14/899 [00:02<02:34,  5.74iteration/s]"
     ]
    },
    {
     "name": "stdout",
     "output_type": "stream",
     "text": [
      "Epoch: 12 \n",
      "Accuracy: 0.5041953195185899\n",
      "Epoch: 13 \n",
      "Accuracy: 0.4910700859396966\n"
     ]
    },
    {
     "name": "stderr",
     "output_type": "stream",
     "text": [
      "training:   2%|▏         | 15/899 [00:02<02:33,  5.74iteration/s]"
     ]
    },
    {
     "name": "stdout",
     "output_type": "stream",
     "text": [
      "Epoch: 14 \n",
      "Accuracy: 0.478132055483154\n",
      "Epoch: 15 \n",
      "Accuracy: 0.4653785104683262\n"
     ]
    },
    {
     "name": "stderr",
     "output_type": "stream",
     "text": [
      "training:   2%|▏         | 18/899 [00:03<02:31,  5.82iteration/s]"
     ]
    },
    {
     "name": "stdout",
     "output_type": "stream",
     "text": [
      "Epoch: 16 \n",
      "Accuracy: 0.45280677279434317\n",
      "Epoch: 17 \n",
      "Accuracy: 0.44041420336325554\n"
     ]
    },
    {
     "name": "stderr",
     "output_type": "stream",
     "text": [
      "training:   2%|▏         | 19/899 [00:03<02:32,  5.78iteration/s]"
     ]
    },
    {
     "name": "stdout",
     "output_type": "stream",
     "text": [
      "Epoch: 18 \n",
      "Accuracy: 0.4281982015115939\n",
      "Epoch: 19 \n",
      "Accuracy: 0.4161562044502136\n"
     ]
    },
    {
     "name": "stderr",
     "output_type": "stream",
     "text": [
      "training:   2%|▏         | 22/899 [00:03<02:32,  5.74iteration/s]"
     ]
    },
    {
     "name": "stdout",
     "output_type": "stream",
     "text": [
      "Epoch: 20 \n",
      "Accuracy: 0.40428568671231\n",
      "Epoch: 21 \n",
      "Accuracy: 0.39258415960947557\n"
     ]
    },
    {
     "name": "stderr",
     "output_type": "stream",
     "text": [
      "training:   3%|▎         | 24/899 [00:04<02:35,  5.62iteration/s]"
     ]
    },
    {
     "name": "stdout",
     "output_type": "stream",
     "text": [
      "Epoch: 22 \n",
      "Accuracy: 0.38104917069568633\n",
      "Epoch: 23 \n",
      "Accuracy: 0.3696783032391029\n"
     ]
    },
    {
     "name": "stderr",
     "output_type": "stream",
     "text": [
      "training:   3%|▎         | 26/899 [00:04<02:34,  5.65iteration/s]"
     ]
    },
    {
     "name": "stdout",
     "output_type": "stream",
     "text": [
      "Epoch: 24 \n",
      "Accuracy: 0.3584691757015738\n",
      "Epoch: 25 \n",
      "Accuracy: 0.34741944122571816\n"
     ]
    },
    {
     "name": "stderr",
     "output_type": "stream",
     "text": [
      "training:   3%|▎         | 28/899 [00:04<02:33,  5.68iteration/s]"
     ]
    },
    {
     "name": "stdout",
     "output_type": "stream",
     "text": [
      "Epoch: 26 \n",
      "Accuracy: 0.336526787129496\n",
      "Epoch: 27 \n",
      "Accuracy: 0.3257889344081336\n"
     ]
    },
    {
     "name": "stderr",
     "output_type": "stream",
     "text": [
      "training:   3%|▎         | 30/899 [00:05<02:32,  5.68iteration/s]"
     ]
    },
    {
     "name": "stdout",
     "output_type": "stream",
     "text": [
      "Epoch: 28 \n",
      "Accuracy: 0.31520363724332007\n",
      "Epoch: 29 \n",
      "Accuracy: 0.30476868251955447\n"
     ]
    },
    {
     "name": "stderr",
     "output_type": "stream",
     "text": [
      "training:   4%|▎         | 32/899 [00:05<02:28,  5.83iteration/s]"
     ]
    },
    {
     "name": "stdout",
     "output_type": "stream",
     "text": [
      "Epoch: 30 \n",
      "Accuracy: 0.2944818893475408\n",
      "Epoch: 31 \n",
      "Accuracy: 0.28434110859453265\n"
     ]
    },
    {
     "name": "stderr",
     "output_type": "stream",
     "text": [
      "training:   4%|▍         | 34/899 [00:05<02:30,  5.77iteration/s]"
     ]
    },
    {
     "name": "stdout",
     "output_type": "stream",
     "text": [
      "Epoch: 32 \n",
      "Accuracy: 0.27434422242152384\n",
      "Epoch: 33 \n",
      "Accuracy: 0.2644891438271847\n"
     ]
    },
    {
     "name": "stderr",
     "output_type": "stream",
     "text": [
      "training:   4%|▍         | 36/899 [00:06<02:23,  6.00iteration/s]"
     ]
    },
    {
     "name": "stdout",
     "output_type": "stream",
     "text": [
      "Epoch: 34 \n",
      "Accuracy: 0.2547738161984482\n",
      "Epoch: 35 \n",
      "Accuracy: 0.24519621286764282\n"
     ]
    },
    {
     "name": "stderr",
     "output_type": "stream",
     "text": [
      "training:   4%|▍         | 38/899 [00:06<02:14,  6.38iteration/s]"
     ]
    },
    {
     "name": "stdout",
     "output_type": "stream",
     "text": [
      "Epoch: 36 \n",
      "Accuracy: 0.23575433667608625\n",
      "Epoch: 37 \n",
      "Accuracy: 0.22644621954403865\n"
     ]
    },
    {
     "name": "stderr",
     "output_type": "stream",
     "text": [
      "training:   4%|▍         | 40/899 [00:06<02:21,  6.06iteration/s]"
     ]
    },
    {
     "name": "stdout",
     "output_type": "stream",
     "text": [
      "Epoch: 38 \n",
      "Accuracy: 0.21726992204691964\n",
      "Epoch: 39 \n",
      "Accuracy: 0.208223532997712\n"
     ]
    },
    {
     "name": "stderr",
     "output_type": "stream",
     "text": [
      "training:   5%|▍         | 42/899 [00:07<02:26,  5.86iteration/s]"
     ]
    },
    {
     "name": "stdout",
     "output_type": "stream",
     "text": [
      "Epoch: 40 \n",
      "Accuracy: 0.19930516903544437\n",
      "Epoch: 41 \n",
      "Accuracy: 0.19051297421967706\n"
     ]
    },
    {
     "name": "stderr",
     "output_type": "stream",
     "text": [
      "training:   5%|▍         | 43/899 [00:07<02:26,  5.86iteration/s]"
     ]
    },
    {
     "name": "stdout",
     "output_type": "stream",
     "text": [
      "Epoch: 42 \n",
      "Accuracy: 0.18184511963089756\n",
      "Epoch: 43 \n",
      "Accuracy: 0.1732998029767404\n"
     ]
    },
    {
     "name": "stderr",
     "output_type": "stream",
     "text": [
      "training:   5%|▌         | 46/899 [00:07<02:30,  5.69iteration/s]"
     ]
    },
    {
     "name": "stdout",
     "output_type": "stream",
     "text": [
      "Epoch: 44 \n",
      "Accuracy: 0.16487524820394772\n",
      "Epoch: 45 \n",
      "Accuracy: 0.15656970511598578\n"
     ]
    },
    {
     "name": "stderr",
     "output_type": "stream",
     "text": [
      "training:   5%|▌         | 47/899 [00:08<02:29,  5.68iteration/s]"
     ]
    },
    {
     "name": "stdout",
     "output_type": "stream",
     "text": [
      "Epoch: 46 \n",
      "Accuracy: 0.14838144899623695\n",
      "Epoch: 47 \n",
      "Accuracy: 0.14030878023668303\n"
     ]
    },
    {
     "name": "stderr",
     "output_type": "stream",
     "text": [
      "training:   5%|▌         | 49/899 [00:08<02:29,  5.69iteration/s]"
     ]
    },
    {
     "name": "stdout",
     "output_type": "stream",
     "text": [
      "Epoch: 48 \n",
      "Accuracy: 0.13235002397199647\n",
      "Epoch: 49 \n",
      "Accuracy: 0.12450352971897705\n"
     ]
    },
    {
     "name": "stderr",
     "output_type": "stream",
     "text": [
      "training:   6%|▌         | 51/899 [00:08<02:34,  5.49iteration/s]"
     ]
    },
    {
     "name": "stdout",
     "output_type": "stream",
     "text": [
      "Epoch: 50 \n",
      "Accuracy: 0.11676767102123142\n",
      "Epoch: 51 \n",
      "Accuracy: 0.10914084509904043\n"
     ]
    },
    {
     "name": "stderr",
     "output_type": "stream",
     "text": [
      "training:   6%|▌         | 54/899 [00:09<02:17,  6.15iteration/s]"
     ]
    },
    {
     "name": "stdout",
     "output_type": "stream",
     "text": [
      "Epoch: 52 \n",
      "Accuracy: 0.10162147250432796\n",
      "Epoch: 53 \n",
      "Accuracy: 0.0942079967806545\n"
     ]
    },
    {
     "name": "stderr",
     "output_type": "stream",
     "text": [
      "training:   6%|▌         | 55/899 [00:09<02:09,  6.51iteration/s]"
     ]
    },
    {
     "name": "stdout",
     "output_type": "stream",
     "text": [
      "Epoch: 54 \n",
      "Accuracy: 0.0868988841281787\n",
      "Epoch: 55 \n",
      "Accuracy: 0.07969262307348712\n"
     ]
    },
    {
     "name": "stderr",
     "output_type": "stream",
     "text": [
      "training:   6%|▋         | 58/899 [00:09<02:11,  6.38iteration/s]"
     ]
    },
    {
     "name": "stdout",
     "output_type": "stream",
     "text": [
      "Epoch: 56 \n",
      "Accuracy: 0.07258772414424985\n",
      "Epoch: 57 \n",
      "Accuracy: 0.06558271954860706\n"
     ]
    },
    {
     "name": "stderr",
     "output_type": "stream",
     "text": [
      "training:   7%|▋         | 60/899 [00:10<02:19,  6.00iteration/s]"
     ]
    },
    {
     "name": "stdout",
     "output_type": "stream",
     "text": [
      "Epoch: 58 \n",
      "Accuracy: 0.058676162859245706\n",
      "Epoch: 59 \n",
      "Accuracy: 0.05186662870205749\n"
     ]
    },
    {
     "name": "stderr",
     "output_type": "stream",
     "text": [
      "training:   7%|▋         | 62/899 [00:10<02:10,  6.39iteration/s]"
     ]
    },
    {
     "name": "stdout",
     "output_type": "stream",
     "text": [
      "Epoch: 60 \n",
      "Accuracy: 0.04515271244935981\n",
      "Epoch: 61 \n",
      "Accuracy: 0.038533029917568684\n"
     ]
    },
    {
     "name": "stderr",
     "output_type": "stream",
     "text": [
      "training:   7%|▋         | 64/899 [00:10<02:03,  6.77iteration/s]"
     ]
    },
    {
     "name": "stdout",
     "output_type": "stream",
     "text": [
      "Epoch: 62 \n",
      "Accuracy: 0.032006217069289744\n",
      "Epoch: 63 \n",
      "Accuracy: 0.02557092971975028\n"
     ]
    },
    {
     "name": "stderr",
     "output_type": "stream",
     "text": [
      "training:   7%|▋         | 66/899 [00:11<02:10,  6.39iteration/s]"
     ]
    },
    {
     "name": "stdout",
     "output_type": "stream",
     "text": [
      "Epoch: 64 \n",
      "Accuracy: 0.019225843247507535\n",
      "Epoch: 65 \n",
      "Accuracy: 0.012969652309372082\n"
     ]
    },
    {
     "name": "stderr",
     "output_type": "stream",
     "text": [
      "training:   7%|▋         | 67/899 [00:11<02:14,  6.18iteration/s]"
     ]
    },
    {
     "name": "stdout",
     "output_type": "stream",
     "text": [
      "Epoch: 66 \n",
      "Accuracy: 0.006801070559495304\n",
      "Epoch: 67 \n",
      "Accuracy: 0.0007188303725441658\n"
     ]
    },
    {
     "name": "stderr",
     "output_type": "stream",
     "text": [
      "training:   8%|▊         | 70/899 [00:11<02:04,  6.66iteration/s]"
     ]
    },
    {
     "name": "stdout",
     "output_type": "stream",
     "text": [
      "Epoch: 68 \n",
      "Accuracy: -0.005278317429093682\n",
      "Epoch: 69 \n",
      "Accuracy: -0.011191603844114995\n"
     ]
    },
    {
     "name": "stderr",
     "output_type": "stream",
     "text": [
      "training:   8%|▊         | 72/899 [00:12<02:06,  6.52iteration/s]"
     ]
    },
    {
     "name": "stdout",
     "output_type": "stream",
     "text": [
      "Epoch: 70 \n",
      "Accuracy: -0.017022241957195816\n",
      "Epoch: 71 \n",
      "Accuracy: -0.022771427200027006\n"
     ]
    },
    {
     "name": "stderr",
     "output_type": "stream",
     "text": [
      "training:   8%|▊         | 74/899 [00:12<02:15,  6.08iteration/s]"
     ]
    },
    {
     "name": "stdout",
     "output_type": "stream",
     "text": [
      "Epoch: 72 \n",
      "Accuracy: -0.028440337608540145\n",
      "Epoch: 73 \n",
      "Accuracy: -0.034030134076385665\n"
     ]
    },
    {
     "name": "stderr",
     "output_type": "stream",
     "text": [
      "training:   8%|▊         | 75/899 [00:12<02:21,  5.81iteration/s]"
     ]
    },
    {
     "name": "stdout",
     "output_type": "stream",
     "text": [
      "Epoch: 74 \n",
      "Accuracy: -0.039541960604717596\n",
      "Epoch: 75 \n",
      "Accuracy: -0.044976944548336895\n"
     ]
    },
    {
     "name": "stderr",
     "output_type": "stream",
     "text": [
      "training:   9%|▊         | 78/899 [00:13<02:23,  5.74iteration/s]"
     ]
    },
    {
     "name": "stdout",
     "output_type": "stream",
     "text": [
      "Epoch: 76 \n",
      "Accuracy: -0.050336196858247084\n",
      "Epoch: 77 \n",
      "Accuracy: -0.05562081232066929\n"
     ]
    },
    {
     "name": "stderr",
     "output_type": "stream",
     "text": [
      "training:   9%|▉         | 80/899 [00:13<02:20,  5.84iteration/s]"
     ]
    },
    {
     "name": "stdout",
     "output_type": "stream",
     "text": [
      "Epoch: 78 \n",
      "Accuracy: -0.06083186979258415\n",
      "Epoch: 79 \n",
      "Accuracy: -0.06597043243383072\n"
     ]
    },
    {
     "name": "stderr",
     "output_type": "stream",
     "text": [
      "training:   9%|▉         | 82/899 [00:13<02:20,  5.81iteration/s]"
     ]
    },
    {
     "name": "stdout",
     "output_type": "stream",
     "text": [
      "Epoch: 80 \n",
      "Accuracy: -0.07103754793582573\n",
      "Epoch: 81 \n",
      "Accuracy: -0.07603424874694953\n"
     ]
    },
    {
     "name": "stderr",
     "output_type": "stream",
     "text": [
      "training:   9%|▉         | 83/899 [00:13<02:25,  5.62iteration/s]"
     ]
    },
    {
     "name": "stdout",
     "output_type": "stream",
     "text": [
      "Epoch: 82 \n",
      "Accuracy: -0.08096155229464641\n",
      "Epoch: 83 \n",
      "Accuracy: -0.08582046120428877\n"
     ]
    },
    {
     "name": "stderr",
     "output_type": "stream",
     "text": [
      "training:  10%|▉         | 86/899 [00:14<02:23,  5.66iteration/s]"
     ]
    },
    {
     "name": "stdout",
     "output_type": "stream",
     "text": [
      "Epoch: 84 \n",
      "Accuracy: -0.09061196351484535\n",
      "Epoch: 85 \n",
      "Accuracy: -0.09533703289141571\n"
     ]
    },
    {
     "name": "stderr",
     "output_type": "stream",
     "text": [
      "training:  10%|▉         | 87/899 [00:14<02:23,  5.67iteration/s]"
     ]
    },
    {
     "name": "stdout",
     "output_type": "stream",
     "text": [
      "Epoch: 86 \n",
      "Accuracy: -0.09999662883465643\n",
      "Epoch: 87 \n",
      "Accuracy: -0.10459169688716707\n",
      "Epoch: 88 \n",
      "Accuracy: -0.10912316883685225\n"
     ]
    },
    {
     "name": "stderr",
     "output_type": "stream",
     "text": [
      "training:  10%|█         | 91/899 [00:15<02:02,  6.57iteration/s]"
     ]
    },
    {
     "name": "stdout",
     "output_type": "stream",
     "text": [
      "Epoch: 89 \n",
      "Accuracy: -0.11359196291733398\n",
      "Epoch: 90 \n",
      "Accuracy: -0.11799898400543263\n"
     ]
    },
    {
     "name": "stderr",
     "output_type": "stream",
     "text": [
      "training:  10%|█         | 93/899 [00:15<02:12,  6.07iteration/s]"
     ]
    },
    {
     "name": "stdout",
     "output_type": "stream",
     "text": [
      "Epoch: 91 \n",
      "Accuracy: -0.12234512381577367\n",
      "Epoch: 92 \n",
      "Accuracy: -0.12663126109256362\n"
     ]
    },
    {
     "name": "stderr",
     "output_type": "stream",
     "text": [
      "training:  11%|█         | 95/899 [00:15<02:15,  5.94iteration/s]"
     ]
    },
    {
     "name": "stdout",
     "output_type": "stream",
     "text": [
      "Epoch: 93 \n",
      "Accuracy: -0.1308582617985573\n",
      "Epoch: 94 \n",
      "Accuracy: -0.1350269793012826\n"
     ]
    },
    {
     "name": "stderr",
     "output_type": "stream",
     "text": [
      "training:  11%|█         | 96/899 [00:16<02:16,  5.89iteration/s]"
     ]
    },
    {
     "name": "stdout",
     "output_type": "stream",
     "text": [
      "Epoch: 95 \n",
      "Accuracy: -0.13913825455654438\n",
      "Epoch: 96 \n",
      "Accuracy: -0.14319291628925723\n"
     ]
    },
    {
     "name": "stderr",
     "output_type": "stream",
     "text": [
      "training:  11%|█         | 98/899 [00:16<02:16,  5.85iteration/s]"
     ]
    },
    {
     "name": "stdout",
     "output_type": "stream",
     "text": [
      "Epoch: 97 \n",
      "Accuracy: -0.147191781171641\n",
      "Epoch: 98 \n",
      "Accuracy: -0.15113565399881734\n"
     ]
    },
    {
     "name": "stderr",
     "output_type": "stream",
     "text": [
      "training:  11%|█         | 101/899 [00:16<02:13,  5.96iteration/s]"
     ]
    },
    {
     "name": "stdout",
     "output_type": "stream",
     "text": [
      "Epoch: 99 \n",
      "Accuracy: -0.1550253278618493\n",
      "Epoch: 100 \n",
      "Accuracy: -0.15886158431826236\n"
     ]
    },
    {
     "name": "stderr",
     "output_type": "stream",
     "text": [
      "training:  11%|█▏        | 103/899 [00:17<02:16,  5.84iteration/s]"
     ]
    },
    {
     "name": "stdout",
     "output_type": "stream",
     "text": [
      "Epoch: 101 \n",
      "Accuracy: -0.16264519356006724\n",
      "Epoch: 102 \n",
      "Accuracy: -0.1663769145793519\n"
     ]
    },
    {
     "name": "stderr",
     "output_type": "stream",
     "text": [
      "training:  12%|█▏        | 105/899 [00:17<02:17,  5.79iteration/s]"
     ]
    },
    {
     "name": "stdout",
     "output_type": "stream",
     "text": [
      "Epoch: 103 \n",
      "Accuracy: -0.17005749533144143\n",
      "Epoch: 104 \n",
      "Accuracy: -0.17368767289569242\n"
     ]
    },
    {
     "name": "stderr",
     "output_type": "stream",
     "text": [
      "training:  12%|█▏        | 107/899 [00:18<02:14,  5.90iteration/s]"
     ]
    },
    {
     "name": "stdout",
     "output_type": "stream",
     "text": [
      "Epoch: 105 \n",
      "Accuracy: -0.17726817363393998\n",
      "Epoch: 106 \n",
      "Accuracy: -0.18079971334663447\n"
     ]
    },
    {
     "name": "stderr",
     "output_type": "stream",
     "text": [
      "training:  12%|█▏        | 109/899 [00:18<02:14,  5.87iteration/s]"
     ]
    },
    {
     "name": "stdout",
     "output_type": "stream",
     "text": [
      "Epoch: 107 \n",
      "Accuracy: -0.18428299742670184\n",
      "Epoch: 108 \n",
      "Accuracy: -0.1877187210111655\n"
     ]
    },
    {
     "name": "stderr",
     "output_type": "stream",
     "text": [
      "training:  12%|█▏        | 111/899 [00:18<02:18,  5.68iteration/s]"
     ]
    },
    {
     "name": "stdout",
     "output_type": "stream",
     "text": [
      "Epoch: 109 \n",
      "Accuracy: -0.1911075691305576\n",
      "Epoch: 110 \n",
      "Accuracy: -0.19445021685614294\n"
     ]
    },
    {
     "name": "stderr",
     "output_type": "stream",
     "text": [
      "training:  13%|█▎        | 113/899 [00:19<02:20,  5.60iteration/s]"
     ]
    },
    {
     "name": "stdout",
     "output_type": "stream",
     "text": [
      "Epoch: 111 \n",
      "Accuracy: -0.1977473294450084\n",
      "Epoch: 112 \n",
      "Accuracy: -0.20099956248303352\n"
     ]
    },
    {
     "name": "stderr",
     "output_type": "stream",
     "text": [
      "training:  13%|█▎        | 114/899 [00:19<02:19,  5.64iteration/s]"
     ]
    },
    {
     "name": "stdout",
     "output_type": "stream",
     "text": [
      "Epoch: 113 \n",
      "Accuracy: -0.2042075620257804\n",
      "Epoch: 114 \n",
      "Accuracy: -0.207371964737323\n"
     ]
    },
    {
     "name": "stderr",
     "output_type": "stream",
     "text": [
      "training:  13%|█▎        | 116/899 [00:19<02:14,  5.83iteration/s]"
     ]
    },
    {
     "name": "stdout",
     "output_type": "stream",
     "text": [
      "Epoch: 115 \n",
      "Accuracy: -0.2104933980270599\n",
      "Epoch: 116 \n",
      "Accuracy: -0.21357248018452946\n"
     ]
    },
    {
     "name": "stderr",
     "output_type": "stream",
     "text": [
      "training:  13%|█▎        | 119/899 [00:20<02:21,  5.52iteration/s]"
     ]
    },
    {
     "name": "stdout",
     "output_type": "stream",
     "text": [
      "Epoch: 117 \n",
      "Accuracy: -0.21660982051225652\n",
      "Epoch: 118 \n",
      "Accuracy: -0.21960601945667524\n"
     ]
    },
    {
     "name": "stderr",
     "output_type": "stream",
     "text": [
      "training:  13%|█▎        | 121/899 [00:20<02:18,  5.62iteration/s]"
     ]
    },
    {
     "name": "stdout",
     "output_type": "stream",
     "text": [
      "Epoch: 119 \n",
      "Accuracy: -0.22256166873713157\n",
      "Epoch: 120 \n",
      "Accuracy: -0.2254773514730094\n"
     ]
    },
    {
     "name": "stderr",
     "output_type": "stream",
     "text": [
      "training:  14%|█▎        | 123/899 [00:20<02:16,  5.68iteration/s]"
     ]
    },
    {
     "name": "stdout",
     "output_type": "stream",
     "text": [
      "Epoch: 121 \n",
      "Accuracy: -0.22835364230900324\n",
      "Epoch: 122 \n",
      "Accuracy: -0.23119110753856853\n"
     ]
    },
    {
     "name": "stderr",
     "output_type": "stream",
     "text": [
      "training:  14%|█▍        | 125/899 [00:21<02:11,  5.88iteration/s]"
     ]
    },
    {
     "name": "stdout",
     "output_type": "stream",
     "text": [
      "Epoch: 123 \n",
      "Accuracy: -0.2339903052255684\n",
      "Epoch: 124 \n",
      "Accuracy: -0.23675178532414531\n"
     ]
    },
    {
     "name": "stderr",
     "output_type": "stream",
     "text": [
      "training:  14%|█▍        | 127/899 [00:21<02:12,  5.81iteration/s]"
     ]
    },
    {
     "name": "stdout",
     "output_type": "stream",
     "text": [
      "Epoch: 125 \n",
      "Accuracy: -0.23947608979685941\n",
      "Epoch: 126 \n",
      "Accuracy: -0.2421637527310837\n"
     ]
    },
    {
     "name": "stderr",
     "output_type": "stream",
     "text": [
      "training:  14%|█▍        | 129/899 [00:21<02:13,  5.76iteration/s]"
     ]
    },
    {
     "name": "stdout",
     "output_type": "stream",
     "text": [
      "Epoch: 127 \n",
      "Accuracy: -0.2448153004537209\n",
      "Epoch: 128 \n",
      "Accuracy: -0.24743125164423663\n"
     ]
    },
    {
     "name": "stderr",
     "output_type": "stream",
     "text": [
      "training:  15%|█▍        | 131/899 [00:22<02:13,  5.77iteration/s]"
     ]
    },
    {
     "name": "stdout",
     "output_type": "stream",
     "text": [
      "Epoch: 129 \n",
      "Accuracy: -0.250012117446056\n",
      "Epoch: 130 \n",
      "Accuracy: -0.2525584015763275\n"
     ]
    },
    {
     "name": "stderr",
     "output_type": "stream",
     "text": [
      "training:  15%|█▍        | 133/899 [00:22<02:12,  5.77iteration/s]"
     ]
    },
    {
     "name": "stdout",
     "output_type": "stream",
     "text": [
      "Epoch: 131 \n",
      "Accuracy: -0.2550706004340889\n",
      "Epoch: 132 \n",
      "Accuracy: -0.2575492032068549\n"
     ]
    },
    {
     "name": "stderr",
     "output_type": "stream",
     "text": [
      "training:  15%|█▌        | 135/899 [00:22<02:12,  5.75iteration/s]"
     ]
    },
    {
     "name": "stdout",
     "output_type": "stream",
     "text": [
      "Epoch: 133 \n",
      "Accuracy: -0.2599946919756696\n",
      "Epoch: 134 \n",
      "Accuracy: -0.26240754181859105\n"
     ]
    },
    {
     "name": "stderr",
     "output_type": "stream",
     "text": [
      "training:  15%|█▌        | 137/899 [00:23<02:14,  5.68iteration/s]"
     ]
    },
    {
     "name": "stdout",
     "output_type": "stream",
     "text": [
      "Epoch: 135 \n",
      "Accuracy: -0.26478822091270315\n",
      "Epoch: 136 \n",
      "Accuracy: -0.26713719063462704\n"
     ]
    },
    {
     "name": "stderr",
     "output_type": "stream",
     "text": [
      "training:  15%|█▌        | 139/899 [00:23<02:13,  5.71iteration/s]"
     ]
    },
    {
     "name": "stdout",
     "output_type": "stream",
     "text": [
      "Epoch: 137 \n",
      "Accuracy: -0.26945490565955554\n",
      "Epoch: 138 \n",
      "Accuracy: -0.2717418140588749\n"
     ]
    },
    {
     "name": "stderr",
     "output_type": "stream",
     "text": [
      "training:  16%|█▌        | 141/899 [00:23<02:09,  5.84iteration/s]"
     ]
    },
    {
     "name": "stdout",
     "output_type": "stream",
     "text": [
      "Epoch: 139 \n",
      "Accuracy: -0.2739983573963273\n",
      "Epoch: 140 \n",
      "Accuracy: -0.2762249708227952\n"
     ]
    },
    {
     "name": "stderr",
     "output_type": "stream",
     "text": [
      "training:  16%|█▌        | 143/899 [00:24<02:13,  5.68iteration/s]"
     ]
    },
    {
     "name": "stdout",
     "output_type": "stream",
     "text": [
      "Epoch: 141 \n",
      "Accuracy: -0.2784220831697043\n",
      "Epoch: 142 \n",
      "Accuracy: -0.28059011704105397\n"
     ]
    },
    {
     "name": "stderr",
     "output_type": "stream",
     "text": [
      "training:  16%|█▌        | 145/899 [00:24<02:11,  5.73iteration/s]"
     ]
    },
    {
     "name": "stdout",
     "output_type": "stream",
     "text": [
      "Epoch: 143 \n",
      "Accuracy: -0.2827294889041133\n",
      "Epoch: 144 \n",
      "Accuracy: -0.28484060917878795\n"
     ]
    },
    {
     "name": "stderr",
     "output_type": "stream",
     "text": [
      "training:  16%|█▋        | 147/899 [00:25<02:10,  5.75iteration/s]"
     ]
    },
    {
     "name": "stdout",
     "output_type": "stream",
     "text": [
      "Epoch: 145 \n",
      "Accuracy: -0.2869238823257029\n",
      "Epoch: 146 \n",
      "Accuracy: -0.28897970693298103\n"
     ]
    },
    {
     "name": "stderr",
     "output_type": "stream",
     "text": [
      "training:  17%|█▋        | 149/899 [00:25<01:57,  6.39iteration/s]"
     ]
    },
    {
     "name": "stdout",
     "output_type": "stream",
     "text": [
      "Epoch: 147 \n",
      "Accuracy: -0.2910084758017647\n",
      "Epoch: 148 \n",
      "Accuracy: -0.29301057603049396\n"
     ]
    },
    {
     "name": "stderr",
     "output_type": "stream",
     "text": [
      "training:  17%|█▋        | 151/899 [00:25<01:58,  6.29iteration/s]"
     ]
    },
    {
     "name": "stdout",
     "output_type": "stream",
     "text": [
      "Epoch: 149 \n",
      "Accuracy: -0.29498638909795105\n",
      "Epoch: 150 \n",
      "Accuracy: -0.2969362909451011\n"
     ]
    },
    {
     "name": "stderr",
     "output_type": "stream",
     "text": [
      "training:  17%|█▋        | 153/899 [00:25<01:55,  6.47iteration/s]"
     ]
    },
    {
     "name": "stdout",
     "output_type": "stream",
     "text": [
      "Epoch: 151 \n",
      "Accuracy: -0.29886065205573253\n",
      "Epoch: 152 \n",
      "Accuracy: -0.30075983753593316\n"
     ]
    },
    {
     "name": "stderr",
     "output_type": "stream",
     "text": [
      "training:  17%|█▋        | 155/899 [00:26<01:43,  7.22iteration/s]"
     ]
    },
    {
     "name": "stdout",
     "output_type": "stream",
     "text": [
      "Epoch: 153 \n",
      "Accuracy: -0.30263420719238643\n",
      "Epoch: 154 \n",
      "Accuracy: -0.30448411560956057\n"
     ]
    },
    {
     "name": "stderr",
     "output_type": "stream",
     "text": [
      "training:  17%|█▋        | 157/899 [00:26<01:41,  7.29iteration/s]"
     ]
    },
    {
     "name": "stdout",
     "output_type": "stream",
     "text": [
      "Epoch: 155 \n",
      "Accuracy: -0.3063099122257338\n",
      "Epoch: 156 \n",
      "Accuracy: -0.30811194140794707\n"
     ]
    },
    {
     "name": "stderr",
     "output_type": "stream",
     "text": [
      "training:  18%|█▊        | 159/899 [00:26<01:37,  7.58iteration/s]"
     ]
    },
    {
     "name": "stdout",
     "output_type": "stream",
     "text": [
      "Epoch: 157 \n",
      "Accuracy: -0.3098905425258419\n",
      "Epoch: 158 \n",
      "Accuracy: -0.31164605002442525\n"
     ]
    },
    {
     "name": "stderr",
     "output_type": "stream",
     "text": [
      "training:  18%|█▊        | 161/899 [00:26<01:41,  7.26iteration/s]"
     ]
    },
    {
     "name": "stdout",
     "output_type": "stream",
     "text": [
      "Epoch: 159 \n",
      "Accuracy: -0.3133787934957818\n",
      "Epoch: 160 \n",
      "Accuracy: -0.31508909774973504\n"
     ]
    },
    {
     "name": "stderr",
     "output_type": "stream",
     "text": [
      "training:  18%|█▊        | 162/899 [00:27<01:39,  7.43iteration/s]"
     ]
    },
    {
     "name": "stdout",
     "output_type": "stream",
     "text": [
      "Epoch: 161 \n",
      "Accuracy: -0.31677728288348395\n",
      "Epoch: 162 \n",
      "Accuracy: -0.31844366435021876\n"
     ]
    },
    {
     "name": "stderr",
     "output_type": "stream",
     "text": [
      "training:  18%|█▊        | 164/899 [00:27<01:44,  7.06iteration/s]"
     ]
    },
    {
     "name": "stdout",
     "output_type": "stream",
     "text": [
      "Epoch: 163 \n",
      "Accuracy: -0.3200885530267358\n",
      "Epoch: 164 \n",
      "Accuracy: -0.32171225528007763\n",
      "Epoch: 165 \n",
      "Accuracy: -0.3233150730331876\n"
     ]
    },
    {
     "name": "stderr",
     "output_type": "stream",
     "text": [
      "training:  19%|█▊        | 168/899 [00:27<01:22,  8.81iteration/s]"
     ]
    },
    {
     "name": "stdout",
     "output_type": "stream",
     "text": [
      "Epoch: 166 \n",
      "Accuracy: -0.3248973038296209\n",
      "Epoch: 167 \n",
      "Accuracy: -0.3264592408972994\n"
     ]
    },
    {
     "name": "stderr",
     "output_type": "stream",
     "text": [
      "training:  19%|█▉        | 170/899 [00:28<01:38,  7.38iteration/s]"
     ]
    },
    {
     "name": "stdout",
     "output_type": "stream",
     "text": [
      "Epoch: 168 \n",
      "Accuracy: -0.32800117321135025\n",
      "Epoch: 169 \n",
      "Accuracy: -0.32952338555602123\n"
     ]
    },
    {
     "name": "stderr",
     "output_type": "stream",
     "text": [
      "training:  19%|█▉        | 172/899 [00:28<01:51,  6.54iteration/s]"
     ]
    },
    {
     "name": "stdout",
     "output_type": "stream",
     "text": [
      "Epoch: 170 \n",
      "Accuracy: -0.33102615858569784\n",
      "Epoch: 171 \n",
      "Accuracy: -0.3325097688850237\n"
     ]
    },
    {
     "name": "stderr",
     "output_type": "stream",
     "text": [
      "training:  19%|█▉        | 174/899 [00:28<02:00,  6.00iteration/s]"
     ]
    },
    {
     "name": "stdout",
     "output_type": "stream",
     "text": [
      "Epoch: 172 \n",
      "Accuracy: -0.33397448902815297\n",
      "Epoch: 173 \n",
      "Accuracy: -0.33542058763713933\n"
     ]
    },
    {
     "name": "stderr",
     "output_type": "stream",
     "text": [
      "training:  20%|█▉        | 176/899 [00:29<02:03,  5.86iteration/s]"
     ]
    },
    {
     "name": "stdout",
     "output_type": "stream",
     "text": [
      "Epoch: 174 \n",
      "Accuracy: -0.3368483294394592\n",
      "Epoch: 175 \n",
      "Accuracy: -0.3382579753247278\n"
     ]
    },
    {
     "name": "stderr",
     "output_type": "stream",
     "text": [
      "training:  20%|█▉        | 178/899 [00:29<02:04,  5.80iteration/s]"
     ]
    },
    {
     "name": "stdout",
     "output_type": "stream",
     "text": [
      "Epoch: 176 \n",
      "Accuracy: -0.33964978240055144\n",
      "Epoch: 177 \n",
      "Accuracy: -0.341024004047599\n"
     ]
    },
    {
     "name": "stderr",
     "output_type": "stream",
     "text": [
      "training:  20%|██        | 180/899 [00:29<02:09,  5.56iteration/s]"
     ]
    },
    {
     "name": "stdout",
     "output_type": "stream",
     "text": [
      "Epoch: 178 \n",
      "Accuracy: -0.3423808899738384\n",
      "Epoch: 179 \n",
      "Accuracy: -0.34372068626801877\n"
     ]
    },
    {
     "name": "stderr",
     "output_type": "stream",
     "text": [
      "training:  20%|██        | 182/899 [00:30<02:08,  5.56iteration/s]"
     ]
    },
    {
     "name": "stdout",
     "output_type": "stream",
     "text": [
      "Epoch: 180 \n",
      "Accuracy: -0.3450436354523355\n",
      "Epoch: 181 \n",
      "Accuracy: -0.34634997653436794\n"
     ]
    },
    {
     "name": "stderr",
     "output_type": "stream",
     "text": [
      "training:  20%|██        | 184/899 [00:30<02:06,  5.65iteration/s]"
     ]
    },
    {
     "name": "stdout",
     "output_type": "stream",
     "text": [
      "Epoch: 182 \n",
      "Accuracy: -0.34763994505822426\n",
      "Epoch: 183 \n",
      "Accuracy: -0.3489137731549562\n"
     ]
    },
    {
     "name": "stderr",
     "output_type": "stream",
     "text": [
      "training:  21%|██        | 186/899 [00:30<02:05,  5.69iteration/s]"
     ]
    },
    {
     "name": "stdout",
     "output_type": "stream",
     "text": [
      "Epoch: 184 \n",
      "Accuracy: -0.35017168959224965\n",
      "Epoch: 185 \n",
      "Accuracy: -0.35141391982336756\n"
     ]
    },
    {
     "name": "stderr",
     "output_type": "stream",
     "text": [
      "training:  21%|██        | 187/899 [00:31<02:04,  5.71iteration/s]"
     ]
    },
    {
     "name": "stdout",
     "output_type": "stream",
     "text": [
      "Epoch: 186 \n",
      "Accuracy: -0.35264068603540244\n",
      "Epoch: 187 \n",
      "Accuracy: -0.35385220719681143\n"
     ]
    },
    {
     "name": "stderr",
     "output_type": "stream",
     "text": [
      "training:  21%|██        | 189/899 [00:31<02:00,  5.89iteration/s]"
     ]
    },
    {
     "name": "stdout",
     "output_type": "stream",
     "text": [
      "Epoch: 188 \n",
      "Accuracy: -0.3550486991042635\n",
      "Epoch: 189 \n",
      "Accuracy: -0.3562303744288019\n"
     ]
    },
    {
     "name": "stderr",
     "output_type": "stream",
     "text": [
      "training:  21%|██▏       | 192/899 [00:31<01:59,  5.94iteration/s]"
     ]
    },
    {
     "name": "stdout",
     "output_type": "stream",
     "text": [
      "Epoch: 190 \n",
      "Accuracy: -0.35739744276134544\n",
      "Epoch: 191 \n",
      "Accuracy: -0.358550110657495\n"
     ]
    },
    {
     "name": "stderr",
     "output_type": "stream",
     "text": [
      "training:  21%|██▏       | 193/899 [00:32<01:56,  6.05iteration/s]"
     ]
    },
    {
     "name": "stdout",
     "output_type": "stream",
     "text": [
      "Epoch: 192 \n",
      "Accuracy: -0.3596885816817351\n",
      "Epoch: 193 \n",
      "Accuracy: -0.3608130564509512\n"
     ]
    },
    {
     "name": "stderr",
     "output_type": "stream",
     "text": [
      "training:  22%|██▏       | 196/899 [00:32<02:00,  5.86iteration/s]"
     ]
    },
    {
     "name": "stdout",
     "output_type": "stream",
     "text": [
      "Epoch: 194 \n",
      "Accuracy: -0.3619237326773287\n",
      "Epoch: 195 \n",
      "Accuracy: -0.3630208052106242\n"
     ]
    },
    {
     "name": "stderr",
     "output_type": "stream",
     "text": [
      "training:  22%|██▏       | 198/899 [00:33<02:01,  5.79iteration/s]"
     ]
    },
    {
     "name": "stdout",
     "output_type": "stream",
     "text": [
      "Epoch: 196 \n",
      "Accuracy: -0.36410446607982083\n",
      "Epoch: 197 \n",
      "Accuracy: -0.36517490453418733\n"
     ]
    },
    {
     "name": "stderr",
     "output_type": "stream",
     "text": [
      "training:  22%|██▏       | 200/899 [00:33<02:01,  5.75iteration/s]"
     ]
    },
    {
     "name": "stdout",
     "output_type": "stream",
     "text": [
      "Epoch: 198 \n",
      "Accuracy: -0.36623230708372023\n",
      "Epoch: 199 \n",
      "Accuracy: -0.3672768575390003\n"
     ]
    },
    {
     "name": "stderr",
     "output_type": "stream",
     "text": [
      "training:  22%|██▏       | 201/899 [00:33<02:01,  5.75iteration/s]"
     ]
    },
    {
     "name": "stdout",
     "output_type": "stream",
     "text": [
      "Epoch: 200 \n",
      "Accuracy: -0.3683087370504864\n",
      "Epoch: 201 \n",
      "Accuracy: -0.3693281241472218\n"
     ]
    },
    {
     "name": "stderr",
     "output_type": "stream",
     "text": [
      "training:  23%|██▎       | 204/899 [00:34<02:01,  5.74iteration/s]"
     ]
    },
    {
     "name": "stdout",
     "output_type": "stream",
     "text": [
      "Epoch: 202 \n",
      "Accuracy: -0.3703351947749679\n",
      "Epoch: 203 \n",
      "Accuracy: -0.3713301223338049\n"
     ]
    },
    {
     "name": "stderr",
     "output_type": "stream",
     "text": [
      "training:  23%|██▎       | 206/899 [00:34<02:01,  5.73iteration/s]"
     ]
    },
    {
     "name": "stdout",
     "output_type": "stream",
     "text": [
      "Epoch: 204 \n",
      "Accuracy: -0.3723130777151634\n",
      "Epoch: 205 \n",
      "Accuracy: -0.3732842293383357\n"
     ]
    },
    {
     "name": "stderr",
     "output_type": "stream",
     "text": [
      "training:  23%|██▎       | 208/899 [00:34<02:02,  5.63iteration/s]"
     ]
    },
    {
     "name": "stdout",
     "output_type": "stream",
     "text": [
      "Epoch: 206 \n",
      "Accuracy: -0.37424374318643727\n",
      "Epoch: 207 \n",
      "Accuracy: -0.3751917828418533\n"
     ]
    },
    {
     "name": "stderr",
     "output_type": "stream",
     "text": [
      "training:  23%|██▎       | 210/899 [00:35<02:02,  5.63iteration/s]"
     ]
    },
    {
     "name": "stdout",
     "output_type": "stream",
     "text": [
      "Epoch: 208 \n",
      "Accuracy: -0.37612850952117427\n",
      "Epoch: 209 \n",
      "Accuracy: -0.3770540821096061\n"
     ]
    },
    {
     "name": "stderr",
     "output_type": "stream",
     "text": [
      "training:  24%|██▎       | 212/899 [00:35<01:56,  5.92iteration/s]"
     ]
    },
    {
     "name": "stdout",
     "output_type": "stream",
     "text": [
      "Epoch: 210 \n",
      "Accuracy: -0.37796865719489914\n",
      "Epoch: 211 \n",
      "Accuracy: -0.3788723891007596\n"
     ]
    },
    {
     "name": "stderr",
     "output_type": "stream",
     "text": [
      "training:  24%|██▍       | 214/899 [00:35<01:57,  5.85iteration/s]"
     ]
    },
    {
     "name": "stdout",
     "output_type": "stream",
     "text": [
      "Epoch: 212 \n",
      "Accuracy: -0.3797654299197962\n",
      "Epoch: 213 \n",
      "Accuracy: -0.3806479295459796\n"
     ]
    },
    {
     "name": "stderr",
     "output_type": "stream",
     "text": [
      "training:  24%|██▍       | 216/899 [00:36<01:58,  5.77iteration/s]"
     ]
    },
    {
     "name": "stdout",
     "output_type": "stream",
     "text": [
      "Epoch: 214 \n",
      "Accuracy: -0.38152003570661785\n",
      "Epoch: 215 \n",
      "Accuracy: -0.3823818939938838\n"
     ]
    },
    {
     "name": "stderr",
     "output_type": "stream",
     "text": [
      "training:  24%|██▍       | 218/899 [00:36<01:59,  5.69iteration/s]"
     ]
    },
    {
     "name": "stdout",
     "output_type": "stream",
     "text": [
      "Epoch: 216 \n",
      "Accuracy: -0.38323364789586833\n",
      "Epoch: 217 \n",
      "Accuracy: -0.3840754388271893\n"
     ]
    },
    {
     "name": "stderr",
     "output_type": "stream",
     "text": [
      "training:  24%|██▍       | 220/899 [00:36<01:56,  5.85iteration/s]"
     ]
    },
    {
     "name": "stdout",
     "output_type": "stream",
     "text": [
      "Epoch: 218 \n",
      "Accuracy: -0.3849074061591521\n",
      "Epoch: 219 \n",
      "Accuracy: -0.38572968724946943\n"
     ]
    },
    {
     "name": "stderr",
     "output_type": "stream",
     "text": [
      "training:  25%|██▍       | 222/899 [00:37<01:56,  5.83iteration/s]"
     ]
    },
    {
     "name": "stdout",
     "output_type": "stream",
     "text": [
      "Epoch: 220 \n",
      "Accuracy: -0.38654241747155693\n",
      "Epoch: 221 \n",
      "Accuracy: -0.38734573024338526\n"
     ]
    },
    {
     "name": "stderr",
     "output_type": "stream",
     "text": [
      "training:  25%|██▍       | 224/899 [00:37<01:56,  5.79iteration/s]"
     ]
    },
    {
     "name": "stdout",
     "output_type": "stream",
     "text": [
      "Epoch: 222 \n",
      "Accuracy: -0.38813975705592385\n",
      "Epoch: 223 \n",
      "Accuracy: -0.38892462750117385\n"
     ]
    },
    {
     "name": "stderr",
     "output_type": "stream",
     "text": [
      "training:  25%|██▌       | 226/899 [00:37<01:56,  5.80iteration/s]"
     ]
    },
    {
     "name": "stdout",
     "output_type": "stream",
     "text": [
      "Epoch: 224 \n",
      "Accuracy: -0.3897004692997791\n",
      "Epoch: 225 \n",
      "Accuracy: -0.39046740832824434\n"
     ]
    },
    {
     "name": "stderr",
     "output_type": "stream",
     "text": [
      "training:  25%|██▌       | 227/899 [00:38<01:56,  5.77iteration/s]"
     ]
    },
    {
     "name": "stdout",
     "output_type": "stream",
     "text": [
      "Epoch: 226 \n",
      "Accuracy: -0.39122556864575875\n",
      "Epoch: 227 \n",
      "Accuracy: -0.3919750725206189\n"
     ]
    },
    {
     "name": "stderr",
     "output_type": "stream",
     "text": [
      "training:  26%|██▌       | 230/899 [00:38<02:01,  5.53iteration/s]"
     ]
    },
    {
     "name": "stdout",
     "output_type": "stream",
     "text": [
      "Epoch: 228 \n",
      "Accuracy: -0.39271604045627695\n",
      "Epoch: 229 \n",
      "Accuracy: -0.39344859121700526\n"
     ]
    },
    {
     "name": "stderr",
     "output_type": "stream",
     "text": [
      "training:  26%|██▌       | 232/899 [00:38<01:58,  5.62iteration/s]"
     ]
    },
    {
     "name": "stdout",
     "output_type": "stream",
     "text": [
      "Epoch: 230 \n",
      "Accuracy: -0.39417284185318235\n",
      "Epoch: 231 \n",
      "Accuracy: -0.39488890772621954\n"
     ]
    },
    {
     "name": "stderr",
     "output_type": "stream",
     "text": [
      "training:  26%|██▌       | 234/899 [00:39<01:57,  5.65iteration/s]"
     ]
    },
    {
     "name": "stdout",
     "output_type": "stream",
     "text": [
      "Epoch: 232 \n",
      "Accuracy: -0.39559690253311885\n",
      "Epoch: 233 \n",
      "Accuracy: -0.39629693833067325\n"
     ]
    },
    {
     "name": "stderr",
     "output_type": "stream",
     "text": [
      "training:  26%|██▋       | 236/899 [00:39<01:58,  5.59iteration/s]"
     ]
    },
    {
     "name": "stdout",
     "output_type": "stream",
     "text": [
      "Epoch: 234 \n",
      "Accuracy: -0.39698912555931465\n",
      "Epoch: 235 \n",
      "Accuracy: -0.39767357306661755\n"
     ]
    },
    {
     "name": "stderr",
     "output_type": "stream",
     "text": [
      "training:  26%|██▋       | 237/899 [00:39<01:54,  5.78iteration/s]"
     ]
    },
    {
     "name": "stdout",
     "output_type": "stream",
     "text": [
      "Epoch: 236 \n",
      "Accuracy: -0.3983503881304561\n",
      "Epoch: 237 \n",
      "Accuracy: -0.39901967648182846\n"
     ]
    },
    {
     "name": "stderr",
     "output_type": "stream",
     "text": [
      "training:  27%|██▋       | 240/899 [00:40<02:00,  5.48iteration/s]"
     ]
    },
    {
     "name": "stdout",
     "output_type": "stream",
     "text": [
      "Epoch: 238 \n",
      "Accuracy: -0.3996815423273411\n",
      "Epoch: 239 \n",
      "Accuracy: -0.40033608837137435\n"
     ]
    },
    {
     "name": "stderr",
     "output_type": "stream",
     "text": [
      "training:  27%|██▋       | 242/899 [00:40<01:55,  5.71iteration/s]"
     ]
    },
    {
     "name": "stdout",
     "output_type": "stream",
     "text": [
      "Epoch: 240 \n",
      "Accuracy: -0.40098341583791985\n",
      "Epoch: 241 \n",
      "Accuracy: -0.401623624492098\n"
     ]
    },
    {
     "name": "stderr",
     "output_type": "stream",
     "text": [
      "training:  27%|██▋       | 244/899 [00:41<01:57,  5.58iteration/s]"
     ]
    },
    {
     "name": "stdout",
     "output_type": "stream",
     "text": [
      "Epoch: 242 \n",
      "Accuracy: -0.40225681266137736\n",
      "Epoch: 243 \n",
      "Accuracy: -0.40288307725644923\n"
     ]
    },
    {
     "name": "stderr",
     "output_type": "stream",
     "text": [
      "training:  27%|██▋       | 246/899 [00:41<01:55,  5.65iteration/s]"
     ]
    },
    {
     "name": "stdout",
     "output_type": "stream",
     "text": [
      "Epoch: 244 \n",
      "Accuracy: -0.4035025137918459\n",
      "Epoch: 245 \n",
      "Accuracy: -0.4041152164062193\n"
     ]
    },
    {
     "name": "stderr",
     "output_type": "stream",
     "text": [
      "training:  28%|██▊       | 248/899 [00:41<01:43,  6.31iteration/s]"
     ]
    },
    {
     "name": "stdout",
     "output_type": "stream",
     "text": [
      "Epoch: 246 \n",
      "Accuracy: -0.40472127788234513\n",
      "Epoch: 247 \n",
      "Accuracy: -0.4053207896668255\n"
     ]
    },
    {
     "name": "stderr",
     "output_type": "stream",
     "text": [
      "training:  28%|██▊       | 250/899 [00:42<01:43,  6.25iteration/s]"
     ]
    },
    {
     "name": "stdout",
     "output_type": "stream",
     "text": [
      "Epoch: 248 \n",
      "Accuracy: -0.40591384188951374\n",
      "Epoch: 249 \n",
      "Accuracy: -0.40650052338265164\n"
     ]
    },
    {
     "name": "stderr",
     "output_type": "stream",
     "text": [
      "training:  28%|██▊       | 252/899 [00:42<01:45,  6.15iteration/s]"
     ]
    },
    {
     "name": "stdout",
     "output_type": "stream",
     "text": [
      "Epoch: 250 \n",
      "Accuracy: -0.4070809216997172\n",
      "Epoch: 251 \n",
      "Accuracy: -0.40765512313402297\n"
     ]
    },
    {
     "name": "stderr",
     "output_type": "stream",
     "text": [
      "training:  28%|██▊       | 253/899 [00:42<01:47,  5.99iteration/s]"
     ]
    },
    {
     "name": "stdout",
     "output_type": "stream",
     "text": [
      "Epoch: 252 \n",
      "Accuracy: -0.40822321273701434\n",
      "Epoch: 253 \n",
      "Accuracy: -0.4087852743363266\n"
     ]
    },
    {
     "name": "stderr",
     "output_type": "stream",
     "text": [
      "training:  28%|██▊       | 256/899 [00:43<01:41,  6.35iteration/s]"
     ]
    },
    {
     "name": "stdout",
     "output_type": "stream",
     "text": [
      "Epoch: 254 \n",
      "Accuracy: -0.40934139055356444\n",
      "Epoch: 255 \n",
      "Accuracy: -0.40989164282182167\n"
     ]
    },
    {
     "name": "stderr",
     "output_type": "stream",
     "text": [
      "training:  29%|██▊       | 258/899 [00:43<01:47,  5.98iteration/s]"
     ]
    },
    {
     "name": "stdout",
     "output_type": "stream",
     "text": [
      "Epoch: 256 \n",
      "Accuracy: -0.41043611140296143\n",
      "Epoch: 257 \n",
      "Accuracy: -0.4109748754046204\n"
     ]
    },
    {
     "name": "stderr",
     "output_type": "stream",
     "text": [
      "training:  29%|██▉       | 260/899 [00:43<01:47,  5.97iteration/s]"
     ]
    },
    {
     "name": "stdout",
     "output_type": "stream",
     "text": [
      "Epoch: 258 \n",
      "Accuracy: -0.41150801279698224\n",
      "Epoch: 259 \n",
      "Accuracy: -0.4120356004293103\n"
     ]
    },
    {
     "name": "stderr",
     "output_type": "stream",
     "text": [
      "training:  29%|██▉       | 262/899 [00:44<01:43,  6.15iteration/s]"
     ]
    },
    {
     "name": "stdout",
     "output_type": "stream",
     "text": [
      "Epoch: 260 \n",
      "Accuracy: -0.4125577140462232\n",
      "Epoch: 261 \n",
      "Accuracy: -0.4130744283037474\n"
     ]
    },
    {
     "name": "stderr",
     "output_type": "stream",
     "text": [
      "training:  29%|██▉       | 263/899 [00:44<01:45,  6.01iteration/s]"
     ]
    },
    {
     "name": "stdout",
     "output_type": "stream",
     "text": [
      "Epoch: 262 \n",
      "Accuracy: -0.4135858167851273\n",
      "Epoch: 263 \n",
      "Accuracy: -0.4140919520164109\n"
     ]
    },
    {
     "name": "stderr",
     "output_type": "stream",
     "text": [
      "training:  30%|██▉       | 266/899 [00:44<01:48,  5.81iteration/s]"
     ]
    },
    {
     "name": "stdout",
     "output_type": "stream",
     "text": [
      "Epoch: 264 \n",
      "Accuracy: -0.4145929054818046\n",
      "Epoch: 265 \n",
      "Accuracy: -0.41508874763880776\n"
     ]
    },
    {
     "name": "stderr",
     "output_type": "stream",
     "text": [
      "training:  30%|██▉       | 268/899 [00:45<01:49,  5.79iteration/s]"
     ]
    },
    {
     "name": "stdout",
     "output_type": "stream",
     "text": [
      "Epoch: 266 \n",
      "Accuracy: -0.41557954793312335\n",
      "Epoch: 267 \n",
      "Accuracy: -0.41606537481335526\n"
     ]
    },
    {
     "name": "stderr",
     "output_type": "stream",
     "text": [
      "training:  30%|███       | 270/899 [00:45<01:49,  5.77iteration/s]"
     ]
    },
    {
     "name": "stdout",
     "output_type": "stream",
     "text": [
      "Epoch: 268 \n",
      "Accuracy: -0.41654629574548674\n",
      "Epoch: 269 \n",
      "Accuracy: -0.4170223772271552\n"
     ]
    },
    {
     "name": "stderr",
     "output_type": "stream",
     "text": [
      "training:  30%|███       | 272/899 [00:45<01:48,  5.77iteration/s]"
     ]
    },
    {
     "name": "stdout",
     "output_type": "stream",
     "text": [
      "Epoch: 270 \n",
      "Accuracy: -0.41749368480170734\n",
      "Epoch: 271 \n",
      "Accuracy: -0.4179602830720649\n"
     ]
    },
    {
     "name": "stderr",
     "output_type": "stream",
     "text": [
      "training:  30%|███       | 273/899 [00:45<01:45,  5.92iteration/s]"
     ]
    },
    {
     "name": "stdout",
     "output_type": "stream",
     "text": [
      "Epoch: 272 \n",
      "Accuracy: -0.41842223571437087\n",
      "Epoch: 273 \n",
      "Accuracy: -0.4188796054914602\n"
     ]
    },
    {
     "name": "stderr",
     "output_type": "stream",
     "text": [
      "training:  31%|███       | 276/899 [00:46<01:48,  5.72iteration/s]"
     ]
    },
    {
     "name": "stdout",
     "output_type": "stream",
     "text": [
      "Epoch: 274 \n",
      "Accuracy: -0.41933245426610377\n",
      "Epoch: 275 \n",
      "Accuracy: -0.4197808430140896\n"
     ]
    },
    {
     "name": "stderr",
     "output_type": "stream",
     "text": [
      "training:  31%|███       | 278/899 [00:46<01:48,  5.74iteration/s]"
     ]
    },
    {
     "name": "stdout",
     "output_type": "stream",
     "text": [
      "Epoch: 276 \n",
      "Accuracy: -0.4202248318371008\n",
      "Epoch: 277 \n",
      "Accuracy: -0.42066447997539325\n"
     ]
    },
    {
     "name": "stderr",
     "output_type": "stream",
     "text": [
      "training:  31%|███       | 279/899 [00:47<01:45,  5.90iteration/s]"
     ]
    },
    {
     "name": "stdout",
     "output_type": "stream",
     "text": [
      "Epoch: 278 \n",
      "Accuracy: -0.4210998458203087\n",
      "Epoch: 279 \n",
      "Accuracy: -0.42153098692660096\n"
     ]
    },
    {
     "name": "stderr",
     "output_type": "stream",
     "text": [
      "training:  31%|███▏      | 281/899 [00:47<01:48,  5.71iteration/s]"
     ]
    },
    {
     "name": "stdout",
     "output_type": "stream",
     "text": [
      "Epoch: 280 \n",
      "Accuracy: -0.42195796002457453\n",
      "Epoch: 281 \n",
      "Accuracy: -0.4223808210320571\n"
     ]
    },
    {
     "name": "stderr",
     "output_type": "stream",
     "text": [
      "training:  32%|███▏      | 284/899 [00:47<01:45,  5.81iteration/s]"
     ]
    },
    {
     "name": "stdout",
     "output_type": "stream",
     "text": [
      "Epoch: 282 \n",
      "Accuracy: -0.4227996250661822\n",
      "Epoch: 283 \n",
      "Accuracy: -0.4232144264550225\n"
     ]
    },
    {
     "name": "stderr",
     "output_type": "stream",
     "text": [
      "training:  32%|███▏      | 286/899 [00:48<01:46,  5.75iteration/s]"
     ]
    },
    {
     "name": "stdout",
     "output_type": "stream",
     "text": [
      "Epoch: 284 \n",
      "Accuracy: -0.42362527874903055\n",
      "Epoch: 285 \n",
      "Accuracy: -0.4240322347323292\n"
     ]
    },
    {
     "name": "stderr",
     "output_type": "stream",
     "text": [
      "training:  32%|███▏      | 288/899 [00:48<01:37,  6.24iteration/s]"
     ]
    },
    {
     "name": "stdout",
     "output_type": "stream",
     "text": [
      "Epoch: 286 \n",
      "Accuracy: -0.4244353464338314\n",
      "Epoch: 287 \n",
      "Accuracy: -0.4248346651382028\n"
     ]
    },
    {
     "name": "stderr",
     "output_type": "stream",
     "text": [
      "training:  32%|███▏      | 290/899 [00:48<01:44,  5.85iteration/s]"
     ]
    },
    {
     "name": "stdout",
     "output_type": "stream",
     "text": [
      "Epoch: 288 \n",
      "Accuracy: -0.4252302413966541\n",
      "Epoch: 289 \n",
      "Accuracy: -0.4256221250375841\n"
     ]
    },
    {
     "name": "stderr",
     "output_type": "stream",
     "text": [
      "training:  32%|███▏      | 291/899 [00:49<01:44,  5.80iteration/s]"
     ]
    },
    {
     "name": "stdout",
     "output_type": "stream",
     "text": [
      "Epoch: 290 \n",
      "Accuracy: -0.42601036517707513\n",
      "Epoch: 291 \n",
      "Accuracy: -0.4263950102292159\n"
     ]
    },
    {
     "name": "stderr",
     "output_type": "stream",
     "text": [
      "training:  33%|███▎      | 294/899 [00:49<01:45,  5.75iteration/s]"
     ]
    },
    {
     "name": "stdout",
     "output_type": "stream",
     "text": [
      "Epoch: 292 \n",
      "Accuracy: -0.42677610791628984\n",
      "Epoch: 293 \n",
      "Accuracy: -0.427153705278812\n"
     ]
    },
    {
     "name": "stderr",
     "output_type": "stream",
     "text": [
      "training:  33%|███▎      | 296/899 [00:49<01:45,  5.70iteration/s]"
     ]
    },
    {
     "name": "stdout",
     "output_type": "stream",
     "text": [
      "Epoch: 294 \n",
      "Accuracy: -0.42752784868541915\n",
      "Epoch: 295 \n",
      "Accuracy: -0.4278985838426116\n"
     ]
    },
    {
     "name": "stderr",
     "output_type": "stream",
     "text": [
      "training:  33%|███▎      | 298/899 [00:50<01:43,  5.81iteration/s]"
     ]
    },
    {
     "name": "stdout",
     "output_type": "stream",
     "text": [
      "Epoch: 296 \n",
      "Accuracy: -0.4282659558043599\n",
      "Epoch: 297 \n",
      "Accuracy: -0.42863000898156856\n"
     ]
    },
    {
     "name": "stderr",
     "output_type": "stream",
     "text": [
      "training:  33%|███▎      | 300/899 [00:50<01:46,  5.64iteration/s]"
     ]
    },
    {
     "name": "stdout",
     "output_type": "stream",
     "text": [
      "Epoch: 298 \n",
      "Accuracy: -0.42899078715140215\n",
      "Epoch: 299 \n",
      "Accuracy: -0.42934833346646817\n"
     ]
    },
    {
     "name": "stderr",
     "output_type": "stream",
     "text": [
      "training:  33%|███▎      | 301/899 [00:50<01:45,  5.65iteration/s]"
     ]
    },
    {
     "name": "stdout",
     "output_type": "stream",
     "text": [
      "Epoch: 300 \n",
      "Accuracy: -0.4297026904638871\n",
      "Epoch: 301 \n",
      "Accuracy: -0.43005390007420796\n"
     ]
    },
    {
     "name": "stderr",
     "output_type": "stream",
     "text": [
      "training:  34%|███▎      | 303/899 [00:51<01:47,  5.56iteration/s]"
     ]
    },
    {
     "name": "stdout",
     "output_type": "stream",
     "text": [
      "Epoch: 302 \n",
      "Accuracy: -0.43040200363020265\n",
      "Epoch: 303 \n",
      "Accuracy: -0.43074704187553625\n"
     ]
    },
    {
     "name": "stderr",
     "output_type": "stream",
     "text": [
      "training:  34%|███▍      | 306/899 [00:51<01:42,  5.76iteration/s]"
     ]
    },
    {
     "name": "stdout",
     "output_type": "stream",
     "text": [
      "Epoch: 304 \n",
      "Accuracy: -0.4310890549733096\n",
      "Epoch: 305 \n",
      "Accuracy: -0.4314280825144642\n"
     ]
    },
    {
     "name": "stderr",
     "output_type": "stream",
     "text": [
      "training:  34%|███▍      | 308/899 [00:52<01:43,  5.73iteration/s]"
     ]
    },
    {
     "name": "stdout",
     "output_type": "stream",
     "text": [
      "Epoch: 306 \n",
      "Accuracy: -0.4317641635260888\n",
      "Epoch: 307 \n",
      "Accuracy: -0.43209733647958737\n"
     ]
    },
    {
     "name": "stderr",
     "output_type": "stream",
     "text": [
      "training:  34%|███▍      | 310/899 [00:52<01:43,  5.70iteration/s]"
     ]
    },
    {
     "name": "stdout",
     "output_type": "stream",
     "text": [
      "Epoch: 308 \n",
      "Accuracy: -0.4324276392987353\n",
      "Epoch: 309 \n",
      "Accuracy: -0.43275510936760486\n"
     ]
    },
    {
     "name": "stderr",
     "output_type": "stream",
     "text": [
      "training:  35%|███▍      | 312/899 [00:52<01:43,  5.69iteration/s]"
     ]
    },
    {
     "name": "stdout",
     "output_type": "stream",
     "text": [
      "Epoch: 310 \n",
      "Accuracy: -0.4330797835384069\n",
      "Epoch: 311 \n",
      "Accuracy: -0.4334016981391816\n"
     ]
    },
    {
     "name": "stderr",
     "output_type": "stream",
     "text": [
      "training:  35%|███▍      | 314/899 [00:53<01:38,  5.92iteration/s]"
     ]
    },
    {
     "name": "stdout",
     "output_type": "stream",
     "text": [
      "Epoch: 312 \n",
      "Accuracy: -0.43372088898139516\n",
      "Epoch: 313 \n",
      "Accuracy: -0.43403739136743036\n"
     ]
    },
    {
     "name": "stderr",
     "output_type": "stream",
     "text": [
      "training:  35%|███▌      | 316/899 [00:53<01:40,  5.80iteration/s]"
     ]
    },
    {
     "name": "stdout",
     "output_type": "stream",
     "text": [
      "Epoch: 314 \n",
      "Accuracy: -0.4343512400979629\n",
      "Epoch: 315 \n",
      "Accuracy: -0.4346624694792257\n"
     ]
    },
    {
     "name": "stderr",
     "output_type": "stream",
     "text": [
      "training:  35%|███▌      | 318/899 [00:53<01:41,  5.75iteration/s]"
     ]
    },
    {
     "name": "stdout",
     "output_type": "stream",
     "text": [
      "Epoch: 316 \n",
      "Accuracy: -0.4349711133301707\n",
      "Epoch: 317 \n",
      "Accuracy: -0.43527720498953515\n"
     ]
    },
    {
     "name": "stderr",
     "output_type": "stream",
     "text": [
      "training:  36%|███▌      | 320/899 [00:54<01:38,  5.87iteration/s]"
     ]
    },
    {
     "name": "stdout",
     "output_type": "stream",
     "text": [
      "Epoch: 318 \n",
      "Accuracy: -0.4355807773227859\n",
      "Epoch: 319 \n",
      "Accuracy: -0.43588186272898033\n"
     ]
    },
    {
     "name": "stderr",
     "output_type": "stream",
     "text": [
      "training:  36%|███▌      | 322/899 [00:54<01:39,  5.78iteration/s]"
     ]
    },
    {
     "name": "stdout",
     "output_type": "stream",
     "text": [
      "Epoch: 320 \n",
      "Accuracy: -0.4361804931475223\n",
      "Epoch: 321 \n",
      "Accuracy: -0.436476700064811\n"
     ]
    },
    {
     "name": "stderr",
     "output_type": "stream",
     "text": [
      "training:  36%|███▌      | 324/899 [00:54<01:40,  5.73iteration/s]"
     ]
    },
    {
     "name": "stdout",
     "output_type": "stream",
     "text": [
      "Epoch: 322 \n",
      "Accuracy: -0.43677051452081017\n",
      "Epoch: 323 \n",
      "Accuracy: -0.43706196711551104\n"
     ]
    },
    {
     "name": "stderr",
     "output_type": "stream",
     "text": [
      "training:  36%|███▋      | 326/899 [00:55<01:40,  5.72iteration/s]"
     ]
    },
    {
     "name": "stdout",
     "output_type": "stream",
     "text": [
      "Epoch: 324 \n",
      "Accuracy: -0.4373510880152901\n",
      "Epoch: 325 \n",
      "Accuracy: -0.4376379069591997\n"
     ]
    },
    {
     "name": "stderr",
     "output_type": "stream",
     "text": [
      "training:  36%|███▋      | 328/899 [00:55<01:37,  5.87iteration/s]"
     ]
    },
    {
     "name": "stdout",
     "output_type": "stream",
     "text": [
      "Epoch: 326 \n",
      "Accuracy: -0.43792245326515145\n",
      "Epoch: 327 \n",
      "Accuracy: -0.43820475583600726\n"
     ]
    },
    {
     "name": "stderr",
     "output_type": "stream",
     "text": [
      "training:  37%|███▋      | 330/899 [00:55<01:39,  5.73iteration/s]"
     ]
    },
    {
     "name": "stdout",
     "output_type": "stream",
     "text": [
      "Epoch: 328 \n",
      "Accuracy: -0.4384848431655902\n",
      "Epoch: 329 \n",
      "Accuracy: -0.4387627433446014\n"
     ]
    },
    {
     "name": "stderr",
     "output_type": "stream",
     "text": [
      "training:  37%|███▋      | 332/899 [00:56<01:38,  5.76iteration/s]"
     ]
    },
    {
     "name": "stdout",
     "output_type": "stream",
     "text": [
      "Epoch: 330 \n",
      "Accuracy: -0.43903848406646306\n",
      "Epoch: 331 \n",
      "Accuracy: -0.43931209263305326\n"
     ]
    },
    {
     "name": "stderr",
     "output_type": "stream",
     "text": [
      "training:  37%|███▋      | 334/899 [00:56<01:39,  5.68iteration/s]"
     ]
    },
    {
     "name": "stdout",
     "output_type": "stream",
     "text": [
      "Epoch: 332 \n",
      "Accuracy: -0.439583595960381\n",
      "Epoch: 333 \n",
      "Accuracy: -0.4398530205841643\n"
     ]
    },
    {
     "name": "stderr",
     "output_type": "stream",
     "text": [
      "training:  37%|███▋      | 335/899 [00:56<01:39,  5.68iteration/s]"
     ]
    },
    {
     "name": "stdout",
     "output_type": "stream",
     "text": [
      "Epoch: 334 \n",
      "Accuracy: -0.4401203926653371\n",
      "Epoch: 335 \n",
      "Accuracy: -0.44038573799546266\n"
     ]
    },
    {
     "name": "stderr",
     "output_type": "stream",
     "text": [
      "training:  38%|███▊      | 338/899 [00:57<01:34,  5.92iteration/s]"
     ]
    },
    {
     "name": "stdout",
     "output_type": "stream",
     "text": [
      "Epoch: 336 \n",
      "Accuracy: -0.4406490820020844\n",
      "Epoch: 337 \n",
      "Accuracy: -0.44091044975398097\n"
     ]
    },
    {
     "name": "stderr",
     "output_type": "stream",
     "text": [
      "training:  38%|███▊      | 339/899 [00:57<01:35,  5.86iteration/s]"
     ]
    },
    {
     "name": "stdout",
     "output_type": "stream",
     "text": [
      "Epoch: 338 \n",
      "Accuracy: -0.4411698659663662\n",
      "Epoch: 339 \n",
      "Accuracy: -0.4414273550059927\n"
     ]
    },
    {
     "name": "stderr",
     "output_type": "stream",
     "text": [
      "training:  38%|███▊      | 341/899 [00:57<01:36,  5.81iteration/s]"
     ]
    },
    {
     "name": "stdout",
     "output_type": "stream",
     "text": [
      "Epoch: 340 \n",
      "Accuracy: -0.441682940896199\n",
      "Epoch: 341 \n",
      "Accuracy: -0.441936647321863\n"
     ]
    },
    {
     "name": "stderr",
     "output_type": "stream",
     "text": [
      "training:  38%|███▊      | 344/899 [00:58<01:35,  5.81iteration/s]"
     ]
    },
    {
     "name": "stdout",
     "output_type": "stream",
     "text": [
      "Epoch: 342 \n",
      "Accuracy: -0.4421884976343061\n",
      "Epoch: 343 \n",
      "Accuracy: -0.44243851485610797\n"
     ]
    },
    {
     "name": "stderr",
     "output_type": "stream",
     "text": [
      "training:  38%|███▊      | 346/899 [00:58<01:34,  5.88iteration/s]"
     ]
    },
    {
     "name": "stdout",
     "output_type": "stream",
     "text": [
      "Epoch: 344 \n",
      "Accuracy: -0.4426867216858609\n",
      "Epoch: 345 \n",
      "Accuracy: -0.4429331405028557\n"
     ]
    },
    {
     "name": "stderr",
     "output_type": "stream",
     "text": [
      "training:  39%|███▊      | 348/899 [00:58<01:29,  6.19iteration/s]"
     ]
    },
    {
     "name": "stdout",
     "output_type": "stream",
     "text": [
      "Epoch: 346 \n",
      "Accuracy: -0.44317779337168284\n",
      "Epoch: 347 \n",
      "Accuracy: -0.4434207020468005\n"
     ]
    },
    {
     "name": "stderr",
     "output_type": "stream",
     "text": [
      "training:  39%|███▉      | 350/899 [00:59<01:31,  6.00iteration/s]"
     ]
    },
    {
     "name": "stdout",
     "output_type": "stream",
     "text": [
      "Epoch: 348 \n",
      "Accuracy: -0.4436618879769988\n",
      "Epoch: 349 \n",
      "Accuracy: -0.4439013723098201\n"
     ]
    },
    {
     "name": "stderr",
     "output_type": "stream",
     "text": [
      "training:  39%|███▉      | 352/899 [00:59<01:33,  5.84iteration/s]"
     ]
    },
    {
     "name": "stdout",
     "output_type": "stream",
     "text": [
      "Epoch: 350 \n",
      "Accuracy: -0.4441391758959147\n",
      "Epoch: 351 \n",
      "Accuracy: -0.4443753192933245\n"
     ]
    },
    {
     "name": "stderr",
     "output_type": "stream",
     "text": [
      "training:  39%|███▉      | 354/899 [00:59<01:30,  5.99iteration/s]"
     ]
    },
    {
     "name": "stdout",
     "output_type": "stream",
     "text": [
      "Epoch: 352 \n",
      "Accuracy: -0.4446098227717147\n",
      "Epoch: 353 \n",
      "Accuracy: -0.44484270631652956\n"
     ]
    },
    {
     "name": "stderr",
     "output_type": "stream",
     "text": [
      "training:  39%|███▉      | 355/899 [01:00<01:29,  6.10iteration/s]"
     ]
    },
    {
     "name": "stdout",
     "output_type": "stream",
     "text": [
      "Epoch: 354 \n",
      "Accuracy: -0.44507398963310496\n"
     ]
    },
    {
     "name": "stderr",
     "output_type": "stream",
     "text": [
      "training:  40%|███▉      | 356/899 [01:00<01:38,  5.51iteration/s]"
     ]
    },
    {
     "name": "stdout",
     "output_type": "stream",
     "text": [
      "Epoch: 355 \n",
      "Accuracy: -0.4453036921507144\n"
     ]
    },
    {
     "name": "stderr",
     "output_type": "stream",
     "text": [
      "training:  40%|███▉      | 357/899 [01:00<01:47,  5.03iteration/s]"
     ]
    },
    {
     "name": "stdout",
     "output_type": "stream",
     "text": [
      "Epoch: 356 \n",
      "Accuracy: -0.4455318330265393\n",
      "Epoch: 357 \n",
      "Accuracy: -0.4457584311496158\n"
     ]
    },
    {
     "name": "stderr",
     "output_type": "stream",
     "text": [
      "training:  40%|███▉      | 359/899 [01:00<01:41,  5.32iteration/s]"
     ]
    },
    {
     "name": "stdout",
     "output_type": "stream",
     "text": [
      "Epoch: 358 \n",
      "Accuracy: -0.4459835051446973\n",
      "Epoch: 359 \n",
      "Accuracy: -0.4462070733760607\n"
     ]
    },
    {
     "name": "stderr",
     "output_type": "stream",
     "text": [
      "training:  40%|████      | 362/899 [01:01<01:36,  5.54iteration/s]"
     ]
    },
    {
     "name": "stdout",
     "output_type": "stream",
     "text": [
      "Epoch: 360 \n",
      "Accuracy: -0.4464291539512816\n",
      "Epoch: 361 \n",
      "Accuracy: -0.44664976472491935\n"
     ]
    },
    {
     "name": "stderr",
     "output_type": "stream",
     "text": [
      "training:  40%|████      | 363/899 [01:01<01:35,  5.59iteration/s]"
     ]
    },
    {
     "name": "stdout",
     "output_type": "stream",
     "text": [
      "Epoch: 362 \n",
      "Accuracy: -0.4468689233021862\n",
      "Epoch: 363 \n",
      "Accuracy: -0.4470866470425322\n"
     ]
    },
    {
     "name": "stderr",
     "output_type": "stream",
     "text": [
      "training:  41%|████      | 366/899 [01:02<01:34,  5.66iteration/s]"
     ]
    },
    {
     "name": "stdout",
     "output_type": "stream",
     "text": [
      "Epoch: 364 \n",
      "Accuracy: -0.44730295306319434\n",
      "Epoch: 365 \n",
      "Accuracy: -0.4475178582426903\n"
     ]
    },
    {
     "name": "stderr",
     "output_type": "stream",
     "text": [
      "training:  41%|████      | 368/899 [01:02<01:33,  5.69iteration/s]"
     ]
    },
    {
     "name": "stdout",
     "output_type": "stream",
     "text": [
      "Epoch: 366 \n",
      "Accuracy: -0.4477313792242591\n",
      "Epoch: 367 \n",
      "Accuracy: -0.4479435324192539\n"
     ]
    },
    {
     "name": "stderr",
     "output_type": "stream",
     "text": [
      "training:  41%|████      | 370/899 [01:02<01:34,  5.59iteration/s]"
     ]
    },
    {
     "name": "stdout",
     "output_type": "stream",
     "text": [
      "Epoch: 368 \n",
      "Accuracy: -0.44815433401048577\n",
      "Epoch: 369 \n",
      "Accuracy: -0.44836379995552067\n"
     ]
    },
    {
     "name": "stderr",
     "output_type": "stream",
     "text": [
      "training:  41%|████▏     | 372/899 [01:03<01:28,  5.98iteration/s]"
     ]
    },
    {
     "name": "stdout",
     "output_type": "stream",
     "text": [
      "Epoch: 370 \n",
      "Accuracy: -0.44857194598992456\n",
      "Epoch: 371 \n",
      "Accuracy: -0.4487787876304582\n"
     ]
    },
    {
     "name": "stderr",
     "output_type": "stream",
     "text": [
      "training:  41%|████▏     | 373/899 [01:03<01:29,  5.88iteration/s]"
     ]
    },
    {
     "name": "stdout",
     "output_type": "stream",
     "text": [
      "Epoch: 372 \n",
      "Accuracy: -0.44898434017823885\n",
      "Epoch: 373 \n",
      "Accuracy: -0.44918861872184\n"
     ]
    },
    {
     "name": "stderr",
     "output_type": "stream",
     "text": [
      "training:  42%|████▏     | 376/899 [01:03<01:30,  5.76iteration/s]"
     ]
    },
    {
     "name": "stdout",
     "output_type": "stream",
     "text": [
      "Epoch: 374 \n",
      "Accuracy: -0.4493916381403601\n",
      "Epoch: 375 \n",
      "Accuracy: -0.4495934131064324\n"
     ]
    },
    {
     "name": "stderr",
     "output_type": "stream",
     "text": [
      "training:  42%|████▏     | 378/899 [01:04<01:14,  7.04iteration/s]"
     ]
    },
    {
     "name": "stdout",
     "output_type": "stream",
     "text": [
      "Epoch: 376 \n",
      "Accuracy: -0.4497939580892104\n",
      "Epoch: 377 \n",
      "Accuracy: -0.44999328735728195\n"
     ]
    },
    {
     "name": "stderr",
     "output_type": "stream",
     "text": [
      "training:  42%|████▏     | 380/899 [01:04<01:21,  6.38iteration/s]"
     ]
    },
    {
     "name": "stdout",
     "output_type": "stream",
     "text": [
      "Epoch: 378 \n",
      "Accuracy: -0.45019141498157256\n",
      "Epoch: 379 \n",
      "Accuracy: -0.4503883548381823\n"
     ]
    },
    {
     "name": "stderr",
     "output_type": "stream",
     "text": [
      "training:  42%|████▏     | 382/899 [01:04<01:25,  6.05iteration/s]"
     ]
    },
    {
     "name": "stdout",
     "output_type": "stream",
     "text": [
      "Epoch: 380 \n",
      "Accuracy: -0.4505841206111928\n",
      "Epoch: 381 \n",
      "Accuracy: -0.4507787257954342\n"
     ]
    },
    {
     "name": "stderr",
     "output_type": "stream",
     "text": [
      "training:  43%|████▎     | 384/899 [01:05<01:29,  5.77iteration/s]"
     ]
    },
    {
     "name": "stdout",
     "output_type": "stream",
     "text": [
      "Epoch: 382 \n",
      "Accuracy: -0.4509721836992001\n",
      "Epoch: 383 \n",
      "Accuracy: -0.45116450744694647\n"
     ]
    },
    {
     "name": "stderr",
     "output_type": "stream",
     "text": [
      "training:  43%|████▎     | 386/899 [01:05<01:30,  5.64iteration/s]"
     ]
    },
    {
     "name": "stdout",
     "output_type": "stream",
     "text": [
      "Epoch: 384 \n",
      "Accuracy: -0.45135570998192\n",
      "Epoch: 385 \n",
      "Accuracy: -0.45154580406877887\n"
     ]
    },
    {
     "name": "stderr",
     "output_type": "stream",
     "text": [
      "training:  43%|████▎     | 387/899 [01:05<01:28,  5.81iteration/s]"
     ]
    },
    {
     "name": "stdout",
     "output_type": "stream",
     "text": [
      "Epoch: 386 \n",
      "Accuracy: -0.4517348022961504\n",
      "Epoch: 387 \n",
      "Accuracy: -0.45192271707917164\n"
     ]
    },
    {
     "name": "stderr",
     "output_type": "stream",
     "text": [
      "training:  43%|████▎     | 390/899 [01:06<01:29,  5.67iteration/s]"
     ]
    },
    {
     "name": "stdout",
     "output_type": "stream",
     "text": [
      "Epoch: 388 \n",
      "Accuracy: -0.4521095606619784\n",
      "Epoch: 389 \n",
      "Accuracy: -0.4522953451201658\n"
     ]
    },
    {
     "name": "stderr",
     "output_type": "stream",
     "text": [
      "training:  43%|████▎     | 391/899 [01:06<01:29,  5.67iteration/s]"
     ]
    },
    {
     "name": "stdout",
     "output_type": "stream",
     "text": [
      "Epoch: 390 \n",
      "Accuracy: -0.45248008236320925\n",
      "Epoch: 391 \n",
      "Accuracy: -0.45266378413685715\n"
     ]
    },
    {
     "name": "stderr",
     "output_type": "stream",
     "text": [
      "training:  44%|████▍     | 394/899 [01:06<01:31,  5.51iteration/s]"
     ]
    },
    {
     "name": "stdout",
     "output_type": "stream",
     "text": [
      "Epoch: 392 \n",
      "Accuracy: -0.45284646202547785\n",
      "Epoch: 393 \n",
      "Accuracy: -0.4530281274543816\n"
     ]
    },
    {
     "name": "stderr",
     "output_type": "stream",
     "text": [
      "training:  44%|████▍     | 395/899 [01:07<01:25,  5.88iteration/s]"
     ]
    },
    {
     "name": "stdout",
     "output_type": "stream",
     "text": [
      "Epoch: 394 \n",
      "Accuracy: -0.45320879169210626\n",
      "Epoch: 395 \n",
      "Accuracy: -0.4533884658526647\n"
     ]
    },
    {
     "name": "stderr",
     "output_type": "stream",
     "text": [
      "training:  44%|████▍     | 398/899 [01:07<01:24,  5.93iteration/s]"
     ]
    },
    {
     "name": "stdout",
     "output_type": "stream",
     "text": [
      "Epoch: 396 \n",
      "Accuracy: -0.45356716089776905\n",
      "Epoch: 397 \n",
      "Accuracy: -0.4537448876390172\n"
     ]
    },
    {
     "name": "stderr",
     "output_type": "stream",
     "text": [
      "training:  44%|████▍     | 400/899 [01:07<01:25,  5.81iteration/s]"
     ]
    },
    {
     "name": "stdout",
     "output_type": "stream",
     "text": [
      "Epoch: 398 \n",
      "Accuracy: -0.4539216567400436\n",
      "Epoch: 399 \n",
      "Accuracy: -0.4540974787186488\n"
     ]
    },
    {
     "name": "stderr",
     "output_type": "stream",
     "text": [
      "training:  45%|████▍     | 402/899 [01:08<01:26,  5.76iteration/s]"
     ]
    },
    {
     "name": "stdout",
     "output_type": "stream",
     "text": [
      "Epoch: 400 \n",
      "Accuracy: -0.4542723639488916\n",
      "Epoch: 401 \n",
      "Accuracy: -0.4544463226631418\n"
     ]
    },
    {
     "name": "stderr",
     "output_type": "stream",
     "text": [
      "training:  45%|████▍     | 404/899 [01:08<01:26,  5.73iteration/s]"
     ]
    },
    {
     "name": "stdout",
     "output_type": "stream",
     "text": [
      "Epoch: 402 \n",
      "Accuracy: -0.4546193649541318\n",
      "Epoch: 403 \n",
      "Accuracy: -0.45479150077694286\n"
     ]
    },
    {
     "name": "stderr",
     "output_type": "stream",
     "text": [
      "training:  45%|████▌     | 405/899 [01:08<01:28,  5.58iteration/s]"
     ]
    },
    {
     "name": "stdout",
     "output_type": "stream",
     "text": [
      "Epoch: 404 \n",
      "Accuracy: -0.4549627399509878\n",
      "Epoch: 405 \n",
      "Accuracy: -0.4551330921619564\n"
     ]
    },
    {
     "name": "stderr",
     "output_type": "stream",
     "text": [
      "training:  45%|████▌     | 408/899 [01:09<01:15,  6.51iteration/s]"
     ]
    },
    {
     "name": "stdout",
     "output_type": "stream",
     "text": [
      "Epoch: 406 \n",
      "Accuracy: -0.45530256696372706\n",
      "Epoch: 407 \n",
      "Accuracy: -0.45547117378026025\n"
     ]
    },
    {
     "name": "stderr",
     "output_type": "stream",
     "text": [
      "training:  46%|████▌     | 410/899 [01:09<01:15,  6.46iteration/s]"
     ]
    },
    {
     "name": "stdout",
     "output_type": "stream",
     "text": [
      "Epoch: 408 \n",
      "Accuracy: -0.4556389219074618\n",
      "Epoch: 409 \n",
      "Accuracy: -0.4558058205150176\n"
     ]
    },
    {
     "name": "stderr",
     "output_type": "stream",
     "text": [
      "training:  46%|████▌     | 412/899 [01:09<01:20,  6.05iteration/s]"
     ]
    },
    {
     "name": "stdout",
     "output_type": "stream",
     "text": [
      "Epoch: 410 \n",
      "Accuracy: -0.4559718786481973\n",
      "Epoch: 411 \n",
      "Accuracy: -0.4561371052296409\n"
     ]
    },
    {
     "name": "stderr",
     "output_type": "stream",
     "text": [
      "training:  46%|████▌     | 414/899 [01:10<01:24,  5.76iteration/s]"
     ]
    },
    {
     "name": "stdout",
     "output_type": "stream",
     "text": [
      "Epoch: 412 \n",
      "Accuracy: -0.4563015090611172\n",
      "Epoch: 413 \n",
      "Accuracy: -0.4564650988252489\n"
     ]
    },
    {
     "name": "stderr",
     "output_type": "stream",
     "text": [
      "training:  46%|████▌     | 415/899 [01:10<01:24,  5.74iteration/s]"
     ]
    },
    {
     "name": "stdout",
     "output_type": "stream",
     "text": [
      "Epoch: 414 \n",
      "Accuracy: -0.4566278830872187\n",
      "Epoch: 415 \n",
      "Accuracy: -0.4567898702964571\n"
     ]
    },
    {
     "name": "stderr",
     "output_type": "stream",
     "text": [
      "training:  46%|████▋     | 418/899 [01:11<01:25,  5.64iteration/s]"
     ]
    },
    {
     "name": "stdout",
     "output_type": "stream",
     "text": [
      "Epoch: 416 \n",
      "Accuracy: -0.45695106878828573\n",
      "Epoch: 417 \n",
      "Accuracy: -0.4571114867855687\n"
     ]
    },
    {
     "name": "stderr",
     "output_type": "stream",
     "text": [
      "training:  47%|████▋     | 420/899 [01:11<01:23,  5.72iteration/s]"
     ]
    },
    {
     "name": "stdout",
     "output_type": "stream",
     "text": [
      "Epoch: 418 \n",
      "Accuracy: -0.4572711324003028\n",
      "Epoch: 419 \n",
      "Accuracy: -0.4574300136352153\n"
     ]
    },
    {
     "name": "stderr",
     "output_type": "stream",
     "text": [
      "training:  47%|████▋     | 422/899 [01:11<01:11,  6.65iteration/s]"
     ]
    },
    {
     "name": "stdout",
     "output_type": "stream",
     "text": [
      "Epoch: 420 \n",
      "Accuracy: -0.457588138385321\n",
      "Epoch: 421 \n",
      "Accuracy: -0.4577455144394592\n"
     ]
    },
    {
     "name": "stderr",
     "output_type": "stream",
     "text": [
      "training:  47%|████▋     | 423/899 [01:11<01:13,  6.50iteration/s]"
     ]
    },
    {
     "name": "stdout",
     "output_type": "stream",
     "text": [
      "Epoch: 422 \n",
      "Accuracy: -0.45790214948182506\n",
      "Epoch: 423 \n",
      "Accuracy: -0.45805805109344677\n"
     ]
    },
    {
     "name": "stderr",
     "output_type": "stream",
     "text": [
      "training:  47%|████▋     | 426/899 [01:12<01:03,  7.49iteration/s]"
     ]
    },
    {
     "name": "stdout",
     "output_type": "stream",
     "text": [
      "Epoch: 424 \n",
      "Accuracy: -0.45821322675367016\n",
      "Epoch: 425 \n",
      "Accuracy: -0.45836768384160786\n"
     ]
    },
    {
     "name": "stderr",
     "output_type": "stream",
     "text": [
      "training:  48%|████▊     | 428/899 [01:12<01:12,  6.53iteration/s]"
     ]
    },
    {
     "name": "stdout",
     "output_type": "stream",
     "text": [
      "Epoch: 426 \n",
      "Accuracy: -0.45852142963757736\n",
      "Epoch: 427 \n",
      "Accuracy: -0.458674471324498\n"
     ]
    },
    {
     "name": "stderr",
     "output_type": "stream",
     "text": [
      "training:  48%|████▊     | 430/899 [01:12<01:15,  6.17iteration/s]"
     ]
    },
    {
     "name": "stdout",
     "output_type": "stream",
     "text": [
      "Epoch: 428 \n",
      "Accuracy: -0.4588268159892933\n",
      "Epoch: 429 \n",
      "Accuracy: -0.458978470624254\n"
     ]
    },
    {
     "name": "stderr",
     "output_type": "stream",
     "text": [
      "training:  48%|████▊     | 432/899 [01:13<01:20,  5.82iteration/s]"
     ]
    },
    {
     "name": "stdout",
     "output_type": "stream",
     "text": [
      "Epoch: 430 \n",
      "Accuracy: -0.4591294421283957\n",
      "Epoch: 431 \n",
      "Accuracy: -0.4592797373087799\n"
     ]
    },
    {
     "name": "stderr",
     "output_type": "stream",
     "text": [
      "training:  48%|████▊     | 434/899 [01:13<01:19,  5.82iteration/s]"
     ]
    },
    {
     "name": "stdout",
     "output_type": "stream",
     "text": [
      "Epoch: 432 \n",
      "Accuracy: -0.4594293628818332\n",
      "Epoch: 433 \n",
      "Accuracy: -0.4595783254746334\n"
     ]
    },
    {
     "name": "stderr",
     "output_type": "stream",
     "text": [
      "training:  48%|████▊     | 435/899 [01:13<01:15,  6.11iteration/s]"
     ]
    },
    {
     "name": "stdout",
     "output_type": "stream",
     "text": [
      "Epoch: 434 \n",
      "Accuracy: -0.45972663162618843\n",
      "Epoch: 435 \n",
      "Accuracy: -0.45987428778868666\n"
     ]
    },
    {
     "name": "stderr",
     "output_type": "stream",
     "text": [
      "training:  49%|████▊     | 438/899 [01:14<01:19,  5.80iteration/s]"
     ]
    },
    {
     "name": "stdout",
     "output_type": "stream",
     "text": [
      "Epoch: 436 \n",
      "Accuracy: -0.4600213003287398\n",
      "Epoch: 437 \n",
      "Accuracy: -0.46016767552859605\n"
     ]
    },
    {
     "name": "stderr",
     "output_type": "stream",
     "text": [
      "training:  49%|████▉     | 439/899 [01:14<01:18,  5.83iteration/s]"
     ]
    },
    {
     "name": "stdout",
     "output_type": "stream",
     "text": [
      "Epoch: 438 \n",
      "Accuracy: -0.4603134195873416\n",
      "Epoch: 439 \n",
      "Accuracy: -0.46045853862209085\n"
     ]
    },
    {
     "name": "stderr",
     "output_type": "stream",
     "text": [
      "training:  49%|████▉     | 442/899 [01:14<01:18,  5.79iteration/s]"
     ]
    },
    {
     "name": "stdout",
     "output_type": "stream",
     "text": [
      "Epoch: 440 \n",
      "Accuracy: -0.4606030386691454\n",
      "Epoch: 441 \n",
      "Accuracy: -0.4607469256851483\n"
     ]
    },
    {
     "name": "stderr",
     "output_type": "stream",
     "text": [
      "training:  49%|████▉     | 444/899 [01:15<01:16,  5.98iteration/s]"
     ]
    },
    {
     "name": "stdout",
     "output_type": "stream",
     "text": [
      "Epoch: 442 \n",
      "Accuracy: -0.46089020554822013\n",
      "Epoch: 443 \n",
      "Accuracy: -0.4610328840590646\n"
     ]
    },
    {
     "name": "stderr",
     "output_type": "stream",
     "text": [
      "training:  49%|████▉     | 445/899 [01:15<01:14,  6.07iteration/s]"
     ]
    },
    {
     "name": "stdout",
     "output_type": "stream",
     "text": [
      "Epoch: 444 \n",
      "Accuracy: -0.46117496694208515\n",
      "Epoch: 445 \n",
      "Accuracy: -0.46131645984645486\n"
     ]
    },
    {
     "name": "stderr",
     "output_type": "stream",
     "text": [
      "training:  50%|████▉     | 448/899 [01:15<01:15,  6.01iteration/s]"
     ]
    },
    {
     "name": "stdout",
     "output_type": "stream",
     "text": [
      "Epoch: 446 \n",
      "Accuracy: -0.4614573683471904\n",
      "Epoch: 447 \n",
      "Accuracy: -0.4615976979462125\n"
     ]
    },
    {
     "name": "stderr",
     "output_type": "stream",
     "text": [
      "training:  50%|█████     | 450/899 [01:16<01:16,  5.86iteration/s]"
     ]
    },
    {
     "name": "stdout",
     "output_type": "stream",
     "text": [
      "Epoch: 448 \n",
      "Accuracy: -0.46173745407337485\n",
      "Epoch: 449 \n",
      "Accuracy: -0.4618766420874919\n"
     ]
    },
    {
     "name": "stderr",
     "output_type": "stream",
     "text": [
      "training:  50%|█████     | 452/899 [01:16<01:18,  5.67iteration/s]"
     ]
    },
    {
     "name": "stdout",
     "output_type": "stream",
     "text": [
      "Epoch: 450 \n",
      "Accuracy: -0.46201526727734643\n",
      "Epoch: 451 \n",
      "Accuracy: -0.46215333486268173\n"
     ]
    },
    {
     "name": "stderr",
     "output_type": "stream",
     "text": [
      "training:  50%|█████     | 453/899 [01:16<01:18,  5.69iteration/s]"
     ]
    },
    {
     "name": "stdout",
     "output_type": "stream",
     "text": [
      "Epoch: 452 \n",
      "Accuracy: -0.4622908499951849\n",
      "Epoch: 453 \n",
      "Accuracy: -0.46242781775944397\n"
     ]
    },
    {
     "name": "stderr",
     "output_type": "stream",
     "text": [
      "training:  51%|█████     | 456/899 [01:17<01:16,  5.82iteration/s]"
     ]
    },
    {
     "name": "stdout",
     "output_type": "stream",
     "text": [
      "Epoch: 454 \n",
      "Accuracy: -0.46256424317391087\n",
      "Epoch: 455 \n",
      "Accuracy: -0.4627001311918334\n"
     ]
    },
    {
     "name": "stderr",
     "output_type": "stream",
     "text": [
      "training:  51%|█████     | 458/899 [01:17<01:16,  5.74iteration/s]"
     ]
    },
    {
     "name": "stdout",
     "output_type": "stream",
     "text": [
      "Epoch: 456 \n",
      "Accuracy: -0.4628354867021719\n",
      "Epoch: 457 \n",
      "Accuracy: -0.46297031453052007\n"
     ]
    },
    {
     "name": "stderr",
     "output_type": "stream",
     "text": [
      "training:  51%|█████     | 460/899 [01:18<01:16,  5.72iteration/s]"
     ]
    },
    {
     "name": "stdout",
     "output_type": "stream",
     "text": [
      "Epoch: 458 \n",
      "Accuracy: -0.46310461944000136\n",
      "Epoch: 459 \n",
      "Accuracy: -0.4632384061321496\n"
     ]
    },
    {
     "name": "stderr",
     "output_type": "stream",
     "text": [
      "training:  51%|█████▏    | 462/899 [01:18<01:16,  5.71iteration/s]"
     ]
    },
    {
     "name": "stdout",
     "output_type": "stream",
     "text": [
      "Epoch: 460 \n",
      "Accuracy: -0.4633716792477752\n",
      "Epoch: 461 \n",
      "Accuracy: -0.4635044433678418\n"
     ]
    },
    {
     "name": "stderr",
     "output_type": "stream",
     "text": [
      "training:  52%|█████▏    | 464/899 [01:18<01:16,  5.71iteration/s]"
     ]
    },
    {
     "name": "stdout",
     "output_type": "stream",
     "text": [
      "Epoch: 462 \n",
      "Accuracy: -0.46363670301429083\n",
      "Epoch: 463 \n",
      "Accuracy: -0.46376846265089455\n"
     ]
    },
    {
     "name": "stderr",
     "output_type": "stream",
     "text": [
      "training:  52%|█████▏    | 466/899 [01:18<01:04,  6.69iteration/s]"
     ]
    },
    {
     "name": "stdout",
     "output_type": "stream",
     "text": [
      "Epoch: 464 \n",
      "Accuracy: -0.46389972668406954\n",
      "Epoch: 465 \n",
      "Accuracy: -0.4640304994636827\n"
     ]
    },
    {
     "name": "stderr",
     "output_type": "stream",
     "text": [
      "training:  52%|█████▏    | 468/899 [01:19<01:05,  6.56iteration/s]"
     ]
    },
    {
     "name": "stdout",
     "output_type": "stream",
     "text": [
      "Epoch: 466 \n",
      "Accuracy: -0.4641607852838604\n",
      "Epoch: 467 \n",
      "Accuracy: -0.4642905883837688\n"
     ]
    },
    {
     "name": "stderr",
     "output_type": "stream",
     "text": [
      "training:  52%|█████▏    | 470/899 [01:19<01:11,  6.01iteration/s]"
     ]
    },
    {
     "name": "stdout",
     "output_type": "stream",
     "text": [
      "Epoch: 468 \n",
      "Accuracy: -0.4644199129483907\n",
      "Epoch: 469 \n",
      "Accuracy: -0.4645487631092905\n"
     ]
    },
    {
     "name": "stderr",
     "output_type": "stream",
     "text": [
      "training:  52%|█████▏    | 471/899 [01:19<01:12,  5.91iteration/s]"
     ]
    },
    {
     "name": "stdout",
     "output_type": "stream",
     "text": [
      "Epoch: 470 \n",
      "Accuracy: -0.4646771429453703\n",
      "Epoch: 471 \n",
      "Accuracy: -0.46480505648360493\n"
     ]
    },
    {
     "name": "stderr",
     "output_type": "stream",
     "text": [
      "training:  53%|█████▎    | 474/899 [01:20<01:11,  5.93iteration/s]"
     ]
    },
    {
     "name": "stdout",
     "output_type": "stream",
     "text": [
      "Epoch: 472 \n",
      "Accuracy: -0.46493250769978267\n",
      "Epoch: 473 \n",
      "Accuracy: -0.4650595005192216\n"
     ]
    },
    {
     "name": "stderr",
     "output_type": "stream",
     "text": [
      "training:  53%|█████▎    | 475/899 [01:20<01:14,  5.71iteration/s]"
     ]
    },
    {
     "name": "stdout",
     "output_type": "stream",
     "text": [
      "Epoch: 474 \n",
      "Accuracy: -0.4651860388174843\n"
     ]
    },
    {
     "name": "stderr",
     "output_type": "stream",
     "text": [
      "training:  53%|█████▎    | 476/899 [01:20<01:22,  5.15iteration/s]"
     ]
    },
    {
     "name": "stdout",
     "output_type": "stream",
     "text": [
      "Epoch: 475 \n",
      "Accuracy: -0.4653121264210708\n",
      "Epoch: 476 \n",
      "Accuracy: -0.4654377671081148\n",
      "Epoch: 477 \n",
      "Accuracy: -0.4655629646090632\n"
     ]
    },
    {
     "name": "stderr",
     "output_type": "stream",
     "text": [
      "training:  53%|█████▎    | 479/899 [01:21<01:06,  6.31iteration/s]"
     ]
    },
    {
     "name": "stdout",
     "output_type": "stream",
     "text": [
      "Epoch: 478 \n",
      "Accuracy: -0.46568772260735136\n",
      "Epoch: 479 \n",
      "Accuracy: -0.465812044740053\n"
     ]
    },
    {
     "name": "stderr",
     "output_type": "stream",
     "text": [
      "training:  54%|█████▎    | 481/899 [01:21<01:08,  6.14iteration/s]"
     ]
    },
    {
     "name": "stdout",
     "output_type": "stream",
     "text": [
      "Epoch: 480 \n",
      "Accuracy: -0.4659359345985422\n",
      "Epoch: 481 \n",
      "Accuracy: -0.46605939572913113\n"
     ]
    },
    {
     "name": "stderr",
     "output_type": "stream",
     "text": [
      "training:  54%|█████▍    | 484/899 [01:22<01:12,  5.73iteration/s]"
     ]
    },
    {
     "name": "stdout",
     "output_type": "stream",
     "text": [
      "Epoch: 482 \n",
      "Accuracy: -0.46618243163369877\n",
      "Epoch: 483 \n",
      "Accuracy: -0.46630504577032583\n"
     ]
    },
    {
     "name": "stderr",
     "output_type": "stream",
     "text": [
      "training:  54%|█████▍    | 486/899 [01:22<01:03,  6.54iteration/s]"
     ]
    },
    {
     "name": "stdout",
     "output_type": "stream",
     "text": [
      "Epoch: 484 \n",
      "Accuracy: -0.46642724155389625\n",
      "Epoch: 485 \n",
      "Accuracy: -0.4665490223567109\n"
     ]
    },
    {
     "name": "stderr",
     "output_type": "stream",
     "text": [
      "training:  54%|█████▍    | 488/899 [01:22<01:06,  6.17iteration/s]"
     ]
    },
    {
     "name": "stdout",
     "output_type": "stream",
     "text": [
      "Epoch: 486 \n",
      "Accuracy: -0.46667039150908207\n",
      "Epoch: 487 \n",
      "Accuracy: -0.46679135229992397\n"
     ]
    },
    {
     "name": "stderr",
     "output_type": "stream",
     "text": [
      "training:  55%|█████▍    | 490/899 [01:23<01:08,  5.94iteration/s]"
     ]
    },
    {
     "name": "stdout",
     "output_type": "stream",
     "text": [
      "Epoch: 488 \n",
      "Accuracy: -0.4669119079773284\n",
      "Epoch: 489 \n",
      "Accuracy: -0.4670320617491467\n"
     ]
    },
    {
     "name": "stderr",
     "output_type": "stream",
     "text": [
      "training:  55%|█████▍    | 492/899 [01:23<01:09,  5.86iteration/s]"
     ]
    },
    {
     "name": "stdout",
     "output_type": "stream",
     "text": [
      "Epoch: 490 \n",
      "Accuracy: -0.467151816783535\n",
      "Epoch: 491 \n",
      "Accuracy: -0.46727117620952574\n"
     ]
    },
    {
     "name": "stderr",
     "output_type": "stream",
     "text": [
      "training:  55%|█████▍    | 494/899 [01:23<01:09,  5.80iteration/s]"
     ]
    },
    {
     "name": "stdout",
     "output_type": "stream",
     "text": [
      "Epoch: 492 \n",
      "Accuracy: -0.4673901431175663\n",
      "Epoch: 493 \n",
      "Accuracy: -0.46750872056006354\n"
     ]
    },
    {
     "name": "stderr",
     "output_type": "stream",
     "text": [
      "training:  55%|█████▌    | 496/899 [01:24<01:10,  5.74iteration/s]"
     ]
    },
    {
     "name": "stdout",
     "output_type": "stream",
     "text": [
      "Epoch: 494 \n",
      "Accuracy: -0.4676269115519104\n",
      "Epoch: 495 \n",
      "Accuracy: -0.46774471907101367\n"
     ]
    },
    {
     "name": "stderr",
     "output_type": "stream",
     "text": [
      "training:  55%|█████▌    | 498/899 [01:24<01:10,  5.72iteration/s]"
     ]
    },
    {
     "name": "stdout",
     "output_type": "stream",
     "text": [
      "Epoch: 496 \n",
      "Accuracy: -0.4678621460588045\n",
      "Epoch: 497 \n",
      "Accuracy: -0.46797919542075916\n"
     ]
    },
    {
     "name": "stderr",
     "output_type": "stream",
     "text": [
      "training:  56%|█████▌    | 500/899 [01:24<01:09,  5.77iteration/s]"
     ]
    },
    {
     "name": "stdout",
     "output_type": "stream",
     "text": [
      "Epoch: 498 \n",
      "Accuracy: -0.4680958700268839\n",
      "Epoch: 499 \n",
      "Accuracy: -0.46821217271222404\n"
     ]
    },
    {
     "name": "stderr",
     "output_type": "stream",
     "text": [
      "training:  56%|█████▌    | 501/899 [01:24<01:09,  5.75iteration/s]"
     ]
    },
    {
     "name": "stdout",
     "output_type": "stream",
     "text": [
      "Epoch: 500 \n",
      "Accuracy: -0.4683281062773389\n",
      "Epoch: 501 \n",
      "Accuracy: -0.46844367348879457\n"
     ]
    },
    {
     "name": "stderr",
     "output_type": "stream",
     "text": [
      "training:  56%|█████▌    | 504/899 [01:25<01:08,  5.77iteration/s]"
     ]
    },
    {
     "name": "stdout",
     "output_type": "stream",
     "text": [
      "Epoch: 502 \n",
      "Accuracy: -0.4685588770796306\n",
      "Epoch: 503 \n",
      "Accuracy: -0.4686737197498213\n"
     ]
    },
    {
     "name": "stderr",
     "output_type": "stream",
     "text": [
      "training:  56%|█████▌    | 505/899 [01:25<01:08,  5.76iteration/s]"
     ]
    },
    {
     "name": "stdout",
     "output_type": "stream",
     "text": [
      "Epoch: 504 \n",
      "Accuracy: -0.46878820416674516\n",
      "Epoch: 505 \n",
      "Accuracy: -0.46890233296562844\n"
     ]
    },
    {
     "name": "stderr",
     "output_type": "stream",
     "text": [
      "training:  57%|█████▋    | 508/899 [01:26<01:07,  5.81iteration/s]"
     ]
    },
    {
     "name": "stdout",
     "output_type": "stream",
     "text": [
      "Epoch: 506 \n",
      "Accuracy: -0.46901610875000277\n",
      "Epoch: 507 \n",
      "Accuracy: -0.4691295340921343\n"
     ]
    },
    {
     "name": "stderr",
     "output_type": "stream",
     "text": [
      "training:  57%|█████▋    | 510/899 [01:26<01:05,  5.95iteration/s]"
     ]
    },
    {
     "name": "stdout",
     "output_type": "stream",
     "text": [
      "Epoch: 508 \n",
      "Accuracy: -0.4692426115334686\n",
      "Epoch: 509 \n",
      "Accuracy: -0.4693553435850454\n"
     ]
    },
    {
     "name": "stderr",
     "output_type": "stream",
     "text": [
      "training:  57%|█████▋    | 512/899 [01:26<01:06,  5.83iteration/s]"
     ]
    },
    {
     "name": "stdout",
     "output_type": "stream",
     "text": [
      "Epoch: 510 \n",
      "Accuracy: -0.46946773272792985\n",
      "Epoch: 511 \n",
      "Accuracy: -0.4695797814136239\n"
     ]
    },
    {
     "name": "stderr",
     "output_type": "stream",
     "text": [
      "training:  57%|█████▋    | 515/899 [01:27<00:47,  8.09iteration/s]"
     ]
    },
    {
     "name": "stdout",
     "output_type": "stream",
     "text": [
      "Epoch: 512 \n",
      "Accuracy: -0.4696914920644776\n",
      "Epoch: 513 \n",
      "Accuracy: -0.46980286707408514\n",
      "Epoch: 514 \n",
      "Accuracy: -0.46991390880769945\n"
     ]
    },
    {
     "name": "stderr",
     "output_type": "stream",
     "text": [
      "training:  58%|█████▊    | 517/899 [01:27<00:54,  6.96iteration/s]"
     ]
    },
    {
     "name": "stdout",
     "output_type": "stream",
     "text": [
      "Epoch: 515 \n",
      "Accuracy: -0.4700246196026069\n",
      "Epoch: 516 \n",
      "Accuracy: -0.4701350017685212\n"
     ]
    },
    {
     "name": "stderr",
     "output_type": "stream",
     "text": [
      "training:  58%|█████▊    | 519/899 [01:27<01:00,  6.25iteration/s]"
     ]
    },
    {
     "name": "stdout",
     "output_type": "stream",
     "text": [
      "Epoch: 517 \n",
      "Accuracy: -0.47024505758796187\n",
      "Epoch: 518 \n",
      "Accuracy: -0.47035478931663255\n"
     ]
    },
    {
     "name": "stderr",
     "output_type": "stream",
     "text": [
      "training:  58%|█████▊    | 521/899 [01:28<01:02,  6.05iteration/s]"
     ]
    },
    {
     "name": "stdout",
     "output_type": "stream",
     "text": [
      "Epoch: 519 \n",
      "Accuracy: -0.4704641991837911\n",
      "Epoch: 520 \n",
      "Accuracy: -0.47057328939260856\n"
     ]
    },
    {
     "name": "stderr",
     "output_type": "stream",
     "text": [
      "training:  58%|█████▊    | 523/899 [01:28<01:03,  5.88iteration/s]"
     ]
    },
    {
     "name": "stdout",
     "output_type": "stream",
     "text": [
      "Epoch: 521 \n",
      "Accuracy: -0.4706820621205333\n",
      "Epoch: 522 \n",
      "Accuracy: -0.47079051951964457\n"
     ]
    },
    {
     "name": "stderr",
     "output_type": "stream",
     "text": [
      "training:  58%|█████▊    | 525/899 [01:28<01:04,  5.77iteration/s]"
     ]
    },
    {
     "name": "stdout",
     "output_type": "stream",
     "text": [
      "Epoch: 523 \n",
      "Accuracy: -0.4708986637170022\n",
      "Epoch: 524 \n",
      "Accuracy: -0.4710064968149855\n"
     ]
    },
    {
     "name": "stderr",
     "output_type": "stream",
     "text": [
      "training:  59%|█████▊    | 526/899 [01:29<01:04,  5.75iteration/s]"
     ]
    },
    {
     "name": "stdout",
     "output_type": "stream",
     "text": [
      "Epoch: 525 \n",
      "Accuracy: -0.471114020891645\n",
      "Epoch: 526 \n",
      "Accuracy: -0.47122123800101956\n"
     ]
    },
    {
     "name": "stderr",
     "output_type": "stream",
     "text": [
      "training:  59%|█████▉    | 529/899 [01:29<01:02,  5.91iteration/s]"
     ]
    },
    {
     "name": "stdout",
     "output_type": "stream",
     "text": [
      "Epoch: 527 \n",
      "Accuracy: -0.47132815017347707\n",
      "Epoch: 528 \n",
      "Accuracy: -0.4714347594160385\n"
     ]
    },
    {
     "name": "stderr",
     "output_type": "stream",
     "text": [
      "training:  59%|█████▉    | 530/899 [01:29<01:02,  5.91iteration/s]"
     ]
    },
    {
     "name": "stdout",
     "output_type": "stream",
     "text": [
      "Epoch: 529 \n",
      "Accuracy: -0.4715410677126989\n",
      "Epoch: 530 \n",
      "Accuracy: -0.4716470770247331\n"
     ]
    },
    {
     "name": "stderr",
     "output_type": "stream",
     "text": [
      "training:  59%|█████▉    | 533/899 [01:30<01:01,  5.94iteration/s]"
     ]
    },
    {
     "name": "stdout",
     "output_type": "stream",
     "text": [
      "Epoch: 531 \n",
      "Accuracy: -0.47175278929101927\n",
      "Epoch: 532 \n",
      "Accuracy: -0.471858206428338\n"
     ]
    },
    {
     "name": "stderr",
     "output_type": "stream",
     "text": [
      "training:  60%|█████▉    | 535/899 [01:30<01:03,  5.76iteration/s]"
     ]
    },
    {
     "name": "stdout",
     "output_type": "stream",
     "text": [
      "Epoch: 533 \n",
      "Accuracy: -0.4719633303316769\n",
      "Epoch: 534 \n",
      "Accuracy: -0.47206816287452635\n"
     ]
    },
    {
     "name": "stderr",
     "output_type": "stream",
     "text": [
      "training:  60%|█████▉    | 537/899 [01:30<00:57,  6.33iteration/s]"
     ]
    },
    {
     "name": "stdout",
     "output_type": "stream",
     "text": [
      "Epoch: 535 \n",
      "Accuracy: -0.4721727059091775\n",
      "Epoch: 536 \n",
      "Accuracy: -0.4722769612670096\n"
     ]
    },
    {
     "name": "stderr",
     "output_type": "stream",
     "text": [
      "training:  60%|█████▉    | 539/899 [01:31<01:00,  6.00iteration/s]"
     ]
    },
    {
     "name": "stdout",
     "output_type": "stream",
     "text": [
      "Epoch: 537 \n",
      "Accuracy: -0.47238093075877063\n",
      "Epoch: 538 \n",
      "Accuracy: -0.47248461617486404\n"
     ]
    },
    {
     "name": "stderr",
     "output_type": "stream",
     "text": [
      "training:  60%|██████    | 541/899 [01:31<00:56,  6.29iteration/s]"
     ]
    },
    {
     "name": "stdout",
     "output_type": "stream",
     "text": [
      "Epoch: 539 \n",
      "Accuracy: -0.47258801928562255\n",
      "Epoch: 540 \n",
      "Accuracy: -0.4726911418415848\n"
     ]
    },
    {
     "name": "stderr",
     "output_type": "stream",
     "text": [
      "training:  60%|██████    | 543/899 [01:31<00:59,  5.97iteration/s]"
     ]
    },
    {
     "name": "stdout",
     "output_type": "stream",
     "text": [
      "Epoch: 541 \n",
      "Accuracy: -0.47279398557376007\n",
      "Epoch: 542 \n",
      "Accuracy: -0.47289655219389737\n"
     ]
    },
    {
     "name": "stderr",
     "output_type": "stream",
     "text": [
      "training:  61%|██████    | 545/899 [01:32<01:00,  5.83iteration/s]"
     ]
    },
    {
     "name": "stdout",
     "output_type": "stream",
     "text": [
      "Epoch: 543 \n",
      "Accuracy: -0.4729988433947453\n",
      "Epoch: 544 \n",
      "Accuracy: -0.47310086085031167\n"
     ]
    },
    {
     "name": "stderr",
     "output_type": "stream",
     "text": [
      "training:  61%|██████    | 547/899 [01:32<01:01,  5.75iteration/s]"
     ]
    },
    {
     "name": "stdout",
     "output_type": "stream",
     "text": [
      "Epoch: 545 \n",
      "Accuracy: -0.4732026062161142\n",
      "Epoch: 546 \n",
      "Accuracy: -0.4733040811294317\n"
     ]
    },
    {
     "name": "stderr",
     "output_type": "stream",
     "text": [
      "training:  61%|██████    | 549/899 [01:32<00:59,  5.86iteration/s]"
     ]
    },
    {
     "name": "stdout",
     "output_type": "stream",
     "text": [
      "Epoch: 547 \n",
      "Accuracy: -0.47340528720955166\n",
      "Epoch: 548 \n",
      "Accuracy: -0.47350622605801884\n"
     ]
    },
    {
     "name": "stderr",
     "output_type": "stream",
     "text": [
      "training:  61%|██████▏   | 551/899 [01:33<01:01,  5.68iteration/s]"
     ]
    },
    {
     "name": "stdout",
     "output_type": "stream",
     "text": [
      "Epoch: 549 \n",
      "Accuracy: -0.4736068992588659\n",
      "Epoch: 550 \n",
      "Accuracy: -0.47370730837885444\n"
     ]
    },
    {
     "name": "stderr",
     "output_type": "stream",
     "text": [
      "training:  62%|██████▏   | 553/899 [01:33<01:00,  5.75iteration/s]"
     ]
    },
    {
     "name": "stdout",
     "output_type": "stream",
     "text": [
      "Epoch: 551 \n",
      "Accuracy: -0.4738074549677119\n",
      "Epoch: 552 \n",
      "Accuracy: -0.4739073405583537\n"
     ]
    },
    {
     "name": "stderr",
     "output_type": "stream",
     "text": [
      "training:  62%|██████▏   | 554/899 [01:33<01:00,  5.74iteration/s]"
     ]
    },
    {
     "name": "stdout",
     "output_type": "stream",
     "text": [
      "Epoch: 553 \n",
      "Accuracy: -0.47400696666711417\n",
      "Epoch: 554 \n",
      "Accuracy: -0.47410633479397013\n"
     ]
    },
    {
     "name": "stderr",
     "output_type": "stream",
     "text": [
      "training:  62%|██████▏   | 557/899 [01:34<00:58,  5.82iteration/s]"
     ]
    },
    {
     "name": "stdout",
     "output_type": "stream",
     "text": [
      "Epoch: 555 \n",
      "Accuracy: -0.4742054464227575\n",
      "Epoch: 556 \n",
      "Accuracy: -0.47430430302139615\n"
     ]
    },
    {
     "name": "stderr",
     "output_type": "stream",
     "text": [
      "training:  62%|██████▏   | 559/899 [01:34<00:59,  5.75iteration/s]"
     ]
    },
    {
     "name": "stdout",
     "output_type": "stream",
     "text": [
      "Epoch: 557 \n",
      "Accuracy: -0.4744029060420899\n",
      "Epoch: 558 \n",
      "Accuracy: -0.47450125692155354\n"
     ]
    },
    {
     "name": "stderr",
     "output_type": "stream",
     "text": [
      "training:  62%|██████▏   | 561/899 [01:35<01:00,  5.62iteration/s]"
     ]
    },
    {
     "name": "stdout",
     "output_type": "stream",
     "text": [
      "Epoch: 559 \n",
      "Accuracy: -0.4745993570812076\n",
      "Epoch: 560 \n",
      "Accuracy: -0.47469720792738934\n"
     ]
    },
    {
     "name": "stderr",
     "output_type": "stream",
     "text": [
      "training:  63%|██████▎   | 563/899 [01:35<00:59,  5.64iteration/s]"
     ]
    },
    {
     "name": "stdout",
     "output_type": "stream",
     "text": [
      "Epoch: 561 \n",
      "Accuracy: -0.4747948108515573\n",
      "Epoch: 562 \n",
      "Accuracy: -0.47489216723048033\n"
     ]
    },
    {
     "name": "stderr",
     "output_type": "stream",
     "text": [
      "training:  63%|██████▎   | 565/899 [01:35<00:59,  5.63iteration/s]"
     ]
    },
    {
     "name": "stdout",
     "output_type": "stream",
     "text": [
      "Epoch: 563 \n",
      "Accuracy: -0.4749892784264417\n",
      "Epoch: 564 \n",
      "Accuracy: -0.47508614578743347\n"
     ]
    },
    {
     "name": "stderr",
     "output_type": "stream",
     "text": [
      "training:  63%|██████▎   | 567/899 [01:36<00:58,  5.71iteration/s]"
     ]
    },
    {
     "name": "stdout",
     "output_type": "stream",
     "text": [
      "Epoch: 565 \n",
      "Accuracy: -0.47518277064734005\n",
      "Epoch: 566 \n",
      "Accuracy: -0.4752791543261353\n"
     ]
    },
    {
     "name": "stderr",
     "output_type": "stream",
     "text": [
      "training:  63%|██████▎   | 569/899 [01:36<00:57,  5.71iteration/s]"
     ]
    },
    {
     "name": "stdout",
     "output_type": "stream",
     "text": [
      "Epoch: 567 \n",
      "Accuracy: -0.4753752981300602\n",
      "Epoch: 568 \n",
      "Accuracy: -0.4754712033518095\n"
     ]
    },
    {
     "name": "stderr",
     "output_type": "stream",
     "text": [
      "training:  64%|██████▎   | 571/899 [01:36<00:53,  6.19iteration/s]"
     ]
    },
    {
     "name": "stdout",
     "output_type": "stream",
     "text": [
      "Epoch: 569 \n",
      "Accuracy: -0.47556687127070496\n",
      "Epoch: 570 \n",
      "Accuracy: -0.47566230315288827\n"
     ]
    },
    {
     "name": "stderr",
     "output_type": "stream",
     "text": [
      "training:  64%|██████▎   | 573/899 [01:37<00:54,  6.03iteration/s]"
     ]
    },
    {
     "name": "stdout",
     "output_type": "stream",
     "text": [
      "Epoch: 571 \n",
      "Accuracy: -0.47575750025147745\n",
      "Epoch: 572 \n",
      "Accuracy: -0.4758524638067513\n"
     ]
    },
    {
     "name": "stderr",
     "output_type": "stream",
     "text": [
      "training:  64%|██████▍   | 575/899 [01:37<00:54,  5.97iteration/s]"
     ]
    },
    {
     "name": "stdout",
     "output_type": "stream",
     "text": [
      "Epoch: 573 \n",
      "Accuracy: -0.4759471950463158\n",
      "Epoch: 574 \n",
      "Accuracy: -0.4760416951852672\n"
     ]
    },
    {
     "name": "stderr",
     "output_type": "stream",
     "text": [
      "training:  64%|██████▍   | 577/899 [01:37<00:49,  6.48iteration/s]"
     ]
    },
    {
     "name": "stdout",
     "output_type": "stream",
     "text": [
      "Epoch: 575 \n",
      "Accuracy: -0.4761359654263705\n",
      "Epoch: 576 \n",
      "Accuracy: -0.47623000696020623\n"
     ]
    },
    {
     "name": "stderr",
     "output_type": "stream",
     "text": [
      "training:  64%|██████▍   | 578/899 [01:37<00:51,  6.23iteration/s]"
     ]
    },
    {
     "name": "stdout",
     "output_type": "stream",
     "text": [
      "Epoch: 577 \n",
      "Accuracy: -0.47632382096534076\n",
      "Epoch: 578 \n",
      "Accuracy: -0.47641740860848236\n"
     ]
    },
    {
     "name": "stderr",
     "output_type": "stream",
     "text": [
      "training:  65%|██████▍   | 581/899 [01:38<00:44,  7.11iteration/s]"
     ]
    },
    {
     "name": "stdout",
     "output_type": "stream",
     "text": [
      "Epoch: 579 \n",
      "Accuracy: -0.47651077104463646\n",
      "Epoch: 580 \n",
      "Accuracy: -0.4766039094172597\n"
     ]
    },
    {
     "name": "stderr",
     "output_type": "stream",
     "text": [
      "training:  65%|██████▍   | 582/899 [01:38<00:47,  6.68iteration/s]"
     ]
    },
    {
     "name": "stdout",
     "output_type": "stream",
     "text": [
      "Epoch: 581 \n",
      "Accuracy: -0.4766968248584137\n",
      "Epoch: 582 \n",
      "Accuracy: -0.4767895184889087\n"
     ]
    },
    {
     "name": "stderr",
     "output_type": "stream",
     "text": [
      "training:  65%|██████▍   | 584/899 [01:38<00:45,  6.92iteration/s]"
     ]
    },
    {
     "name": "stdout",
     "output_type": "stream",
     "text": [
      "Epoch: 583 \n",
      "Accuracy: -0.47688199141845666\n",
      "Epoch: 584 \n",
      "Accuracy: -0.4769742447458146\n"
     ]
    },
    {
     "name": "stderr",
     "output_type": "stream",
     "text": [
      "training:  65%|██████▌   | 586/899 [01:39<00:50,  6.19iteration/s]"
     ]
    },
    {
     "name": "stdout",
     "output_type": "stream",
     "text": [
      "Epoch: 585 \n",
      "Accuracy: -0.47706627955893166\n",
      "Epoch: 586 \n",
      "Accuracy: -0.47715809693508227\n"
     ]
    },
    {
     "name": "stderr",
     "output_type": "stream",
     "text": [
      "training:  66%|██████▌   | 589/899 [01:39<00:51,  5.98iteration/s]"
     ]
    },
    {
     "name": "stdout",
     "output_type": "stream",
     "text": [
      "Epoch: 587 \n",
      "Accuracy: -0.47724969794100913\n",
      "Epoch: 588 \n",
      "Accuracy: -0.47734108363306327\n"
     ]
    },
    {
     "name": "stderr",
     "output_type": "stream",
     "text": [
      "training:  66%|██████▌   | 591/899 [01:39<00:52,  5.91iteration/s]"
     ]
    },
    {
     "name": "stdout",
     "output_type": "stream",
     "text": [
      "Epoch: 589 \n",
      "Accuracy: -0.4774322550573348\n",
      "Epoch: 590 \n",
      "Accuracy: -0.47752321324979097\n"
     ]
    },
    {
     "name": "stderr",
     "output_type": "stream",
     "text": [
      "training:  66%|██████▌   | 593/899 [01:40<00:53,  5.75iteration/s]"
     ]
    },
    {
     "name": "stdout",
     "output_type": "stream",
     "text": [
      "Epoch: 591 \n",
      "Accuracy: -0.47761395923640093\n",
      "Epoch: 592 \n",
      "Accuracy: -0.47770449403327453\n"
     ]
    },
    {
     "name": "stderr",
     "output_type": "stream",
     "text": [
      "training:  66%|██████▌   | 595/899 [01:40<00:47,  6.44iteration/s]"
     ]
    },
    {
     "name": "stdout",
     "output_type": "stream",
     "text": [
      "Epoch: 593 \n",
      "Accuracy: -0.4777948186467812\n",
      "Epoch: 594 \n",
      "Accuracy: -0.4778849340736798\n"
     ]
    },
    {
     "name": "stderr",
     "output_type": "stream",
     "text": [
      "training:  66%|██████▋   | 596/899 [01:40<00:48,  6.21iteration/s]"
     ]
    },
    {
     "name": "stdout",
     "output_type": "stream",
     "text": [
      "Epoch: 595 \n",
      "Accuracy: -0.4779748413012467\n",
      "Epoch: 596 \n",
      "Accuracy: -0.4780645413073904\n"
     ]
    },
    {
     "name": "stderr",
     "output_type": "stream",
     "text": [
      "training:  67%|██████▋   | 599/899 [01:41<00:54,  5.46iteration/s]"
     ]
    },
    {
     "name": "stdout",
     "output_type": "stream",
     "text": [
      "Epoch: 597 \n",
      "Accuracy: -0.47815403506077414\n",
      "Epoch: 598 \n",
      "Accuracy: -0.47824332352094634\n"
     ]
    },
    {
     "name": "stderr",
     "output_type": "stream",
     "text": [
      "training:  67%|██████▋   | 601/899 [01:41<00:50,  5.95iteration/s]"
     ]
    },
    {
     "name": "stdout",
     "output_type": "stream",
     "text": [
      "Epoch: 599 \n",
      "Accuracy: -0.47833240763843776\n",
      "Epoch: 600 \n",
      "Accuracy: -0.47842128835489406\n",
      "Epoch: 601 \n",
      "Accuracy: -0.478509966603183\n"
     ]
    },
    {
     "name": "stderr",
     "output_type": "stream",
     "text": [
      "training:  67%|██████▋   | 604/899 [01:41<00:40,  7.34iteration/s]"
     ]
    },
    {
     "name": "stdout",
     "output_type": "stream",
     "text": [
      "Epoch: 602 \n",
      "Accuracy: -0.4785984433075027\n",
      "Epoch: 603 \n",
      "Accuracy: -0.47868671938350993\n"
     ]
    },
    {
     "name": "stderr",
     "output_type": "stream",
     "text": [
      "training:  67%|██████▋   | 606/899 [01:42<00:44,  6.52iteration/s]"
     ]
    },
    {
     "name": "stdout",
     "output_type": "stream",
     "text": [
      "Epoch: 604 \n",
      "Accuracy: -0.478774795738402\n",
      "Epoch: 605 \n",
      "Accuracy: -0.4788626732710509\n"
     ]
    },
    {
     "name": "stderr",
     "output_type": "stream",
     "text": [
      "training:  68%|██████▊   | 608/899 [01:42<00:47,  6.08iteration/s]"
     ]
    },
    {
     "name": "stdout",
     "output_type": "stream",
     "text": [
      "Epoch: 606 \n",
      "Accuracy: -0.47895035287209053\n",
      "Epoch: 607 \n",
      "Accuracy: -0.4790378354240331\n"
     ]
    },
    {
     "name": "stderr",
     "output_type": "stream",
     "text": [
      "training:  68%|██████▊   | 610/899 [01:43<00:49,  5.88iteration/s]"
     ]
    },
    {
     "name": "stdout",
     "output_type": "stream",
     "text": [
      "Epoch: 608 \n",
      "Accuracy: -0.4791251218013658\n",
      "Epoch: 609 \n",
      "Accuracy: -0.47921221287065874\n"
     ]
    },
    {
     "name": "stderr",
     "output_type": "stream",
     "text": [
      "training:  68%|██████▊   | 612/899 [01:43<00:43,  6.56iteration/s]"
     ]
    },
    {
     "name": "stdout",
     "output_type": "stream",
     "text": [
      "Epoch: 610 \n",
      "Accuracy: -0.4792991094906588\n",
      "Epoch: 611 \n",
      "Accuracy: -0.47938581251239587\n"
     ]
    },
    {
     "name": "stderr",
     "output_type": "stream",
     "text": [
      "training:  68%|██████▊   | 613/899 [01:43<00:44,  6.41iteration/s]"
     ]
    },
    {
     "name": "stdout",
     "output_type": "stream",
     "text": [
      "Epoch: 612 \n",
      "Accuracy: -0.47947232277927176\n",
      "Epoch: 613 \n",
      "Accuracy: -0.4795586411271625\n"
     ]
    },
    {
     "name": "stderr",
     "output_type": "stream",
     "text": [
      "training:  69%|██████▊   | 617/899 [01:43<00:36,  7.74iteration/s]"
     ]
    },
    {
     "name": "stdout",
     "output_type": "stream",
     "text": [
      "Epoch: 614 \n",
      "Accuracy: -0.47964476838451275\n",
      "Epoch: 615 \n",
      "Accuracy: -0.4797307053724257\n",
      "Epoch: 616 \n",
      "Accuracy: -0.4798164529047587\n"
     ]
    },
    {
     "name": "stderr",
     "output_type": "stream",
     "text": [
      "training:  69%|██████▉   | 619/899 [01:44<00:40,  6.87iteration/s]"
     ]
    },
    {
     "name": "stdout",
     "output_type": "stream",
     "text": [
      "Epoch: 617 \n",
      "Accuracy: -0.4799020117882179\n",
      "Epoch: 618 \n",
      "Accuracy: -0.4799873828224407\n"
     ]
    },
    {
     "name": "stderr",
     "output_type": "stream",
     "text": [
      "training:  69%|██████▉   | 620/899 [01:44<00:42,  6.51iteration/s]"
     ]
    },
    {
     "name": "stdout",
     "output_type": "stream",
     "text": [
      "Epoch: 619 \n",
      "Accuracy: -0.48007256680008326\n",
      "Epoch: 620 \n",
      "Accuracy: -0.4801575645069155\n"
     ]
    },
    {
     "name": "stderr",
     "output_type": "stream",
     "text": [
      "training:  69%|██████▉   | 622/899 [01:44<00:45,  6.13iteration/s]"
     ]
    },
    {
     "name": "stdout",
     "output_type": "stream",
     "text": [
      "Epoch: 621 \n",
      "Accuracy: -0.48024237672189984\n",
      "Epoch: 622 \n",
      "Accuracy: -0.48032700421728747\n"
     ]
    },
    {
     "name": "stderr",
     "output_type": "stream",
     "text": [
      "training:  69%|██████▉   | 624/899 [01:45<00:48,  5.65iteration/s]"
     ]
    },
    {
     "name": "stdout",
     "output_type": "stream",
     "text": [
      "Epoch: 623 \n",
      "Accuracy: -0.4804114477586824\n",
      "Epoch: 624 \n",
      "Accuracy: -0.48049570810514297\n"
     ]
    },
    {
     "name": "stderr",
     "output_type": "stream",
     "text": [
      "training:  70%|██████▉   | 627/899 [01:45<00:41,  6.54iteration/s]"
     ]
    },
    {
     "name": "stdout",
     "output_type": "stream",
     "text": [
      "Epoch: 625 \n",
      "Accuracy: -0.48057978600925166\n",
      "Epoch: 626 \n",
      "Accuracy: -0.4806636822172018\n"
     ]
    },
    {
     "name": "stderr",
     "output_type": "stream",
     "text": [
      "training:  70%|██████▉   | 629/899 [01:45<00:43,  6.15iteration/s]"
     ]
    },
    {
     "name": "stdout",
     "output_type": "stream",
     "text": [
      "Epoch: 627 \n",
      "Accuracy: -0.4807473974688684\n",
      "Epoch: 628 \n",
      "Accuracy: -0.4808309324978982\n"
     ]
    },
    {
     "name": "stderr",
     "output_type": "stream",
     "text": [
      "training:  70%|███████   | 630/899 [01:46<00:44,  6.02iteration/s]"
     ]
    },
    {
     "name": "stdout",
     "output_type": "stream",
     "text": [
      "Epoch: 629 \n",
      "Accuracy: -0.48091428803177527\n",
      "Epoch: 630 \n",
      "Accuracy: -0.4809974647919023\n"
     ]
    },
    {
     "name": "stderr",
     "output_type": "stream",
     "text": [
      "training:  70%|███████   | 633/899 [01:46<00:41,  6.45iteration/s]"
     ]
    },
    {
     "name": "stdout",
     "output_type": "stream",
     "text": [
      "Epoch: 631 \n",
      "Accuracy: -0.4810804634936757\n",
      "Epoch: 632 \n",
      "Accuracy: -0.48116328484655624\n"
     ]
    },
    {
     "name": "stderr",
     "output_type": "stream",
     "text": [
      "training:  71%|███████   | 634/899 [01:46<00:40,  6.61iteration/s]"
     ]
    },
    {
     "name": "stdout",
     "output_type": "stream",
     "text": [
      "Epoch: 633 \n",
      "Accuracy: -0.48124592955414125\n",
      "Epoch: 634 \n",
      "Accuracy: -0.4813283983142399\n"
     ]
    },
    {
     "name": "stderr",
     "output_type": "stream",
     "text": [
      "training:  71%|███████   | 637/899 [01:47<00:40,  6.50iteration/s]"
     ]
    },
    {
     "name": "stdout",
     "output_type": "stream",
     "text": [
      "Epoch: 635 \n",
      "Accuracy: -0.4814106918189448\n",
      "Epoch: 636 \n",
      "Accuracy: -0.48149281075469796\n"
     ]
    },
    {
     "name": "stderr",
     "output_type": "stream",
     "text": [
      "training:  71%|███████   | 639/899 [01:47<00:40,  6.42iteration/s]"
     ]
    },
    {
     "name": "stdout",
     "output_type": "stream",
     "text": [
      "Epoch: 637 \n",
      "Accuracy: -0.48157475580235654\n",
      "Epoch: 638 \n",
      "Accuracy: -0.48165652763727007\n"
     ]
    },
    {
     "name": "stderr",
     "output_type": "stream",
     "text": [
      "training:  71%|███████▏  | 641/899 [01:47<00:39,  6.52iteration/s]"
     ]
    },
    {
     "name": "stdout",
     "output_type": "stream",
     "text": [
      "Epoch: 639 \n",
      "Accuracy: -0.48173812692934026\n",
      "Epoch: 640 \n",
      "Accuracy: -0.4818195543430849\n"
     ]
    },
    {
     "name": "stderr",
     "output_type": "stream",
     "text": [
      "training:  72%|███████▏  | 643/899 [01:48<00:37,  6.81iteration/s]"
     ]
    },
    {
     "name": "stdout",
     "output_type": "stream",
     "text": [
      "Epoch: 641 \n",
      "Accuracy: -0.4819008105377126\n",
      "Epoch: 642 \n",
      "Accuracy: -0.48198189616717724\n"
     ]
    },
    {
     "name": "stderr",
     "output_type": "stream",
     "text": [
      "training:  72%|███████▏  | 645/899 [01:48<00:40,  6.27iteration/s]"
     ]
    },
    {
     "name": "stdout",
     "output_type": "stream",
     "text": [
      "Epoch: 643 \n",
      "Accuracy: -0.4820628118802436\n",
      "Epoch: 644 \n",
      "Accuracy: -0.48214355832055655\n"
     ]
    },
    {
     "name": "stderr",
     "output_type": "stream",
     "text": [
      "training:  72%|███████▏  | 647/899 [01:48<00:38,  6.47iteration/s]"
     ]
    },
    {
     "name": "stdout",
     "output_type": "stream",
     "text": [
      "Epoch: 645 \n",
      "Accuracy: -0.482224136126686\n",
      "Epoch: 646 \n",
      "Accuracy: -0.48230454593221006\n"
     ]
    },
    {
     "name": "stderr",
     "output_type": "stream",
     "text": [
      "training:  72%|███████▏  | 649/899 [01:49<00:41,  6.07iteration/s]"
     ]
    },
    {
     "name": "stdout",
     "output_type": "stream",
     "text": [
      "Epoch: 647 \n",
      "Accuracy: -0.4823847883657545\n",
      "Epoch: 648 \n",
      "Accuracy: -0.48246486405106415\n"
     ]
    },
    {
     "name": "stderr",
     "output_type": "stream",
     "text": [
      "training:  72%|███████▏  | 651/899 [01:49<00:41,  6.02iteration/s]"
     ]
    },
    {
     "name": "stdout",
     "output_type": "stream",
     "text": [
      "Epoch: 649 \n",
      "Accuracy: -0.4825447736070573\n",
      "Epoch: 650 \n",
      "Accuracy: -0.48262451764788084\n"
     ]
    },
    {
     "name": "stderr",
     "output_type": "stream",
     "text": [
      "training:  73%|███████▎  | 653/899 [01:49<00:42,  5.74iteration/s]"
     ]
    },
    {
     "name": "stdout",
     "output_type": "stream",
     "text": [
      "Epoch: 651 \n",
      "Accuracy: -0.48270409678297355\n",
      "Epoch: 652 \n",
      "Accuracy: -0.482783511617107\n"
     ]
    },
    {
     "name": "stderr",
     "output_type": "stream",
     "text": [
      "training:  73%|███████▎  | 654/899 [01:49<00:42,  5.74iteration/s]"
     ]
    },
    {
     "name": "stdout",
     "output_type": "stream",
     "text": [
      "Epoch: 653 \n",
      "Accuracy: -0.4828627627504619\n",
      "Epoch: 654 \n",
      "Accuracy: -0.48294185077866325\n"
     ]
    },
    {
     "name": "stderr",
     "output_type": "stream",
     "text": [
      "training:  73%|███████▎  | 657/899 [01:50<00:42,  5.75iteration/s]"
     ]
    },
    {
     "name": "stdout",
     "output_type": "stream",
     "text": [
      "Epoch: 655 \n",
      "Accuracy: -0.483020776292847\n",
      "Epoch: 656 \n",
      "Accuracy: -0.48309953987970433\n"
     ]
    },
    {
     "name": "stderr",
     "output_type": "stream",
     "text": [
      "training:  73%|███████▎  | 659/899 [01:50<00:41,  5.73iteration/s]"
     ]
    },
    {
     "name": "stdout",
     "output_type": "stream",
     "text": [
      "Epoch: 657 \n",
      "Accuracy: -0.4831781421215372\n",
      "Epoch: 658 \n",
      "Accuracy: -0.4832565835963122\n"
     ]
    },
    {
     "name": "stderr",
     "output_type": "stream",
     "text": [
      "training:  74%|███████▎  | 661/899 [01:51<00:42,  5.62iteration/s]"
     ]
    },
    {
     "name": "stdout",
     "output_type": "stream",
     "text": [
      "Epoch: 659 \n",
      "Accuracy: -0.48333486487770416\n",
      "Epoch: 660 \n",
      "Accuracy: -0.48341298653515363\n"
     ]
    },
    {
     "name": "stderr",
     "output_type": "stream",
     "text": [
      "training:  74%|███████▎  | 663/899 [01:51<00:41,  5.75iteration/s]"
     ]
    },
    {
     "name": "stdout",
     "output_type": "stream",
     "text": [
      "Epoch: 661 \n",
      "Accuracy: -0.48349094913391066\n",
      "Epoch: 662 \n",
      "Accuracy: -0.48356875323508663\n"
     ]
    },
    {
     "name": "stderr",
     "output_type": "stream",
     "text": [
      "training:  74%|███████▍  | 665/899 [01:51<00:40,  5.71iteration/s]"
     ]
    },
    {
     "name": "stdout",
     "output_type": "stream",
     "text": [
      "Epoch: 663 \n",
      "Accuracy: -0.4836463993957013\n",
      "Epoch: 664 \n",
      "Accuracy: -0.48372388816873124\n"
     ]
    },
    {
     "name": "stderr",
     "output_type": "stream",
     "text": [
      "training:  74%|███████▍  | 667/899 [01:52<00:40,  5.70iteration/s]"
     ]
    },
    {
     "name": "stdout",
     "output_type": "stream",
     "text": [
      "Epoch: 665 \n",
      "Accuracy: -0.48380122010314885\n",
      "Epoch: 666 \n",
      "Accuracy: -0.4838783957439817\n"
     ]
    },
    {
     "name": "stderr",
     "output_type": "stream",
     "text": [
      "training:  74%|███████▍  | 669/899 [01:52<00:39,  5.84iteration/s]"
     ]
    },
    {
     "name": "stdout",
     "output_type": "stream",
     "text": [
      "Epoch: 667 \n",
      "Accuracy: -0.4839554156323459\n",
      "Epoch: 668 \n",
      "Accuracy: -0.48403228030550294\n"
     ]
    },
    {
     "name": "stderr",
     "output_type": "stream",
     "text": [
      "training:  75%|███████▍  | 670/899 [01:52<00:39,  5.78iteration/s]"
     ]
    },
    {
     "name": "stdout",
     "output_type": "stream",
     "text": [
      "Epoch: 669 \n",
      "Accuracy: -0.48410899029688614\n",
      "Epoch: 670 \n",
      "Accuracy: -0.4841855461361614\n"
     ]
    },
    {
     "name": "stderr",
     "output_type": "stream",
     "text": [
      "training:  75%|███████▍  | 672/899 [01:53<00:40,  5.64iteration/s]"
     ]
    },
    {
     "name": "stdout",
     "output_type": "stream",
     "text": [
      "Epoch: 671 \n",
      "Accuracy: -0.4842619483492624\n",
      "Epoch: 672 \n",
      "Accuracy: -0.48433819745842943\n"
     ]
    },
    {
     "name": "stderr",
     "output_type": "stream",
     "text": [
      "training:  75%|███████▌  | 675/899 [01:53<00:38,  5.75iteration/s]"
     ]
    },
    {
     "name": "stdout",
     "output_type": "stream",
     "text": [
      "Epoch: 673 \n",
      "Accuracy: -0.4844142939822681\n",
      "Epoch: 674 \n",
      "Accuracy: -0.484490238435762\n"
     ]
    },
    {
     "name": "stderr",
     "output_type": "stream",
     "text": [
      "training:  75%|███████▌  | 676/899 [01:53<00:38,  5.73iteration/s]"
     ]
    },
    {
     "name": "stdout",
     "output_type": "stream",
     "text": [
      "Epoch: 675 \n",
      "Accuracy: -0.48456603133034004\n",
      "Epoch: 676 \n",
      "Accuracy: -0.4846416731739004\n"
     ]
    },
    {
     "name": "stderr",
     "output_type": "stream",
     "text": [
      "training:  76%|███████▌  | 679/899 [01:54<00:38,  5.69iteration/s]"
     ]
    },
    {
     "name": "stdout",
     "output_type": "stream",
     "text": [
      "Epoch: 677 \n",
      "Accuracy: -0.4847171644708651\n",
      "Epoch: 678 \n",
      "Accuracy: -0.48479250572219723\n"
     ]
    },
    {
     "name": "stderr",
     "output_type": "stream",
     "text": [
      "training:  76%|███████▌  | 681/899 [01:54<00:38,  5.71iteration/s]"
     ]
    },
    {
     "name": "stdout",
     "output_type": "stream",
     "text": [
      "Epoch: 679 \n",
      "Accuracy: -0.4848676974254583\n",
      "Epoch: 680 \n",
      "Accuracy: -0.4849427400748426\n"
     ]
    },
    {
     "name": "stderr",
     "output_type": "stream",
     "text": [
      "training:  76%|███████▌  | 683/899 [01:55<00:37,  5.70iteration/s]"
     ]
    },
    {
     "name": "stdout",
     "output_type": "stream",
     "text": [
      "Epoch: 681 \n",
      "Accuracy: -0.48501763416120436\n",
      "Epoch: 682 \n",
      "Accuracy: -0.4850923801721033\n"
     ]
    },
    {
     "name": "stderr",
     "output_type": "stream",
     "text": [
      "training:  76%|███████▌  | 685/899 [01:55<00:37,  5.70iteration/s]"
     ]
    },
    {
     "name": "stdout",
     "output_type": "stream",
     "text": [
      "Epoch: 683 \n",
      "Accuracy: -0.4851669785918499\n",
      "Epoch: 684 \n",
      "Accuracy: -0.48524142990152075\n"
     ]
    },
    {
     "name": "stderr",
     "output_type": "stream",
     "text": [
      "training:  76%|███████▋  | 687/899 [01:55<00:36,  5.85iteration/s]"
     ]
    },
    {
     "name": "stdout",
     "output_type": "stream",
     "text": [
      "Epoch: 685 \n",
      "Accuracy: -0.4853157345790108\n",
      "Epoch: 686 \n",
      "Accuracy: -0.4853898930990578\n"
     ]
    },
    {
     "name": "stderr",
     "output_type": "stream",
     "text": [
      "training:  77%|███████▋  | 689/899 [01:56<00:36,  5.78iteration/s]"
     ]
    },
    {
     "name": "stdout",
     "output_type": "stream",
     "text": [
      "Epoch: 687 \n",
      "Accuracy: -0.48546390593328226\n",
      "Epoch: 688 \n",
      "Accuracy: -0.4855377735502223\n"
     ]
    },
    {
     "name": "stderr",
     "output_type": "stream",
     "text": [
      "training:  77%|███████▋  | 690/899 [01:56<00:36,  5.76iteration/s]"
     ]
    },
    {
     "name": "stdout",
     "output_type": "stream",
     "text": [
      "Epoch: 689 \n",
      "Accuracy: -0.4856114964153667\n",
      "Epoch: 690 \n",
      "Accuracy: -0.4856850749911904\n"
     ]
    },
    {
     "name": "stderr",
     "output_type": "stream",
     "text": [
      "training:  77%|███████▋  | 693/899 [01:56<00:35,  5.78iteration/s]"
     ]
    },
    {
     "name": "stdout",
     "output_type": "stream",
     "text": [
      "Epoch: 691 \n",
      "Accuracy: -0.4857585097371734\n",
      "Epoch: 692 \n",
      "Accuracy: -0.4858318011098498\n"
     ]
    },
    {
     "name": "stderr",
     "output_type": "stream",
     "text": [
      "training:  77%|███████▋  | 694/899 [01:56<00:35,  5.80iteration/s]"
     ]
    },
    {
     "name": "stdout",
     "output_type": "stream",
     "text": [
      "Epoch: 693 \n",
      "Accuracy: -0.4859049495628348\n",
      "Epoch: 694 \n",
      "Accuracy: -0.48597795554685475\n"
     ]
    },
    {
     "name": "stderr",
     "output_type": "stream",
     "text": [
      "training:  78%|███████▊  | 697/899 [01:57<00:35,  5.66iteration/s]"
     ]
    },
    {
     "name": "stdout",
     "output_type": "stream",
     "text": [
      "Epoch: 695 \n",
      "Accuracy: -0.4860508195097749\n",
      "Epoch: 696 \n",
      "Accuracy: -0.4861235418966333\n"
     ]
    },
    {
     "name": "stderr",
     "output_type": "stream",
     "text": [
      "training:  78%|███████▊  | 698/899 [01:57<00:35,  5.67iteration/s]"
     ]
    },
    {
     "name": "stdout",
     "output_type": "stream",
     "text": [
      "Epoch: 697 \n",
      "Accuracy: -0.48619612314967375\n",
      "Epoch: 698 \n",
      "Accuracy: -0.486268563708374\n"
     ]
    },
    {
     "name": "stderr",
     "output_type": "stream",
     "text": [
      "training:  78%|███████▊  | 701/899 [01:58<00:34,  5.82iteration/s]"
     ]
    },
    {
     "name": "stdout",
     "output_type": "stream",
     "text": [
      "Epoch: 699 \n",
      "Accuracy: -0.48634086400947363\n",
      "Epoch: 700 \n",
      "Accuracy: -0.48641302448699786\n"
     ]
    },
    {
     "name": "stderr",
     "output_type": "stream",
     "text": [
      "training:  78%|███████▊  | 703/899 [01:58<00:32,  5.95iteration/s]"
     ]
    },
    {
     "name": "stdout",
     "output_type": "stream",
     "text": [
      "Epoch: 701 \n",
      "Accuracy: -0.48648504557229455\n",
      "Epoch: 702 \n",
      "Accuracy: -0.4865569276940661\n"
     ]
    },
    {
     "name": "stderr",
     "output_type": "stream",
     "text": [
      "training:  78%|███████▊  | 705/899 [01:58<00:33,  5.81iteration/s]"
     ]
    },
    {
     "name": "stdout",
     "output_type": "stream",
     "text": [
      "Epoch: 703 \n",
      "Accuracy: -0.48662867127838283\n",
      "Epoch: 704 \n",
      "Accuracy: -0.48670027674872063\n"
     ]
    },
    {
     "name": "stderr",
     "output_type": "stream",
     "text": [
      "training:  79%|███████▊  | 707/899 [01:59<00:33,  5.76iteration/s]"
     ]
    },
    {
     "name": "stdout",
     "output_type": "stream",
     "text": [
      "Epoch: 705 \n",
      "Accuracy: -0.4867717445259855\n",
      "Epoch: 706 \n",
      "Accuracy: -0.4868430750285483\n"
     ]
    },
    {
     "name": "stderr",
     "output_type": "stream",
     "text": [
      "training:  79%|███████▉  | 708/899 [01:59<00:33,  5.74iteration/s]"
     ]
    },
    {
     "name": "stdout",
     "output_type": "stream",
     "text": [
      "Epoch: 707 \n",
      "Accuracy: -0.48691426867225507\n",
      "Epoch: 708 \n",
      "Accuracy: -0.4869853258704636\n"
     ]
    },
    {
     "name": "stderr",
     "output_type": "stream",
     "text": [
      "training:  79%|███████▉  | 711/899 [01:59<00:32,  5.72iteration/s]"
     ]
    },
    {
     "name": "stdout",
     "output_type": "stream",
     "text": [
      "Epoch: 709 \n",
      "Accuracy: -0.48705624703406947\n",
      "Epoch: 710 \n",
      "Accuracy: -0.4871270325715341\n"
     ]
    },
    {
     "name": "stderr",
     "output_type": "stream",
     "text": [
      "training:  79%|███████▉  | 713/899 [02:00<00:32,  5.70iteration/s]"
     ]
    },
    {
     "name": "stdout",
     "output_type": "stream",
     "text": [
      "Epoch: 711 \n",
      "Accuracy: -0.4871976828888903\n",
      "Epoch: 712 \n",
      "Accuracy: -0.48726819838979585\n"
     ]
    },
    {
     "name": "stderr",
     "output_type": "stream",
     "text": [
      "training:  80%|███████▉  | 715/899 [02:00<00:32,  5.72iteration/s]"
     ]
    },
    {
     "name": "stdout",
     "output_type": "stream",
     "text": [
      "Epoch: 713 \n",
      "Accuracy: -0.48733857947554016\n",
      "Epoch: 714 \n",
      "Accuracy: -0.48740882654506656\n"
     ]
    },
    {
     "name": "stderr",
     "output_type": "stream",
     "text": [
      "training:  80%|███████▉  | 717/899 [02:00<00:31,  5.72iteration/s]"
     ]
    },
    {
     "name": "stdout",
     "output_type": "stream",
     "text": [
      "Epoch: 715 \n",
      "Accuracy: -0.4874789399950098\n",
      "Epoch: 716 \n",
      "Accuracy: -0.48754892021970886\n"
     ]
    },
    {
     "name": "stderr",
     "output_type": "stream",
     "text": [
      "training:  80%|███████▉  | 718/899 [02:01<00:32,  5.56iteration/s]"
     ]
    },
    {
     "name": "stdout",
     "output_type": "stream",
     "text": [
      "Epoch: 717 \n",
      "Accuracy: -0.487618767611231\n",
      "Epoch: 718 \n",
      "Accuracy: -0.48768848255939734\n"
     ]
    },
    {
     "name": "stderr",
     "output_type": "stream",
     "text": [
      "training:  80%|████████  | 721/899 [02:01<00:31,  5.60iteration/s]"
     ]
    },
    {
     "name": "stdout",
     "output_type": "stream",
     "text": [
      "Epoch: 719 \n",
      "Accuracy: -0.48775806545180667\n",
      "Epoch: 720 \n",
      "Accuracy: -0.48782751667385027\n"
     ]
    },
    {
     "name": "stderr",
     "output_type": "stream",
     "text": [
      "training:  80%|████████  | 723/899 [02:02<00:30,  5.77iteration/s]"
     ]
    },
    {
     "name": "stdout",
     "output_type": "stream",
     "text": [
      "Epoch: 721 \n",
      "Accuracy: -0.4878968366087494\n",
      "Epoch: 722 \n",
      "Accuracy: -0.48796602563755387\n"
     ]
    },
    {
     "name": "stderr",
     "output_type": "stream",
     "text": [
      "training:  81%|████████  | 725/899 [02:02<00:27,  6.27iteration/s]"
     ]
    },
    {
     "name": "stdout",
     "output_type": "stream",
     "text": [
      "Epoch: 723 \n",
      "Accuracy: -0.4880350841391782\n",
      "Epoch: 724 \n",
      "Accuracy: -0.488104012490428\n"
     ]
    },
    {
     "name": "stderr",
     "output_type": "stream",
     "text": [
      "training:  81%|████████  | 726/899 [02:02<00:27,  6.29iteration/s]"
     ]
    },
    {
     "name": "stdout",
     "output_type": "stream",
     "text": [
      "Epoch: 725 \n",
      "Accuracy: -0.48817281106601473\n",
      "Epoch: 726 \n",
      "Accuracy: -0.4882414802385656\n"
     ]
    },
    {
     "name": "stderr",
     "output_type": "stream",
     "text": [
      "training:  81%|████████  | 729/899 [02:02<00:24,  6.88iteration/s]"
     ]
    },
    {
     "name": "stdout",
     "output_type": "stream",
     "text": [
      "Epoch: 727 \n",
      "Accuracy: -0.48831002037865645\n",
      "Epoch: 728 \n",
      "Accuracy: -0.48837843185483976\n"
     ]
    },
    {
     "name": "stderr",
     "output_type": "stream",
     "text": [
      "training:  81%|████████▏ | 731/899 [02:03<00:26,  6.33iteration/s]"
     ]
    },
    {
     "name": "stdout",
     "output_type": "stream",
     "text": [
      "Epoch: 729 \n",
      "Accuracy: -0.488446715033643\n",
      "Epoch: 730 \n",
      "Accuracy: -0.48851487027960017\n"
     ]
    },
    {
     "name": "stderr",
     "output_type": "stream",
     "text": [
      "training:  82%|████████▏ | 733/899 [02:03<00:25,  6.54iteration/s]"
     ]
    },
    {
     "name": "stdout",
     "output_type": "stream",
     "text": [
      "Epoch: 731 \n",
      "Accuracy: -0.4885828979552719\n",
      "Epoch: 732 \n",
      "Accuracy: -0.488650798421261\n"
     ]
    },
    {
     "name": "stderr",
     "output_type": "stream",
     "text": [
      "training:  82%|████████▏ | 735/899 [02:03<00:26,  6.17iteration/s]"
     ]
    },
    {
     "name": "stdout",
     "output_type": "stream",
     "text": [
      "Epoch: 733 \n",
      "Accuracy: -0.4887185720362369\n",
      "Epoch: 734 \n",
      "Accuracy: -0.48878621915694664\n"
     ]
    },
    {
     "name": "stderr",
     "output_type": "stream",
     "text": [
      "training:  82%|████████▏ | 737/899 [02:04<00:24,  6.65iteration/s]"
     ]
    },
    {
     "name": "stdout",
     "output_type": "stream",
     "text": [
      "Epoch: 735 \n",
      "Accuracy: -0.488853740138231\n",
      "Epoch: 736 \n",
      "Accuracy: -0.48892113533305614\n"
     ]
    },
    {
     "name": "stderr",
     "output_type": "stream",
     "text": [
      "training:  82%|████████▏ | 739/899 [02:04<00:26,  5.94iteration/s]"
     ]
    },
    {
     "name": "stdout",
     "output_type": "stream",
     "text": [
      "Epoch: 737 \n",
      "Accuracy: -0.48898840509252695\n",
      "Epoch: 738 \n",
      "Accuracy: -0.48905554976589183\n"
     ]
    },
    {
     "name": "stderr",
     "output_type": "stream",
     "text": [
      "training:  82%|████████▏ | 741/899 [02:04<00:27,  5.81iteration/s]"
     ]
    },
    {
     "name": "stdout",
     "output_type": "stream",
     "text": [
      "Epoch: 739 \n",
      "Accuracy: -0.4891225697005729\n",
      "Epoch: 740 \n",
      "Accuracy: -0.4891894652421872\n"
     ]
    },
    {
     "name": "stderr",
     "output_type": "stream",
     "text": [
      "training:  83%|████████▎ | 743/899 [02:05<00:28,  5.55iteration/s]"
     ]
    },
    {
     "name": "stdout",
     "output_type": "stream",
     "text": [
      "Epoch: 741 \n",
      "Accuracy: -0.48925623673454466\n",
      "Epoch: 742 \n",
      "Accuracy: -0.48932288451968564\n"
     ]
    },
    {
     "name": "stderr",
     "output_type": "stream",
     "text": [
      "training:  83%|████████▎ | 744/899 [02:05<00:24,  6.40iteration/s]"
     ]
    },
    {
     "name": "stdout",
     "output_type": "stream",
     "text": [
      "Epoch: 743 \n",
      "Accuracy: -0.4893894089378864\n",
      "Epoch: 744 \n",
      "Accuracy: -0.48945581032767305\n"
     ]
    },
    {
     "name": "stderr",
     "output_type": "stream",
     "text": [
      "training:  83%|████████▎ | 747/899 [02:05<00:25,  5.85iteration/s]"
     ]
    },
    {
     "name": "stdout",
     "output_type": "stream",
     "text": [
      "Epoch: 745 \n",
      "Accuracy: -0.48952208902585015\n",
      "Epoch: 746 \n",
      "Accuracy: -0.489588245367501\n"
     ]
    },
    {
     "name": "stderr",
     "output_type": "stream",
     "text": [
      "training:  83%|████████▎ | 749/899 [02:06<00:26,  5.67iteration/s]"
     ]
    },
    {
     "name": "stdout",
     "output_type": "stream",
     "text": [
      "Epoch: 747 \n",
      "Accuracy: -0.48965427968601893\n",
      "Epoch: 748 \n",
      "Accuracy: -0.48972019231311037\n"
     ]
    },
    {
     "name": "stderr",
     "output_type": "stream",
     "text": [
      "training:  84%|████████▎ | 751/899 [02:06<00:25,  5.86iteration/s]"
     ]
    },
    {
     "name": "stdout",
     "output_type": "stream",
     "text": [
      "Epoch: 749 \n",
      "Accuracy: -0.489785983578814\n",
      "Epoch: 750 \n",
      "Accuracy: -0.4898516538115175\n"
     ]
    },
    {
     "name": "stderr",
     "output_type": "stream",
     "text": [
      "training:  84%|████████▍ | 753/899 [02:07<00:25,  5.63iteration/s]"
     ]
    },
    {
     "name": "stdout",
     "output_type": "stream",
     "text": [
      "Epoch: 751 \n",
      "Accuracy: -0.48991720333797406\n",
      "Epoch: 752 \n",
      "Accuracy: -0.4899826324833175\n"
     ]
    },
    {
     "name": "stderr",
     "output_type": "stream",
     "text": [
      "training:  84%|████████▍ | 755/899 [02:07<00:25,  5.63iteration/s]"
     ]
    },
    {
     "name": "stdout",
     "output_type": "stream",
     "text": [
      "Epoch: 753 \n",
      "Accuracy: -0.4900479415710687\n",
      "Epoch: 754 \n",
      "Accuracy: -0.4901131309231562\n"
     ]
    },
    {
     "name": "stderr",
     "output_type": "stream",
     "text": [
      "training:  84%|████████▍ | 756/899 [02:07<00:25,  5.70iteration/s]"
     ]
    },
    {
     "name": "stdout",
     "output_type": "stream",
     "text": [
      "Epoch: 755 \n",
      "Accuracy: -0.49017820085992925\n",
      "Epoch: 756 \n",
      "Accuracy: -0.4902431517001765\n"
     ]
    },
    {
     "name": "stderr",
     "output_type": "stream",
     "text": [
      "training:  84%|████████▍ | 759/899 [02:08<00:23,  6.04iteration/s]"
     ]
    },
    {
     "name": "stdout",
     "output_type": "stream",
     "text": [
      "Epoch: 757 \n",
      "Accuracy: -0.4903079837611356\n",
      "Epoch: 758 \n",
      "Accuracy: -0.4903726973585131\n"
     ]
    },
    {
     "name": "stderr",
     "output_type": "stream",
     "text": [
      "training:  85%|████████▍ | 761/899 [02:08<00:22,  6.22iteration/s]"
     ]
    },
    {
     "name": "stdout",
     "output_type": "stream",
     "text": [
      "Epoch: 759 \n",
      "Accuracy: -0.4904372928064732\n",
      "Epoch: 760 \n",
      "Accuracy: -0.4905017704176856\n"
     ]
    },
    {
     "name": "stderr",
     "output_type": "stream",
     "text": [
      "training:  85%|████████▍ | 763/899 [02:08<00:22,  5.94iteration/s]"
     ]
    },
    {
     "name": "stdout",
     "output_type": "stream",
     "text": [
      "Epoch: 761 \n",
      "Accuracy: -0.4905661305033223\n",
      "Epoch: 762 \n",
      "Accuracy: -0.49063037337306625\n"
     ]
    },
    {
     "name": "stderr",
     "output_type": "stream",
     "text": [
      "training:  85%|████████▌ | 765/899 [02:09<00:23,  5.76iteration/s]"
     ]
    },
    {
     "name": "stdout",
     "output_type": "stream",
     "text": [
      "Epoch: 763 \n",
      "Accuracy: -0.4906944993351353\n",
      "Epoch: 764 \n",
      "Accuracy: -0.4907585086962817\n"
     ]
    },
    {
     "name": "stderr",
     "output_type": "stream",
     "text": [
      "training:  85%|████████▌ | 767/899 [02:09<00:21,  6.07iteration/s]"
     ]
    },
    {
     "name": "stdout",
     "output_type": "stream",
     "text": [
      "Epoch: 765 \n",
      "Accuracy: -0.4908224017618189\n",
      "Epoch: 766 \n",
      "Accuracy: -0.490886178835627\n"
     ]
    },
    {
     "name": "stderr",
     "output_type": "stream",
     "text": [
      "training:  86%|████████▌ | 769/899 [02:09<00:18,  7.11iteration/s]"
     ]
    },
    {
     "name": "stdout",
     "output_type": "stream",
     "text": [
      "Epoch: 767 \n",
      "Accuracy: -0.4909498402201605\n",
      "Epoch: 768 \n",
      "Accuracy: -0.4910133862164755\n"
     ]
    },
    {
     "name": "stderr",
     "output_type": "stream",
     "text": [
      "training:  86%|████████▌ | 771/899 [02:09<00:19,  6.41iteration/s]"
     ]
    },
    {
     "name": "stdout",
     "output_type": "stream",
     "text": [
      "Epoch: 769 \n",
      "Accuracy: -0.49107681712422\n",
      "Epoch: 770 \n",
      "Accuracy: -0.4911401332416633\n"
     ]
    },
    {
     "name": "stderr",
     "output_type": "stream",
     "text": [
      "training:  86%|████████▌ | 773/899 [02:10<00:20,  6.18iteration/s]"
     ]
    },
    {
     "name": "stdout",
     "output_type": "stream",
     "text": [
      "Epoch: 771 \n",
      "Accuracy: -0.49120333486569934\n",
      "Epoch: 772 \n",
      "Accuracy: -0.49126642229185935\n"
     ]
    },
    {
     "name": "stderr",
     "output_type": "stream",
     "text": [
      "training:  86%|████████▌ | 775/899 [02:10<00:20,  6.09iteration/s]"
     ]
    },
    {
     "name": "stdout",
     "output_type": "stream",
     "text": [
      "Epoch: 773 \n",
      "Accuracy: -0.4913293958143298\n",
      "Epoch: 774 \n",
      "Accuracy: -0.4913922557259559\n"
     ]
    },
    {
     "name": "stderr",
     "output_type": "stream",
     "text": [
      "training:  86%|████████▋ | 777/899 [02:10<00:20,  5.97iteration/s]"
     ]
    },
    {
     "name": "stdout",
     "output_type": "stream",
     "text": [
      "Epoch: 775 \n",
      "Accuracy: -0.491455002318249\n",
      "Epoch: 776 \n",
      "Accuracy: -0.49151763588141206\n"
     ]
    },
    {
     "name": "stderr",
     "output_type": "stream",
     "text": [
      "training:  87%|████████▋ | 779/899 [02:11<00:20,  5.84iteration/s]"
     ]
    },
    {
     "name": "stdout",
     "output_type": "stream",
     "text": [
      "Epoch: 777 \n",
      "Accuracy: -0.49158015670433974\n",
      "Epoch: 778 \n",
      "Accuracy: -0.49164256507462645\n"
     ]
    },
    {
     "name": "stderr",
     "output_type": "stream",
     "text": [
      "training:  87%|████████▋ | 781/899 [02:11<00:20,  5.83iteration/s]"
     ]
    },
    {
     "name": "stdout",
     "output_type": "stream",
     "text": [
      "Epoch: 779 \n",
      "Accuracy: -0.49170486127859536\n",
      "Epoch: 780 \n",
      "Accuracy: -0.4917670456012807\n"
     ]
    },
    {
     "name": "stderr",
     "output_type": "stream",
     "text": [
      "training:  87%|████████▋ | 783/899 [02:11<00:18,  6.11iteration/s]"
     ]
    },
    {
     "name": "stdout",
     "output_type": "stream",
     "text": [
      "Epoch: 781 \n",
      "Accuracy: -0.4918291183264646\n",
      "Epoch: 782 \n",
      "Accuracy: -0.49189107973666923\n"
     ]
    },
    {
     "name": "stderr",
     "output_type": "stream",
     "text": [
      "training:  87%|████████▋ | 785/899 [02:12<00:19,  5.90iteration/s]"
     ]
    },
    {
     "name": "stdout",
     "output_type": "stream",
     "text": [
      "Epoch: 783 \n",
      "Accuracy: -0.49195293011317254\n",
      "Epoch: 784 \n",
      "Accuracy: -0.4920146697360227\n"
     ]
    },
    {
     "name": "stderr",
     "output_type": "stream",
     "text": [
      "training:  88%|████████▊ | 787/899 [02:12<00:17,  6.57iteration/s]"
     ]
    },
    {
     "name": "stdout",
     "output_type": "stream",
     "text": [
      "Epoch: 785 \n",
      "Accuracy: -0.49207629888405047\n",
      "Epoch: 786 \n",
      "Accuracy: -0.49213781783486177\n"
     ]
    },
    {
     "name": "stderr",
     "output_type": "stream",
     "text": [
      "training:  88%|████████▊ | 789/899 [02:12<00:17,  6.24iteration/s]"
     ]
    },
    {
     "name": "stdout",
     "output_type": "stream",
     "text": [
      "Epoch: 787 \n",
      "Accuracy: -0.49219922686486417\n",
      "Epoch: 788 \n",
      "Accuracy: -0.49226052624927086\n"
     ]
    },
    {
     "name": "stderr",
     "output_type": "stream",
     "text": [
      "training:  88%|████████▊ | 790/899 [02:13<00:17,  6.07iteration/s]"
     ]
    },
    {
     "name": "stdout",
     "output_type": "stream",
     "text": [
      "Epoch: 789 \n",
      "Accuracy: -0.4923217162621093\n",
      "Epoch: 790 \n",
      "Accuracy: -0.49238279717623035\n"
     ]
    },
    {
     "name": "stderr",
     "output_type": "stream",
     "text": [
      "training:  88%|████████▊ | 793/899 [02:13<00:18,  5.86iteration/s]"
     ]
    },
    {
     "name": "stdout",
     "output_type": "stream",
     "text": [
      "Epoch: 791 \n",
      "Accuracy: -0.49244376926332334\n",
      "Epoch: 792 \n",
      "Accuracy: -0.49250463279391543\n"
     ]
    },
    {
     "name": "stderr",
     "output_type": "stream",
     "text": [
      "training:  88%|████████▊ | 794/899 [02:13<00:18,  5.81iteration/s]"
     ]
    },
    {
     "name": "stdout",
     "output_type": "stream",
     "text": [
      "Epoch: 793 \n",
      "Accuracy: -0.4925653880373909\n",
      "Epoch: 794 \n",
      "Accuracy: -0.49262603526198456\n"
     ]
    },
    {
     "name": "stderr",
     "output_type": "stream",
     "text": [
      "training:  89%|████████▊ | 797/899 [02:14<00:17,  5.84iteration/s]"
     ]
    },
    {
     "name": "stdout",
     "output_type": "stream",
     "text": [
      "Epoch: 795 \n",
      "Accuracy: -0.49268657473481337\n",
      "Epoch: 796 \n",
      "Accuracy: -0.492747006721865\n"
     ]
    },
    {
     "name": "stderr",
     "output_type": "stream",
     "text": [
      "training:  89%|████████▉ | 799/899 [02:14<00:16,  5.89iteration/s]"
     ]
    },
    {
     "name": "stdout",
     "output_type": "stream",
     "text": [
      "Epoch: 797 \n",
      "Accuracy: -0.49280733148801426\n",
      "Epoch: 798 \n",
      "Accuracy: -0.4928675492970368\n"
     ]
    },
    {
     "name": "stderr",
     "output_type": "stream",
     "text": [
      "training:  89%|████████▉ | 801/899 [02:15<00:16,  5.79iteration/s]"
     ]
    },
    {
     "name": "stdout",
     "output_type": "stream",
     "text": [
      "Epoch: 799 \n",
      "Accuracy: -0.49292766041160074\n",
      "Epoch: 800 \n",
      "Accuracy: -0.4929876650932953\n"
     ]
    },
    {
     "name": "stderr",
     "output_type": "stream",
     "text": [
      "training:  89%|████████▉ | 803/899 [02:15<00:16,  5.87iteration/s]"
     ]
    },
    {
     "name": "stdout",
     "output_type": "stream",
     "text": [
      "Epoch: 801 \n",
      "Accuracy: -0.49304756360263113\n",
      "Epoch: 802 \n",
      "Accuracy: -0.4931073561990337\n"
     ]
    },
    {
     "name": "stderr",
     "output_type": "stream",
     "text": [
      "training:  90%|████████▉ | 805/899 [02:15<00:16,  5.78iteration/s]"
     ]
    },
    {
     "name": "stdout",
     "output_type": "stream",
     "text": [
      "Epoch: 803 \n",
      "Accuracy: -0.4931670431408878\n",
      "Epoch: 804 \n",
      "Accuracy: -0.49322662468550205\n"
     ]
    },
    {
     "name": "stderr",
     "output_type": "stream",
     "text": [
      "training:  90%|████████▉ | 806/899 [02:15<00:15,  5.92iteration/s]"
     ]
    },
    {
     "name": "stdout",
     "output_type": "stream",
     "text": [
      "Epoch: 805 \n",
      "Accuracy: -0.49328610108914417\n",
      "Epoch: 806 \n",
      "Accuracy: -0.4933454726070422\n"
     ]
    },
    {
     "name": "stderr",
     "output_type": "stream",
     "text": [
      "training:  90%|████████▉ | 809/899 [02:16<00:15,  5.96iteration/s]"
     ]
    },
    {
     "name": "stdout",
     "output_type": "stream",
     "text": [
      "Epoch: 807 \n",
      "Accuracy: -0.4934047394933908\n",
      "Epoch: 808 \n",
      "Accuracy: -0.4934639020013617\n"
     ]
    },
    {
     "name": "stderr",
     "output_type": "stream",
     "text": [
      "training:  90%|█████████ | 811/899 [02:16<00:15,  5.83iteration/s]"
     ]
    },
    {
     "name": "stdout",
     "output_type": "stream",
     "text": [
      "Epoch: 809 \n",
      "Accuracy: -0.4935229603831054\n",
      "Epoch: 810 \n",
      "Accuracy: -0.4935819148897719\n"
     ]
    },
    {
     "name": "stderr",
     "output_type": "stream",
     "text": [
      "training:  90%|█████████ | 813/899 [02:17<00:14,  5.77iteration/s]"
     ]
    },
    {
     "name": "stdout",
     "output_type": "stream",
     "text": [
      "Epoch: 811 \n",
      "Accuracy: -0.4936407657714966\n",
      "Epoch: 812 \n",
      "Accuracy: -0.49369951327742545\n"
     ]
    },
    {
     "name": "stderr",
     "output_type": "stream",
     "text": [
      "training:  91%|█████████ | 815/899 [02:17<00:13,  6.01iteration/s]"
     ]
    },
    {
     "name": "stdout",
     "output_type": "stream",
     "text": [
      "Epoch: 813 \n",
      "Accuracy: -0.49375815765571185\n",
      "Epoch: 814 \n",
      "Accuracy: -0.49381669915353077\n"
     ]
    },
    {
     "name": "stderr",
     "output_type": "stream",
     "text": [
      "training:  91%|█████████ | 817/899 [02:17<00:12,  6.56iteration/s]"
     ]
    },
    {
     "name": "stdout",
     "output_type": "stream",
     "text": [
      "Epoch: 815 \n",
      "Accuracy: -0.49387513801709104\n",
      "Epoch: 816 \n",
      "Accuracy: -0.4939334744916205\n"
     ]
    },
    {
     "name": "stderr",
     "output_type": "stream",
     "text": [
      "training:  91%|█████████ | 819/899 [02:18<00:12,  6.25iteration/s]"
     ]
    },
    {
     "name": "stdout",
     "output_type": "stream",
     "text": [
      "Epoch: 817 \n",
      "Accuracy: -0.49399170882139376\n",
      "Epoch: 818 \n",
      "Accuracy: -0.4940498412497293\n"
     ]
    },
    {
     "name": "stderr",
     "output_type": "stream",
     "text": [
      "training:  91%|█████████ | 820/899 [02:18<00:12,  6.36iteration/s]"
     ]
    },
    {
     "name": "stdout",
     "output_type": "stream",
     "text": [
      "Epoch: 819 \n",
      "Accuracy: -0.49410787201900075\n",
      "Epoch: 820 \n",
      "Accuracy: -0.4941658013706426\n"
     ]
    },
    {
     "name": "stderr",
     "output_type": "stream",
     "text": [
      "training:  92%|█████████▏| 823/899 [02:18<00:10,  6.92iteration/s]"
     ]
    },
    {
     "name": "stdout",
     "output_type": "stream",
     "text": [
      "Epoch: 821 \n",
      "Accuracy: -0.494223629545154\n",
      "Epoch: 822 \n",
      "Accuracy: -0.49428135678210794\n"
     ]
    },
    {
     "name": "stderr",
     "output_type": "stream",
     "text": [
      "training:  92%|█████████▏| 825/899 [02:18<00:11,  6.49iteration/s]"
     ]
    },
    {
     "name": "stdout",
     "output_type": "stream",
     "text": [
      "Epoch: 823 \n",
      "Accuracy: -0.49433898332015136\n",
      "Epoch: 824 \n",
      "Accuracy: -0.4943965093970243\n"
     ]
    },
    {
     "name": "stderr",
     "output_type": "stream",
     "text": [
      "training:  92%|█████████▏| 826/899 [02:19<00:11,  6.40iteration/s]"
     ]
    },
    {
     "name": "stdout",
     "output_type": "stream",
     "text": [
      "Epoch: 825 \n",
      "Accuracy: -0.49445393524955106\n",
      "Epoch: 826 \n",
      "Accuracy: -0.4945112611136623\n"
     ]
    },
    {
     "name": "stderr",
     "output_type": "stream",
     "text": [
      "training:  92%|█████████▏| 829/899 [02:19<00:10,  6.62iteration/s]"
     ]
    },
    {
     "name": "stdout",
     "output_type": "stream",
     "text": [
      "Epoch: 827 \n",
      "Accuracy: -0.4945684872243882\n",
      "Epoch: 828 \n",
      "Accuracy: -0.4946256138158708\n"
     ]
    },
    {
     "name": "stderr",
     "output_type": "stream",
     "text": [
      "training:  92%|█████████▏| 831/899 [02:19<00:10,  6.61iteration/s]"
     ]
    },
    {
     "name": "stdout",
     "output_type": "stream",
     "text": [
      "Epoch: 829 \n",
      "Accuracy: -0.49468264112136195\n",
      "Epoch: 830 \n",
      "Accuracy: -0.49473956937324426\n"
     ]
    },
    {
     "name": "stderr",
     "output_type": "stream",
     "text": [
      "training:  93%|█████████▎| 833/899 [02:20<00:10,  6.12iteration/s]"
     ]
    },
    {
     "name": "stdout",
     "output_type": "stream",
     "text": [
      "Epoch: 831 \n",
      "Accuracy: -0.4947963988030254\n",
      "Epoch: 832 \n",
      "Accuracy: -0.49485312964134265\n"
     ]
    },
    {
     "name": "stderr",
     "output_type": "stream",
     "text": [
      "training:  93%|█████████▎| 835/899 [02:20<00:09,  6.68iteration/s]"
     ]
    },
    {
     "name": "stdout",
     "output_type": "stream",
     "text": [
      "Epoch: 833 \n",
      "Accuracy: -0.4949097621179831\n",
      "Epoch: 834 \n",
      "Accuracy: -0.49496629646187007\n"
     ]
    },
    {
     "name": "stderr",
     "output_type": "stream",
     "text": [
      "training:  93%|█████████▎| 837/899 [02:20<00:10,  6.01iteration/s]"
     ]
    },
    {
     "name": "stdout",
     "output_type": "stream",
     "text": [
      "Epoch: 835 \n",
      "Accuracy: -0.49502273290107934\n",
      "Epoch: 836 \n",
      "Accuracy: -0.4950790716628467\n"
     ]
    },
    {
     "name": "stderr",
     "output_type": "stream",
     "text": [
      "training:  93%|█████████▎| 839/899 [02:21<00:10,  5.74iteration/s]"
     ]
    },
    {
     "name": "stdout",
     "output_type": "stream",
     "text": [
      "Epoch: 837 \n",
      "Accuracy: -0.49513531297357105\n",
      "Epoch: 838 \n",
      "Accuracy: -0.4951914570588135\n"
     ]
    },
    {
     "name": "stderr",
     "output_type": "stream",
     "text": [
      "training:  94%|█████████▎| 841/899 [02:21<00:10,  5.71iteration/s]"
     ]
    },
    {
     "name": "stdout",
     "output_type": "stream",
     "text": [
      "Epoch: 839 \n",
      "Accuracy: -0.49524750414331165\n",
      "Epoch: 840 \n",
      "Accuracy: -0.4953034544509801\n"
     ]
    },
    {
     "name": "stderr",
     "output_type": "stream",
     "text": [
      "training:  94%|█████████▍| 843/899 [02:21<00:09,  5.70iteration/s]"
     ]
    },
    {
     "name": "stdout",
     "output_type": "stream",
     "text": [
      "Epoch: 841 \n",
      "Accuracy: -0.49535930820492025\n",
      "Epoch: 842 \n",
      "Accuracy: -0.49541506562741666\n"
     ]
    },
    {
     "name": "stderr",
     "output_type": "stream",
     "text": [
      "training:  94%|█████████▍| 844/899 [02:22<00:10,  5.27iteration/s]"
     ]
    },
    {
     "name": "stdout",
     "output_type": "stream",
     "text": [
      "Epoch: 843 \n",
      "Accuracy: -0.49547072693995686\n"
     ]
    },
    {
     "name": "stderr",
     "output_type": "stream",
     "text": [
      "training:  94%|█████████▍| 846/899 [02:22<00:10,  5.19iteration/s]"
     ]
    },
    {
     "name": "stdout",
     "output_type": "stream",
     "text": [
      "Epoch: 844 \n",
      "Accuracy: -0.4955262923632159\n",
      "Epoch: 845 \n",
      "Accuracy: -0.4955817621170836\n"
     ]
    },
    {
     "name": "stderr",
     "output_type": "stream",
     "text": [
      "training:  94%|█████████▍| 848/899 [02:22<00:09,  5.43iteration/s]"
     ]
    },
    {
     "name": "stdout",
     "output_type": "stream",
     "text": [
      "Epoch: 846 \n",
      "Accuracy: -0.49563713642065255\n",
      "Epoch: 847 \n",
      "Accuracy: -0.49569241549223453\n"
     ]
    },
    {
     "name": "stderr",
     "output_type": "stream",
     "text": [
      "training:  95%|█████████▍| 850/899 [02:23<00:08,  6.06iteration/s]"
     ]
    },
    {
     "name": "stdout",
     "output_type": "stream",
     "text": [
      "Epoch: 848 \n",
      "Accuracy: -0.4957475995493549\n",
      "Epoch: 849 \n",
      "Accuracy: -0.4958026888087651\n"
     ]
    },
    {
     "name": "stderr",
     "output_type": "stream",
     "text": [
      "training:  95%|█████████▍| 852/899 [02:23<00:07,  5.94iteration/s]"
     ]
    },
    {
     "name": "stdout",
     "output_type": "stream",
     "text": [
      "Epoch: 850 \n",
      "Accuracy: -0.4958576834864502\n",
      "Epoch: 851 \n",
      "Accuracy: -0.4959125837976236\n"
     ]
    },
    {
     "name": "stderr",
     "output_type": "stream",
     "text": [
      "training:  95%|█████████▍| 854/899 [02:23<00:07,  6.11iteration/s]"
     ]
    },
    {
     "name": "stdout",
     "output_type": "stream",
     "text": [
      "Epoch: 852 \n",
      "Accuracy: -0.49596738995674305\n",
      "Epoch: 853 \n",
      "Accuracy: -0.4960221021775034\n"
     ]
    },
    {
     "name": "stderr",
     "output_type": "stream",
     "text": [
      "training:  95%|█████████▌| 855/899 [02:23<00:07,  5.97iteration/s]"
     ]
    },
    {
     "name": "stdout",
     "output_type": "stream",
     "text": [
      "Epoch: 854 \n",
      "Accuracy: -0.4960767206728468\n",
      "Epoch: 855 \n",
      "Accuracy: -0.4961312456549737\n"
     ]
    },
    {
     "name": "stderr",
     "output_type": "stream",
     "text": [
      "training:  95%|█████████▌| 858/899 [02:24<00:06,  5.90iteration/s]"
     ]
    },
    {
     "name": "stdout",
     "output_type": "stream",
     "text": [
      "Epoch: 856 \n",
      "Accuracy: -0.4961856773353396\n",
      "Epoch: 857 \n",
      "Accuracy: -0.4962400159246608\n"
     ]
    },
    {
     "name": "stderr",
     "output_type": "stream",
     "text": [
      "training:  96%|█████████▌| 859/899 [02:24<00:06,  5.83iteration/s]"
     ]
    },
    {
     "name": "stdout",
     "output_type": "stream",
     "text": [
      "Epoch: 858 \n",
      "Accuracy: -0.4962942616329157\n",
      "Epoch: 859 \n",
      "Accuracy: -0.4963484146693592\n"
     ]
    },
    {
     "name": "stderr",
     "output_type": "stream",
     "text": [
      "training:  96%|█████████▌| 862/899 [02:25<00:06,  5.93iteration/s]"
     ]
    },
    {
     "name": "stdout",
     "output_type": "stream",
     "text": [
      "Epoch: 860 \n",
      "Accuracy: -0.4964024752425139\n",
      "Epoch: 861 \n",
      "Accuracy: -0.49645644356019336\n"
     ]
    },
    {
     "name": "stderr",
     "output_type": "stream",
     "text": [
      "training:  96%|█████████▌| 864/899 [02:25<00:05,  6.31iteration/s]"
     ]
    },
    {
     "name": "stdout",
     "output_type": "stream",
     "text": [
      "Epoch: 862 \n",
      "Accuracy: -0.49651031982948146\n",
      "Epoch: 863 \n",
      "Accuracy: -0.4965641042567567\n"
     ]
    },
    {
     "name": "stderr",
     "output_type": "stream",
     "text": [
      "training:  96%|█████████▋| 866/899 [02:25<00:05,  6.33iteration/s]"
     ]
    },
    {
     "name": "stdout",
     "output_type": "stream",
     "text": [
      "Epoch: 864 \n",
      "Accuracy: -0.4966177970476874\n",
      "Epoch: 865 \n",
      "Accuracy: -0.4966713984072394\n"
     ]
    },
    {
     "name": "stderr",
     "output_type": "stream",
     "text": [
      "training:  97%|█████████▋| 868/899 [02:26<00:04,  6.27iteration/s]"
     ]
    },
    {
     "name": "stdout",
     "output_type": "stream",
     "text": [
      "Epoch: 866 \n",
      "Accuracy: -0.49672490853967977\n",
      "Epoch: 867 \n",
      "Accuracy: -0.49677832764856833\n"
     ]
    },
    {
     "name": "stderr",
     "output_type": "stream",
     "text": [
      "training:  97%|█████████▋| 870/899 [02:26<00:04,  6.36iteration/s]"
     ]
    },
    {
     "name": "stdout",
     "output_type": "stream",
     "text": [
      "Epoch: 868 \n",
      "Accuracy: -0.4968316559367917\n",
      "Epoch: 869 \n",
      "Accuracy: -0.4968848936065321\n"
     ]
    },
    {
     "name": "stderr",
     "output_type": "stream",
     "text": [
      "training:  97%|█████████▋| 872/899 [02:26<00:04,  6.27iteration/s]"
     ]
    },
    {
     "name": "stdout",
     "output_type": "stream",
     "text": [
      "Epoch: 870 \n",
      "Accuracy: -0.49693804085929594\n",
      "Epoch: 871 \n",
      "Accuracy: -0.4969910978959132\n"
     ]
    },
    {
     "name": "stderr",
     "output_type": "stream",
     "text": [
      "training:  97%|█████████▋| 874/899 [02:27<00:03,  6.31iteration/s]"
     ]
    },
    {
     "name": "stdout",
     "output_type": "stream",
     "text": [
      "Epoch: 872 \n",
      "Accuracy: -0.49704406491653097\n",
      "Epoch: 873 \n",
      "Accuracy: -0.4970969421206294\n"
     ]
    },
    {
     "name": "stderr",
     "output_type": "stream",
     "text": [
      "training:  97%|█████████▋| 876/899 [02:27<00:03,  6.38iteration/s]"
     ]
    },
    {
     "name": "stdout",
     "output_type": "stream",
     "text": [
      "Epoch: 874 \n",
      "Accuracy: -0.49714972970701965\n",
      "Epoch: 875 \n",
      "Accuracy: -0.49720242787384106\n"
     ]
    },
    {
     "name": "stderr",
     "output_type": "stream",
     "text": [
      "training:  98%|█████████▊| 878/899 [02:27<00:03,  6.20iteration/s]"
     ]
    },
    {
     "name": "stdout",
     "output_type": "stream",
     "text": [
      "Epoch: 876 \n",
      "Accuracy: -0.4972550368185721\n",
      "Epoch: 877 \n",
      "Accuracy: -0.49730755673804816\n",
      "Epoch: 878 \n",
      "Accuracy: -0.49735998782844215\n",
      "Epoch: 879 \n",
      "Accuracy: -0.4974123302852741\n"
     ]
    },
    {
     "name": "stderr",
     "output_type": "stream",
     "text": [
      "training:  98%|█████████▊| 882/899 [02:28<00:02,  6.10iteration/s]"
     ]
    },
    {
     "name": "stdout",
     "output_type": "stream",
     "text": [
      "Epoch: 880 \n",
      "Accuracy: -0.49746458430342566\n",
      "Epoch: 881 \n",
      "Accuracy: -0.4975167500771277\n"
     ]
    },
    {
     "name": "stderr",
     "output_type": "stream",
     "text": [
      "training:  98%|█████████▊| 883/899 [02:28<00:02,  5.98iteration/s]"
     ]
    },
    {
     "name": "stdout",
     "output_type": "stream",
     "text": [
      "Epoch: 882 \n",
      "Accuracy: -0.4975688277999798\n",
      "Epoch: 883 \n",
      "Accuracy: -0.4976208176649378\n"
     ]
    },
    {
     "name": "stderr",
     "output_type": "stream",
     "text": [
      "training:  98%|█████████▊| 885/899 [02:28<00:02,  5.83iteration/s]"
     ]
    },
    {
     "name": "stdout",
     "output_type": "stream",
     "text": [
      "Epoch: 884 \n",
      "Accuracy: -0.4976727198643339\n",
      "Epoch: 885 \n",
      "Accuracy: -0.49772453458986743\n"
     ]
    },
    {
     "name": "stderr",
     "output_type": "stream",
     "text": [
      "training:  99%|█████████▉| 888/899 [02:29<00:01,  5.82iteration/s]"
     ]
    },
    {
     "name": "stdout",
     "output_type": "stream",
     "text": [
      "Epoch: 886 \n",
      "Accuracy: -0.49777626203261705\n",
      "Epoch: 887 \n",
      "Accuracy: -0.49782790238302443\n"
     ]
    },
    {
     "name": "stderr",
     "output_type": "stream",
     "text": [
      "training:  99%|█████████▉| 890/899 [02:29<00:01,  5.76iteration/s]"
     ]
    },
    {
     "name": "stdout",
     "output_type": "stream",
     "text": [
      "Epoch: 888 \n",
      "Accuracy: -0.4978794558309353\n",
      "Epoch: 889 \n",
      "Accuracy: -0.49793092256556515\n"
     ]
    },
    {
     "name": "stderr",
     "output_type": "stream",
     "text": [
      "training:  99%|█████████▉| 891/899 [02:29<00:01,  5.91iteration/s]"
     ]
    },
    {
     "name": "stdout",
     "output_type": "stream",
     "text": [
      "Epoch: 890 \n",
      "Accuracy: -0.49798230277551425\n",
      "Epoch: 891 \n",
      "Accuracy: -0.4980335966487942\n"
     ]
    },
    {
     "name": "stderr",
     "output_type": "stream",
     "text": [
      "training:  99%|█████████▉| 894/899 [02:30<00:00,  5.78iteration/s]"
     ]
    },
    {
     "name": "stdout",
     "output_type": "stream",
     "text": [
      "Epoch: 892 \n",
      "Accuracy: -0.4980848043727911\n",
      "Epoch: 893 \n",
      "Accuracy: -0.4981359261343018\n"
     ]
    },
    {
     "name": "stderr",
     "output_type": "stream",
     "text": [
      "training: 100%|█████████▉| 895/899 [02:30<00:00,  5.75iteration/s]"
     ]
    },
    {
     "name": "stdout",
     "output_type": "stream",
     "text": [
      "Epoch: 894 \n",
      "Accuracy: -0.4981869621195171\n",
      "Epoch: 895 \n",
      "Accuracy: -0.4982379125140358\n"
     ]
    },
    {
     "name": "stderr",
     "output_type": "stream",
     "text": [
      "training: 100%|█████████▉| 898/899 [02:31<00:00,  5.88iteration/s]"
     ]
    },
    {
     "name": "stdout",
     "output_type": "stream",
     "text": [
      "Epoch: 896 \n",
      "Accuracy: -0.4982887775028534\n",
      "Epoch: 897 \n",
      "Accuracy: -0.4983395572703969\n"
     ]
    },
    {
     "name": "stderr",
     "output_type": "stream",
     "text": [
      "training: 100%|██████████| 899/899 [02:31<00:00,  5.94iteration/s]"
     ]
    },
    {
     "name": "stdout",
     "output_type": "stream",
     "text": [
      "Epoch: 898 \n",
      "Accuracy: -0.49839025200049225\n"
     ]
    },
    {
     "name": "stderr",
     "output_type": "stream",
     "text": [
      "\n"
     ]
    },
    {
     "data": {
      "text/html": [
       "<div>\n",
       "<style scoped>\n",
       "    .dataframe tbody tr th:only-of-type {\n",
       "        vertical-align: middle;\n",
       "    }\n",
       "\n",
       "    .dataframe tbody tr th {\n",
       "        vertical-align: top;\n",
       "    }\n",
       "\n",
       "    .dataframe thead th {\n",
       "        text-align: right;\n",
       "    }\n",
       "</style>\n",
       "<table border=\"1\" class=\"dataframe\">\n",
       "  <thead>\n",
       "    <tr style=\"text-align: right;\">\n",
       "      <th></th>\n",
       "      <th>Epoch</th>\n",
       "      <th>B</th>\n",
       "      <th>M1</th>\n",
       "      <th>M2</th>\n",
       "      <th>resid</th>\n",
       "    </tr>\n",
       "  </thead>\n",
       "  <tbody>\n",
       "    <tr>\n",
       "      <th>0</th>\n",
       "      <td>0</td>\n",
       "      <td>0.008121</td>\n",
       "      <td>-0.000054</td>\n",
       "      <td>-0.007330</td>\n",
       "      <td>0.677346</td>\n",
       "    </tr>\n",
       "    <tr>\n",
       "      <th>1</th>\n",
       "      <td>1</td>\n",
       "      <td>0.016140</td>\n",
       "      <td>-0.000112</td>\n",
       "      <td>-0.014541</td>\n",
       "      <td>0.661747</td>\n",
       "    </tr>\n",
       "    <tr>\n",
       "      <th>2</th>\n",
       "      <td>2</td>\n",
       "      <td>0.024057</td>\n",
       "      <td>-0.000174</td>\n",
       "      <td>-0.021633</td>\n",
       "      <td>0.646371</td>\n",
       "    </tr>\n",
       "    <tr>\n",
       "      <th>3</th>\n",
       "      <td>3</td>\n",
       "      <td>0.031876</td>\n",
       "      <td>-0.000239</td>\n",
       "      <td>-0.028610</td>\n",
       "      <td>0.631215</td>\n",
       "    </tr>\n",
       "    <tr>\n",
       "      <th>4</th>\n",
       "      <td>4</td>\n",
       "      <td>0.039596</td>\n",
       "      <td>-0.000307</td>\n",
       "      <td>-0.035471</td>\n",
       "      <td>0.616276</td>\n",
       "    </tr>\n",
       "  </tbody>\n",
       "</table>\n",
       "</div>"
      ],
      "text/plain": [
       "   Epoch         B        M1        M2     resid\n",
       "0      0  0.008121 -0.000054 -0.007330  0.677346\n",
       "1      1  0.016140 -0.000112 -0.014541  0.661747\n",
       "2      2  0.024057 -0.000174 -0.021633  0.646371\n",
       "3      3  0.031876 -0.000239 -0.028610  0.631215\n",
       "4      4  0.039596 -0.000307 -0.035471  0.616276"
      ]
     },
     "execution_count": 48,
     "metadata": {},
     "output_type": "execute_result"
    }
   ],
   "source": [
    "import statistics\n",
    "import random\n",
    "from tqdm import tqdm\n",
    "df=df.dropna()\n",
    "\n",
    "\n",
    "am=statistics.mean(df['Age'])\n",
    "ast=statistics.stdev(df['Age'])\n",
    "om=statistics.mean(df['occnum'])\n",
    "ost=statistics.stdev(df['occnum'])\n",
    "\n",
    "\n",
    "ts=.1\n",
    "trs=(1-ts)\n",
    "trdf=df.sample(frac=1-ts,random_state=2442)\n",
    "tst=df.drop(trdf.index)\n",
    "trdf.head()\n",
    "time.sleep(1)\n",
    "trdf=trdf.dropna()\n",
    "b=0\n",
    "trdf['Age_scaled']=trdf['Age'].apply(lambda x:(x-am)/ast)\n",
    "trdf['occnum_scaled']= trdf['occnum'].apply(lambda x: (x - om) / ost)\n",
    "m1 = 0.0\n",
    "m2 = 0.0\n",
    "b = 0.0\n",
    "epochtest={'Epoch':[], 'B':[], 'M1':[], 'M2':[], 'resid':[]}\n",
    "\n",
    "for i in tqdm(range(len(trdf)), desc=\"training\", unit=\"iteration\"):    \n",
    "    for j, player in trdf.iterrows(): \n",
    "        lr = 0.001/(10^j)\n",
    "\n",
    "        ypred = b + (m1 * player['Age_scaled']) + (m2 * player['occnum_scaled'])\n",
    "        yact = player['outnum']\n",
    "        resid = yact - ypred\n",
    "\n",
    "        b += lr * resid\n",
    "        m1 += lr * resid * player['Age_scaled']  \n",
    "        m2 += lr * resid * player['occnum_scaled']\n",
    "    print(f'Epoch: {i} \\nAccuracy: {resid}')\n",
    "    epochtest['B'].append(b)\n",
    "    epochtest['Epoch'].append(i)\n",
    "    epochtest['M1'].append(m1)\n",
    "    epochtest['M2'].append(m2)\n",
    "    epochtest['resid'].append(resid)\n",
    "epochtest=pd.DataFrame(epochtest)\n",
    "\n",
    "\"\"\"\n",
    "print(f'M1: {m1} \\nM2:{m2} \\nB: {b}')\n",
    "print('\\nyact:', yact)\n",
    "print('ypred:', ypred)\n",
    "print('resid:', resid)\n",
    "print(f'\\nEquation: y_pred = {b} + {m1}(age) + {m2}(occupation number)')\n",
    "\"\"\"\n",
    "epochtest.head()"
   ]
  },
  {
   "cell_type": "code",
   "execution_count": 60,
   "id": "5056dabc-03b2-4b5e-bd8c-5d046e31aac1",
   "metadata": {},
   "outputs": [
    {
     "name": "stdout",
     "output_type": "stream",
     "text": [
      "M1: -0.009029251705380513 \n",
      "M2:-0.2961988304917894 \n",
      "B: 0.3779502228730762\n",
      "resid: 0.0007188303725441658\n",
      "\n",
      "Equation: y_pred = 0.3779502228730762 + -0.009029251705380513(age) + -0.2961988304917894(occupation number)\n"
     ]
    }
   ],
   "source": [
    "best=epochtest[epochtest['resid'].abs() == epochtest['resid'].abs().min()]\n",
    "b=best['B'].values[0]\n",
    "m1=best['M1'].values[0]\n",
    "m2=best['M2'].values[0]\n",
    "resid=best['resid'].values[0]\n",
    "print(f'M1: {m1} \\nM2:{m2} \\nB: {b}')\n",
    "\n",
    "print('resid:', resid)\n",
    "print(f'\\nEquation: y_pred = {b} + {m1}(age) + {m2}(occupation number)')\n"
   ]
  },
  {
   "cell_type": "code",
   "execution_count": 50,
   "id": "b55ee1f2-f5e8-4472-9b91-e83370f4a1f4",
   "metadata": {
    "scrolled": true
   },
   "outputs": [
    {
     "name": "stdout",
     "output_type": "stream",
     "text": [
      "<class 'pandas.core.frame.DataFrame'>\n",
      "Index: 899 entries, 247 to 73\n",
      "Data columns (total 10 columns):\n",
      " #   Column         Non-Null Count  Dtype  \n",
      "---  ------         --------------  -----  \n",
      " 0   Name           899 non-null    object \n",
      " 1   Age            899 non-null    float64\n",
      " 2   Home town      899 non-null    object \n",
      " 3   Occupation     899 non-null    object \n",
      " 4   Outcome        899 non-null    object \n",
      " 5   Season         899 non-null    int64  \n",
      " 6   occnum         899 non-null    int64  \n",
      " 7   outnum         899 non-null    float64\n",
      " 8   Age_scaled     899 non-null    float64\n",
      " 9   occnum_scaled  899 non-null    float64\n",
      "dtypes: float64(4), int64(2), object(4)\n",
      "memory usage: 77.3+ KB\n",
      "\n",
      "\n"
     ]
    },
    {
     "data": {
      "text/html": [
       "<div>\n",
       "<style scoped>\n",
       "    .dataframe tbody tr th:only-of-type {\n",
       "        vertical-align: middle;\n",
       "    }\n",
       "\n",
       "    .dataframe tbody tr th {\n",
       "        vertical-align: top;\n",
       "    }\n",
       "\n",
       "    .dataframe thead th {\n",
       "        text-align: right;\n",
       "    }\n",
       "</style>\n",
       "<table border=\"1\" class=\"dataframe\">\n",
       "  <thead>\n",
       "    <tr style=\"text-align: right;\">\n",
       "      <th></th>\n",
       "      <th>Name</th>\n",
       "      <th>Age</th>\n",
       "      <th>Home town</th>\n",
       "      <th>Occupation</th>\n",
       "      <th>Outcome</th>\n",
       "      <th>Season</th>\n",
       "      <th>occnum</th>\n",
       "      <th>outnum</th>\n",
       "      <th>Age_scaled</th>\n",
       "      <th>occnum_scaled</th>\n",
       "    </tr>\n",
       "  </thead>\n",
       "  <tbody>\n",
       "    <tr>\n",
       "      <th>247</th>\n",
       "      <td>Britnee Marks</td>\n",
       "      <td>25.0</td>\n",
       "      <td>Holland, Pennsylvania</td>\n",
       "      <td>Paralegal</td>\n",
       "      <td>week 1</td>\n",
       "      <td>15</td>\n",
       "      <td>38</td>\n",
       "      <td>0.693147</td>\n",
       "      <td>-0.468977</td>\n",
       "      <td>-1.155559</td>\n",
       "    </tr>\n",
       "    <tr>\n",
       "      <th>508</th>\n",
       "      <td>Eunice Cho</td>\n",
       "      <td>23.0</td>\n",
       "      <td>Chicago, Illinois</td>\n",
       "      <td>Flight Attendant</td>\n",
       "      <td>n/a</td>\n",
       "      <td>24</td>\n",
       "      <td>26</td>\n",
       "      <td>0.693147</td>\n",
       "      <td>-1.100815</td>\n",
       "      <td>-1.220444</td>\n",
       "    </tr>\n",
       "    <tr>\n",
       "      <th>589</th>\n",
       "      <td>Greer Blitzer</td>\n",
       "      <td>24.0</td>\n",
       "      <td>Bellaire, Texas</td>\n",
       "      <td>Medical Sales Representative</td>\n",
       "      <td>7</td>\n",
       "      <td>27</td>\n",
       "      <td>139</td>\n",
       "      <td>2.079442</td>\n",
       "      <td>-0.784896</td>\n",
       "      <td>-0.609442</td>\n",
       "    </tr>\n",
       "    <tr>\n",
       "      <th>90</th>\n",
       "      <td>Carissa Ilburg</td>\n",
       "      <td>25.0</td>\n",
       "      <td>Cattaraugus, New York</td>\n",
       "      <td>Attorney</td>\n",
       "      <td>n/a</td>\n",
       "      <td>9</td>\n",
       "      <td>5</td>\n",
       "      <td>0.693147</td>\n",
       "      <td>-0.468977</td>\n",
       "      <td>-1.333993</td>\n",
       "    </tr>\n",
       "    <tr>\n",
       "      <th>219</th>\n",
       "      <td>Channy Choch</td>\n",
       "      <td>29.0</td>\n",
       "      <td>Santa Rosa, California</td>\n",
       "      <td>Mortgage Loan Officer</td>\n",
       "      <td>n/a</td>\n",
       "      <td>14</td>\n",
       "      <td>160</td>\n",
       "      <td>0.693147</td>\n",
       "      <td>0.794699</td>\n",
       "      <td>-0.495894</td>\n",
       "    </tr>\n",
       "  </tbody>\n",
       "</table>\n",
       "</div>"
      ],
      "text/plain": [
       "               Name   Age               Home town  \\\n",
       "247   Britnee Marks  25.0   Holland, Pennsylvania   \n",
       "508      Eunice Cho  23.0       Chicago, Illinois   \n",
       "589   Greer Blitzer  24.0         Bellaire, Texas   \n",
       "90   Carissa Ilburg  25.0   Cattaraugus, New York   \n",
       "219    Channy Choch  29.0  Santa Rosa, California   \n",
       "\n",
       "                       Occupation Outcome  Season  occnum    outnum  \\\n",
       "247                     Paralegal  week 1      15      38  0.693147   \n",
       "508              Flight Attendant     n/a      24      26  0.693147   \n",
       "589  Medical Sales Representative       7      27     139  2.079442   \n",
       "90                       Attorney     n/a       9       5  0.693147   \n",
       "219         Mortgage Loan Officer     n/a      14     160  0.693147   \n",
       "\n",
       "     Age_scaled  occnum_scaled  \n",
       "247   -0.468977      -1.155559  \n",
       "508   -1.100815      -1.220444  \n",
       "589   -0.784896      -0.609442  \n",
       "90    -0.468977      -1.333993  \n",
       "219    0.794699      -0.495894  "
      ]
     },
     "execution_count": 50,
     "metadata": {},
     "output_type": "execute_result"
    }
   ],
   "source": [
    "\n",
    "\n",
    "trdf.info()\n",
    "print('\\n')\n",
    "trdf.head()"
   ]
  },
  {
   "cell_type": "code",
   "execution_count": 51,
   "id": "5d533abb-5728-4ddb-b099-653f7adf5b4c",
   "metadata": {},
   "outputs": [
    {
     "name": "stdout",
     "output_type": "stream",
     "text": [
      "<class 'pandas.core.frame.DataFrame'>\n",
      "Index: 100 entries, 0 to 997\n",
      "Data columns (total 8 columns):\n",
      " #   Column      Non-Null Count  Dtype  \n",
      "---  ------      --------------  -----  \n",
      " 0   Name        100 non-null    object \n",
      " 1   Age         100 non-null    float64\n",
      " 2   Home town   100 non-null    object \n",
      " 3   Occupation  100 non-null    object \n",
      " 4   Outcome     100 non-null    object \n",
      " 5   Season      100 non-null    int64  \n",
      " 6   occnum      100 non-null    int64  \n",
      " 7   outnum      100 non-null    float64\n",
      "dtypes: float64(2), int64(2), object(4)\n",
      "memory usage: 7.0+ KB\n",
      "\n",
      "\n"
     ]
    },
    {
     "data": {
      "text/html": [
       "<div>\n",
       "<style scoped>\n",
       "    .dataframe tbody tr th:only-of-type {\n",
       "        vertical-align: middle;\n",
       "    }\n",
       "\n",
       "    .dataframe tbody tr th {\n",
       "        vertical-align: top;\n",
       "    }\n",
       "\n",
       "    .dataframe thead th {\n",
       "        text-align: right;\n",
       "    }\n",
       "</style>\n",
       "<table border=\"1\" class=\"dataframe\">\n",
       "  <thead>\n",
       "    <tr style=\"text-align: right;\">\n",
       "      <th></th>\n",
       "      <th>Name</th>\n",
       "      <th>Age</th>\n",
       "      <th>Home town</th>\n",
       "      <th>Occupation</th>\n",
       "      <th>Outcome</th>\n",
       "      <th>Season</th>\n",
       "      <th>occnum</th>\n",
       "      <th>outnum</th>\n",
       "    </tr>\n",
       "  </thead>\n",
       "  <tbody>\n",
       "    <tr>\n",
       "      <th>0</th>\n",
       "      <td>Amanda Marsh</td>\n",
       "      <td>23.0</td>\n",
       "      <td>Chanute, Kansas</td>\n",
       "      <td>Event Planner</td>\n",
       "      <td>winner</td>\n",
       "      <td>1</td>\n",
       "      <td>0</td>\n",
       "      <td>2.079442</td>\n",
       "    </tr>\n",
       "    <tr>\n",
       "      <th>3</th>\n",
       "      <td>Kimberly Karels</td>\n",
       "      <td>24.0</td>\n",
       "      <td>Tempe, Arizona</td>\n",
       "      <td>Nanny</td>\n",
       "      <td>week 4</td>\n",
       "      <td>1</td>\n",
       "      <td>3</td>\n",
       "      <td>1.609438</td>\n",
       "    </tr>\n",
       "    <tr>\n",
       "      <th>4</th>\n",
       "      <td>Cathy Grimes</td>\n",
       "      <td>22.0</td>\n",
       "      <td>Terre Haute, Indiana</td>\n",
       "      <td>Graduate Student</td>\n",
       "      <td>week 3</td>\n",
       "      <td>1</td>\n",
       "      <td>4</td>\n",
       "      <td>1.386294</td>\n",
       "    </tr>\n",
       "    <tr>\n",
       "      <th>10</th>\n",
       "      <td>Angela Lowery</td>\n",
       "      <td>25.0</td>\n",
       "      <td>Avondale, Arizona</td>\n",
       "      <td>Hooters Waitress</td>\n",
       "      <td>week 2</td>\n",
       "      <td>1</td>\n",
       "      <td>10</td>\n",
       "      <td>1.098612</td>\n",
       "    </tr>\n",
       "    <tr>\n",
       "      <th>22</th>\n",
       "      <td>Paula Oliveira</td>\n",
       "      <td>24.0</td>\n",
       "      <td>Swansea, Massachusetts</td>\n",
       "      <td>Insurance Representative</td>\n",
       "      <td>week 1</td>\n",
       "      <td>1</td>\n",
       "      <td>19</td>\n",
       "      <td>0.693147</td>\n",
       "    </tr>\n",
       "  </tbody>\n",
       "</table>\n",
       "</div>"
      ],
      "text/plain": [
       "               Name   Age               Home town                Occupation  \\\n",
       "0      Amanda Marsh  23.0         Chanute, Kansas             Event Planner   \n",
       "3   Kimberly Karels  24.0          Tempe, Arizona                     Nanny   \n",
       "4      Cathy Grimes  22.0    Terre Haute, Indiana          Graduate Student   \n",
       "10    Angela Lowery  25.0       Avondale, Arizona          Hooters Waitress   \n",
       "22   Paula Oliveira  24.0  Swansea, Massachusetts  Insurance Representative   \n",
       "\n",
       "   Outcome  Season  occnum    outnum  \n",
       "0   winner       1       0  2.079442  \n",
       "3   week 4       1       3  1.609438  \n",
       "4   week 3       1       4  1.386294  \n",
       "10  week 2       1      10  1.098612  \n",
       "22  week 1       1      19  0.693147  "
      ]
     },
     "execution_count": 51,
     "metadata": {},
     "output_type": "execute_result"
    }
   ],
   "source": [
    "\n",
    "\n",
    "tst.info()\n",
    "print('\\n')\n",
    "tst.head()"
   ]
  },
  {
   "cell_type": "code",
   "execution_count": null,
   "id": "b6215b12-8d0d-4406-b961-a431b30b5ed6",
   "metadata": {},
   "outputs": [],
   "source": []
  },
  {
   "cell_type": "code",
   "execution_count": 52,
   "id": "170a01d8-4623-4b8b-bddd-03aaf490825e",
   "metadata": {},
   "outputs": [
    {
     "name": "stdout",
     "output_type": "stream",
     "text": [
      "5.999997184632331\n"
     ]
    }
   ],
   "source": [
    "import math\n",
    "result = math.exp(1.791759)\n",
    "print(result)"
   ]
  },
  {
   "cell_type": "code",
   "execution_count": 53,
   "id": "7a4e4c70-79e1-4158-a36d-68716272eb0a",
   "metadata": {},
   "outputs": [
    {
     "data": {
      "text/plain": [
       "'\\nimport numpy as np\\nfrom sklearn.linear_model import LinearRegression\\nfrom sklearn.metrics import r2_score, mean_squared_error\\nfrom sklearn.model_selection import train_test_split\\nimport matplotlib.pyplot as plt\\nxa = df[[\\'Age\\', \\'occnum\\']]\\nya=df[\\'outnum\\']\\n\\nXa_train, Xa_test, ya_train, ya_test = train_test_split(xa, ya, test_size=0.3, random_state=42)\\n\\n\\nmodel = LinearRegression()\\n\\nmodel.fit(Xa_train, ya_train)\\nprint(\"slope:\", model.coef_[0])\\nya_pred = model.predict(Xa_test)\\n\\nmse = mean_squared_error(ya_test, ya_pred)\\n\\nprint(\"Model coefficients:\", model.coef_)\\nprint(\"Model intercept:\", model.intercept_)\\nprint(\"Mean Squared Error:\", mse)\\nprint(\"Predictions:\", ya_pred)\\nr2 = r2_score(ya_test, ya_pred)\\nprint(f\\'R-squared: {r2}\\')\\n'"
      ]
     },
     "execution_count": 53,
     "metadata": {},
     "output_type": "execute_result"
    }
   ],
   "source": [
    "\"\"\"\n",
    "import numpy as np\n",
    "from sklearn.linear_model import LinearRegression\n",
    "from sklearn.metrics import r2_score, mean_squared_error\n",
    "from sklearn.model_selection import train_test_split\n",
    "import matplotlib.pyplot as plt\n",
    "xa = df[['Age', 'occnum']]\n",
    "ya=df['outnum']\n",
    "\n",
    "Xa_train, Xa_test, ya_train, ya_test = train_test_split(xa, ya, test_size=0.3, random_state=42)\n",
    "\n",
    "\n",
    "model = LinearRegression()\n",
    "\n",
    "model.fit(Xa_train, ya_train)\n",
    "print(\"slope:\", model.coef_[0])\n",
    "ya_pred = model.predict(Xa_test)\n",
    "\n",
    "mse = mean_squared_error(ya_test, ya_pred)\n",
    "\n",
    "print(\"Model coefficients:\", model.coef_)\n",
    "print(\"Model intercept:\", model.intercept_)\n",
    "print(\"Mean Squared Error:\", mse)\n",
    "print(\"Predictions:\", ya_pred)\n",
    "r2 = r2_score(ya_test, ya_pred)\n",
    "print(f'R-squared: {r2}')\n",
    "\"\"\""
   ]
  },
  {
   "cell_type": "markdown",
   "id": "cfb2b903",
   "metadata": {},
   "source": [
    "### 3. Testing Your Model\n",
    "In the cell seen below, write the code you need to test your linear regression model. \n",
    "\n",
    "*Note, a model is considered a level 5 if it achieves at least 60% prediction accuracy or achieves an RMSE of 2 weeks or less.*"
   ]
  },
  {
   "cell_type": "code",
   "execution_count": 54,
   "id": "24f8b990",
   "metadata": {},
   "outputs": [
    {
     "name": "stdout",
     "output_type": "stream",
     "text": [
      "0.3779502228730762 -0.009029251705380513 -0.2961988304917894\n"
     ]
    }
   ],
   "source": [
    "print(b, m1, m2)"
   ]
  },
  {
   "cell_type": "code",
   "execution_count": 55,
   "id": "c56460f3-b3f8-45e6-b566-bf50e5d2604c",
   "metadata": {},
   "outputs": [],
   "source": [
    "def equation(age, occ, b=b, m1=m1, m2=m2):\n",
    "    age = float(age)\n",
    "    occ = float(occ)\n",
    "    ypred=b+(m1*age)+(m2*occ)\n",
    "    return ypred"
   ]
  },
  {
   "cell_type": "code",
   "execution_count": 56,
   "id": "bf60ad47-3b11-4aa2-b7d0-d1443eff31fd",
   "metadata": {},
   "outputs": [
    {
     "name": "stdout",
     "output_type": "stream",
     "text": [
      "ACCURATE!\n",
      "ACCURATE!\n",
      "ACCURATE!\n",
      "ACCURATE!\n",
      "ACCURATE!\n",
      "ACCURATE!\n",
      "ACCURATE!\n",
      "ACCURATE!\n",
      "ACCURATE!\n",
      "ACCURATE!\n",
      "ACCURATE!\n",
      "ACCURATE!\n",
      "ACCURATE!\n",
      "ACCURATE!\n",
      "ACCURATE!\n",
      "ACCURATE!\n",
      "ACCURATE!\n",
      "ACCURATE!\n",
      "ACCURATE!\n",
      "ACCURATE!\n",
      "ACCURATE!\n",
      "ACCURATE!\n",
      "ACCURATE!\n",
      "ACCURATE!\n",
      "ACCURATE!\n",
      "\n",
      "accuracy percentage: 67.56756756756756\n"
     ]
    }
   ],
   "source": [
    "\n",
    "ssc = {f'season{i}': {'person': [], 'actual': [], 'predicted':[]} for i in df['Season'].unique()}\n",
    "for i, player in tst.iterrows(): \n",
    "    yact = player['outnum']\n",
    "    person=player['Name']\n",
    "    season = player['Season']\n",
    "    age=player['Age']\n",
    "    occ=player['occnum']\n",
    "    sid=f'season{season}'\n",
    "    ssc[sid]['person'].append(person)\n",
    "    ssc[sid]['actual'].append(yact)\n",
    "    ssc[sid]['predicted'].append(equation(age=age, occ=occ))\n",
    "dfss = {}\n",
    "for season in ssc:\n",
    "    data = ssc[season]\n",
    "    df = pd.DataFrame(data)\n",
    "    if len(df) > 0: \n",
    "        dfss[season] = df\n",
    "acc=0\n",
    "tot=0\n",
    "for season, dfs in dfss.items():\n",
    "    \n",
    "    winner=dfs[dfs['actual'] == dfs['actual'].max()]\n",
    "    predwin=dfs[dfs['predicted'] == dfs['predicted'].max()]\n",
    "    if predwin['person'].iloc[0] == winner['person'].iloc[0]:\n",
    "        acc+=1\n",
    "        print(\"ACCURATE!\")\n",
    "    tot+=1\n",
    "rests=acc/tot\n",
    "print('\\naccuracy percentage:',rests*100)"
   ]
  },
  {
   "cell_type": "markdown",
   "id": "98ef40f1-407a-41c6-9435-cf12c4e4d6ad",
   "metadata": {},
   "source": [
    "# Calculations for likely winner:"
   ]
  },
  {
   "cell_type": "code",
   "execution_count": 57,
   "id": "38aaf408-fc94-41fd-822f-f197499c8395",
   "metadata": {},
   "outputs": [
    {
     "name": "stdout",
     "output_type": "stream",
     "text": [
      "<class 'pandas.core.frame.DataFrame'>\n",
      "RangeIndex: 25 entries, 0 to 24\n",
      "Data columns (total 4 columns):\n",
      " #   Column      Non-Null Count  Dtype \n",
      "---  ------      --------------  ----- \n",
      " 0   Name        25 non-null     object\n",
      " 1   Age         25 non-null     object\n",
      " 2   Home town   25 non-null     object\n",
      " 3   Occupation  25 non-null     object\n",
      "dtypes: object(4)\n",
      "memory usage: 932.0+ bytes\n",
      "pains: []\n",
      "\n",
      "Info\n",
      "<class 'pandas.core.frame.DataFrame'>\n",
      "RangeIndex: 25 entries, 0 to 24\n",
      "Data columns (total 5 columns):\n",
      " #   Column      Non-Null Count  Dtype \n",
      "---  ------      --------------  ----- \n",
      " 0   Name        25 non-null     object\n",
      " 1   Age         25 non-null     object\n",
      " 2   Home town   25 non-null     object\n",
      " 3   Occupation  25 non-null     object\n",
      " 4   occnum      25 non-null     int64 \n",
      "dtypes: int64(1), object(4)\n",
      "memory usage: 1.1+ KB\n",
      "\n",
      "Head\n"
     ]
    },
    {
     "data": {
      "text/html": [
       "<div>\n",
       "<style scoped>\n",
       "    .dataframe tbody tr th:only-of-type {\n",
       "        vertical-align: middle;\n",
       "    }\n",
       "\n",
       "    .dataframe tbody tr th {\n",
       "        vertical-align: top;\n",
       "    }\n",
       "\n",
       "    .dataframe thead th {\n",
       "        text-align: right;\n",
       "    }\n",
       "</style>\n",
       "<table border=\"1\" class=\"dataframe\">\n",
       "  <thead>\n",
       "    <tr style=\"text-align: right;\">\n",
       "      <th></th>\n",
       "      <th>Name</th>\n",
       "      <th>Age</th>\n",
       "      <th>Home town</th>\n",
       "      <th>Occupation</th>\n",
       "      <th>occnum</th>\n",
       "    </tr>\n",
       "  </thead>\n",
       "  <tbody>\n",
       "    <tr>\n",
       "      <th>0</th>\n",
       "      <td>Alexe Godin</td>\n",
       "      <td>27</td>\n",
       "      <td>Néguac, New Brunswick</td>\n",
       "      <td>Pediatric Speech Therapist</td>\n",
       "      <td>627</td>\n",
       "    </tr>\n",
       "    <tr>\n",
       "      <th>1</th>\n",
       "      <td>Alli Jo Hinkes</td>\n",
       "      <td>30</td>\n",
       "      <td>Freehold, New Jersey</td>\n",
       "      <td>Boxing Trainer</td>\n",
       "      <td>628</td>\n",
       "    </tr>\n",
       "    <tr>\n",
       "      <th>2</th>\n",
       "      <td>Allyshia Gupta</td>\n",
       "      <td>29</td>\n",
       "      <td>Wesley Chapel, Florida</td>\n",
       "      <td>Interior Designer</td>\n",
       "      <td>37</td>\n",
       "    </tr>\n",
       "    <tr>\n",
       "      <th>3</th>\n",
       "      <td>Bailey Brown</td>\n",
       "      <td>27</td>\n",
       "      <td>Atlanta, Georgia</td>\n",
       "      <td>Social Media Manager</td>\n",
       "      <td>298</td>\n",
       "    </tr>\n",
       "    <tr>\n",
       "      <th>4</th>\n",
       "      <td>Beverly Ortega</td>\n",
       "      <td>30</td>\n",
       "      <td>Howard Beach, New York</td>\n",
       "      <td>Insurance Salesperson</td>\n",
       "      <td>631</td>\n",
       "    </tr>\n",
       "  </tbody>\n",
       "</table>\n",
       "</div>"
      ],
      "text/plain": [
       "             Name Age               Home town                  Occupation  \\\n",
       "0     Alexe Godin  27   Néguac, New Brunswick  Pediatric Speech Therapist   \n",
       "1  Alli Jo Hinkes  30    Freehold, New Jersey              Boxing Trainer   \n",
       "2  Allyshia Gupta  29  Wesley Chapel, Florida           Interior Designer   \n",
       "3    Bailey Brown  27        Atlanta, Georgia        Social Media Manager   \n",
       "4  Beverly Ortega  30  Howard Beach, New York       Insurance Salesperson   \n",
       "\n",
       "   occnum  \n",
       "0     627  \n",
       "1     628  \n",
       "2      37  \n",
       "3     298  \n",
       "4     631  "
      ]
     },
     "execution_count": 57,
     "metadata": {},
     "output_type": "execute_result"
    }
   ],
   "source": [
    "current = {'Name':[], \n",
    "           'Age': [],\n",
    "           'Home town':[],\n",
    "           'Occupation': [],\n",
    "           }\n",
    "pain=[]\n",
    "doublepain=[]\n",
    "for i in range(1):\n",
    "    url=f'https://en.wikipedia.org/wiki/The_Bachelor_(American_TV_series)_season_29'\n",
    "    response=requests.get(url)\n",
    "    soup = BeautifulSoup(response.text, 'html.parser')\n",
    "    for li in soup.find_all('li'):\n",
    "        li.decompose()\n",
    "    for sup_tag in soup.find_all('sup', class_='reference'):\n",
    "        sup_tag.decompose()\n",
    "    for p in soup.find_all('p'):\n",
    "        p.decompose()\n",
    "    try:\n",
    "        \n",
    "        table = soup.find('table', {'class': 'wikitable'})\n",
    "        if table:\n",
    "            rows = table.find_all('tr')[1:]\n",
    "\n",
    "            for tr in rows:\n",
    "                cells = tr.find_all('td')\n",
    "                \n",
    "                if cells:  \n",
    "                    name = cells[0].text.strip() if len(cells) > 0 else \"N/A\"\n",
    "                    age = cells[1].text.strip() if len(cells) > 1 else \"N/A\"\n",
    "                    hometown = cells[2].text.strip() if len(cells) > 2 else \"N/A\"\n",
    "                    occupation = cells[3].text.strip() if len(cells) > 3 else \"N/A\"\n",
    "                    \n",
    "                    if name == 'N/A':\n",
    "                        continue\n",
    "                    else:\n",
    "                        current['Name'].append(name)\n",
    "                        current['Age'].append(age)\n",
    "                        current['Home town'].append(hometown)\n",
    "                        current['Occupation'].append(occupation)\n",
    "                        \n",
    "            time.sleep(1)\n",
    "        else:\n",
    "            print(\"no table\")\n",
    "    except:\n",
    "        pain.append(url)\n",
    "        print(pain)\n",
    "    \n",
    "current = pd.DataFrame(current)\n",
    "current.info()\n",
    "print(\"pains:\", pain)\n",
    "current.head()\n",
    "current['occnum'] = None\n",
    "Nocc = []\n",
    "Nn = []\n",
    "\n",
    "pastlength=len(occupationnumber)\n",
    "for i, occupation in enumerate(current['Occupation'].unique()):\n",
    "    if occupation not in occupationnumber['occupation'].values:\n",
    "        Nocc.append(occupation)\n",
    "        Nn.append(pastlength + i)\n",
    "if Nocc:\n",
    "    nr = pd.DataFrame({\n",
    "        'occupation': Nocc,\n",
    "        'number': Nn\n",
    "    })\n",
    "    occupationnumber = pd.concat([occupationnumber, nr], ignore_index=True)\n",
    "for i, player in current.iterrows():\n",
    "    occupation = player['Occupation']\n",
    "    assignment = occupationnumber[occupationnumber['occupation'] == occupation]\n",
    "    current.loc[i, 'occnum']=assignment['number'].values[0]\n",
    "current['occnum']=pd.to_numeric(current['occnum'], errors='coerce')\n",
    "print(f'\\nInfo')\n",
    "current.info()\n",
    "print(f'\\nHead')\n",
    "current.head()\n"
   ]
  },
  {
   "cell_type": "code",
   "execution_count": 58,
   "id": "1b8dec61-867f-4425-8a67-2ab12fdf29b6",
   "metadata": {},
   "outputs": [
    {
     "name": "stdout",
     "output_type": "stream",
     "text": [
      "<class 'pandas.core.frame.DataFrame'>\n",
      "RangeIndex: 25 entries, 0 to 24\n",
      "Data columns (total 2 columns):\n",
      " #   Column     Non-Null Count  Dtype  \n",
      "---  ------     --------------  -----  \n",
      " 0   person     25 non-null     object \n",
      " 1   predicted  25 non-null     float64\n",
      "dtypes: float64(1), object(1)\n",
      "memory usage: 532.0+ bytes\n"
     ]
    }
   ],
   "source": [
    "preds = {'person': [], 'predicted': []}\n",
    "for i, player in current.iterrows(): \n",
    "    person=player['Name']\n",
    "    age=player['Age']\n",
    "    occ=player['occnum']\n",
    "    preds['person'].append(person)\n",
    "    preds['predicted'].append(equation(age=age, occ=occ))\n",
    "preds=pd.DataFrame(preds)\n",
    "preds.info()\n"
   ]
  },
  {
   "cell_type": "code",
   "execution_count": 59,
   "id": "0f1a1265-c6dd-4259-804d-f86727752051",
   "metadata": {},
   "outputs": [
    {
     "name": "stdout",
     "output_type": "stream",
     "text": [
      "Predicted winner: Radhika Gupta\n"
     ]
    }
   ],
   "source": [
    "winner=preds[preds['predicted'] == preds['predicted'].max()]\n",
    "print(\"Predicted winner:\",winner['person'].values[0])"
   ]
  },
  {
   "cell_type": "markdown",
   "id": "343eb3f7",
   "metadata": {},
   "source": [
    "### 4. Final Answer\n",
    "\n",
    "In the first cell seen below, state the name of your predicted winner. \n",
    "In the second cell seen below, justify your prediction using an evaluation technique like RMSE or percent accuracy."
   ]
  },
  {
   "cell_type": "markdown",
   "id": "25533722",
   "metadata": {},
   "source": [
    "#### State the name of your predicted winner here."
   ]
  },
  {
   "cell_type": "markdown",
   "id": "c5d0c903-ce99-4b5c-9c5b-962b910cb472",
   "metadata": {},
   "source": [
    "I predict that Radhika Gupta will win."
   ]
  },
  {
   "cell_type": "markdown",
   "id": "e29adde2",
   "metadata": {},
   "source": [
    "#### Justify your prediction here."
   ]
  },
  {
   "cell_type": "markdown",
   "id": "058438d0-82d6-45e3-a8ab-7fda92aaf895",
   "metadata": {},
   "source": [
    "I used a simulation to determine my model's accuracy. This simulation, in brief, compared the contestants within each season to predict who will win. This model was accurate 67.56756756756756% of the time. Please note that the generated values from the equation are not designed for human interpretation. It has no units and was designed to be purely for comparison purposes.\n",
    "\n",
    "67.56756756756756% is not a satisfying number. While better than random, it cannot be considered super accurate, however, I could not raise this further. I believe this is likely due to the uncertain and entertainment nature of these shows. As they desire maximising their views, it is unlikely that there is a set science behind this. However, I have tried various methods to increase the accuracy.\n",
    "\n",
    "First I attempted to just use \"age\" as a variable. This resulted in a model even less accurate then the age and occupation. I then inspected the graphs of age vs amount of wins as well as occupation vs amount of wins. This resulted in two uniform graphs. This signifies that there are no clear relationships between each variable individually, but when mapped over eachother there are areas where the graphs have some overlap. Thus, it will be best to use both. \n",
    "\n",
    "Then I considered using home town location as another variable. I quickly realized the bias this induced, however. I am not using just The Bachelor. I am using various spin-offs from different regions. This includes Britain, Brazillian, New Zealand, etc. There will be little correlation between the locations from the different regions making it not a valid variable. \n",
    "\n",
    "The last possiblity I considered was the chance of overfitting. I already had a degree of over fitting protection because I saved each residual (and its respective equation) inside a dictionary. This allowed me to select the most accuracte equation while avoiding over fitting by epoch. However, this does not allow for protections against over fitting by lack of variability. Thus, I altered the train and test split. My hope was to gain more varied data for the training dataset to hopefully get a more accurate model. Consequently, I altered the split from its original 25% testing split to a 10% split. This allowed for a more accurate equation, but I am not willing to change it further due to the amount of data needed for accurate testing. If I took away more data from the testing dataset, can I consider the new accuracy to be accurate?\n",
    "\n",
    "I believe 67.56756756756756% to be the most accurate this model can be. While I have attempted various changes to get a more accurate mdoel, none bore fruit. However, 67.56756756756756% still satisfies the requirement for this project. While not truly satisfying, I believe this is the limit for a linear regression model.\n",
    "\n",
    "For future analysis and predictions, I would instead use a neural network. This can allow for a deeper analysis of the more nuances between the possible relationships of the data. Such changes are, however, beyond the scope of this project.\n"
   ]
  },
  {
   "cell_type": "code",
   "execution_count": null,
   "id": "9c41f79b-3609-47fc-b148-98375a32d5d2",
   "metadata": {},
   "outputs": [],
   "source": []
  }
 ],
 "metadata": {
  "kernelspec": {
   "display_name": "Python 3 (ipykernel)",
   "language": "python",
   "name": "python3"
  },
  "language_info": {
   "codemirror_mode": {
    "name": "ipython",
    "version": 3
   },
   "file_extension": ".py",
   "mimetype": "text/x-python",
   "name": "python",
   "nbconvert_exporter": "python",
   "pygments_lexer": "ipython3",
   "version": "3.12.7"
  }
 },
 "nbformat": 4,
 "nbformat_minor": 5
}
