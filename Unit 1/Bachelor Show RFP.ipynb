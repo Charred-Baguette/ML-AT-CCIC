{
 "cells": [
  {
   "cell_type": "markdown",
   "id": "1b940825",
   "metadata": {},
   "source": [
    "# RFP: Betting on the Bachelor\n",
    "\n",
    "## Project Overview\n",
    "You are invited to submit a proposal that answers the following question:\n",
    "\n",
    "### Who will win season 29 of the Bachelor?\n",
    "\n",
    "*All proposals must be submitted by **1/15/25 at 11:59 PM**.*"
   ]
  },
  {
   "cell_type": "markdown",
   "id": "968a85f0",
   "metadata": {},
   "source": [
    "## Required Proposal Components\n",
    "\n",
    "### 1. Data Description\n",
    "In the code cell below, read in the data you plan on using to train and test your model. Call `info()` once you have read the data into a dataframe. Consider using some or all of the following sources:\n",
    "- [Scrape Fandom Wikis](https://bachelor-nation.fandom.com/wiki/The_Bachelor) or [the official Bachelor website]('https://bachelornation.com/shows/the-bachelor/')\n",
    "- [Ask ChatGPT to genereate it](https://chatgpt.com/)\n",
    "- [Read in csv files like this](https://www.kaggle.com/datasets/brianbgonz/the-bachelor-contestants?select=contestants.csv)\n",
    "\n",
    "*Note, a level 5 dataset contains at least 1000 rows of non-null data. A level 4 contains at least 500 rows of non-null data.*"
   ]
  },
  {
   "cell_type": "code",
   "execution_count": null,
   "id": "08c1688a",
   "metadata": {},
   "outputs": [],
   "source": [
    "import requests\n",
    "import pandas as pd\n",
    "import time\n",
    "from bs4 import BeautifulSoup\n",
    "pastsets = {'Name':[], \n",
    "           'Age': [],\n",
    "            'Home town':[],\n",
    "           'Occupation': [],\n",
    "           'Outcome': [],\n",
    "           'Season': []}\n",
    "current = {'Name':[], \n",
    "           'Age': [],\n",
    "           'Home town':[],\n",
    "           'Occupation': [],\n",
    "           'Outcome': [],\n",
    "          'Place': []}\n",
    "pain=[]\n",
    "doublepain=[]\n",
    "for i in range(1, 28):\n",
    "    url=f'https://en.wikipedia.org/wiki/The_Bachelor_(American_TV_series)_season_{i}'\n",
    "    response=requests.get(url)\n",
    "    soup = BeautifulSoup(response.text, 'html.parser')\n",
    "    for li in soup.find_all('li'):\n",
    "        li.decompose()\n",
    "    for sup_tag in soup.find_all('sup', class_='reference'):\n",
    "        sup_tag.decompose()\n",
    "    for p in soup.find_all('p'):\n",
    "        p.decompose()\n",
    "    try:\n",
    "        \n",
    "        table = soup.find('table', {'class': 'wikitable sortable'})\n",
    "        if table:\n",
    "            rows = table.find_all('tr')[1:]\n",
    "\n",
    "            for tr in rows:\n",
    "                cells = tr.find_all('td')\n",
    "                \n",
    "                if cells:  \n",
    "                    name = cells[0].text.strip() if len(cells) > 0 else \"N/A\"\n",
    "                    age = cells[1].text.strip() if len(cells) > 1 else \"N/A\"\n",
    "                    hometown = cells[2].text.strip() if len(cells) > 2 else \"N/A\"\n",
    "                    occupation = cells[3].text.strip() if len(cells) > 3 else \"N/A\"\n",
    "                    outcome = cells[4].text.strip() if len(cells) > 4 else \"loser\"\n",
    "                    place = cells[5].text.strip() if len(cells) > 5 else \"N/A\"\n",
    "                    if name == 'N/A':\n",
    "                        continue\n",
    "                    else:\n",
    "                        pastsets['Name'].append(name)\n",
    "                        pastsets['Age'].append(age)\n",
    "                        pastsets['Home town'].append(hometown)\n",
    "                        pastsets['Occupation'].append(occupation)\n",
    "                        pastsets['Outcome'].append(outcome)\n",
    "                        pastsets['Season'].append(i)\n",
    "            time.sleep(1)\n",
    "        else:\n",
    "            print(\"no table\")\n",
    "    except:\n",
    "        pain.append(url)\n",
    "        print(pain)\n",
    "    \n",
    "df = pd.DataFrame(pastsets)\n",
    "df.info()\n",
    "print(\"pains:\", pain)\n",
    "df.head()\n",
    "# Don't forget to call info()!"
   ]
  },
  {
   "cell_type": "markdown",
   "id": "880ff05f",
   "metadata": {},
   "source": [
    "### 2. Training Your Model\n",
    "In the cell seen below, write the code you need to train a linear regression model. Make sure you display the equation of the plane that best fits your chosen data at the end of your program. \n",
    "\n",
    "*Note, level 5 work trains a model using only the standard Python library and Pandas. A level 5 model is trained with at least two features, where one of the features begins as a categorical value (e.g. occupation, hometown, etc.). A level 4 uses external libraries like scikit or numpy.*"
   ]
  },
  {
   "cell_type": "code",
   "execution_count": null,
   "id": "f574fac0-71a5-48b4-bd8e-57b8dba4faee",
   "metadata": {},
   "outputs": [],
   "source": [
    "print(df['Occupation'].unique())\n",
    "occupationnumber= {'occupation':[], 'number':[]}\n",
    "for i, occupation in enumerate(df['Occupation'].unique()):\n",
    "    occupationnumber['occupation'].append(occupation)\n",
    "    occupationnumber['number'].append(i)\n",
    "occupationnumber=pd.DataFrame(occupationnumber)\n",
    "occupationnumber.head()"
   ]
  },
  {
   "cell_type": "code",
   "execution_count": null,
   "id": "d3847d58-8927-4aee-9626-8caa379c960e",
   "metadata": {},
   "outputs": [],
   "source": [
    "df['occnum']=None\n",
    "for i, player in df.iterrows():\n",
    "    occupation = player['Occupation']\n",
    "    assignment = occupationnumber[occupationnumber['occupation'] == occupation]\n",
    "    df.loc[i, 'occnum']=assignment['number'].values[0]\n",
    "df['occnum']=pd.to_numeric(df['occnum'], errors='coerce')\n",
    "print(f'\\nInfo')\n",
    "df.info()\n",
    "print(f'\\nHead')\n",
    "df.head()\n"
   ]
  },
  {
   "cell_type": "code",
   "execution_count": null,
   "id": "eb56f60d-22ea-4c4d-ac0e-e61391b66410",
   "metadata": {},
   "outputs": [],
   "source": [
    "print(df['Outcome'].unique())\n",
    "df['outnum']=None\n",
    "df['Outcome'] = df['Outcome'].str.lower()\n",
    "for i, player in df.iterrows():\n",
    "    outcome = player['Outcome']\n",
    "    outcome=outcome.replace(\"week \", \"\")\n",
    "    outcome=outcome.replace(\"(quit) \", \"\")\n",
    "    outcome=outcome.replace(\"(DQ) \", \"\")\n",
    "    outcome=outcome.replace(\"(Quit) \", \"\")\n",
    "    if \"winner\" in outcome:\n",
    "        df.loc[i, 'outnum'] = 'winner'\n",
    "    elif \"runner-up\" in outcome:\n",
    "        df.loc[i, 'outnum'] = 'runner-up'\n",
    "    else:\n",
    "        df.loc[i, 'outnum'] = outcome\n",
    "seasonmax = df.groupby('Season')['outnum'].max().reset_index()\n",
    "for i, player in df.iterrows():\n",
    "    season = player['Season']\n",
    "    outcome = player['Outcome']\n",
    "    max_outnum = int(seasonmax.loc[seasonmax['Season'] == season, 'outnum'].values[0])\n",
    "    if \"Winner\" in outcome:\n",
    "        df.loc[i, 'outnum'] = (max_outnum + 2)/max_outnum\n",
    "    elif \"Runner-up\" in outcome:\n",
    "        df.loc[i, 'outnum'] = (max_outnum + 1)/max_outnum\n",
    "    else:\n",
    "        df.loc[i, 'outnum'] = int(df.loc[i, 'outnum'])/max_outnum\n",
    "df['outnum']=pd.to_numeric(df['outnum'], errors='coerce')\n",
    "df['Age']=pd.to_numeric(df['Age'], errors='coerce')\n",
    "df = df.dropna()\n",
    "print(f'\\ninfo')\n",
    "df.info()\n",
    "print(f'\\n head')\n",
    "df.head(5)"
   ]
  },
  {
   "cell_type": "code",
   "execution_count": null,
   "id": "a87a9144",
   "metadata": {},
   "outputs": [],
   "source": [
    "# Train model here.\n",
    "# Don't forget to display the equation of the plane that best fits your data!\n",
    "import numpy as np\n",
    "from sklearn.linear_model import LinearRegression\n",
    "from sklearn.metrics import mean_squared_error\n",
    "from sklearn.model_selection import train_test_split\n",
    "import matplotlib.pyplot as plt\n",
    "\n",
    "\n",
    "\n",
    "x=df[['Age', 'occnum']]\n",
    "y=df['outnum']\n",
    "\n",
    "X_train, X_test, y_train, y_test = train_test_split(x, y, test_size=0.3, random_state=42)\n",
    "\n",
    "\n",
    "model = LinearRegression()\n",
    "\n",
    "model.fit(X_train, y_train)\n",
    "print(\"slope:\", model.coef_[0])\n",
    "y_pred = model.predict(X_test)\n",
    "\n",
    "mse = mean_squared_error(y_test, y_pred)\n",
    "\n",
    "print(\"Model coefficients:\", model.coef_)\n",
    "print(\"Model intercept:\", model.intercept_)\n",
    "print(\"Mean Squared Error:\", mse)\n",
    "print(\"Predictions:\", y_pred)"
   ]
  },
  {
   "cell_type": "markdown",
   "id": "cfb2b903",
   "metadata": {},
   "source": [
    "### 3. Testing Your Model\n",
    "In the cell seen below, write the code you need to test your linear regression model. \n",
    "\n",
    "*Note, a model is considered a level 5 if it achieves at least 60% prediction accuracy or achieves an RMSE of 2 weeks or less.*"
   ]
  },
  {
   "cell_type": "code",
   "execution_count": null,
   "id": "24f8b990",
   "metadata": {},
   "outputs": [],
   "source": [
    "# Test model here."
   ]
  },
  {
   "cell_type": "markdown",
   "id": "343eb3f7",
   "metadata": {},
   "source": [
    "### 4. Final Answer\n",
    "\n",
    "In the first cell seen below, state the name of your predicted winner. \n",
    "In the second cell seen below, justify your prediction using an evaluation technique like RMSE or percent accuracy."
   ]
  },
  {
   "cell_type": "markdown",
   "id": "25533722",
   "metadata": {},
   "source": [
    "#### State the name of your predicted winner here."
   ]
  },
  {
   "cell_type": "markdown",
   "id": "e29adde2",
   "metadata": {},
   "source": [
    "#### Justify your prediction here."
   ]
  }
 ],
 "metadata": {
  "kernelspec": {
   "display_name": "Python 3 (ipykernel)",
   "language": "python",
   "name": "python3"
  },
  "language_info": {
   "codemirror_mode": {
    "name": "ipython",
    "version": 3
   },
   "file_extension": ".py",
   "mimetype": "text/x-python",
   "name": "python",
   "nbconvert_exporter": "python",
   "pygments_lexer": "ipython3",
   "version": "3.12.7"
  }
 },
 "nbformat": 4,
 "nbformat_minor": 5
}
