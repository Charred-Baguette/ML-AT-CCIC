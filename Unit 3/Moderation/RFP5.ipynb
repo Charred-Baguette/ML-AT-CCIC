{
 "cells": [
  {
   "cell_type": "code",
   "execution_count": 1,
   "id": "cce2e76e-8fd2-4a14-95be-2a7bc05fa009",
   "metadata": {},
   "outputs": [],
   "source": [
    "import pandas as pd\n",
    "from datasets import load_dataset\n",
    "from PIL import Image\n",
    "import numpy as np\n",
    "import time\n",
    "import openai\n",
    "import os"
   ]
  },
  {
   "cell_type": "code",
   "execution_count": 2,
   "id": "f446bcc5-7b3e-4072-87bd-8ec6df59fe1e",
   "metadata": {},
   "outputs": [
    {
     "data": {
      "text/html": [
       "<div>\n",
       "<style scoped>\n",
       "    .dataframe tbody tr th:only-of-type {\n",
       "        vertical-align: middle;\n",
       "    }\n",
       "\n",
       "    .dataframe tbody tr th {\n",
       "        vertical-align: top;\n",
       "    }\n",
       "\n",
       "    .dataframe thead th {\n",
       "        text-align: right;\n",
       "    }\n",
       "</style>\n",
       "<table border=\"1\" class=\"dataframe\">\n",
       "  <thead>\n",
       "    <tr style=\"text-align: right;\">\n",
       "      <th></th>\n",
       "      <th>train</th>\n",
       "    </tr>\n",
       "  </thead>\n",
       "  <tbody>\n",
       "    <tr>\n",
       "      <th>0</th>\n",
       "      <td>{'image': &lt;PIL.WebPImagePlugin.WebPImageFile i...</td>\n",
       "    </tr>\n",
       "    <tr>\n",
       "      <th>1</th>\n",
       "      <td>{'image': &lt;PIL.WebPImagePlugin.WebPImageFile i...</td>\n",
       "    </tr>\n",
       "    <tr>\n",
       "      <th>2</th>\n",
       "      <td>{'image': &lt;PIL.WebPImagePlugin.WebPImageFile i...</td>\n",
       "    </tr>\n",
       "    <tr>\n",
       "      <th>3</th>\n",
       "      <td>{'image': &lt;PIL.WebPImagePlugin.WebPImageFile i...</td>\n",
       "    </tr>\n",
       "    <tr>\n",
       "      <th>4</th>\n",
       "      <td>{'image': &lt;PIL.WebPImagePlugin.WebPImageFile i...</td>\n",
       "    </tr>\n",
       "  </tbody>\n",
       "</table>\n",
       "</div>"
      ],
      "text/plain": [
       "                                               train\n",
       "0  {'image': <PIL.WebPImagePlugin.WebPImageFile i...\n",
       "1  {'image': <PIL.WebPImagePlugin.WebPImageFile i...\n",
       "2  {'image': <PIL.WebPImagePlugin.WebPImageFile i...\n",
       "3  {'image': <PIL.WebPImagePlugin.WebPImageFile i...\n",
       "4  {'image': <PIL.WebPImagePlugin.WebPImageFile i..."
      ]
     },
     "execution_count": 2,
     "metadata": {},
     "output_type": "execute_result"
    }
   ],
   "source": [
    "\n",
    "dataset = load_dataset('poloclub/diffusiondb', 'large_first_1k', trust_remote_code=True)\n",
    "df=pd.DataFrame(dataset)\n",
    "df.head()"
   ]
  },
  {
   "cell_type": "code",
   "execution_count": 3,
   "id": "59d078e7-7903-45d3-a0ab-d56275bb4796",
   "metadata": {},
   "outputs": [],
   "source": [
    "\n",
    "dataset = load_dataset('poloclub/diffusiondb', 'large_first_50k', trust_remote_code=True)\n",
    "\n",
    "\n"
   ]
  },
  {
   "cell_type": "code",
   "execution_count": 4,
   "id": "605792fe-7fe2-40f4-b427-12bf2bb21dc7",
   "metadata": {},
   "outputs": [
    {
     "name": "stdout",
     "output_type": "stream",
     "text": [
      "<class 'pandas.core.frame.DataFrame'>\n",
      "RangeIndex: 2050000 entries, 0 to 2049999\n",
      "Data columns (total 12 columns):\n",
      " #   Column       Dtype              \n",
      "---  ------       -----              \n",
      " 0   image        object             \n",
      " 1   prompt       object             \n",
      " 2   seed         float64            \n",
      " 3   step         float64            \n",
      " 4   cfg          float32            \n",
      " 5   sampler      object             \n",
      " 6   width        float64            \n",
      " 7   height       float64            \n",
      " 8   user_name    object             \n",
      " 9   timestamp    datetime64[us, UTC]\n",
      " 10  image_nsfw   float64            \n",
      " 11  prompt_nsfw  float64            \n",
      "dtypes: datetime64[us, UTC](1), float32(1), float64(6), object(4)\n",
      "memory usage: 179.9+ MB\n"
     ]
    },
    {
     "data": {
      "text/html": [
       "<div>\n",
       "<style scoped>\n",
       "    .dataframe tbody tr th:only-of-type {\n",
       "        vertical-align: middle;\n",
       "    }\n",
       "\n",
       "    .dataframe tbody tr th {\n",
       "        vertical-align: top;\n",
       "    }\n",
       "\n",
       "    .dataframe thead th {\n",
       "        text-align: right;\n",
       "    }\n",
       "</style>\n",
       "<table border=\"1\" class=\"dataframe\">\n",
       "  <thead>\n",
       "    <tr style=\"text-align: right;\">\n",
       "      <th></th>\n",
       "      <th>image</th>\n",
       "      <th>prompt</th>\n",
       "      <th>seed</th>\n",
       "      <th>step</th>\n",
       "      <th>cfg</th>\n",
       "      <th>sampler</th>\n",
       "      <th>width</th>\n",
       "      <th>height</th>\n",
       "      <th>user_name</th>\n",
       "      <th>timestamp</th>\n",
       "      <th>image_nsfw</th>\n",
       "      <th>prompt_nsfw</th>\n",
       "    </tr>\n",
       "  </thead>\n",
       "  <tbody>\n",
       "    <tr>\n",
       "      <th>2049995</th>\n",
       "      <td>NaN</td>\n",
       "      <td>david bowie giving a piggy back ride to ziggy ...</td>\n",
       "      <td>NaN</td>\n",
       "      <td>NaN</td>\n",
       "      <td>NaN</td>\n",
       "      <td>NaN</td>\n",
       "      <td>NaN</td>\n",
       "      <td>NaN</td>\n",
       "      <td>NaN</td>\n",
       "      <td>NaT</td>\n",
       "      <td>0.152736</td>\n",
       "      <td>0.022676</td>\n",
       "    </tr>\n",
       "    <tr>\n",
       "      <th>2049996</th>\n",
       "      <td>NaN</td>\n",
       "      <td>david bowie giving a piggy back ride to ziggy ...</td>\n",
       "      <td>NaN</td>\n",
       "      <td>NaN</td>\n",
       "      <td>NaN</td>\n",
       "      <td>NaN</td>\n",
       "      <td>NaN</td>\n",
       "      <td>NaN</td>\n",
       "      <td>NaN</td>\n",
       "      <td>NaT</td>\n",
       "      <td>0.127884</td>\n",
       "      <td>0.014115</td>\n",
       "    </tr>\n",
       "    <tr>\n",
       "      <th>2049997</th>\n",
       "      <td>NaN</td>\n",
       "      <td>funny computer</td>\n",
       "      <td>NaN</td>\n",
       "      <td>NaN</td>\n",
       "      <td>NaN</td>\n",
       "      <td>NaN</td>\n",
       "      <td>NaN</td>\n",
       "      <td>NaN</td>\n",
       "      <td>NaN</td>\n",
       "      <td>NaT</td>\n",
       "      <td>0.093476</td>\n",
       "      <td>0.000463</td>\n",
       "    </tr>\n",
       "    <tr>\n",
       "      <th>2049998</th>\n",
       "      <td>NaN</td>\n",
       "      <td>hilarious witty computing machine</td>\n",
       "      <td>NaN</td>\n",
       "      <td>NaN</td>\n",
       "      <td>NaN</td>\n",
       "      <td>NaN</td>\n",
       "      <td>NaN</td>\n",
       "      <td>NaN</td>\n",
       "      <td>NaN</td>\n",
       "      <td>NaT</td>\n",
       "      <td>0.124379</td>\n",
       "      <td>0.002547</td>\n",
       "    </tr>\n",
       "    <tr>\n",
       "      <th>2049999</th>\n",
       "      <td>NaN</td>\n",
       "      <td>hilarious witty computing machine, lichtenstien</td>\n",
       "      <td>NaN</td>\n",
       "      <td>NaN</td>\n",
       "      <td>NaN</td>\n",
       "      <td>NaN</td>\n",
       "      <td>NaN</td>\n",
       "      <td>NaN</td>\n",
       "      <td>NaN</td>\n",
       "      <td>NaT</td>\n",
       "      <td>0.044811</td>\n",
       "      <td>0.000964</td>\n",
       "    </tr>\n",
       "  </tbody>\n",
       "</table>\n",
       "</div>"
      ],
      "text/plain": [
       "        image                                             prompt  seed  step  \\\n",
       "2049995   NaN  david bowie giving a piggy back ride to ziggy ...   NaN   NaN   \n",
       "2049996   NaN  david bowie giving a piggy back ride to ziggy ...   NaN   NaN   \n",
       "2049997   NaN                                    funny computer    NaN   NaN   \n",
       "2049998   NaN                 hilarious witty computing machine    NaN   NaN   \n",
       "2049999   NaN   hilarious witty computing machine, lichtenstien    NaN   NaN   \n",
       "\n",
       "         cfg sampler  width  height user_name timestamp  image_nsfw  \\\n",
       "2049995  NaN     NaN    NaN     NaN       NaN       NaT    0.152736   \n",
       "2049996  NaN     NaN    NaN     NaN       NaN       NaT    0.127884   \n",
       "2049997  NaN     NaN    NaN     NaN       NaN       NaT    0.093476   \n",
       "2049998  NaN     NaN    NaN     NaN       NaN       NaT    0.124379   \n",
       "2049999  NaN     NaN    NaN     NaN       NaN       NaT    0.044811   \n",
       "\n",
       "         prompt_nsfw  \n",
       "2049995     0.022676  \n",
       "2049996     0.014115  \n",
       "2049997     0.000463  \n",
       "2049998     0.002547  \n",
       "2049999     0.000964  "
      ]
     },
     "execution_count": 4,
     "metadata": {},
     "output_type": "execute_result"
    }
   ],
   "source": [
    "\n",
    "batch_size = 10000\n",
    "df_list = [] \n",
    "\n",
    "for i in range(0, len(dataset['train']), batch_size):\n",
    "    batch = dataset['train'].select(range(i, min(i + batch_size, len(dataset['train']))))\n",
    "    df_batch = batch.to_pandas()\n",
    "    df_list.append(df_batch) \n",
    "\n",
    "prompts = pd.concat(df_list, ignore_index=True)\n",
    "secdeset = pd.read_csv('diffusion_db_unaltered.csv')\n",
    "prompts = pd.concat([prompts, secdeset], ignore_index=True)\n",
    "\n",
    "prompts.info()\n",
    "prompts.head()\n",
    "prompts.tail()"
   ]
  },
  {
   "cell_type": "code",
   "execution_count": null,
   "id": "79b8b529-3491-4b2e-9d2a-b630230bdbc1",
   "metadata": {
    "collapsed": true,
    "jupyter": {
     "outputs_hidden": true
    }
   },
   "outputs": [],
   "source": []
  },
  {
   "cell_type": "code",
   "execution_count": 5,
   "id": "1a506e07-be42-421d-945e-4b138f32f826",
   "metadata": {},
   "outputs": [
    {
     "name": "stdout",
     "output_type": "stream",
     "text": [
      "(512, 704, 3)\n"
     ]
    }
   ],
   "source": [
    "image_path = prompts.loc[0, 'image']['path'] \n",
    "image = Image.open(image_path)\n",
    "image.show()\n",
    "image_array = np.array(image)\n",
    "print(image_array.shape)"
   ]
  },
  {
   "cell_type": "code",
   "execution_count": 6,
   "id": "06a7218e-ec27-4a32-9e4f-a31bd5f79ab6",
   "metadata": {},
   "outputs": [],
   "source": [
    "image_rgb = image.convert('RGB')\n",
    "image_array = np.expand_dims(image_rgb, axis=0)\n"
   ]
  },
  {
   "cell_type": "code",
   "execution_count": 7,
   "id": "f53c02a2-76e2-4936-86a2-e8f2563657b6",
   "metadata": {},
   "outputs": [
    {
     "name": "stdout",
     "output_type": "stream",
     "text": [
      "[[[[130 154 160]\n",
      "   [130 153 163]\n",
      "   [128 154 164]\n",
      "   ...\n",
      "   [129 142 160]\n",
      "   [129 143 163]\n",
      "   [132 144 158]]\n",
      "\n",
      "  [[127 152 163]\n",
      "   [129 154 166]\n",
      "   [128 153 165]\n",
      "   ...\n",
      "   [128 141 162]\n",
      "   [127 140 163]\n",
      "   [128 140 164]]\n",
      "\n",
      "  [[127 152 166]\n",
      "   [127 153 166]\n",
      "   [128 155 167]\n",
      "   ...\n",
      "   [129 141 162]\n",
      "   [130 142 163]\n",
      "   [130 142 162]]\n",
      "\n",
      "  ...\n",
      "\n",
      "  [[115  99 120]\n",
      "   [116  97 123]\n",
      "   [117  99 125]\n",
      "   ...\n",
      "   [123  96 121]\n",
      "   [124  98 123]\n",
      "   [122  97 119]]\n",
      "\n",
      "  [[115  99 121]\n",
      "   [117  98 124]\n",
      "   [116  96 123]\n",
      "   ...\n",
      "   [123  94 121]\n",
      "   [122  97 120]\n",
      "   [124 101 119]]\n",
      "\n",
      "  [[112  98 116]\n",
      "   [116  98 123]\n",
      "   [115  98 124]\n",
      "   ...\n",
      "   [121  99 122]\n",
      "   [118  96 119]\n",
      "   [121 101 117]]]]\n"
     ]
    }
   ],
   "source": [
    "print(image_array)"
   ]
  },
  {
   "cell_type": "code",
   "execution_count": 8,
   "id": "1f8d7697-c0f3-49d1-a7f1-a44032002f87",
   "metadata": {},
   "outputs": [],
   "source": [
    "openai.api_key = os.getenv(\"OPENAI_API_KEY\")\n",
    "import getpass\n",
    "if openai.api_key is None:\n",
    "    print(' ValueError(\"API key is missing. Please set the OPENAI_API_KEY environment variable.\")')\n",
    "    openai.api_key = getpass.getpass(\"Enter your API key: \")\n",
    "client = openai"
   ]
  },
  {
   "cell_type": "code",
   "execution_count": 46,
   "id": "f7f3c594-7bf5-46a3-b918-656148635dcd",
   "metadata": {},
   "outputs": [],
   "source": [
    "def classify_word(word):\n",
    "    prompt = f\"Classify the word '{word}' into one of the following categories: 'illegal', 'explicit', 'violent', 'innocent'. Provide just the category as the output. Ensure one of these categories is no matter what stated.\"\n",
    "\n",
    "    try:\n",
    "        response = client.chat.completions.create(\n",
    "            model=\"gpt-4o-mini\",\n",
    "            messages=[\n",
    "                {\"role\": \"system\", \"content\": \"You are a helpful assistant that classifies words.\"},\n",
    "                {\"role\": \"user\", \"content\": prompt}\n",
    "            ],\n",
    "            max_tokens=10\n",
    "        )\n",
    "        \n",
    "        classification = response.choices[0].message.content.strip()\n",
    "        if 'illegal' in classification:\n",
    "            classification = 'illegal'\n",
    "        elif 'explicit' in classification:\n",
    "            classification = 'explicit'\n",
    "        elif 'violent' in classification:\n",
    "            classification = 'violent'\n",
    "        elif 'innocent' in classification:\n",
    "            classification = 'innocent'\n",
    "        else:\n",
    "            response = client.chat.completions.create(\n",
    "            model=\"gpt-4o-mini\",\n",
    "            messages=[\n",
    "                {\"role\": \"system\", \"content\": \"You are a helpful assistant that classifies words.\"},\n",
    "                {\"role\": \"user\", \"content\": prompt}\n",
    "            ],\n",
    "            max_tokens=30\n",
    "        )\n",
    "        category_mapping = {\n",
    "            \"illegal\": 1,\n",
    "            \"explicit\": 2,\n",
    "            \"violent\": 3,\n",
    "            \"innocent\": 0\n",
    "        }\n",
    "        \n",
    "        return category_mapping.get(classification, -1) \n",
    "    \n",
    "    except Exception as e:\n",
    "        print(f\"Error classifying word '{word}': {e}\")\n",
    "        return -1"
   ]
  },
  {
   "cell_type": "code",
   "execution_count": 10,
   "id": "db226c5a-6e31-45cc-ae96-5fb9c364a73a",
   "metadata": {},
   "outputs": [],
   "source": [
    "import re\n",
    "\n",
    "def numberify(word):\n",
    "    prompt = f\"HERE IS THE WORD: {word}\"\n",
    "\n",
    "    try:\n",
    "        response = client.chat.completions.create(\n",
    "            model=\"gpt-4o-mini\",\n",
    "            messages=[\n",
    "                {\"role\": \"system\", \"content\": \"\"\"Assign the word a number based on the following criteria.\n",
    "    The number will be 4 digits. The first 4 digits determine how 'bad' the word may be.\n",
    "    - Filler words = 1111\n",
    "    - Non-explicit subjects = 2222\n",
    "    - Non-explicit verbs = 3333\n",
    "    - Explicit words increase progressively (e.g., 5555, 6666, 7777, 8888)\n",
    "    - Use 9999 only for extreme cases.\n",
    "    Respond with just the number!.\"\"\"},\n",
    "                {\"role\": \"user\", \"content\": prompt}\n",
    "            ],\n",
    "            max_tokens=10\n",
    "        )\n",
    "        classification = response.choices[0].message.content.strip()\n",
    "\n",
    "        response = client.chat.completions.create(\n",
    "            model=\"gpt-4o-mini\",\n",
    "            messages=[\n",
    "                {\"role\": \"system\", \"content\": \"\"\"Assign the word a number from 00 to 99 based on severity.\n",
    "    - Use a balanced scale with 99 reserved for extreme words.\n",
    "    Respond with just the number!.\"\"\"},\n",
    "                {\"role\": \"user\", \"content\": prompt}\n",
    "            ],\n",
    "            max_tokens=10\n",
    "        )\n",
    "        secondary = response.choices[0].message.content.strip()\n",
    "\n",
    "        letter_count = len(re.findall(r'[a-zA-Z]', word))\n",
    "        formatted_count = str(letter_count).zfill(2) \n",
    "\n",
    "        final_number = f\"{classification}{formatted_count}{secondary}\"\n",
    "\n",
    "        return final_number, word \n",
    "    \n",
    "    except Exception as e:\n",
    "        print(f\"Error classifying word '{word}': {e}\")\n",
    "        return -1, word  \n"
   ]
  },
  {
   "cell_type": "code",
   "execution_count": 11,
   "id": "b3c6071a-b7e1-470a-a91b-1bbec24fcb92",
   "metadata": {},
   "outputs": [
    {
     "name": "stdout",
     "output_type": "stream",
     "text": [
      "<class 'pandas.core.frame.DataFrame'>\n",
      "RangeIndex: 1000 entries, 0 to 999\n",
      "Data columns (total 1 columns):\n",
      " #   Column  Non-Null Count  Dtype \n",
      "---  ------  --------------  ----- \n",
      " 0   train   1000 non-null   object\n",
      "dtypes: object(1)\n",
      "memory usage: 7.9+ KB\n"
     ]
    }
   ],
   "source": [
    "df.info()"
   ]
  },
  {
   "cell_type": "code",
   "execution_count": 12,
   "id": "f68ba4c8-f545-45cb-99bf-7bfb9b5751f4",
   "metadata": {},
   "outputs": [
    {
     "name": "stderr",
     "output_type": "stream",
     "text": [
      "<>:1: SyntaxWarning: invalid escape sequence '\\w'\n",
      "<>:1: SyntaxWarning: invalid escape sequence '\\w'\n",
      "C:\\Users\\georg\\AppData\\Local\\Temp\\ipykernel_4256\\89643881.py:1: SyntaxWarning: invalid escape sequence '\\w'\n",
      "  \"\"\"\n"
     ]
    },
    {
     "data": {
      "text/plain": [
       "'\\nimport re\\nfrom tqdm import tqdm\\n\\n# Example DataFrame (replace this with your actual DataFrame)\\n\\nword_classifications = {}\\nrows = []\\nwords_set = set()\\n# Loop through the DataFrame and classify words across all rows\\nfor idx, row in tqdm(prompts.iterrows(), total=len(prompts), desc=\"Processing prompts\"):\\n    prompt = row[\\'prompt\\']\\n    for word in re.findall(r\\'\\x08\\\\w+\\x08\\', prompt):  # Split the prompt into individual words\\n        if word not in words_set:  # Avoid classifying the same word twice\\n            words_set.add(word)\\n            word_classifications[word] = {}\\n            classification_value = classify_word(word)\\n            numeric_value, interpreted_word=numberify(word)\\n            rows.append([word, classification_value, numeric_value, interpreted_word])\\n            print(word, classification_value, numeric_value, interpreted_word)\\n        # Sleep to avoid hitting API rate limits\\n        time.sleep(.1)  # Adjust the sleep time as necessary\\n\\n# Convert the dictionary to a DataFrame for better visualization\\nword_classification_df = pd.DataFrame(rows, columns=[\"Word\", \"Classification\", \"Number\", \"NumericInterpretedWord\"])\\n# Display the final DataFrame with words and their classifications\\nprint(word_classification_df)\\n'"
      ]
     },
     "execution_count": 12,
     "metadata": {},
     "output_type": "execute_result"
    }
   ],
   "source": [
    "\"\"\"\n",
    "import re\n",
    "from tqdm import tqdm\n",
    "\n",
    "# Example DataFrame (replace this with your actual DataFrame)\n",
    "\n",
    "word_classifications = {}\n",
    "rows = []\n",
    "words_set = set()\n",
    "# Loop through the DataFrame and classify words across all rows\n",
    "for idx, row in tqdm(prompts.iterrows(), total=len(prompts), desc=\"Processing prompts\"):\n",
    "    prompt = row['prompt']\n",
    "    for word in re.findall(r'\\b\\w+\\b', prompt):  # Split the prompt into individual words\n",
    "        if word not in words_set:  # Avoid classifying the same word twice\n",
    "            words_set.add(word)\n",
    "            word_classifications[word] = {}\n",
    "            classification_value = classify_word(word)\n",
    "            numeric_value, interpreted_word=numberify(word)\n",
    "            rows.append([word, classification_value, numeric_value, interpreted_word])\n",
    "            print(word, classification_value, numeric_value, interpreted_word)\n",
    "        # Sleep to avoid hitting API rate limits\n",
    "        time.sleep(.1)  # Adjust the sleep time as necessary\n",
    "\n",
    "# Convert the dictionary to a DataFrame for better visualization\n",
    "word_classification_df = pd.DataFrame(rows, columns=[\"Word\", \"Classification\", \"Number\", \"NumericInterpretedWord\"])\n",
    "# Display the final DataFrame with words and their classifications\n",
    "print(word_classification_df)\n",
    "\"\"\""
   ]
  },
  {
   "cell_type": "code",
   "execution_count": 178,
   "id": "844268ab-fb35-4544-8051-fdc4964bddcd",
   "metadata": {},
   "outputs": [
    {
     "name": "stdout",
     "output_type": "stream",
     "text": [
      "            Word  Classification    Number NumericInterpretedWord\n",
      "0        goddess               0  22220715                goddess\n",
      "1       portrait               0  22220810               portrait\n",
      "2         ismail               0  22220600                 ismail\n",
      "3       inceoglu               0  11110800               inceoglu\n",
      "4             of               0  11110200                     of\n",
      "...          ...             ...       ...                    ...\n",
      "196206     anjoy               0  11110520                  anjoy\n",
      "196207   whylene               0  22220715                whylene\n",
      "196208  brnjamin               0  11110800               brnjamin\n",
      "196209   galeano               0  22220725                galeano\n",
      "196210     nroll               0  33330520                  nroll\n",
      "\n",
      "[196211 rows x 4 columns]\n"
     ]
    }
   ],
   "source": [
    "import re\n",
    "import pandas as pd\n",
    "from tqdm import tqdm\n",
    "from collections import OrderedDict\n",
    "\n",
    "def normalize_text(text):\n",
    "    replacements = {\n",
    "        '3': 'E', '5': 'S', '0': 'O', '1': 'I', '2': 'Z'\n",
    "    }\n",
    "    for key, value in replacements.items():\n",
    "        text = text.replace(key, value)\n",
    "    return text\n",
    "\n",
    "ordered_words = OrderedDict()\n",
    "prompts['prompt'] = prompts['prompt'].fillna(\"\").astype(str)\n",
    "\n",
    "try:\n",
    "    df=pd.read_csv('Wordlist.csv')\n",
    "except:\n",
    "    for prompt in tqdm(prompts['prompt'], desc=\"Extracting unique words\"):\n",
    "        prompt = normalize_text(prompt)\n",
    "        words = re.findall(r'\\b\\w+\\b', prompt)\n",
    "        for word in words:\n",
    "            if word not in ordered_words: \n",
    "                ordered_words[word] = None  \n",
    "    \n",
    "    rows = []\n",
    "    for word in tqdm(ordered_words.keys(), desc=\"Classifying words\"):\n",
    "        classification_value = classify_word(word)\n",
    "        numeric_value, interpreted_word = numberify(word)\n",
    "        rows.append([word, classification_value, numeric_value, interpreted_word])\n",
    "    \n",
    "    df = pd.DataFrame(rows, columns=[\"Word\", \"Classification\", \"Number\", \"NumericInterpretedWord\"])\n",
    "\n",
    "print(df)"
   ]
  },
  {
   "cell_type": "code",
   "execution_count": 54,
   "id": "b8b0e2d8-6321-4c5c-baa5-8448c2081aa6",
   "metadata": {},
   "outputs": [
    {
     "name": "stderr",
     "output_type": "stream",
     "text": [
      "Validating words: 100%|██████████| 196211/196211 [47:34<00:00, 68.73it/s]  \n"
     ]
    }
   ],
   "source": [
    "valid_rows = []\n",
    "for word in tqdm(ordered_words.keys(), desc=\"Validating words\"):\n",
    "    existing_row = next((row for row in rows if row[0] == word), None)\n",
    "\n",
    "    if existing_row:\n",
    "        classification_value = existing_row[1]  \n",
    "        numeric_value = existing_row[2]     \n",
    "        interpreted_word = existing_row[3]\n",
    "\n",
    "        if classification_value == -1:\n",
    "            classification_value = classify_word(word)\n",
    "        if numeric_value == -1:\n",
    "            numeric_value, interpreted_word = numberify(word)\n",
    "\n",
    "    else: \n",
    "        classification_value = classify_word(word)\n",
    "        numeric_value, interpreted_word = numberify(word)\n",
    "\n",
    "    valid_rows.append([word, classification_value, numeric_value, interpreted_word])\n",
    "\n",
    "\n",
    "df = pd.DataFrame(valid_rows, columns=[\"Word\", \"Classification\", \"Number\", \"NumericInterpretedWord\"])"
   ]
  },
  {
   "cell_type": "code",
   "execution_count": 60,
   "id": "27628aed-241a-4f2c-b1a7-3baf7970934b",
   "metadata": {},
   "outputs": [
    {
     "name": "stdout",
     "output_type": "stream",
     "text": [
      "[ 0  3  1  2 -1]\n"
     ]
    }
   ],
   "source": [
    "print(df['Classification'].unique())"
   ]
  },
  {
   "cell_type": "code",
   "execution_count": 59,
   "id": "9fbe2dd0-e935-4ac4-a11d-25d9be516d08",
   "metadata": {},
   "outputs": [
    {
     "data": {
      "text/plain": [
       "<bound method DataFrame.info of             Word  Classification    Number NumericInterpretedWord\n",
       "0        goddess               0  22220715                goddess\n",
       "1       portrait               0  22220810               portrait\n",
       "2         ismail               0  22220600                 ismail\n",
       "3       inceoglu               0  11110800               inceoglu\n",
       "4             of               0  11110200                     of\n",
       "...          ...             ...       ...                    ...\n",
       "196206     anjoy               0  11110520                  anjoy\n",
       "196207   whylene               0  22220715                whylene\n",
       "196208  brnjamin               0  11110800               brnjamin\n",
       "196209   galeano               0  22220725                galeano\n",
       "196210     nroll               0  33330520                  nroll\n",
       "\n",
       "[196211 rows x 4 columns]>"
      ]
     },
     "execution_count": 59,
     "metadata": {},
     "output_type": "execute_result"
    }
   ],
   "source": [
    "df = pd.DataFrame(rows, columns=[\"Word\", \"Classification\", \"Number\", \"NumericInterpretedWord\"])\n",
    "df.info"
   ]
  },
  {
   "cell_type": "code",
   "execution_count": 67,
   "id": "fbecb002-26be-4302-add3-069638c4f943",
   "metadata": {},
   "outputs": [],
   "source": [
    "def classify_wordSPECIALIZED(word):\n",
    "    prompt = f\"Classify the word '{word}' into one of the following categories: 'illegal', 'explicit', 'violent', 'innocent'. Provide just the category as the output. Ensure one of these categories is no matter what stated.\"\n",
    "\n",
    "    try:\n",
    "        response = client.chat.completions.create(\n",
    "            model=\"gpt-4o-mini\",\n",
    "            messages=[\n",
    "                {\"role\": \"system\", \"content\": \"You are a helpful assistant that classifies words.\"},\n",
    "                {\"role\": \"user\", \"content\": prompt}\n",
    "            ],\n",
    "            max_tokens=50\n",
    "        )\n",
    "        \n",
    "        classification = response.choices[0].message.content.strip()\n",
    "        print(classification)\n",
    "        if 'illegal' in classification:\n",
    "            classification = 'illegal'\n",
    "        elif 'explicit' in classification:\n",
    "            classification = 'explicit'\n",
    "        elif 'violent' in classification:\n",
    "            classification = 'violent'\n",
    "        elif 'innocent' in classification:\n",
    "            classification = 'innocent'\n",
    "        else:\n",
    "            response = client.chat.completions.create(\n",
    "            model=\"gpt-4o-mini\",\n",
    "            messages=[\n",
    "                {\"role\": \"system\", \"content\": \"You are a helpful assistant that classifies words.\"},\n",
    "                {\"role\": \"user\", \"content\": prompt}\n",
    "            ],\n",
    "            max_tokens=30\n",
    "        )\n",
    "            classification = response.choices[0].message.content.strip()\n",
    "            print(classification)\n",
    "            if 'illegal' in classification:\n",
    "                classification = 'illegal'\n",
    "            elif 'explicit' in classification:\n",
    "                classification = 'explicit'\n",
    "            elif 'violent' in classification:\n",
    "                classification = 'violent'\n",
    "            elif 'innocent' in classification:\n",
    "                classification = 'innocent'\n",
    "        category_mapping = {\n",
    "            \"illegal\": 1,\n",
    "            \"explicit\": 2,\n",
    "            \"violent\": 3,\n",
    "            \"innocent\": 0\n",
    "        }\n",
    "        \n",
    "        return category_mapping.get(classification, -1)  # Return -1 for unknown categories\n",
    "    \n",
    "    except Exception as e:\n",
    "        print(f\"Error classifying word '{word}': {e}\")\n",
    "        return -1"
   ]
  },
  {
   "cell_type": "code",
   "execution_count": 68,
   "id": "7013d9c9-e3fb-4eca-a57f-e46f865c62a1",
   "metadata": {},
   "outputs": [
    {
     "name": "stderr",
     "output_type": "stream",
     "text": [
      "Validating words:  21%|██        | 40595/196211 [00:02<00:13, 11761.46it/s]"
     ]
    },
    {
     "name": "stdout",
     "output_type": "stream",
     "text": [
      "explicit\n"
     ]
    },
    {
     "name": "stderr",
     "output_type": "stream",
     "text": [
      "Validating words:  23%|██▎       | 45902/196211 [00:03<00:16, 9332.03it/s] "
     ]
    },
    {
     "name": "stdout",
     "output_type": "stream",
     "text": [
      "innocent\n",
      "innocent\n",
      "explicit\n",
      "illegal\n"
     ]
    },
    {
     "name": "stderr",
     "output_type": "stream",
     "text": [
      "Validating words:  24%|██▍       | 47814/196211 [00:07<01:31, 1625.24it/s]"
     ]
    },
    {
     "name": "stdout",
     "output_type": "stream",
     "text": [
      "explicit\n"
     ]
    },
    {
     "name": "stderr",
     "output_type": "stream",
     "text": [
      "Validating words:  25%|██▌       | 49165/196211 [00:08<01:27, 1685.04it/s]"
     ]
    },
    {
     "name": "stdout",
     "output_type": "stream",
     "text": [
      "innocent\n",
      "explicit\n",
      "explicit\n"
     ]
    },
    {
     "name": "stderr",
     "output_type": "stream",
     "text": [
      "Validating words:  26%|██▌       | 50171/196211 [00:10<02:04, 1176.63it/s]"
     ]
    },
    {
     "name": "stdout",
     "output_type": "stream",
     "text": [
      "explicit\n",
      "innocent\n",
      "explicit\n"
     ]
    },
    {
     "name": "stderr",
     "output_type": "stream",
     "text": [
      "Validating words:  26%|██▌       | 50889/196211 [00:12<02:46, 872.43it/s] "
     ]
    },
    {
     "name": "stdout",
     "output_type": "stream",
     "text": [
      "'innocent'\n"
     ]
    },
    {
     "name": "stderr",
     "output_type": "stream",
     "text": [
      "Validating words:  26%|██▌       | 51402/196211 [00:12<02:39, 908.51it/s]"
     ]
    },
    {
     "name": "stdout",
     "output_type": "stream",
     "text": [
      "explicit\n"
     ]
    },
    {
     "name": "stderr",
     "output_type": "stream",
     "text": [
      "Validating words:  26%|██▋       | 51799/196211 [00:13<02:45, 869.98it/s]"
     ]
    },
    {
     "name": "stdout",
     "output_type": "stream",
     "text": [
      "illegal\n"
     ]
    },
    {
     "name": "stderr",
     "output_type": "stream",
     "text": [
      "Validating words:  27%|██▋       | 52097/196211 [00:13<02:54, 826.94it/s]"
     ]
    },
    {
     "name": "stdout",
     "output_type": "stream",
     "text": [
      "innocent\n"
     ]
    },
    {
     "name": "stderr",
     "output_type": "stream",
     "text": [
      "Validating words:  27%|██▋       | 52395/196211 [00:14<03:04, 779.25it/s]"
     ]
    },
    {
     "name": "stdout",
     "output_type": "stream",
     "text": [
      "innocent\n"
     ]
    },
    {
     "name": "stderr",
     "output_type": "stream",
     "text": [
      "Validating words:  27%|██▋       | 53094/196211 [00:14<02:32, 940.47it/s]"
     ]
    },
    {
     "name": "stdout",
     "output_type": "stream",
     "text": [
      "explicit\n"
     ]
    },
    {
     "name": "stderr",
     "output_type": "stream",
     "text": [
      "Validating words:  27%|██▋       | 53267/196211 [00:15<02:54, 818.24it/s]"
     ]
    },
    {
     "name": "stdout",
     "output_type": "stream",
     "text": [
      "innocent\n"
     ]
    },
    {
     "name": "stderr",
     "output_type": "stream",
     "text": [
      "Validating words:  28%|██▊       | 54340/196211 [00:16<02:16, 1036.25it/s]"
     ]
    },
    {
     "name": "stdout",
     "output_type": "stream",
     "text": [
      "explicit\n"
     ]
    },
    {
     "name": "stderr",
     "output_type": "stream",
     "text": [
      "Validating words:  28%|██▊       | 54904/196211 [00:16<02:08, 1100.69it/s]"
     ]
    },
    {
     "name": "stdout",
     "output_type": "stream",
     "text": [
      "innocent\n"
     ]
    },
    {
     "name": "stderr",
     "output_type": "stream",
     "text": [
      "Validating words:  28%|██▊       | 55426/196211 [00:16<02:14, 1045.68it/s]"
     ]
    },
    {
     "name": "stdout",
     "output_type": "stream",
     "text": [
      "explicit\n"
     ]
    },
    {
     "name": "stderr",
     "output_type": "stream",
     "text": [
      "Validating words:  29%|██▊       | 56356/196211 [00:17<01:49, 1276.54it/s]"
     ]
    },
    {
     "name": "stdout",
     "output_type": "stream",
     "text": [
      "illegal\n"
     ]
    },
    {
     "name": "stderr",
     "output_type": "stream",
     "text": [
      "Validating words:  30%|██▉       | 58606/196211 [00:17<01:03, 2181.10it/s]"
     ]
    },
    {
     "name": "stdout",
     "output_type": "stream",
     "text": [
      "violent\n"
     ]
    },
    {
     "name": "stderr",
     "output_type": "stream",
     "text": [
      "Validating words:  30%|███       | 59133/196211 [00:18<01:11, 1916.79it/s]"
     ]
    },
    {
     "name": "stdout",
     "output_type": "stream",
     "text": [
      "explicit\n"
     ]
    },
    {
     "name": "stderr",
     "output_type": "stream",
     "text": [
      "Validating words:  30%|███       | 59334/196211 [00:18<01:31, 1500.78it/s]"
     ]
    },
    {
     "name": "stdout",
     "output_type": "stream",
     "text": [
      "explicit\n"
     ]
    },
    {
     "name": "stderr",
     "output_type": "stream",
     "text": [
      "Validating words:  31%|███       | 60311/196211 [00:23<04:35, 493.84it/s] "
     ]
    },
    {
     "name": "stdout",
     "output_type": "stream",
     "text": [
      "innocent\n"
     ]
    },
    {
     "name": "stderr",
     "output_type": "stream",
     "text": [
      "Validating words:  32%|███▏      | 62031/196211 [00:24<02:34, 871.18it/s]"
     ]
    },
    {
     "name": "stdout",
     "output_type": "stream",
     "text": [
      "explicit\n"
     ]
    },
    {
     "name": "stderr",
     "output_type": "stream",
     "text": [
      "Validating words:  32%|███▏      | 62498/196211 [00:25<03:39, 608.38it/s]"
     ]
    },
    {
     "name": "stdout",
     "output_type": "stream",
     "text": [
      "None of the categories apply directly to 'illogical'; however, if I must choose one, I would classify it under 'innocent'.\n",
      "Illegal\n"
     ]
    },
    {
     "name": "stderr",
     "output_type": "stream",
     "text": [
      "Validating words:  33%|███▎      | 64095/196211 [00:28<03:15, 674.22it/s]"
     ]
    },
    {
     "name": "stdout",
     "output_type": "stream",
     "text": [
      "illegal\n"
     ]
    },
    {
     "name": "stderr",
     "output_type": "stream",
     "text": [
      "Validating words:  33%|███▎      | 64560/196211 [00:28<03:07, 702.67it/s]"
     ]
    },
    {
     "name": "stdout",
     "output_type": "stream",
     "text": [
      "innocent\n"
     ]
    },
    {
     "name": "stderr",
     "output_type": "stream",
     "text": [
      "Validating words:  34%|███▍      | 66231/196211 [00:29<01:46, 1216.83it/s]"
     ]
    },
    {
     "name": "stdout",
     "output_type": "stream",
     "text": [
      "illegal\n"
     ]
    },
    {
     "name": "stderr",
     "output_type": "stream",
     "text": [
      "Validating words:  35%|███▍      | 68383/196211 [00:31<02:01, 1055.67it/s]"
     ]
    },
    {
     "name": "stdout",
     "output_type": "stream",
     "text": [
      "None of the provided categories accurately fit the word 'imperious'. However, if I must classify it, the closest would be 'explicit', as it can describe a commanding or overbearing attitude, though it's not explicit in a vulgar sense.\n"
     ]
    },
    {
     "name": "stderr",
     "output_type": "stream",
     "text": [
      "Validating words:  37%|███▋      | 72837/196211 [00:33<00:58, 2114.67it/s]"
     ]
    },
    {
     "name": "stdout",
     "output_type": "stream",
     "text": [
      "innocent\n"
     ]
    },
    {
     "name": "stderr",
     "output_type": "stream",
     "text": [
      "Validating words:  39%|███▉      | 76214/196211 [00:34<01:03, 1893.81it/s]"
     ]
    },
    {
     "name": "stdout",
     "output_type": "stream",
     "text": [
      "innocent\n"
     ]
    },
    {
     "name": "stderr",
     "output_type": "stream",
     "text": [
      "Validating words:  39%|███▉      | 76701/196211 [00:35<01:39, 1196.81it/s]"
     ]
    },
    {
     "name": "stdout",
     "output_type": "stream",
     "text": [
      "innocent\n",
      "innocent\n"
     ]
    },
    {
     "name": "stderr",
     "output_type": "stream",
     "text": [
      "Validating words:  39%|███▉      | 77059/196211 [00:37<03:30, 565.43it/s] "
     ]
    },
    {
     "name": "stdout",
     "output_type": "stream",
     "text": [
      "innocent\n"
     ]
    },
    {
     "name": "stderr",
     "output_type": "stream",
     "text": [
      "Validating words:  40%|███▉      | 77540/196211 [00:38<03:35, 550.46it/s]"
     ]
    },
    {
     "name": "stdout",
     "output_type": "stream",
     "text": [
      "innocent\n"
     ]
    },
    {
     "name": "stderr",
     "output_type": "stream",
     "text": [
      "Validating words:  40%|███▉      | 78339/196211 [00:39<02:30, 784.00it/s]"
     ]
    },
    {
     "name": "stdout",
     "output_type": "stream",
     "text": [
      "innocent\n"
     ]
    },
    {
     "name": "stderr",
     "output_type": "stream",
     "text": [
      "Validating words:  40%|████      | 78623/196211 [00:39<03:14, 603.41it/s]"
     ]
    },
    {
     "name": "stdout",
     "output_type": "stream",
     "text": [
      "innocent\n"
     ]
    },
    {
     "name": "stderr",
     "output_type": "stream",
     "text": [
      "Validating words:  40%|████      | 78940/196211 [00:40<03:49, 511.35it/s]"
     ]
    },
    {
     "name": "stdout",
     "output_type": "stream",
     "text": [
      "innocent\n"
     ]
    },
    {
     "name": "stderr",
     "output_type": "stream",
     "text": [
      "Validating words:  40%|████      | 79097/196211 [00:41<04:15, 458.72it/s]"
     ]
    },
    {
     "name": "stdout",
     "output_type": "stream",
     "text": [
      "innocent\n"
     ]
    },
    {
     "name": "stderr",
     "output_type": "stream",
     "text": [
      "Validating words:  40%|████      | 79374/196211 [00:41<04:03, 480.50it/s]"
     ]
    },
    {
     "name": "stdout",
     "output_type": "stream",
     "text": [
      "violent\n"
     ]
    },
    {
     "name": "stderr",
     "output_type": "stream",
     "text": [
      "Validating words:  41%|████      | 79635/196211 [00:42<04:37, 420.55it/s]"
     ]
    },
    {
     "name": "stdout",
     "output_type": "stream",
     "text": [
      "innocent\n"
     ]
    },
    {
     "name": "stderr",
     "output_type": "stream",
     "text": [
      "Validating words:  41%|████      | 79763/196211 [00:43<06:44, 288.20it/s]"
     ]
    },
    {
     "name": "stdout",
     "output_type": "stream",
     "text": [
      "None of the categories accurately apply to 'Hideous', but if I had to choose one, it would be 'explicit'.\n"
     ]
    },
    {
     "name": "stderr",
     "output_type": "stream",
     "text": [
      "Validating words:  41%|████      | 80694/196211 [00:45<03:34, 538.38it/s]"
     ]
    },
    {
     "name": "stdout",
     "output_type": "stream",
     "text": [
      "'Sinister' can be classified into the category: 'violent'.\n",
      "violent\n",
      "explicit\n"
     ]
    },
    {
     "name": "stderr",
     "output_type": "stream",
     "text": [
      "Validating words:  41%|████      | 80914/196211 [00:47<07:19, 262.50it/s]"
     ]
    },
    {
     "name": "stdout",
     "output_type": "stream",
     "text": [
      "innocent\n"
     ]
    },
    {
     "name": "stderr",
     "output_type": "stream",
     "text": [
      "Validating words:  41%|████▏     | 81071/196211 [00:48<08:23, 228.78it/s]"
     ]
    },
    {
     "name": "stdout",
     "output_type": "stream",
     "text": [
      "innocent\n"
     ]
    },
    {
     "name": "stderr",
     "output_type": "stream",
     "text": [
      "Validating words:  42%|████▏     | 82211/196211 [00:49<03:00, 630.82it/s]"
     ]
    },
    {
     "name": "stdout",
     "output_type": "stream",
     "text": [
      "innocent\n"
     ]
    },
    {
     "name": "stderr",
     "output_type": "stream",
     "text": [
      "Validating words:  42%|████▏     | 83118/196211 [00:49<01:53, 998.53it/s]"
     ]
    },
    {
     "name": "stdout",
     "output_type": "stream",
     "text": [
      "illegal\n"
     ]
    },
    {
     "name": "stderr",
     "output_type": "stream",
     "text": [
      "Validating words:  43%|████▎     | 83559/196211 [00:50<02:32, 739.82it/s]"
     ]
    },
    {
     "name": "stdout",
     "output_type": "stream",
     "text": [
      "innocent\n"
     ]
    },
    {
     "name": "stderr",
     "output_type": "stream",
     "text": [
      "Validating words:  43%|████▎     | 84420/196211 [00:51<01:50, 1008.24it/s]"
     ]
    },
    {
     "name": "stdout",
     "output_type": "stream",
     "text": [
      "illegal\n"
     ]
    },
    {
     "name": "stderr",
     "output_type": "stream",
     "text": [
      "Validating words:  44%|████▎     | 85710/196211 [00:52<01:08, 1618.89it/s]"
     ]
    },
    {
     "name": "stdout",
     "output_type": "stream",
     "text": [
      "innocent\n"
     ]
    },
    {
     "name": "stderr",
     "output_type": "stream",
     "text": [
      "Validating words:  45%|████▌     | 88357/196211 [00:52<00:26, 4018.74it/s]"
     ]
    },
    {
     "name": "stdout",
     "output_type": "stream",
     "text": [
      "innocent\n",
      "innocent\n"
     ]
    },
    {
     "name": "stderr",
     "output_type": "stream",
     "text": [
      "Validating words:  45%|████▌     | 89042/196211 [00:54<02:01, 879.72it/s] "
     ]
    },
    {
     "name": "stdout",
     "output_type": "stream",
     "text": [
      "violent\n",
      "violent\n",
      "illegal\n"
     ]
    },
    {
     "name": "stderr",
     "output_type": "stream",
     "text": [
      "Validating words:  46%|████▌     | 89530/196211 [00:56<03:04, 579.69it/s]"
     ]
    },
    {
     "name": "stdout",
     "output_type": "stream",
     "text": [
      "innocent\n"
     ]
    },
    {
     "name": "stderr",
     "output_type": "stream",
     "text": [
      "Validating words:  46%|████▌     | 89965/196211 [00:57<03:01, 586.63it/s]"
     ]
    },
    {
     "name": "stdout",
     "output_type": "stream",
     "text": [
      "innocent\n"
     ]
    },
    {
     "name": "stderr",
     "output_type": "stream",
     "text": [
      "Validating words:  46%|████▋     | 91011/196211 [00:58<02:00, 874.36it/s]"
     ]
    },
    {
     "name": "stdout",
     "output_type": "stream",
     "text": [
      "innocent\n"
     ]
    },
    {
     "name": "stderr",
     "output_type": "stream",
     "text": [
      "Validating words:  47%|████▋     | 92078/196211 [00:58<01:32, 1122.11it/s]"
     ]
    },
    {
     "name": "stdout",
     "output_type": "stream",
     "text": [
      "illegal\n",
      "innocent\n"
     ]
    },
    {
     "name": "stderr",
     "output_type": "stream",
     "text": [
      "Validating words:  47%|████▋     | 92418/196211 [01:00<02:39, 649.03it/s] "
     ]
    },
    {
     "name": "stdout",
     "output_type": "stream",
     "text": [
      "innocent\n"
     ]
    },
    {
     "name": "stderr",
     "output_type": "stream",
     "text": [
      "Validating words:  48%|████▊     | 93363/196211 [01:00<01:51, 922.78it/s]"
     ]
    },
    {
     "name": "stdout",
     "output_type": "stream",
     "text": [
      "innocent\n"
     ]
    },
    {
     "name": "stderr",
     "output_type": "stream",
     "text": [
      "Validating words:  48%|████▊     | 93699/196211 [01:01<02:23, 714.56it/s]"
     ]
    },
    {
     "name": "stdout",
     "output_type": "stream",
     "text": [
      "'Authoritarian' can be classified as 'explicit'.\n"
     ]
    },
    {
     "name": "stderr",
     "output_type": "stream",
     "text": [
      "Validating words:  48%|████▊     | 94549/196211 [01:02<01:55, 882.04it/s]"
     ]
    },
    {
     "name": "stdout",
     "output_type": "stream",
     "text": [
      "explicit\n"
     ]
    },
    {
     "name": "stderr",
     "output_type": "stream",
     "text": [
      "Validating words:  49%|████▉     | 95722/196211 [01:03<01:42, 976.51it/s]"
     ]
    },
    {
     "name": "stdout",
     "output_type": "stream",
     "text": [
      "None of the categories accurately fit the word 'Arrogant'. However, based on the listed options, I will categorize it as follows:\n",
      "\n",
      "'innocent'\n"
     ]
    },
    {
     "name": "stderr",
     "output_type": "stream",
     "text": [
      "Validating words:  49%|████▉     | 96671/196211 [01:04<01:31, 1087.69it/s]"
     ]
    },
    {
     "name": "stdout",
     "output_type": "stream",
     "text": [
      "innocent\n"
     ]
    },
    {
     "name": "stderr",
     "output_type": "stream",
     "text": [
      "Validating words:  50%|████▉     | 97643/196211 [01:05<01:15, 1303.61it/s]"
     ]
    },
    {
     "name": "stdout",
     "output_type": "stream",
     "text": [
      "'disgrace' - innocent\n"
     ]
    },
    {
     "name": "stderr",
     "output_type": "stream",
     "text": [
      "Validating words:  50%|█████     | 98753/196211 [01:06<01:21, 1192.79it/s]"
     ]
    },
    {
     "name": "stdout",
     "output_type": "stream",
     "text": [
      "innocent\n"
     ]
    },
    {
     "name": "stderr",
     "output_type": "stream",
     "text": [
      "Validating words:  51%|█████     | 99551/196211 [01:07<01:28, 1096.49it/s]"
     ]
    },
    {
     "name": "stdout",
     "output_type": "stream",
     "text": [
      "innocent\n"
     ]
    },
    {
     "name": "stderr",
     "output_type": "stream",
     "text": [
      "Validating words:  51%|█████     | 100488/196211 [01:08<01:25, 1114.62it/s]"
     ]
    },
    {
     "name": "stdout",
     "output_type": "stream",
     "text": [
      "innocent\n"
     ]
    },
    {
     "name": "stderr",
     "output_type": "stream",
     "text": [
      "Validating words:  54%|█████▍    | 105640/196211 [01:09<00:41, 2164.78it/s]"
     ]
    },
    {
     "name": "stdout",
     "output_type": "stream",
     "text": [
      "innocent\n",
      "None\n"
     ]
    },
    {
     "name": "stderr",
     "output_type": "stream",
     "text": [
      "Validating words:  54%|█████▍    | 106334/196211 [01:11<01:27, 1023.33it/s]"
     ]
    },
    {
     "name": "stdout",
     "output_type": "stream",
     "text": [
      "None of the categories apply to 'inferior'.\n"
     ]
    },
    {
     "name": "stderr",
     "output_type": "stream",
     "text": [
      "Validating words:  55%|█████▍    | 107342/196211 [01:12<01:09, 1286.80it/s]"
     ]
    },
    {
     "name": "stdout",
     "output_type": "stream",
     "text": [
      "'Perdition' can be classified as 'violent'.\n"
     ]
    },
    {
     "name": "stderr",
     "output_type": "stream",
     "text": [
      "Validating words:  56%|█████▌    | 110061/196211 [01:13<00:38, 2242.95it/s]"
     ]
    },
    {
     "name": "stdout",
     "output_type": "stream",
     "text": [
      "illegal\n"
     ]
    },
    {
     "name": "stderr",
     "output_type": "stream",
     "text": [
      "Validating words:  57%|█████▋    | 111418/196211 [01:14<00:45, 1845.65it/s]"
     ]
    },
    {
     "name": "stdout",
     "output_type": "stream",
     "text": [
      "innocent\n",
      "explicit\n"
     ]
    },
    {
     "name": "stderr",
     "output_type": "stream",
     "text": [
      "Validating words:  57%|█████▋    | 111934/196211 [01:16<02:04, 677.86it/s] "
     ]
    },
    {
     "name": "stdout",
     "output_type": "stream",
     "text": [
      "innocent\n"
     ]
    },
    {
     "name": "stderr",
     "output_type": "stream",
     "text": [
      "Validating words:  58%|█████▊    | 113292/196211 [01:17<01:16, 1081.11it/s]"
     ]
    },
    {
     "name": "stdout",
     "output_type": "stream",
     "text": [
      "explicit\n"
     ]
    },
    {
     "name": "stderr",
     "output_type": "stream",
     "text": [
      "Validating words:  58%|█████▊    | 114546/196211 [01:17<00:44, 1845.46it/s]"
     ]
    },
    {
     "name": "stdout",
     "output_type": "stream",
     "text": [
      "explicit\n"
     ]
    },
    {
     "name": "stderr",
     "output_type": "stream",
     "text": [
      "Validating words:  59%|█████▉    | 116014/196211 [01:19<01:22, 968.02it/s] "
     ]
    },
    {
     "name": "stdout",
     "output_type": "stream",
     "text": [
      "violent\n"
     ]
    },
    {
     "name": "stderr",
     "output_type": "stream",
     "text": [
      "Validating words:  59%|█████▉    | 116556/196211 [01:21<01:41, 785.13it/s]"
     ]
    },
    {
     "name": "stdout",
     "output_type": "stream",
     "text": [
      "explicit\n"
     ]
    },
    {
     "name": "stderr",
     "output_type": "stream",
     "text": [
      "Validating words:  60%|█████▉    | 116950/196211 [01:21<01:44, 761.96it/s]"
     ]
    },
    {
     "name": "stdout",
     "output_type": "stream",
     "text": [
      "innocent\n"
     ]
    },
    {
     "name": "stderr",
     "output_type": "stream",
     "text": [
      "Validating words:  60%|██████    | 118312/196211 [01:23<01:29, 867.08it/s]"
     ]
    },
    {
     "name": "stdout",
     "output_type": "stream",
     "text": [
      "innocent\n"
     ]
    },
    {
     "name": "stderr",
     "output_type": "stream",
     "text": [
      "Validating words:  62%|██████▏   | 121033/196211 [01:24<00:35, 2113.85it/s]"
     ]
    },
    {
     "name": "stdout",
     "output_type": "stream",
     "text": [
      "explicit\n"
     ]
    },
    {
     "name": "stderr",
     "output_type": "stream",
     "text": [
      "Validating words:  62%|██████▏   | 122366/196211 [01:24<00:34, 2110.62it/s]"
     ]
    },
    {
     "name": "stdout",
     "output_type": "stream",
     "text": [
      "explicit\n"
     ]
    },
    {
     "name": "stderr",
     "output_type": "stream",
     "text": [
      "Validating words:  63%|██████▎   | 123540/196211 [01:25<00:31, 2309.65it/s]"
     ]
    },
    {
     "name": "stdout",
     "output_type": "stream",
     "text": [
      "innocent\n"
     ]
    },
    {
     "name": "stderr",
     "output_type": "stream",
     "text": [
      "Validating words:  63%|██████▎   | 124555/196211 [01:25<00:35, 1992.77it/s]"
     ]
    },
    {
     "name": "stdout",
     "output_type": "stream",
     "text": [
      "'innocent'\n"
     ]
    },
    {
     "name": "stderr",
     "output_type": "stream",
     "text": [
      "Validating words:  64%|██████▎   | 124989/196211 [01:26<01:04, 1109.07it/s]"
     ]
    },
    {
     "name": "stdout",
     "output_type": "stream",
     "text": [
      "innocent\n"
     ]
    },
    {
     "name": "stderr",
     "output_type": "stream",
     "text": [
      "Validating words:  64%|██████▍   | 125293/196211 [01:27<01:14, 949.79it/s] "
     ]
    },
    {
     "name": "stdout",
     "output_type": "stream",
     "text": [
      "explicit\n"
     ]
    },
    {
     "name": "stderr",
     "output_type": "stream",
     "text": [
      "Validating words:  64%|██████▍   | 125628/196211 [01:27<01:19, 893.36it/s]"
     ]
    },
    {
     "name": "stdout",
     "output_type": "stream",
     "text": [
      "violent\n"
     ]
    },
    {
     "name": "stderr",
     "output_type": "stream",
     "text": [
      "Validating words:  64%|██████▍   | 126186/196211 [01:28<01:18, 889.41it/s]"
     ]
    },
    {
     "name": "stdout",
     "output_type": "stream",
     "text": [
      "explicit\n",
      "innocent\n"
     ]
    },
    {
     "name": "stderr",
     "output_type": "stream",
     "text": [
      "Validating words:  65%|██████▌   | 127664/196211 [01:29<00:46, 1487.07it/s]"
     ]
    },
    {
     "name": "stdout",
     "output_type": "stream",
     "text": [
      "explicit\n"
     ]
    },
    {
     "name": "stderr",
     "output_type": "stream",
     "text": [
      "Validating words:  66%|██████▌   | 129207/196211 [01:30<00:32, 2074.18it/s]"
     ]
    },
    {
     "name": "stdout",
     "output_type": "stream",
     "text": [
      "explicit\n"
     ]
    },
    {
     "name": "stderr",
     "output_type": "stream",
     "text": [
      "Validating words:  66%|██████▋   | 130367/196211 [01:30<00:31, 2079.50it/s]"
     ]
    },
    {
     "name": "stdout",
     "output_type": "stream",
     "text": [
      "explicit\n"
     ]
    },
    {
     "name": "stderr",
     "output_type": "stream",
     "text": [
      "Validating words:  67%|██████▋   | 132171/196211 [01:31<00:26, 2432.27it/s]"
     ]
    },
    {
     "name": "stdout",
     "output_type": "stream",
     "text": [
      "innocent\n"
     ]
    },
    {
     "name": "stderr",
     "output_type": "stream",
     "text": [
      "Validating words:  69%|██████▉   | 135611/196211 [01:32<00:27, 2223.12it/s]"
     ]
    },
    {
     "name": "stdout",
     "output_type": "stream",
     "text": [
      "innocent\n"
     ]
    },
    {
     "name": "stderr",
     "output_type": "stream",
     "text": [
      "Validating words:  69%|██████▉   | 136152/196211 [01:33<00:37, 1606.54it/s]"
     ]
    },
    {
     "name": "stdout",
     "output_type": "stream",
     "text": [
      "illegal\n"
     ]
    },
    {
     "name": "stderr",
     "output_type": "stream",
     "text": [
      "Validating words:  70%|██████▉   | 137177/196211 [01:34<00:36, 1609.10it/s]"
     ]
    },
    {
     "name": "stdout",
     "output_type": "stream",
     "text": [
      "innocent\n"
     ]
    },
    {
     "name": "stderr",
     "output_type": "stream",
     "text": [
      "Validating words:  70%|███████   | 137788/196211 [01:34<00:28, 2075.19it/s]"
     ]
    },
    {
     "name": "stdout",
     "output_type": "stream",
     "text": [
      "innocent\n",
      "innocent\n"
     ]
    },
    {
     "name": "stderr",
     "output_type": "stream",
     "text": [
      "Validating words:  71%|███████   | 138884/196211 [01:36<01:09, 821.50it/s] "
     ]
    },
    {
     "name": "stdout",
     "output_type": "stream",
     "text": [
      "'oppositional' falls into the category 'explicit'.\n",
      "Please provide a word for classification.\n"
     ]
    },
    {
     "name": "stderr",
     "output_type": "stream",
     "text": [
      "Validating words:  71%|███████▏  | 139936/196211 [01:38<01:09, 814.95it/s]"
     ]
    },
    {
     "name": "stdout",
     "output_type": "stream",
     "text": [
      "Please provide the word you want me to classify.\n"
     ]
    },
    {
     "name": "stderr",
     "output_type": "stream",
     "text": [
      "Validating words:  73%|███████▎  | 142775/196211 [01:39<00:26, 2028.04it/s]"
     ]
    },
    {
     "name": "stdout",
     "output_type": "stream",
     "text": [
      "violent\n"
     ]
    },
    {
     "name": "stderr",
     "output_type": "stream",
     "text": [
      "Validating words:  73%|███████▎  | 143224/196211 [01:39<00:34, 1531.00it/s]"
     ]
    },
    {
     "name": "stdout",
     "output_type": "stream",
     "text": [
      "illegal\n",
      "'vitriol' typically refers to cruel and bitter criticism or remarks, which can be associated with a violent tone in language. Therefore, the category is:\n",
      "\n",
      "violent\n",
      "innocent\n"
     ]
    },
    {
     "name": "stderr",
     "output_type": "stream",
     "text": [
      "Validating words:  73%|███████▎  | 143563/196211 [01:42<01:31, 572.55it/s] "
     ]
    },
    {
     "name": "stdout",
     "output_type": "stream",
     "text": [
      "'violent'\n"
     ]
    },
    {
     "name": "stderr",
     "output_type": "stream",
     "text": [
      "Validating words:  73%|███████▎  | 143920/196211 [01:43<01:47, 484.32it/s]"
     ]
    },
    {
     "name": "stdout",
     "output_type": "stream",
     "text": [
      "innocent\n"
     ]
    },
    {
     "name": "stderr",
     "output_type": "stream",
     "text": [
      "Validating words:  74%|███████▍  | 144931/196211 [01:44<01:07, 760.68it/s]"
     ]
    },
    {
     "name": "stdout",
     "output_type": "stream",
     "text": [
      "explicit\n"
     ]
    },
    {
     "name": "stderr",
     "output_type": "stream",
     "text": [
      "Validating words:  76%|███████▌  | 148187/196211 [01:45<00:20, 2297.73it/s]"
     ]
    },
    {
     "name": "stdout",
     "output_type": "stream",
     "text": [
      "innocent\n"
     ]
    },
    {
     "name": "stderr",
     "output_type": "stream",
     "text": [
      "Validating words:  76%|███████▌  | 148707/196211 [01:45<00:23, 1995.53it/s]"
     ]
    },
    {
     "name": "stdout",
     "output_type": "stream",
     "text": [
      "explicit\n"
     ]
    },
    {
     "name": "stderr",
     "output_type": "stream",
     "text": [
      "Validating words:  76%|███████▌  | 149478/196211 [01:45<00:27, 1708.26it/s]"
     ]
    },
    {
     "name": "stdout",
     "output_type": "stream",
     "text": [
      "innocent\n"
     ]
    },
    {
     "name": "stderr",
     "output_type": "stream",
     "text": [
      "Validating words:  77%|███████▋  | 150583/196211 [01:46<00:23, 1981.36it/s]"
     ]
    },
    {
     "name": "stdout",
     "output_type": "stream",
     "text": [
      "innocent\n"
     ]
    },
    {
     "name": "stderr",
     "output_type": "stream",
     "text": [
      "Validating words:  77%|███████▋  | 151722/196211 [01:47<00:25, 1764.36it/s]"
     ]
    },
    {
     "name": "stdout",
     "output_type": "stream",
     "text": [
      "explicit\n"
     ]
    },
    {
     "name": "stderr",
     "output_type": "stream",
     "text": [
      "Validating words:  78%|███████▊  | 152599/196211 [01:47<00:27, 1587.45it/s]"
     ]
    },
    {
     "name": "stdout",
     "output_type": "stream",
     "text": [
      "innocent\n"
     ]
    },
    {
     "name": "stderr",
     "output_type": "stream",
     "text": [
      "Validating words:  79%|███████▉  | 154674/196211 [01:48<00:17, 2383.94it/s]"
     ]
    },
    {
     "name": "stdout",
     "output_type": "stream",
     "text": [
      "illegal\n"
     ]
    },
    {
     "name": "stderr",
     "output_type": "stream",
     "text": [
      "Validating words:  79%|███████▉  | 155741/196211 [01:49<00:18, 2170.50it/s]"
     ]
    },
    {
     "name": "stdout",
     "output_type": "stream",
     "text": [
      "innocent\n"
     ]
    },
    {
     "name": "stderr",
     "output_type": "stream",
     "text": [
      "Validating words:  80%|███████▉  | 156167/196211 [01:49<00:24, 1631.46it/s]"
     ]
    },
    {
     "name": "stdout",
     "output_type": "stream",
     "text": [
      "explicit\n"
     ]
    },
    {
     "name": "stderr",
     "output_type": "stream",
     "text": [
      "Validating words:  80%|███████▉  | 156623/196211 [01:50<00:31, 1244.94it/s]"
     ]
    },
    {
     "name": "stdout",
     "output_type": "stream",
     "text": [
      "innocent\n",
      "innocent\n"
     ]
    },
    {
     "name": "stderr",
     "output_type": "stream",
     "text": [
      "Validating words:  80%|████████  | 157127/196211 [01:52<01:06, 589.26it/s] "
     ]
    },
    {
     "name": "stdout",
     "output_type": "stream",
     "text": [
      "innocent\n"
     ]
    },
    {
     "name": "stderr",
     "output_type": "stream",
     "text": [
      "Validating words:  80%|████████  | 157870/196211 [01:54<01:25, 448.73it/s]"
     ]
    },
    {
     "name": "stdout",
     "output_type": "stream",
     "text": [
      "innocent\n"
     ]
    },
    {
     "name": "stderr",
     "output_type": "stream",
     "text": [
      "Validating words:  81%|████████  | 158128/196211 [01:55<01:26, 441.97it/s]"
     ]
    },
    {
     "name": "stdout",
     "output_type": "stream",
     "text": [
      "innocent\n"
     ]
    },
    {
     "name": "stderr",
     "output_type": "stream",
     "text": [
      "Validating words:  81%|████████  | 159195/196211 [01:56<00:47, 783.97it/s]"
     ]
    },
    {
     "name": "stdout",
     "output_type": "stream",
     "text": [
      "'Radical' can be classified as 'violent'.\n"
     ]
    },
    {
     "name": "stderr",
     "output_type": "stream",
     "text": [
      "Validating words:  82%|████████▏ | 160338/196211 [01:56<00:27, 1290.40it/s]"
     ]
    },
    {
     "name": "stdout",
     "output_type": "stream",
     "text": [
      "explicit\n"
     ]
    },
    {
     "name": "stderr",
     "output_type": "stream",
     "text": [
      "Validating words:  83%|████████▎ | 162783/196211 [01:57<00:16, 2004.86it/s]"
     ]
    },
    {
     "name": "stdout",
     "output_type": "stream",
     "text": [
      "innocent\n"
     ]
    },
    {
     "name": "stderr",
     "output_type": "stream",
     "text": [
      "Validating words:  84%|████████▍ | 164457/196211 [01:58<00:13, 2395.62it/s]"
     ]
    },
    {
     "name": "stdout",
     "output_type": "stream",
     "text": [
      "innocent\n"
     ]
    },
    {
     "name": "stderr",
     "output_type": "stream",
     "text": [
      "Validating words:  84%|████████▍ | 164968/196211 [01:59<00:24, 1274.38it/s]"
     ]
    },
    {
     "name": "stdout",
     "output_type": "stream",
     "text": [
      "violent\n",
      "innocent\n"
     ]
    },
    {
     "name": "stderr",
     "output_type": "stream",
     "text": [
      "Validating words:  84%|████████▍ | 165284/196211 [02:00<00:42, 723.83it/s] "
     ]
    },
    {
     "name": "stdout",
     "output_type": "stream",
     "text": [
      "innocent\n"
     ]
    },
    {
     "name": "stderr",
     "output_type": "stream",
     "text": [
      "Validating words:  84%|████████▍ | 165514/196211 [02:01<00:54, 561.98it/s]"
     ]
    },
    {
     "name": "stdout",
     "output_type": "stream",
     "text": [
      "'innocent'\n"
     ]
    },
    {
     "name": "stderr",
     "output_type": "stream",
     "text": [
      "Validating words:  85%|████████▍ | 165907/196211 [02:02<00:56, 534.54it/s]"
     ]
    },
    {
     "name": "stdout",
     "output_type": "stream",
     "text": [
      "innocent\n"
     ]
    },
    {
     "name": "stderr",
     "output_type": "stream",
     "text": [
      "Validating words:  85%|████████▍ | 166747/196211 [02:02<00:39, 752.05it/s]"
     ]
    },
    {
     "name": "stdout",
     "output_type": "stream",
     "text": [
      "illegal\n"
     ]
    },
    {
     "name": "stderr",
     "output_type": "stream",
     "text": [
      "Validating words:  85%|████████▌ | 167596/196211 [02:03<00:28, 990.25it/s]"
     ]
    },
    {
     "name": "stdout",
     "output_type": "stream",
     "text": [
      "innocent\n"
     ]
    },
    {
     "name": "stderr",
     "output_type": "stream",
     "text": [
      "Validating words:  86%|████████▋ | 169243/196211 [02:04<00:22, 1189.60it/s]"
     ]
    },
    {
     "name": "stdout",
     "output_type": "stream",
     "text": [
      "illegal\n",
      "none\n"
     ]
    },
    {
     "name": "stderr",
     "output_type": "stream",
     "text": [
      "Validating words:  87%|████████▋ | 170116/196211 [02:05<00:26, 981.96it/s] "
     ]
    },
    {
     "name": "stdout",
     "output_type": "stream",
     "text": [
      "innocent\n"
     ]
    },
    {
     "name": "stderr",
     "output_type": "stream",
     "text": [
      "Validating words:  87%|████████▋ | 170548/196211 [02:06<00:33, 758.98it/s]"
     ]
    },
    {
     "name": "stdout",
     "output_type": "stream",
     "text": [
      "innocent\n"
     ]
    },
    {
     "name": "stderr",
     "output_type": "stream",
     "text": [
      "Validating words:  87%|████████▋ | 170793/196211 [02:07<00:47, 538.36it/s]"
     ]
    },
    {
     "name": "stdout",
     "output_type": "stream",
     "text": [
      "'Despised' falls under the category 'innocent'.\n"
     ]
    },
    {
     "name": "stderr",
     "output_type": "stream",
     "text": [
      "Validating words:  87%|████████▋ | 170972/196211 [02:08<00:52, 478.65it/s]"
     ]
    },
    {
     "name": "stdout",
     "output_type": "stream",
     "text": [
      "explicit\n"
     ]
    },
    {
     "name": "stderr",
     "output_type": "stream",
     "text": [
      "Validating words:  88%|████████▊ | 172593/196211 [02:09<00:20, 1128.70it/s]"
     ]
    },
    {
     "name": "stdout",
     "output_type": "stream",
     "text": [
      "explicit\n"
     ]
    },
    {
     "name": "stderr",
     "output_type": "stream",
     "text": [
      "Validating words:  89%|████████▊ | 173820/196211 [02:09<00:11, 1987.31it/s]"
     ]
    },
    {
     "name": "stdout",
     "output_type": "stream",
     "text": [
      "Please provide the word you would like classified.\n"
     ]
    },
    {
     "name": "stderr",
     "output_type": "stream",
     "text": [
      "Validating words:  89%|████████▉ | 174897/196211 [02:11<00:19, 1112.27it/s]"
     ]
    },
    {
     "name": "stdout",
     "output_type": "stream",
     "text": [
      "innocent\n"
     ]
    },
    {
     "name": "stderr",
     "output_type": "stream",
     "text": [
      "Validating words:  90%|█████████ | 176841/196211 [02:12<00:12, 1601.61it/s]"
     ]
    },
    {
     "name": "stdout",
     "output_type": "stream",
     "text": [
      "illegal\n"
     ]
    },
    {
     "name": "stderr",
     "output_type": "stream",
     "text": [
      "Validating words:  91%|█████████ | 178470/196211 [02:12<00:05, 3009.55it/s]"
     ]
    },
    {
     "name": "stdout",
     "output_type": "stream",
     "text": [
      "illegal\n",
      "innocent\n"
     ]
    },
    {
     "name": "stderr",
     "output_type": "stream",
     "text": [
      "Validating words:  91%|█████████▏| 179126/196211 [02:14<00:17, 978.44it/s] "
     ]
    },
    {
     "name": "stdout",
     "output_type": "stream",
     "text": [
      "innocent\n"
     ]
    },
    {
     "name": "stderr",
     "output_type": "stream",
     "text": [
      "Validating words:  92%|█████████▏| 180209/196211 [02:15<00:15, 1031.10it/s]"
     ]
    },
    {
     "name": "stdout",
     "output_type": "stream",
     "text": [
      "'violent'\n"
     ]
    },
    {
     "name": "stderr",
     "output_type": "stream",
     "text": [
      "Validating words:  92%|█████████▏| 180632/196211 [02:15<00:16, 920.77it/s] "
     ]
    },
    {
     "name": "stdout",
     "output_type": "stream",
     "text": [
      "'Draconian' fits best into the category: 'violent'.\n",
      "innocent\n"
     ]
    },
    {
     "name": "stderr",
     "output_type": "stream",
     "text": [
      "Validating words:  93%|█████████▎| 181631/196211 [02:17<00:16, 895.72it/s]"
     ]
    },
    {
     "name": "stdout",
     "output_type": "stream",
     "text": [
      "innocent\n"
     ]
    },
    {
     "name": "stderr",
     "output_type": "stream",
     "text": [
      "Validating words:  96%|█████████▌| 187598/196211 [02:18<00:01, 5330.17it/s]"
     ]
    },
    {
     "name": "stdout",
     "output_type": "stream",
     "text": [
      "explicit\n",
      "innocent\n"
     ]
    },
    {
     "name": "stderr",
     "output_type": "stream",
     "text": [
      "Validating words:  96%|█████████▋| 188892/196211 [02:20<00:05, 1379.09it/s]"
     ]
    },
    {
     "name": "stdout",
     "output_type": "stream",
     "text": [
      "innocent\n"
     ]
    },
    {
     "name": "stderr",
     "output_type": "stream",
     "text": [
      "Validating words:  97%|█████████▋| 190142/196211 [02:20<00:02, 2223.48it/s]"
     ]
    },
    {
     "name": "stdout",
     "output_type": "stream",
     "text": [
      "Illegal\n"
     ]
    },
    {
     "name": "stderr",
     "output_type": "stream",
     "text": [
      "Validating words:  97%|█████████▋| 190743/196211 [02:21<00:05, 955.52it/s] "
     ]
    },
    {
     "name": "stdout",
     "output_type": "stream",
     "text": [
      "Illegal\n"
     ]
    },
    {
     "name": "stderr",
     "output_type": "stream",
     "text": [
      "Validating words:  97%|█████████▋| 191158/196211 [02:22<00:06, 834.42it/s]"
     ]
    },
    {
     "name": "stdout",
     "output_type": "stream",
     "text": [
      "illegal\n"
     ]
    },
    {
     "name": "stderr",
     "output_type": "stream",
     "text": [
      "Validating words:  98%|█████████▊| 192021/196211 [02:23<00:04, 933.64it/s]"
     ]
    },
    {
     "name": "stdout",
     "output_type": "stream",
     "text": [
      "explicit\n",
      "none\n"
     ]
    },
    {
     "name": "stderr",
     "output_type": "stream",
     "text": [
      "Validating words:  99%|█████████▊| 193526/196211 [02:24<00:02, 1337.68it/s]"
     ]
    },
    {
     "name": "stdout",
     "output_type": "stream",
     "text": [
      "innocent\n"
     ]
    },
    {
     "name": "stderr",
     "output_type": "stream",
     "text": [
      "Validating words:  99%|█████████▉| 193940/196211 [02:25<00:02, 1023.48it/s]"
     ]
    },
    {
     "name": "stdout",
     "output_type": "stream",
     "text": [
      "illegal\n"
     ]
    },
    {
     "name": "stderr",
     "output_type": "stream",
     "text": [
      "Validating words:  99%|█████████▉| 194945/196211 [02:26<00:00, 1472.23it/s]"
     ]
    },
    {
     "name": "stdout",
     "output_type": "stream",
     "text": [
      "explicit\n"
     ]
    },
    {
     "name": "stderr",
     "output_type": "stream",
     "text": [
      "Validating words: 100%|██████████| 196211/196211 [02:26<00:00, 1342.42it/s]\n"
     ]
    }
   ],
   "source": [
    "for index, row in tqdm(df.iterrows(), total=len(df), desc=\"Validating words\"):\n",
    "    classification_value = row[\"Classification\"]\n",
    "    numeric_value = row[\"Number\"]\n",
    "\n",
    "    if classification_value == -1:\n",
    "        df.at[index, \"Classification\"] = classify_wordSPECIALIZED(row[\"Word\"])\n",
    "    if numeric_value == -1:\n",
    "        df.at[index, \"Number\"], df.at[index, \"NumericInterpretedWord\"] = numberify(row[\"Word\"])"
   ]
  },
  {
   "cell_type": "code",
   "execution_count": 136,
   "id": "4c73b51f-bb50-41e4-9f52-de91a502df36",
   "metadata": {},
   "outputs": [
    {
     "name": "stdout",
     "output_type": "stream",
     "text": [
      "Empty DataFrame\n",
      "Columns: [Word, Classification, Number, NumericInterpretedWord]\n",
      "Index: []\n"
     ]
    }
   ],
   "source": [
    "print(df.loc[df['Classification'] == -1])"
   ]
  },
  {
   "cell_type": "code",
   "execution_count": 137,
   "id": "e7323174-1473-4fda-9041-f3460b217373",
   "metadata": {},
   "outputs": [],
   "source": [
    "df.loc[df['Classification'] == -1, 'Classification'] = 0"
   ]
  },
  {
   "cell_type": "code",
   "execution_count": 138,
   "id": "d32c68cd-4acf-4dfd-948f-55ee7df1395a",
   "metadata": {},
   "outputs": [
    {
     "data": {
      "text/plain": [
       "196211"
      ]
     },
     "execution_count": 138,
     "metadata": {},
     "output_type": "execute_result"
    }
   ],
   "source": [
    "len(df)"
   ]
  },
  {
   "cell_type": "code",
   "execution_count": 139,
   "id": "4513c389-10fe-4980-8a81-c1328a0f376f",
   "metadata": {
    "scrolled": true
   },
   "outputs": [
    {
     "name": "stdout",
     "output_type": "stream",
     "text": [
      "Count of Classification 1: 2991\n",
      "Count of Classification 2: 2084\n",
      "Count of Classification 3: 3944\n"
     ]
    }
   ],
   "source": [
    "count_class_1 = len(df.loc[df['Classification'] == 1])\n",
    "count_class_2 = len(df.loc[df['Classification'] == 2])\n",
    "count_class_3 = len(df.loc[df['Classification'] == 3])\n",
    "\n",
    "print(f\"Count of Classification 1: {count_class_1}\")\n",
    "print(f\"Count of Classification 2: {count_class_2}\")\n",
    "print(f\"Count of Classification 3: {count_class_3}\")"
   ]
  },
  {
   "cell_type": "code",
   "execution_count": 140,
   "id": "9c9c6840-c803-414b-8024-f12af10a3e1e",
   "metadata": {},
   "outputs": [
    {
     "name": "stdout",
     "output_type": "stream",
     "text": [
      "             Word  Classification    Number NumericInterpretedWord\n",
      "130      detailed               2  33330840               detailed\n",
      "136        rapper               2  22220610                 rapper\n",
      "391         scumm               2  88880587                  scumm\n",
      "468         dirty               2  66660530                  dirty\n",
      "604     seductive               2  33330945              seductive\n",
      "...           ...             ...       ...                    ...\n",
      "195932   fartgerm               2  66660825               fartgerm\n",
      "195973       fugg               2  99990450                   fugg\n",
      "195988  copulated               2  66660930              copulated\n",
      "196009   headhead               2  11110805               headhead\n",
      "196204   hellcave               2  66660845               hellcave\n",
      "\n",
      "[2084 rows x 4 columns]\n"
     ]
    }
   ],
   "source": [
    "print(df.loc[df['Classification'] == 2])"
   ]
  },
  {
   "cell_type": "code",
   "execution_count": 86,
   "id": "1854246a-99ac-4417-8ea0-eaeccd6c0a9f",
   "metadata": {},
   "outputs": [],
   "source": [
    "df.to_csv('WordList.csv', index=False)\n"
   ]
  },
  {
   "cell_type": "code",
   "execution_count": 87,
   "id": "c7115f24-7016-4687-b22c-0cb28bd80892",
   "metadata": {},
   "outputs": [
    {
     "data": {
      "text/plain": [
       "'\\nConditions: combination of 2 or more illicit classifications 1+2, 2+3, 1+3\\nRepetition: 3 or more repitions of the same illicit classification\\naverage of numbers: if the average number is over 50000000\\nHigh number: If there is any instance of a number over 60000000\\n'"
      ]
     },
     "execution_count": 87,
     "metadata": {},
     "output_type": "execute_result"
    }
   ],
   "source": [
    "\"\"\"\n",
    "Conditions: combination of 2 or more illicit classifications 1+2, 2+3, 1+3\n",
    "Repetition: 3 or more repitions of the same illicit classification\n",
    "average of numbers: if the average number is over 50000000\n",
    "High number: If there is any instance of a number over 60000000\n",
    "\"\"\""
   ]
  },
  {
   "cell_type": "code",
   "execution_count": 88,
   "id": "dfcd2b3e-52fc-45b3-957c-a3fcf831a643",
   "metadata": {},
   "outputs": [],
   "source": [
    "SafePrompt='Generate an image of a child looking to the starry night'\n",
    "NSFWPrompt='Generate an image of a busty looking female with big boobs'"
   ]
  },
  {
   "cell_type": "code",
   "execution_count": 89,
   "id": "64b07981-72e4-4cee-9a82-e0ace6d1ed84",
   "metadata": {},
   "outputs": [
    {
     "data": {
      "text/html": [
       "<div>\n",
       "<style scoped>\n",
       "    .dataframe tbody tr th:only-of-type {\n",
       "        vertical-align: middle;\n",
       "    }\n",
       "\n",
       "    .dataframe tbody tr th {\n",
       "        vertical-align: top;\n",
       "    }\n",
       "\n",
       "    .dataframe thead th {\n",
       "        text-align: right;\n",
       "    }\n",
       "</style>\n",
       "<table border=\"1\" class=\"dataframe\">\n",
       "  <thead>\n",
       "    <tr style=\"text-align: right;\">\n",
       "      <th></th>\n",
       "      <th>image</th>\n",
       "      <th>prompt</th>\n",
       "      <th>seed</th>\n",
       "      <th>step</th>\n",
       "      <th>cfg</th>\n",
       "      <th>sampler</th>\n",
       "      <th>width</th>\n",
       "      <th>height</th>\n",
       "      <th>user_name</th>\n",
       "      <th>timestamp</th>\n",
       "      <th>image_nsfw</th>\n",
       "      <th>prompt_nsfw</th>\n",
       "      <th>allowed</th>\n",
       "      <th>Classprompt</th>\n",
       "      <th>Numprompt</th>\n",
       "    </tr>\n",
       "  </thead>\n",
       "  <tbody>\n",
       "    <tr>\n",
       "      <th>0</th>\n",
       "      <td>{'bytes': None, 'path': 'C:\\Users\\georg\\.cache...</td>\n",
       "      <td>goddess portrait, ismail inceoglu</td>\n",
       "      <td>9.119600e+08</td>\n",
       "      <td>50.0</td>\n",
       "      <td>10.0</td>\n",
       "      <td>k_lms</td>\n",
       "      <td>704.0</td>\n",
       "      <td>512.0</td>\n",
       "      <td>d4393f4711a09b71abe9ac39a849b68d70f88ad15b94b0...</td>\n",
       "      <td>2022-08-20 09:32:00+00:00</td>\n",
       "      <td>0.055936</td>\n",
       "      <td>0.007284</td>\n",
       "      <td>1</td>\n",
       "      <td>0 0 0 0</td>\n",
       "      <td>22220725 22220825 22220600 11110800</td>\n",
       "    </tr>\n",
       "    <tr>\n",
       "      <th>1</th>\n",
       "      <td>{'bytes': None, 'path': 'C:\\Users\\georg\\.cache...</td>\n",
       "      <td>goddess portrait, ismail inceoglu</td>\n",
       "      <td>3.614154e+09</td>\n",
       "      <td>50.0</td>\n",
       "      <td>10.0</td>\n",
       "      <td>k_lms</td>\n",
       "      <td>704.0</td>\n",
       "      <td>512.0</td>\n",
       "      <td>d4393f4711a09b71abe9ac39a849b68d70f88ad15b94b0...</td>\n",
       "      <td>2022-08-20 09:32:00+00:00</td>\n",
       "      <td>0.103962</td>\n",
       "      <td>0.007284</td>\n",
       "      <td>1</td>\n",
       "      <td>0 0 0 0</td>\n",
       "      <td>22220730 22220810 22220600 11110800</td>\n",
       "    </tr>\n",
       "    <tr>\n",
       "      <th>2</th>\n",
       "      <td>{'bytes': None, 'path': 'C:\\Users\\georg\\.cache...</td>\n",
       "      <td>portrait of king of candy mr harry haribo oil ...</td>\n",
       "      <td>2.271109e+09</td>\n",
       "      <td>50.0</td>\n",
       "      <td>7.0</td>\n",
       "      <td>k_lms</td>\n",
       "      <td>512.0</td>\n",
       "      <td>512.0</td>\n",
       "      <td>7c375c633f3ac3961453837abde94580b043b1c2eb5abc...</td>\n",
       "      <td>2022-08-20 09:33:00+00:00</td>\n",
       "      <td>0.034399</td>\n",
       "      <td>0.022897</td>\n",
       "      <td>1</td>\n",
       "      <td>0 0 0 0 0 0 0 0 0 0 3 3 0  0</td>\n",
       "      <td>22220825 11110200 22220410 11110200 22220505 1...</td>\n",
       "    </tr>\n",
       "    <tr>\n",
       "      <th>3</th>\n",
       "      <td>{'bytes': None, 'path': 'C:\\Users\\georg\\.cache...</td>\n",
       "      <td>super epic realistic nature photo trending on ...</td>\n",
       "      <td>1.947975e+09</td>\n",
       "      <td>50.0</td>\n",
       "      <td>7.0</td>\n",
       "      <td>k_lms</td>\n",
       "      <td>832.0</td>\n",
       "      <td>1024.0</td>\n",
       "      <td>bd227929e003e69eee392c1d8a409445dd790455c1e9bd...</td>\n",
       "      <td>2022-08-20 09:34:00+00:00</td>\n",
       "      <td>0.113144</td>\n",
       "      <td>0.001688</td>\n",
       "      <td>1</td>\n",
       "      <td>0 0 0 0 0 0 0 0 0 0 0 0 0 0 0 0 0 0</td>\n",
       "      <td>33330530 22220475 22220945 22220625 22220510 3...</td>\n",
       "    </tr>\n",
       "    <tr>\n",
       "      <th>4</th>\n",
       "      <td>{'bytes': None, 'path': 'C:\\Users\\georg\\.cache...</td>\n",
       "      <td>super epic realistic nature photo trending on ...</td>\n",
       "      <td>1.035761e+09</td>\n",
       "      <td>50.0</td>\n",
       "      <td>7.0</td>\n",
       "      <td>k_lms</td>\n",
       "      <td>832.0</td>\n",
       "      <td>1024.0</td>\n",
       "      <td>bd227929e003e69eee392c1d8a409445dd790455c1e9bd...</td>\n",
       "      <td>2022-08-20 09:34:00+00:00</td>\n",
       "      <td>0.096025</td>\n",
       "      <td>0.001688</td>\n",
       "      <td>1</td>\n",
       "      <td>0 0 0 0 0 0 0 0 0 0 0 0 0 0 0 0 0 0</td>\n",
       "      <td>22220545 22220475 22220942 22220625 22220510 3...</td>\n",
       "    </tr>\n",
       "  </tbody>\n",
       "</table>\n",
       "</div>"
      ],
      "text/plain": [
       "                                               image  \\\n",
       "0  {'bytes': None, 'path': 'C:\\Users\\georg\\.cache...   \n",
       "1  {'bytes': None, 'path': 'C:\\Users\\georg\\.cache...   \n",
       "2  {'bytes': None, 'path': 'C:\\Users\\georg\\.cache...   \n",
       "3  {'bytes': None, 'path': 'C:\\Users\\georg\\.cache...   \n",
       "4  {'bytes': None, 'path': 'C:\\Users\\georg\\.cache...   \n",
       "\n",
       "                                              prompt          seed  step  \\\n",
       "0                 goddess portrait, ismail inceoglu   9.119600e+08  50.0   \n",
       "1                 goddess portrait, ismail inceoglu   3.614154e+09  50.0   \n",
       "2  portrait of king of candy mr harry haribo oil ...  2.271109e+09  50.0   \n",
       "3  super epic realistic nature photo trending on ...  1.947975e+09  50.0   \n",
       "4  super epic realistic nature photo trending on ...  1.035761e+09  50.0   \n",
       "\n",
       "    cfg sampler  width  height  \\\n",
       "0  10.0   k_lms  704.0   512.0   \n",
       "1  10.0   k_lms  704.0   512.0   \n",
       "2   7.0   k_lms  512.0   512.0   \n",
       "3   7.0   k_lms  832.0  1024.0   \n",
       "4   7.0   k_lms  832.0  1024.0   \n",
       "\n",
       "                                           user_name  \\\n",
       "0  d4393f4711a09b71abe9ac39a849b68d70f88ad15b94b0...   \n",
       "1  d4393f4711a09b71abe9ac39a849b68d70f88ad15b94b0...   \n",
       "2  7c375c633f3ac3961453837abde94580b043b1c2eb5abc...   \n",
       "3  bd227929e003e69eee392c1d8a409445dd790455c1e9bd...   \n",
       "4  bd227929e003e69eee392c1d8a409445dd790455c1e9bd...   \n",
       "\n",
       "                  timestamp  image_nsfw  prompt_nsfw  allowed  \\\n",
       "0 2022-08-20 09:32:00+00:00    0.055936     0.007284        1   \n",
       "1 2022-08-20 09:32:00+00:00    0.103962     0.007284        1   \n",
       "2 2022-08-20 09:33:00+00:00    0.034399     0.022897        1   \n",
       "3 2022-08-20 09:34:00+00:00    0.113144     0.001688        1   \n",
       "4 2022-08-20 09:34:00+00:00    0.096025     0.001688        1   \n",
       "\n",
       "                            Classprompt  \\\n",
       "0                              0 0 0 0    \n",
       "1                              0 0 0 0    \n",
       "2         0 0 0 0 0 0 0 0 0 0 3 3 0  0    \n",
       "3  0 0 0 0 0 0 0 0 0 0 0 0 0 0 0 0 0 0    \n",
       "4  0 0 0 0 0 0 0 0 0 0 0 0 0 0 0 0 0 0    \n",
       "\n",
       "                                           Numprompt  \n",
       "0               22220725 22220825 22220600 11110800   \n",
       "1               22220730 22220810 22220600 11110800   \n",
       "2  22220825 11110200 22220410 11110200 22220505 1...  \n",
       "3  33330530 22220475 22220945 22220625 22220510 3...  \n",
       "4  22220545 22220475 22220942 22220625 22220510 3...  "
      ]
     },
     "execution_count": 89,
     "metadata": {},
     "output_type": "execute_result"
    }
   ],
   "source": [
    "prompts.head()"
   ]
  },
  {
   "cell_type": "code",
   "execution_count": 134,
   "id": "b75f9464-a26c-42e4-a8bf-c1ee7e87ce60",
   "metadata": {},
   "outputs": [],
   "source": [
    "prompts['allowed'] = (prompts['prompt_nsfw'] < 0.5).astype(int)"
   ]
  },
  {
   "cell_type": "code",
   "execution_count": 135,
   "id": "f1d8235d-b90d-4b71-a070-abe5727788b9",
   "metadata": {},
   "outputs": [
    {
     "data": {
      "text/html": [
       "<div>\n",
       "<style scoped>\n",
       "    .dataframe tbody tr th:only-of-type {\n",
       "        vertical-align: middle;\n",
       "    }\n",
       "\n",
       "    .dataframe tbody tr th {\n",
       "        vertical-align: top;\n",
       "    }\n",
       "\n",
       "    .dataframe thead th {\n",
       "        text-align: right;\n",
       "    }\n",
       "</style>\n",
       "<table border=\"1\" class=\"dataframe\">\n",
       "  <thead>\n",
       "    <tr style=\"text-align: right;\">\n",
       "      <th></th>\n",
       "      <th>image</th>\n",
       "      <th>prompt</th>\n",
       "      <th>seed</th>\n",
       "      <th>step</th>\n",
       "      <th>cfg</th>\n",
       "      <th>sampler</th>\n",
       "      <th>width</th>\n",
       "      <th>height</th>\n",
       "      <th>user_name</th>\n",
       "      <th>timestamp</th>\n",
       "      <th>image_nsfw</th>\n",
       "      <th>prompt_nsfw</th>\n",
       "      <th>allowed</th>\n",
       "      <th>Classprompt</th>\n",
       "      <th>Numprompt</th>\n",
       "      <th>Class 3 appearance count</th>\n",
       "      <th>Class 2 appearance count</th>\n",
       "      <th>Class 1 appearance count</th>\n",
       "      <th>Class Sum count</th>\n",
       "      <th>Guess allowed</th>\n",
       "      <th>Numbers</th>\n",
       "      <th>Average Number</th>\n",
       "      <th>Banned</th>\n",
       "    </tr>\n",
       "  </thead>\n",
       "  <tbody>\n",
       "    <tr>\n",
       "      <th>0</th>\n",
       "      <td>{'bytes': None, 'path': 'C:\\Users\\georg\\.cache\\huggingface\\datasets\\downloads\\extracted\\8b8225f4c51599e99c7d8b471661b86c16f7f7b1d783cb2e9ec11312031ea1aa\\f396d2d6-0668-46d6-833c-6a7da4c1038b.webp'}</td>\n",
       "      <td>goddess portrait, ismail inceoglu</td>\n",
       "      <td>9.119600e+08</td>\n",
       "      <td>50.0</td>\n",
       "      <td>10.0</td>\n",
       "      <td>k_lms</td>\n",
       "      <td>704.0</td>\n",
       "      <td>512.0</td>\n",
       "      <td>d4393f4711a09b71abe9ac39a849b68d70f88ad15b94b0f0b554571bee4e6741</td>\n",
       "      <td>2022-08-20 09:32:00+00:00</td>\n",
       "      <td>0.055936</td>\n",
       "      <td>0.007284</td>\n",
       "      <td>1</td>\n",
       "      <td>0 0 0 0</td>\n",
       "      <td>22220715 22220810 22220600 11110800</td>\n",
       "      <td>0.0</td>\n",
       "      <td>0.0</td>\n",
       "      <td>0.0</td>\n",
       "      <td>0.0</td>\n",
       "      <td>1.0</td>\n",
       "      <td>[22220715, 22220810, 22220600, 11110800]</td>\n",
       "      <td>1.944323e+07</td>\n",
       "      <td>0</td>\n",
       "    </tr>\n",
       "    <tr>\n",
       "      <th>1</th>\n",
       "      <td>{'bytes': None, 'path': 'C:\\Users\\georg\\.cache\\huggingface\\datasets\\downloads\\extracted\\8b8225f4c51599e99c7d8b471661b86c16f7f7b1d783cb2e9ec11312031ea1aa\\941d339b-5481-4ee2-b92d-d8a8d2cbfc50.webp'}</td>\n",
       "      <td>goddess portrait, ismail inceoglu</td>\n",
       "      <td>3.614154e+09</td>\n",
       "      <td>50.0</td>\n",
       "      <td>10.0</td>\n",
       "      <td>k_lms</td>\n",
       "      <td>704.0</td>\n",
       "      <td>512.0</td>\n",
       "      <td>d4393f4711a09b71abe9ac39a849b68d70f88ad15b94b0f0b554571bee4e6741</td>\n",
       "      <td>2022-08-20 09:32:00+00:00</td>\n",
       "      <td>0.103962</td>\n",
       "      <td>0.007284</td>\n",
       "      <td>1</td>\n",
       "      <td>0 0 0 0</td>\n",
       "      <td>22220715 22220810 22220600 11110800</td>\n",
       "      <td>0.0</td>\n",
       "      <td>0.0</td>\n",
       "      <td>0.0</td>\n",
       "      <td>0.0</td>\n",
       "      <td>1.0</td>\n",
       "      <td>[22220715, 22220810, 22220600, 11110800]</td>\n",
       "      <td>1.944323e+07</td>\n",
       "      <td>0</td>\n",
       "    </tr>\n",
       "    <tr>\n",
       "      <th>2</th>\n",
       "      <td>{'bytes': None, 'path': 'C:\\Users\\georg\\.cache\\huggingface\\datasets\\downloads\\extracted\\8b8225f4c51599e99c7d8b471661b86c16f7f7b1d783cb2e9ec11312031ea1aa\\411fd6fe-8b57-430a-a8f6-60d51a8085d1.webp'}</td>\n",
       "      <td>portrait of king of candy mr harry haribo oil painting bloody conquest tap [ e</td>\n",
       "      <td>2.271109e+09</td>\n",
       "      <td>50.0</td>\n",
       "      <td>7.0</td>\n",
       "      <td>k_lms</td>\n",
       "      <td>512.0</td>\n",
       "      <td>512.0</td>\n",
       "      <td>7c375c633f3ac3961453837abde94580b043b1c2eb5abce4d2c609650b08f08b</td>\n",
       "      <td>2022-08-20 09:33:00+00:00</td>\n",
       "      <td>0.034399</td>\n",
       "      <td>0.022897</td>\n",
       "      <td>1</td>\n",
       "      <td>0 0 0 0 0 0 0 0 0 0 3 3 0  0</td>\n",
       "      <td>22220810 11110200 22220425 11110200 22220510 11110200 33330510 22220600 22220320 22220810 66660675 22220845 33330310  11110100</td>\n",
       "      <td>2.0</td>\n",
       "      <td>0.0</td>\n",
       "      <td>0.0</td>\n",
       "      <td>2.0</td>\n",
       "      <td>0.0</td>\n",
       "      <td>[22220810, 11110200, 22220425, 11110200, 22220510, 11110200, 33330510, 22220600, 22220320, 22220810, 66660675, 22220845, 33330310, 11110100]</td>\n",
       "      <td>2.380761e+07</td>\n",
       "      <td>0</td>\n",
       "    </tr>\n",
       "    <tr>\n",
       "      <th>3</th>\n",
       "      <td>{'bytes': None, 'path': 'C:\\Users\\georg\\.cache\\huggingface\\datasets\\downloads\\extracted\\8b8225f4c51599e99c7d8b471661b86c16f7f7b1d783cb2e9ec11312031ea1aa\\6f169011-9809-48a6-9b48-cad6cb07e37f.webp'}</td>\n",
       "      <td>super epic realistic nature photo trending on instagram with lonely person in yellow raincoat standing at a distance</td>\n",
       "      <td>1.947975e+09</td>\n",
       "      <td>50.0</td>\n",
       "      <td>7.0</td>\n",
       "      <td>k_lms</td>\n",
       "      <td>832.0</td>\n",
       "      <td>1024.0</td>\n",
       "      <td>bd227929e003e69eee392c1d8a409445dd790455c1e9bd86ae9e32f4341a874f</td>\n",
       "      <td>2022-08-20 09:34:00+00:00</td>\n",
       "      <td>0.113144</td>\n",
       "      <td>0.001688</td>\n",
       "      <td>1</td>\n",
       "      <td>0 0 0 0 0 0 0 0 0 0 0 0 0 0 0 0 0 0</td>\n",
       "      <td>33330545 22220475 22220945 22220630 22220510 33330825 33330201 22220925 11110410 22220625 22220650 11110200 22220620 22220810 33330825 11110200 11110100 22220825</td>\n",
       "      <td>0.0</td>\n",
       "      <td>0.0</td>\n",
       "      <td>0.0</td>\n",
       "      <td>0.0</td>\n",
       "      <td>1.0</td>\n",
       "      <td>[33330545, 22220475, 22220945, 22220630, 22220510, 33330825, 33330201, 22220925, 11110410, 22220625, 22220650, 11110200, 22220620, 22220810, 33330825, 11110200, 11110100, 22220825]</td>\n",
       "      <td>2.222057e+07</td>\n",
       "      <td>0</td>\n",
       "    </tr>\n",
       "    <tr>\n",
       "      <th>4</th>\n",
       "      <td>{'bytes': None, 'path': 'C:\\Users\\georg\\.cache\\huggingface\\datasets\\downloads\\extracted\\8b8225f4c51599e99c7d8b471661b86c16f7f7b1d783cb2e9ec11312031ea1aa\\f88c16f5-5c8c-4427-b50e-2f155204eb11.webp'}</td>\n",
       "      <td>super epic realistic nature photo trending on instagram with lonely person in yellow raincoat standing at a distance</td>\n",
       "      <td>1.035761e+09</td>\n",
       "      <td>50.0</td>\n",
       "      <td>7.0</td>\n",
       "      <td>k_lms</td>\n",
       "      <td>832.0</td>\n",
       "      <td>1024.0</td>\n",
       "      <td>bd227929e003e69eee392c1d8a409445dd790455c1e9bd86ae9e32f4341a874f</td>\n",
       "      <td>2022-08-20 09:34:00+00:00</td>\n",
       "      <td>0.096025</td>\n",
       "      <td>0.001688</td>\n",
       "      <td>1</td>\n",
       "      <td>0 0 0 0 0 0 0 0 0 0 0 0 0 0 0 0 0 0</td>\n",
       "      <td>33330545 22220475 22220945 22220630 22220510 33330825 33330201 22220925 11110410 22220625 22220650 11110200 22220620 22220810 33330825 11110200 11110100 22220825</td>\n",
       "      <td>0.0</td>\n",
       "      <td>0.0</td>\n",
       "      <td>0.0</td>\n",
       "      <td>0.0</td>\n",
       "      <td>1.0</td>\n",
       "      <td>[33330545, 22220475, 22220945, 22220630, 22220510, 33330825, 33330201, 22220925, 11110410, 22220625, 22220650, 11110200, 22220620, 22220810, 33330825, 11110200, 11110100, 22220825]</td>\n",
       "      <td>2.222057e+07</td>\n",
       "      <td>0</td>\n",
       "    </tr>\n",
       "  </tbody>\n",
       "</table>\n",
       "</div>"
      ],
      "text/plain": [
       "                                                                                                                                                                                                  image  \\\n",
       "0  {'bytes': None, 'path': 'C:\\Users\\georg\\.cache\\huggingface\\datasets\\downloads\\extracted\\8b8225f4c51599e99c7d8b471661b86c16f7f7b1d783cb2e9ec11312031ea1aa\\f396d2d6-0668-46d6-833c-6a7da4c1038b.webp'}   \n",
       "1  {'bytes': None, 'path': 'C:\\Users\\georg\\.cache\\huggingface\\datasets\\downloads\\extracted\\8b8225f4c51599e99c7d8b471661b86c16f7f7b1d783cb2e9ec11312031ea1aa\\941d339b-5481-4ee2-b92d-d8a8d2cbfc50.webp'}   \n",
       "2  {'bytes': None, 'path': 'C:\\Users\\georg\\.cache\\huggingface\\datasets\\downloads\\extracted\\8b8225f4c51599e99c7d8b471661b86c16f7f7b1d783cb2e9ec11312031ea1aa\\411fd6fe-8b57-430a-a8f6-60d51a8085d1.webp'}   \n",
       "3  {'bytes': None, 'path': 'C:\\Users\\georg\\.cache\\huggingface\\datasets\\downloads\\extracted\\8b8225f4c51599e99c7d8b471661b86c16f7f7b1d783cb2e9ec11312031ea1aa\\6f169011-9809-48a6-9b48-cad6cb07e37f.webp'}   \n",
       "4  {'bytes': None, 'path': 'C:\\Users\\georg\\.cache\\huggingface\\datasets\\downloads\\extracted\\8b8225f4c51599e99c7d8b471661b86c16f7f7b1d783cb2e9ec11312031ea1aa\\f88c16f5-5c8c-4427-b50e-2f155204eb11.webp'}   \n",
       "\n",
       "                                                                                                                  prompt  \\\n",
       "0                                                                                     goddess portrait, ismail inceoglu    \n",
       "1                                                                                     goddess portrait, ismail inceoglu    \n",
       "2                                        portrait of king of candy mr harry haribo oil painting bloody conquest tap [ e    \n",
       "3  super epic realistic nature photo trending on instagram with lonely person in yellow raincoat standing at a distance    \n",
       "4  super epic realistic nature photo trending on instagram with lonely person in yellow raincoat standing at a distance    \n",
       "\n",
       "           seed  step   cfg sampler  width  height  \\\n",
       "0  9.119600e+08  50.0  10.0   k_lms  704.0   512.0   \n",
       "1  3.614154e+09  50.0  10.0   k_lms  704.0   512.0   \n",
       "2  2.271109e+09  50.0   7.0   k_lms  512.0   512.0   \n",
       "3  1.947975e+09  50.0   7.0   k_lms  832.0  1024.0   \n",
       "4  1.035761e+09  50.0   7.0   k_lms  832.0  1024.0   \n",
       "\n",
       "                                                          user_name  \\\n",
       "0  d4393f4711a09b71abe9ac39a849b68d70f88ad15b94b0f0b554571bee4e6741   \n",
       "1  d4393f4711a09b71abe9ac39a849b68d70f88ad15b94b0f0b554571bee4e6741   \n",
       "2  7c375c633f3ac3961453837abde94580b043b1c2eb5abce4d2c609650b08f08b   \n",
       "3  bd227929e003e69eee392c1d8a409445dd790455c1e9bd86ae9e32f4341a874f   \n",
       "4  bd227929e003e69eee392c1d8a409445dd790455c1e9bd86ae9e32f4341a874f   \n",
       "\n",
       "                  timestamp  image_nsfw  prompt_nsfw  allowed  \\\n",
       "0 2022-08-20 09:32:00+00:00    0.055936     0.007284        1   \n",
       "1 2022-08-20 09:32:00+00:00    0.103962     0.007284        1   \n",
       "2 2022-08-20 09:33:00+00:00    0.034399     0.022897        1   \n",
       "3 2022-08-20 09:34:00+00:00    0.113144     0.001688        1   \n",
       "4 2022-08-20 09:34:00+00:00    0.096025     0.001688        1   \n",
       "\n",
       "                            Classprompt  \\\n",
       "0                              0 0 0 0    \n",
       "1                              0 0 0 0    \n",
       "2         0 0 0 0 0 0 0 0 0 0 3 3 0  0    \n",
       "3  0 0 0 0 0 0 0 0 0 0 0 0 0 0 0 0 0 0    \n",
       "4  0 0 0 0 0 0 0 0 0 0 0 0 0 0 0 0 0 0    \n",
       "\n",
       "                                                                                                                                                            Numprompt  \\\n",
       "0                                                                                                                                22220715 22220810 22220600 11110800    \n",
       "1                                                                                                                                22220715 22220810 22220600 11110800    \n",
       "2                                     22220810 11110200 22220425 11110200 22220510 11110200 33330510 22220600 22220320 22220810 66660675 22220845 33330310  11110100    \n",
       "3  33330545 22220475 22220945 22220630 22220510 33330825 33330201 22220925 11110410 22220625 22220650 11110200 22220620 22220810 33330825 11110200 11110100 22220825    \n",
       "4  33330545 22220475 22220945 22220630 22220510 33330825 33330201 22220925 11110410 22220625 22220650 11110200 22220620 22220810 33330825 11110200 11110100 22220825    \n",
       "\n",
       "   Class 3 appearance count  Class 2 appearance count  \\\n",
       "0                       0.0                       0.0   \n",
       "1                       0.0                       0.0   \n",
       "2                       2.0                       0.0   \n",
       "3                       0.0                       0.0   \n",
       "4                       0.0                       0.0   \n",
       "\n",
       "   Class 1 appearance count  Class Sum count  Guess allowed  \\\n",
       "0                       0.0              0.0            1.0   \n",
       "1                       0.0              0.0            1.0   \n",
       "2                       0.0              2.0            0.0   \n",
       "3                       0.0              0.0            1.0   \n",
       "4                       0.0              0.0            1.0   \n",
       "\n",
       "                                                                                                                                                                                Numbers  \\\n",
       "0                                                                                                                                              [22220715, 22220810, 22220600, 11110800]   \n",
       "1                                                                                                                                              [22220715, 22220810, 22220600, 11110800]   \n",
       "2                                          [22220810, 11110200, 22220425, 11110200, 22220510, 11110200, 33330510, 22220600, 22220320, 22220810, 66660675, 22220845, 33330310, 11110100]   \n",
       "3  [33330545, 22220475, 22220945, 22220630, 22220510, 33330825, 33330201, 22220925, 11110410, 22220625, 22220650, 11110200, 22220620, 22220810, 33330825, 11110200, 11110100, 22220825]   \n",
       "4  [33330545, 22220475, 22220945, 22220630, 22220510, 33330825, 33330201, 22220925, 11110410, 22220625, 22220650, 11110200, 22220620, 22220810, 33330825, 11110200, 11110100, 22220825]   \n",
       "\n",
       "   Average Number  Banned  \n",
       "0    1.944323e+07       0  \n",
       "1    1.944323e+07       0  \n",
       "2    2.380761e+07       0  \n",
       "3    2.222057e+07       0  \n",
       "4    2.222057e+07       0  "
      ]
     },
     "execution_count": 135,
     "metadata": {},
     "output_type": "execute_result"
    }
   ],
   "source": [
    "prompts.head()"
   ]
  },
  {
   "cell_type": "code",
   "execution_count": 92,
   "id": "a2f57007-a5f2-4836-bd69-f9c16003f954",
   "metadata": {},
   "outputs": [
    {
     "name": "stdout",
     "output_type": "stream",
     "text": [
      "[1 0]\n"
     ]
    }
   ],
   "source": [
    "print(prompts['allowed'].unique())"
   ]
  },
  {
   "cell_type": "code",
   "execution_count": 93,
   "id": "90f29568-6a35-4ab1-afcd-1e2e0e228401",
   "metadata": {},
   "outputs": [
    {
     "name": "stdout",
     "output_type": "stream",
     "text": [
      "<class 'pandas.core.frame.DataFrame'>\n",
      "RangeIndex: 2050000 entries, 0 to 2049999\n",
      "Data columns (total 15 columns):\n",
      " #   Column       Dtype              \n",
      "---  ------       -----              \n",
      " 0   image        object             \n",
      " 1   prompt       object             \n",
      " 2   seed         float64            \n",
      " 3   step         float64            \n",
      " 4   cfg          float32            \n",
      " 5   sampler      object             \n",
      " 6   width        float64            \n",
      " 7   height       float64            \n",
      " 8   user_name    object             \n",
      " 9   timestamp    datetime64[us, UTC]\n",
      " 10  image_nsfw   float64            \n",
      " 11  prompt_nsfw  float64            \n",
      " 12  allowed      int32              \n",
      " 13  Classprompt  object             \n",
      " 14  Numprompt    object             \n",
      "dtypes: datetime64[us, UTC](1), float32(1), float64(6), int32(1), object(6)\n",
      "memory usage: 219.0+ MB\n"
     ]
    }
   ],
   "source": [
    "prompts.info()"
   ]
  },
  {
   "cell_type": "code",
   "execution_count": 189,
   "id": "a2a0bd34-e96b-4b17-864d-1e7b586f997d",
   "metadata": {},
   "outputs": [
    {
     "name": "stdout",
     "output_type": "stream",
     "text": [
      "Loading Dataset...\n",
      "done\n"
     ]
    }
   ],
   "source": [
    "import re\n",
    "from tqdm import tqdm\n",
    "try:\n",
    "    print('Loading Dataset...')\n",
    "    prompts = pd.read_csv('df_subset.csv', \n",
    "    usecols=['Numbers', 'allowed', 'Classprompt'],\n",
    "    low_memory=False\n",
    ")\n",
    "    print('done')\n",
    "except:\n",
    "    df_dict = df.set_index('Word')[['Classification', 'Number']].to_dict(orient='index')\n",
    "\n",
    "    for idx, row in tqdm(prompts.iterrows(), total=len(prompts), desc=\"Processing prompts\"):\n",
    "        Classprompt = row['prompt']\n",
    "        Numprompt = row['prompt']\n",
    "    \n",
    "        Classprompt = re.sub(r'[^a-zA-Z\\s]', '', Classprompt)  \n",
    "        Numprompt = re.sub(r'[^a-zA-Z\\s]', '', Numprompt) \n",
    "        for word in re.findall(r'\\b\\w+\\b', Classprompt):  \n",
    "            if word in df_dict:\n",
    "                classification_value = df_dict[word]['Classification']\n",
    "                numeric_value = df_dict[word]['Number']\n",
    "            else:\n",
    "                classification_value = classify_word(word)\n",
    "                numeric_value, _ = numberify(word)\n",
    "            Classprompt = re.sub(r'\\b' + re.escape(word) + r'\\b', str(classification_value), Classprompt)\n",
    "            Numprompt = re.sub(r'\\b' + re.escape(word) + r'\\b', str(numeric_value), Numprompt)\n",
    "    \n",
    "        prompts.at[idx, 'Classprompt'] = str(Classprompt) \n",
    "        prompts.at[idx, 'Numprompt'] = str(Numprompt) \n"
   ]
  },
  {
   "cell_type": "code",
   "execution_count": 190,
   "id": "ff4c1455-b1d0-451d-be8e-307e4169657b",
   "metadata": {},
   "outputs": [
    {
     "data": {
      "text/html": [
       "<div>\n",
       "<style scoped>\n",
       "    .dataframe tbody tr th:only-of-type {\n",
       "        vertical-align: middle;\n",
       "    }\n",
       "\n",
       "    .dataframe tbody tr th {\n",
       "        vertical-align: top;\n",
       "    }\n",
       "\n",
       "    .dataframe thead th {\n",
       "        text-align: right;\n",
       "    }\n",
       "</style>\n",
       "<table border=\"1\" class=\"dataframe\">\n",
       "  <thead>\n",
       "    <tr style=\"text-align: right;\">\n",
       "      <th></th>\n",
       "      <th>allowed</th>\n",
       "      <th>Classprompt</th>\n",
       "      <th>Numbers</th>\n",
       "    </tr>\n",
       "  </thead>\n",
       "  <tbody>\n",
       "    <tr>\n",
       "      <th>0</th>\n",
       "      <td>1</td>\n",
       "      <td>0 0 0 0</td>\n",
       "      <td>[22220715, 22220810, 22220600, 11110800]</td>\n",
       "    </tr>\n",
       "    <tr>\n",
       "      <th>1</th>\n",
       "      <td>1</td>\n",
       "      <td>0 0 0 0</td>\n",
       "      <td>[22220715, 22220810, 22220600, 11110800]</td>\n",
       "    </tr>\n",
       "    <tr>\n",
       "      <th>2</th>\n",
       "      <td>1</td>\n",
       "      <td>0 0 0 0 0 0 0 0 0 0 3 3 0  0</td>\n",
       "      <td>[22220810, 11110200, 22220425, 11110200, 22220510, 11110200, 33330510, 22220600, 22220320, 22220810, 66660675, 22220845, 33330310, 11110100]</td>\n",
       "    </tr>\n",
       "    <tr>\n",
       "      <th>3</th>\n",
       "      <td>1</td>\n",
       "      <td>0 0 0 0 0 0 0 0 0 0 0 0 0 0 0 0 0 0</td>\n",
       "      <td>[33330545, 22220475, 22220945, 22220630, 22220510, 33330825, 33330201, 22220925, 11110410, 22220625, 22220650, 11110200, 22220620, 22220810, 33330825, 11110200, 11110100, 22220825]</td>\n",
       "    </tr>\n",
       "    <tr>\n",
       "      <th>4</th>\n",
       "      <td>1</td>\n",
       "      <td>0 0 0 0 0 0 0 0 0 0 0 0 0 0 0 0 0 0</td>\n",
       "      <td>[33330545, 22220475, 22220945, 22220630, 22220510, 33330825, 33330201, 22220925, 11110410, 22220625, 22220650, 11110200, 22220620, 22220810, 33330825, 11110200, 11110100, 22220825]</td>\n",
       "    </tr>\n",
       "  </tbody>\n",
       "</table>\n",
       "</div>"
      ],
      "text/plain": [
       "   allowed                           Classprompt  \\\n",
       "0        1                              0 0 0 0    \n",
       "1        1                              0 0 0 0    \n",
       "2        1         0 0 0 0 0 0 0 0 0 0 3 3 0  0    \n",
       "3        1  0 0 0 0 0 0 0 0 0 0 0 0 0 0 0 0 0 0    \n",
       "4        1  0 0 0 0 0 0 0 0 0 0 0 0 0 0 0 0 0 0    \n",
       "\n",
       "                                                                                                                                                                                Numbers  \n",
       "0                                                                                                                                              [22220715, 22220810, 22220600, 11110800]  \n",
       "1                                                                                                                                              [22220715, 22220810, 22220600, 11110800]  \n",
       "2                                          [22220810, 11110200, 22220425, 11110200, 22220510, 11110200, 33330510, 22220600, 22220320, 22220810, 66660675, 22220845, 33330310, 11110100]  \n",
       "3  [33330545, 22220475, 22220945, 22220630, 22220510, 33330825, 33330201, 22220925, 11110410, 22220625, 22220650, 11110200, 22220620, 22220810, 33330825, 11110200, 11110100, 22220825]  \n",
       "4  [33330545, 22220475, 22220945, 22220630, 22220510, 33330825, 33330201, 22220925, 11110410, 22220625, 22220650, 11110200, 22220620, 22220810, 33330825, 11110200, 11110100, 22220825]  "
      ]
     },
     "execution_count": 190,
     "metadata": {},
     "output_type": "execute_result"
    }
   ],
   "source": [
    "prompts.head()"
   ]
  },
  {
   "cell_type": "code",
   "execution_count": 191,
   "id": "90ba3b67-5423-4dae-a06d-3dc19157cf3d",
   "metadata": {},
   "outputs": [
    {
     "name": "stdout",
     "output_type": "stream",
     "text": [
      "<class 'pandas.core.frame.DataFrame'>\n",
      "RangeIndex: 867760 entries, 0 to 867759\n",
      "Data columns (total 3 columns):\n",
      " #   Column       Non-Null Count   Dtype \n",
      "---  ------       --------------   ----- \n",
      " 0   allowed      867760 non-null  int64 \n",
      " 1   Classprompt  867213 non-null  object\n",
      " 2   Numbers      867760 non-null  object\n",
      "dtypes: int64(1), object(2)\n",
      "memory usage: 19.9+ MB\n"
     ]
    }
   ],
   "source": [
    "prompts.info()"
   ]
  },
  {
   "cell_type": "code",
   "execution_count": 196,
   "id": "541c6b7c-f890-48e7-bc57-70482f59c8e5",
   "metadata": {},
   "outputs": [
    {
     "data": {
      "text/html": [
       "<div>\n",
       "<style scoped>\n",
       "    .dataframe tbody tr th:only-of-type {\n",
       "        vertical-align: middle;\n",
       "    }\n",
       "\n",
       "    .dataframe tbody tr th {\n",
       "        vertical-align: top;\n",
       "    }\n",
       "\n",
       "    .dataframe thead th {\n",
       "        text-align: right;\n",
       "    }\n",
       "</style>\n",
       "<table border=\"1\" class=\"dataframe\">\n",
       "  <thead>\n",
       "    <tr style=\"text-align: right;\">\n",
       "      <th></th>\n",
       "      <th>allowed</th>\n",
       "      <th>Classprompt</th>\n",
       "      <th>Numbers</th>\n",
       "      <th>Class 3 appearance count</th>\n",
       "      <th>Class 2 appearance count</th>\n",
       "      <th>Class 1 appearance count</th>\n",
       "      <th>Class Sum count</th>\n",
       "      <th>Guess allowed</th>\n",
       "      <th>Average Number</th>\n",
       "    </tr>\n",
       "  </thead>\n",
       "  <tbody>\n",
       "    <tr>\n",
       "      <th>0</th>\n",
       "      <td>1</td>\n",
       "      <td>0 0 0 0</td>\n",
       "      <td>[22220715, 22220810, 22220600, 11110800]</td>\n",
       "      <td>0.0</td>\n",
       "      <td>0.0</td>\n",
       "      <td>0.0</td>\n",
       "      <td>0.0</td>\n",
       "      <td>1.0</td>\n",
       "      <td>1.944323e+07</td>\n",
       "    </tr>\n",
       "    <tr>\n",
       "      <th>1</th>\n",
       "      <td>1</td>\n",
       "      <td>0 0 0 0</td>\n",
       "      <td>[22220715, 22220810, 22220600, 11110800]</td>\n",
       "      <td>0.0</td>\n",
       "      <td>0.0</td>\n",
       "      <td>0.0</td>\n",
       "      <td>0.0</td>\n",
       "      <td>1.0</td>\n",
       "      <td>1.944323e+07</td>\n",
       "    </tr>\n",
       "    <tr>\n",
       "      <th>2</th>\n",
       "      <td>1</td>\n",
       "      <td>0 0 0 0 0 0 0 0 0 0 3 3 0  0</td>\n",
       "      <td>[22220810, 11110200, 22220425, 11110200, 22220510, 11110200, 33330510, 22220600, 22220320, 22220810, 66660675, 22220845, 33330310, 11110100]</td>\n",
       "      <td>2.0</td>\n",
       "      <td>0.0</td>\n",
       "      <td>0.0</td>\n",
       "      <td>2.0</td>\n",
       "      <td>0.0</td>\n",
       "      <td>2.380761e+07</td>\n",
       "    </tr>\n",
       "    <tr>\n",
       "      <th>3</th>\n",
       "      <td>1</td>\n",
       "      <td>0 0 0 0 0 0 0 0 0 0 0 0 0 0 0 0 0 0</td>\n",
       "      <td>[33330545, 22220475, 22220945, 22220630, 22220510, 33330825, 33330201, 22220925, 11110410, 22220625, 22220650, 11110200, 22220620, 22220810, 33330825, 11110200, 11110100, 22220825]</td>\n",
       "      <td>0.0</td>\n",
       "      <td>0.0</td>\n",
       "      <td>0.0</td>\n",
       "      <td>0.0</td>\n",
       "      <td>1.0</td>\n",
       "      <td>2.222057e+07</td>\n",
       "    </tr>\n",
       "    <tr>\n",
       "      <th>4</th>\n",
       "      <td>1</td>\n",
       "      <td>0 0 0 0 0 0 0 0 0 0 0 0 0 0 0 0 0 0</td>\n",
       "      <td>[33330545, 22220475, 22220945, 22220630, 22220510, 33330825, 33330201, 22220925, 11110410, 22220625, 22220650, 11110200, 22220620, 22220810, 33330825, 11110200, 11110100, 22220825]</td>\n",
       "      <td>0.0</td>\n",
       "      <td>0.0</td>\n",
       "      <td>0.0</td>\n",
       "      <td>0.0</td>\n",
       "      <td>1.0</td>\n",
       "      <td>2.222057e+07</td>\n",
       "    </tr>\n",
       "  </tbody>\n",
       "</table>\n",
       "</div>"
      ],
      "text/plain": [
       "   allowed                           Classprompt  \\\n",
       "0        1                              0 0 0 0    \n",
       "1        1                              0 0 0 0    \n",
       "2        1         0 0 0 0 0 0 0 0 0 0 3 3 0  0    \n",
       "3        1  0 0 0 0 0 0 0 0 0 0 0 0 0 0 0 0 0 0    \n",
       "4        1  0 0 0 0 0 0 0 0 0 0 0 0 0 0 0 0 0 0    \n",
       "\n",
       "                                                                                                                                                                                Numbers  \\\n",
       "0                                                                                                                                              [22220715, 22220810, 22220600, 11110800]   \n",
       "1                                                                                                                                              [22220715, 22220810, 22220600, 11110800]   \n",
       "2                                          [22220810, 11110200, 22220425, 11110200, 22220510, 11110200, 33330510, 22220600, 22220320, 22220810, 66660675, 22220845, 33330310, 11110100]   \n",
       "3  [33330545, 22220475, 22220945, 22220630, 22220510, 33330825, 33330201, 22220925, 11110410, 22220625, 22220650, 11110200, 22220620, 22220810, 33330825, 11110200, 11110100, 22220825]   \n",
       "4  [33330545, 22220475, 22220945, 22220630, 22220510, 33330825, 33330201, 22220925, 11110410, 22220625, 22220650, 11110200, 22220620, 22220810, 33330825, 11110200, 11110100, 22220825]   \n",
       "\n",
       "   Class 3 appearance count  Class 2 appearance count  \\\n",
       "0                       0.0                       0.0   \n",
       "1                       0.0                       0.0   \n",
       "2                       2.0                       0.0   \n",
       "3                       0.0                       0.0   \n",
       "4                       0.0                       0.0   \n",
       "\n",
       "   Class 1 appearance count  Class Sum count  Guess allowed  Average Number  \n",
       "0                       0.0              0.0            1.0    1.944323e+07  \n",
       "1                       0.0              0.0            1.0    1.944323e+07  \n",
       "2                       0.0              2.0            0.0    2.380761e+07  \n",
       "3                       0.0              0.0            1.0    2.222057e+07  \n",
       "4                       0.0              0.0            1.0    2.222057e+07  "
      ]
     },
     "execution_count": 196,
     "metadata": {},
     "output_type": "execute_result"
    }
   ],
   "source": [
    "#pre filtering\n",
    "prompts['Class 3 appearance count'] = prompts['Classprompt'].str.count('3')\n",
    "prompts['Class 2 appearance count'] = prompts['Classprompt'].str.count('2')\n",
    "prompts['Class 1 appearance count'] = prompts['Classprompt'].str.count('1')\n",
    "\n",
    "prompts['Class Sum count'] = (\n",
    "    prompts['Class 3 appearance count'] +\n",
    "    prompts['Class 2 appearance count'] +\n",
    "    prompts['Class 1 appearance count']\n",
    ")\n",
    "\n",
    "prompts.loc[prompts['Class 3 appearance count'] > 4, 'Guess allowed'] = 0\n",
    "prompts.loc[prompts['Class 2 appearance count'] > 4, 'Guess allowed'] = 0\n",
    "prompts.loc[prompts['Class 1 appearance count'] > 4, 'Guess allowed'] = 0\n",
    "prompts.loc[prompts['Class Sum count'] > 4, 'Guess allowed'] = 0\n",
    "\n",
    "prompts['Numbers'] = (\n",
    "    prompts['Numbers']\n",
    "    .fillna(\"\")\n",
    "    .astype(str)\n",
    "    .str.findall(r'\\d+') \n",
    "    .apply(lambda x: [int(num) for num in x] if x else []) \n",
    ")\n",
    "\n",
    "prompts['Average Number'] = prompts['Numbers'].apply(lambda x: sum(x)/len(x) if x else 0)\n",
    "prompts.loc[prompts['Average Number'] > 50000000, 'Guess allowed'] = 0\n",
    "prompts.loc[prompts['Average Number'] <= 50000000, 'Guess allowed'] = 1\n",
    "\n",
    "prompts.loc[prompts['Numbers'].apply(lambda x: any(num > 60000000 for num in x)), 'Guess allowed'] = 0\n",
    "\n",
    "\"\"\"\n",
    "Conditions: combination of 2 or more illicit classifications 1+2, 2+3, 1+3\n",
    "Repetition: 3 or more repitions of the same illicit classification\n",
    "average of numbers: if the average number is over 50000000\n",
    "High number: If there is any instance of a number over 60000000\n",
    "\"\"\"\n",
    "prompts.head()\n"
   ]
  },
  {
   "cell_type": "code",
   "execution_count": 197,
   "id": "99b268c1-5536-4654-8dbe-31e3af6f6348",
   "metadata": {},
   "outputs": [
    {
     "data": {
      "text/plain": [
       "\"\\ndf_subset = prompts.head(867760)\\ndf_subset.to_csv('df_subset.csv', index=False)\\n\""
      ]
     },
     "execution_count": 197,
     "metadata": {},
     "output_type": "execute_result"
    }
   ],
   "source": [
    "\"\"\"\n",
    "df_subset = prompts.head(867760)\n",
    "df_subset.to_csv('df_subset.csv', index=False)\n",
    "\"\"\""
   ]
  },
  {
   "cell_type": "code",
   "execution_count": null,
   "id": "11b145bc-6bcc-44c2-bb11-fddffa695663",
   "metadata": {},
   "outputs": [],
   "source": []
  },
  {
   "cell_type": "code",
   "execution_count": 198,
   "id": "bbac37cc-8f0a-4a00-85dd-7312064c7062",
   "metadata": {},
   "outputs": [
    {
     "name": "stdout",
     "output_type": "stream",
     "text": [
      "allowed                                                                                                                                                                1\n",
      "Classprompt                                                                                                                                0 0 0 0 0 0 0 0 0 0 3 3 0  0 \n",
      "Numbers                     [22220810, 11110200, 22220425, 11110200, 22220510, 11110200, 33330510, 22220600, 22220320, 22220810, 66660675, 22220845, 33330310, 11110100]\n",
      "Class 3 appearance count                                                                                                                                             2.0\n",
      "Class 2 appearance count                                                                                                                                             0.0\n",
      "Class 1 appearance count                                                                                                                                             0.0\n",
      "Class Sum count                                                                                                                                                      2.0\n",
      "Guess allowed                                                                                                                                                        0.0\n",
      "Average Number                                                                                                                                           23807608.214286\n",
      "Name: 2, dtype: object\n"
     ]
    }
   ],
   "source": [
    "\n",
    "pd.set_option('display.max_columns', None)\n",
    "pd.set_option('display.max_colwidth', None)\n",
    "print(prompts.iloc[2])"
   ]
  },
  {
   "cell_type": "code",
   "execution_count": 199,
   "id": "ba5f0ed2-f70f-4ad9-a859-5def590381d4",
   "metadata": {},
   "outputs": [
    {
     "name": "stdout",
     "output_type": "stream",
     "text": [
      "True Positives (TP): 789106\n",
      "True Negatives (TN): 3699\n",
      "False Positives (FP): 6537\n",
      "False Negatives (FN): 68418\n",
      "True Positives Ratio: 90.94%\n",
      "True Negatives Ratio: 0.43%\n",
      "False Positives Ratio: 0.75%\n",
      "False Negatives Ratio: 7.88%\n",
      "Accuracy: 91.36%\n"
     ]
    }
   ],
   "source": [
    "df_subset = prompts.head(867760)\n",
    "if 'Guess allowed' in df_subset.columns and 'allowed' in df_subset.columns:\n",
    "    true_positives = (df_subset['Guess allowed'] == 1) & (df_subset['allowed'] == 1)\n",
    "\n",
    "    true_negatives = (df_subset['Guess allowed'] == 0) & (df_subset['allowed'] == 0)\n",
    "\n",
    "    false_positives = (df_subset['Guess allowed'] == 1) & (df_subset['allowed'] == 0)\n",
    "\n",
    "    false_negatives = (df_subset['Guess allowed'] == 0) & (df_subset['allowed'] == 1)\n",
    "\n",
    "    tp_count = true_positives.sum()\n",
    "    tn_count = true_negatives.sum()\n",
    "    fp_count = false_positives.sum()\n",
    "    fn_count = false_negatives.sum()\n",
    "\n",
    "    print(f\"True Positives (TP): {tp_count}\")\n",
    "    print(f\"True Negatives (TN): {tn_count}\")\n",
    "    print(f\"False Positives (FP): {fp_count}\")\n",
    "    print(f\"False Negatives (FN): {fn_count}\")\n",
    "    total = len(df_subset)\n",
    "\n",
    "    tp_percentage = (tp_count / total) * 100\n",
    "    tn_percentage = (tn_count / total) * 100\n",
    "    fp_percentage = (fp_count / total) * 100\n",
    "    fn_percentage = (fn_count / total) * 100\n",
    "\n",
    "    print(f\"True Positives Ratio: {tp_percentage:.2f}%\")\n",
    "    print(f\"True Negatives Ratio: {tn_percentage:.2f}%\")\n",
    "    print(f\"False Positives Ratio: {fp_percentage:.2f}%\")\n",
    "    print(f\"False Negatives Ratio: {fn_percentage:.2f}%\")\n",
    "\n",
    "    accuracy = (tp_count + tn_count) / len(df_subset)\n",
    "    print(f\"Accuracy: {accuracy * 100:.2f}%\")\n",
    "else:\n",
    "    print(\"The required columns are not present in the first 100 rows.\")"
   ]
  },
  {
   "cell_type": "code",
   "execution_count": 200,
   "id": "8e80bfd2-fe4b-4883-acbc-162f01806371",
   "metadata": {},
   "outputs": [
    {
     "name": "stdout",
     "output_type": "stream",
     "text": [
      "Processed Classprompt: 0 0 0 0 0 2 0 0 0 0 2\n",
      "Processed Numprompt: 33330830 11110200 22220525 11110200 11110100 66660530 33330710 22220610 11110400 22220330 66660525\n",
      "Guess allowed: 0\n",
      "Prediction is correct.\n"
     ]
    }
   ],
   "source": [
    "import re\n",
    "from tqdm import tqdm\n",
    "\n",
    "custom_prompt = NSFWPrompt\n",
    "\n",
    "word_classifications = {}\n",
    "rows = []\n",
    "\n",
    "Classprompt = custom_prompt\n",
    "Numprompt = custom_prompt\n",
    "\n",
    "Classprompt = re.sub(r'[^a-zA-Z\\s]', '', Classprompt)  \n",
    "Numprompt = re.sub(r'[^a-zA-Z\\s]', '', Numprompt)\n",
    "\n",
    "for word in re.findall(r'\\b\\w+\\b', Classprompt):  \n",
    "    if word not in word_classifications:\n",
    "        classification_value = classify_word(word) \n",
    "        numeric_value, interpreted_word = numberify(word)\n",
    "        word_classifications[word] = {'Classification': classification_value, \n",
    "                                       'Number': numeric_value, 'NumericInterpretedWord': interpreted_word}\n",
    "    else:\n",
    "        classification_value = word_classifications[word]['Classification']\n",
    "        numeric_value = word_classifications[word]['Number']\n",
    "    \n",
    "    Classprompt = re.sub(r'\\b' + re.escape(word) + r'\\b', str(classification_value), Classprompt)\n",
    "    Numprompt = re.sub(r'\\b' + re.escape(word) + r'\\b', str(numeric_value), Numprompt)\n",
    "\n",
    "print(\"Processed Classprompt:\", Classprompt)\n",
    "print(\"Processed Numprompt:\", Numprompt)\n",
    "\n",
    "Class_3_count = Classprompt.count('3')\n",
    "Class_2_count = Classprompt.count('2')\n",
    "Class_1_count = Classprompt.count('1')\n",
    "\n",
    "Class_Sum_count = Class_3_count + Class_2_count + Class_1_count\n",
    "\n",
    "Guess_allowed = 1  \n",
    "if Class_3_count > 4 or Class_2_count > 4 or Class_1_count > 4 or Class_Sum_count > 4:\n",
    "    Guess_allowed = 0\n",
    "\n",
    "Numbers = list(map(int, re.findall(r'\\d+', Numprompt)))\n",
    "Average_Number = sum(Numbers)/len(Numbers) if Numbers else 0\n",
    "\n",
    "if Average_Number > 50000000:\n",
    "    Guess_allowed = 0\n",
    "elif any(num > 60000000 for num in Numbers):\n",
    "    Guess_allowed = 0\n",
    "\n",
    "print(f\"Guess allowed: {Guess_allowed}\")\n",
    "\n",
    "actual_allowed = 0  \n",
    "\n",
    "if Guess_allowed == actual_allowed:\n",
    "    print(\"Prediction is correct.\")\n",
    "else:\n",
    "    print(\"Prediction is incorrect.\")\n"
   ]
  },
  {
   "cell_type": "code",
   "execution_count": 201,
   "id": "837a2d6f-0275-43b1-ab67-0b70ca1655af",
   "metadata": {},
   "outputs": [
    {
     "name": "stdout",
     "output_type": "stream",
     "text": [
      "Processed Classprompt: 0 0 0 0 0 0 0 0 0 0 0\n",
      "Processed Numprompt: 33330810 11110200 22220530 11110200 11110100 22220510 33330725 33330200 11110300 22220610 22220550\n",
      "Guess allowed: 1\n",
      "Prediction is correct.\n"
     ]
    }
   ],
   "source": [
    "import re\n",
    "from tqdm import tqdm\n",
    "\n",
    "custom_prompt = SafePrompt\n",
    "\n",
    "word_classifications = {}\n",
    "rows = []\n",
    "\n",
    "Classprompt = custom_prompt\n",
    "Numprompt = custom_prompt\n",
    "\n",
    "Classprompt = re.sub(r'[^a-zA-Z\\s]', '', Classprompt)  \n",
    "Numprompt = re.sub(r'[^a-zA-Z\\s]', '', Numprompt)\n",
    "\n",
    "for word in re.findall(r'\\b\\w+\\b', Classprompt):  \n",
    "    if word not in word_classifications:\n",
    "        classification_value = classify_word(word) \n",
    "        numeric_value, interpreted_word = numberify(word) \n",
    "        word_classifications[word] = {'Classification': classification_value, \n",
    "                                       'Number': numeric_value, 'NumericInterpretedWord': interpreted_word}\n",
    "    else:\n",
    "        classification_value = word_classifications[word]['Classification']\n",
    "        numeric_value = word_classifications[word]['Number']\n",
    "    \n",
    "    Classprompt = re.sub(r'\\b' + re.escape(word) + r'\\b', str(classification_value), Classprompt)\n",
    "    Numprompt = re.sub(r'\\b' + re.escape(word) + r'\\b', str(numeric_value), Numprompt)\n",
    "\n",
    "print(\"Processed Classprompt:\", Classprompt)\n",
    "print(\"Processed Numprompt:\", Numprompt)\n",
    "\n",
    "Class_3_count = Classprompt.count('3')\n",
    "Class_2_count = Classprompt.count('2')\n",
    "Class_1_count = Classprompt.count('1')\n",
    "\n",
    "Class_Sum_count = Class_3_count + Class_2_count + Class_1_count\n",
    "\n",
    "Guess_allowed = 1  \n",
    "if Class_3_count > 4 or Class_2_count > 4 or Class_1_count > 4 or Class_Sum_count > 4:\n",
    "    Guess_allowed = 0\n",
    "\n",
    "Numbers = list(map(int, re.findall(r'\\d+', Numprompt)))\n",
    "Average_Number = sum(Numbers)/len(Numbers) if Numbers else 0\n",
    "\n",
    "if Average_Number > 50000000:\n",
    "    Guess_allowed = 0\n",
    "elif any(num > 60000000 for num in Numbers):\n",
    "    Guess_allowed = 0\n",
    "\n",
    "print(f\"Guess allowed: {Guess_allowed}\")\n",
    "\n",
    "\n",
    "actual_allowed = 1  \n",
    "\n",
    "if Guess_allowed == actual_allowed:\n",
    "    print(\"Prediction is correct.\")\n",
    "else:\n",
    "    print(\"Prediction is incorrect.\")\n"
   ]
  },
  {
   "cell_type": "code",
   "execution_count": 202,
   "id": "d1d50d99-56c2-4cd7-9cf0-f003092042af",
   "metadata": {},
   "outputs": [],
   "source": [
    "from sklearn.model_selection import train_test_split\n",
    "from sklearn.feature_extraction.text import TfidfVectorizer\n",
    "from sklearn.neighbors import KNeighborsClassifier\n",
    "from sklearn.metrics import accuracy_score, confusion_matrix\n",
    "import matplotlib.pyplot as plt\n"
   ]
  },
  {
   "cell_type": "code",
   "execution_count": 203,
   "id": "2a85ff10-5ad3-4358-bba2-22340ce5cd3a",
   "metadata": {},
   "outputs": [
    {
     "name": "stdout",
     "output_type": "stream",
     "text": [
      "==================================================\n",
      "Results for k=1\n",
      "==================================================\n"
     ]
    },
    {
     "ename": "KeyboardInterrupt",
     "evalue": "",
     "output_type": "error",
     "traceback": [
      "\u001b[1;31m---------------------------------------------------------------------------\u001b[0m",
      "\u001b[1;31mKeyboardInterrupt\u001b[0m                         Traceback (most recent call last)",
      "Cell \u001b[1;32mIn[203], line 16\u001b[0m\n\u001b[0;32m     13\u001b[0m knn \u001b[38;5;241m=\u001b[39m KNeighborsClassifier(n_neighbors\u001b[38;5;241m=\u001b[39mk)\n\u001b[0;32m     14\u001b[0m knn\u001b[38;5;241m.\u001b[39mfit(X_train, y_train)\n\u001b[1;32m---> 16\u001b[0m y_pred \u001b[38;5;241m=\u001b[39m knn\u001b[38;5;241m.\u001b[39mpredict(X_test)\n\u001b[0;32m     18\u001b[0m accuracy \u001b[38;5;241m=\u001b[39m accuracy_score(y_test, y_pred)\n\u001b[0;32m     19\u001b[0m \u001b[38;5;28mprint\u001b[39m(\u001b[38;5;124mf\u001b[39m\u001b[38;5;124m'\u001b[39m\u001b[38;5;124mAccuracy for k=\u001b[39m\u001b[38;5;132;01m{\u001b[39;00mk\u001b[38;5;132;01m}\u001b[39;00m\u001b[38;5;124m: \u001b[39m\u001b[38;5;132;01m{\u001b[39;00maccuracy\u001b[38;5;250m \u001b[39m\u001b[38;5;241m*\u001b[39m\u001b[38;5;250m \u001b[39m\u001b[38;5;241m100\u001b[39m\u001b[38;5;132;01m:\u001b[39;00m\u001b[38;5;124m.2f\u001b[39m\u001b[38;5;132;01m}\u001b[39;00m\u001b[38;5;124m%\u001b[39m\u001b[38;5;124m'\u001b[39m)\n",
      "File \u001b[1;32m~\\anaconda3\\Lib\\site-packages\\sklearn\\neighbors\\_classification.py:295\u001b[0m, in \u001b[0;36mKNeighborsClassifier.predict\u001b[1;34m(self, X)\u001b[0m\n\u001b[0;32m    293\u001b[0m \u001b[38;5;28;01mfor\u001b[39;00m k, classes_k \u001b[38;5;129;01min\u001b[39;00m \u001b[38;5;28menumerate\u001b[39m(classes_):\n\u001b[0;32m    294\u001b[0m     \u001b[38;5;28;01mif\u001b[39;00m weights \u001b[38;5;129;01mis\u001b[39;00m \u001b[38;5;28;01mNone\u001b[39;00m:\n\u001b[1;32m--> 295\u001b[0m         mode, _ \u001b[38;5;241m=\u001b[39m _mode(_y[neigh_ind, k], axis\u001b[38;5;241m=\u001b[39m\u001b[38;5;241m1\u001b[39m)\n\u001b[0;32m    296\u001b[0m     \u001b[38;5;28;01melse\u001b[39;00m:\n\u001b[0;32m    297\u001b[0m         mode, _ \u001b[38;5;241m=\u001b[39m weighted_mode(_y[neigh_ind, k], weights, axis\u001b[38;5;241m=\u001b[39m\u001b[38;5;241m1\u001b[39m)\n",
      "File \u001b[1;32m~\\anaconda3\\Lib\\site-packages\\sklearn\\utils\\fixes.py:107\u001b[0m, in \u001b[0;36m_mode\u001b[1;34m(a, axis)\u001b[0m\n\u001b[0;32m    105\u001b[0m \u001b[38;5;28;01mdef\u001b[39;00m \u001b[38;5;21m_mode\u001b[39m(a, axis\u001b[38;5;241m=\u001b[39m\u001b[38;5;241m0\u001b[39m):\n\u001b[0;32m    106\u001b[0m     \u001b[38;5;28;01mif\u001b[39;00m sp_version \u001b[38;5;241m>\u001b[39m\u001b[38;5;241m=\u001b[39m parse_version(\u001b[38;5;124m\"\u001b[39m\u001b[38;5;124m1.9.0\u001b[39m\u001b[38;5;124m\"\u001b[39m):\n\u001b[1;32m--> 107\u001b[0m         mode \u001b[38;5;241m=\u001b[39m scipy\u001b[38;5;241m.\u001b[39mstats\u001b[38;5;241m.\u001b[39mmode(a, axis\u001b[38;5;241m=\u001b[39maxis, keepdims\u001b[38;5;241m=\u001b[39m\u001b[38;5;28;01mTrue\u001b[39;00m)\n\u001b[0;32m    108\u001b[0m         \u001b[38;5;28;01mif\u001b[39;00m sp_version \u001b[38;5;241m>\u001b[39m\u001b[38;5;241m=\u001b[39m parse_version(\u001b[38;5;124m\"\u001b[39m\u001b[38;5;124m1.10.999\u001b[39m\u001b[38;5;124m\"\u001b[39m):\n\u001b[0;32m    109\u001b[0m             \u001b[38;5;66;03m# scipy.stats.mode has changed returned array shape with axis=None\u001b[39;00m\n\u001b[0;32m    110\u001b[0m             \u001b[38;5;66;03m# and keepdims=True, see https://github.com/scipy/scipy/pull/17561\u001b[39;00m\n\u001b[0;32m    111\u001b[0m             \u001b[38;5;28;01mif\u001b[39;00m axis \u001b[38;5;129;01mis\u001b[39;00m \u001b[38;5;28;01mNone\u001b[39;00m:\n",
      "File \u001b[1;32m~\\anaconda3\\Lib\\site-packages\\scipy\\stats\\_axis_nan_policy.py:660\u001b[0m, in \u001b[0;36m_axis_nan_policy_factory.<locals>.axis_nan_policy_decorator.<locals>.axis_nan_policy_wrapper\u001b[1;34m(***failed resolving arguments***)\u001b[0m\n\u001b[0;32m    657\u001b[0m         \u001b[38;5;28;01mreturn\u001b[39;00m result_to_tuple(hypotest_fun_out(\u001b[38;5;241m*\u001b[39msamples, \u001b[38;5;241m*\u001b[39m\u001b[38;5;241m*\u001b[39mkwds), n_out)\n\u001b[0;32m    659\u001b[0m x \u001b[38;5;241m=\u001b[39m np\u001b[38;5;241m.\u001b[39mmoveaxis(x, axis, \u001b[38;5;241m0\u001b[39m)\n\u001b[1;32m--> 660\u001b[0m res \u001b[38;5;241m=\u001b[39m np\u001b[38;5;241m.\u001b[39mapply_along_axis(hypotest_fun, axis\u001b[38;5;241m=\u001b[39m\u001b[38;5;241m0\u001b[39m, arr\u001b[38;5;241m=\u001b[39mx)\n\u001b[0;32m    661\u001b[0m res \u001b[38;5;241m=\u001b[39m _add_reduced_axes(res, reduced_axes, keepdims)\n\u001b[0;32m    662\u001b[0m \u001b[38;5;28;01mreturn\u001b[39;00m tuple_to_result(\u001b[38;5;241m*\u001b[39mres)\n",
      "File \u001b[1;32m~\\anaconda3\\Lib\\site-packages\\numpy\\lib\\shape_base.py:402\u001b[0m, in \u001b[0;36mapply_along_axis\u001b[1;34m(func1d, axis, arr, *args, **kwargs)\u001b[0m\n\u001b[0;32m    400\u001b[0m buff[ind0] \u001b[38;5;241m=\u001b[39m res\n\u001b[0;32m    401\u001b[0m \u001b[38;5;28;01mfor\u001b[39;00m ind \u001b[38;5;129;01min\u001b[39;00m inds:\n\u001b[1;32m--> 402\u001b[0m     buff[ind] \u001b[38;5;241m=\u001b[39m asanyarray(func1d(inarr_view[ind], \u001b[38;5;241m*\u001b[39margs, \u001b[38;5;241m*\u001b[39m\u001b[38;5;241m*\u001b[39mkwargs))\n\u001b[0;32m    404\u001b[0m \u001b[38;5;28;01mif\u001b[39;00m \u001b[38;5;129;01mnot\u001b[39;00m \u001b[38;5;28misinstance\u001b[39m(res, matrix):\n\u001b[0;32m    405\u001b[0m     \u001b[38;5;66;03m# wrap the array, to preserve subclasses\u001b[39;00m\n\u001b[0;32m    406\u001b[0m     buff \u001b[38;5;241m=\u001b[39m res\u001b[38;5;241m.\u001b[39m__array_wrap__(buff)\n",
      "File \u001b[1;32m~\\anaconda3\\Lib\\site-packages\\scipy\\stats\\_axis_nan_policy.py:657\u001b[0m, in \u001b[0;36m_axis_nan_policy_factory.<locals>.axis_nan_policy_decorator.<locals>.axis_nan_policy_wrapper.<locals>.hypotest_fun\u001b[1;34m(x)\u001b[0m\n\u001b[0;32m    655\u001b[0m \u001b[38;5;28;01mif\u001b[39;00m is_too_small(samples, kwds):\n\u001b[0;32m    656\u001b[0m     \u001b[38;5;28;01mreturn\u001b[39;00m np\u001b[38;5;241m.\u001b[39mfull(n_out, NaN)\n\u001b[1;32m--> 657\u001b[0m \u001b[38;5;28;01mreturn\u001b[39;00m result_to_tuple(hypotest_fun_out(\u001b[38;5;241m*\u001b[39msamples, \u001b[38;5;241m*\u001b[39m\u001b[38;5;241m*\u001b[39mkwds), n_out)\n",
      "File \u001b[1;32m~\\anaconda3\\Lib\\site-packages\\scipy\\stats\\_stats_py.py:564\u001b[0m, in \u001b[0;36mmode\u001b[1;34m(a, axis, nan_policy, keepdims)\u001b[0m\n\u001b[0;32m    561\u001b[0m     NaN \u001b[38;5;241m=\u001b[39m _get_nan(a)\n\u001b[0;32m    562\u001b[0m     \u001b[38;5;28;01mreturn\u001b[39;00m ModeResult(\u001b[38;5;241m*\u001b[39mnp\u001b[38;5;241m.\u001b[39marray([NaN, \u001b[38;5;241m0\u001b[39m], dtype\u001b[38;5;241m=\u001b[39mNaN\u001b[38;5;241m.\u001b[39mdtype))\n\u001b[1;32m--> 564\u001b[0m vals, cnts \u001b[38;5;241m=\u001b[39m np\u001b[38;5;241m.\u001b[39munique(a, return_counts\u001b[38;5;241m=\u001b[39m\u001b[38;5;28;01mTrue\u001b[39;00m)\n\u001b[0;32m    565\u001b[0m modes, counts \u001b[38;5;241m=\u001b[39m vals[cnts\u001b[38;5;241m.\u001b[39margmax()], cnts\u001b[38;5;241m.\u001b[39mmax()\n\u001b[0;32m    566\u001b[0m \u001b[38;5;28;01mreturn\u001b[39;00m ModeResult(modes[()], counts[()])\n",
      "File \u001b[1;32m~\\anaconda3\\Lib\\site-packages\\numpy\\lib\\arraysetops.py:274\u001b[0m, in \u001b[0;36munique\u001b[1;34m(ar, return_index, return_inverse, return_counts, axis, equal_nan)\u001b[0m\n\u001b[0;32m    272\u001b[0m ar \u001b[38;5;241m=\u001b[39m np\u001b[38;5;241m.\u001b[39masanyarray(ar)\n\u001b[0;32m    273\u001b[0m \u001b[38;5;28;01mif\u001b[39;00m axis \u001b[38;5;129;01mis\u001b[39;00m \u001b[38;5;28;01mNone\u001b[39;00m:\n\u001b[1;32m--> 274\u001b[0m     ret \u001b[38;5;241m=\u001b[39m _unique1d(ar, return_index, return_inverse, return_counts, \n\u001b[0;32m    275\u001b[0m                     equal_nan\u001b[38;5;241m=\u001b[39mequal_nan)\n\u001b[0;32m    276\u001b[0m     \u001b[38;5;28;01mreturn\u001b[39;00m _unpack_tuple(ret)\n\u001b[0;32m    278\u001b[0m \u001b[38;5;66;03m# axis was specified and not None\u001b[39;00m\n",
      "File \u001b[1;32m~\\anaconda3\\Lib\\site-packages\\numpy\\lib\\arraysetops.py:363\u001b[0m, in \u001b[0;36m_unique1d\u001b[1;34m(ar, return_index, return_inverse, return_counts, equal_nan)\u001b[0m\n\u001b[0;32m    361\u001b[0m     ret \u001b[38;5;241m+\u001b[39m\u001b[38;5;241m=\u001b[39m (inv_idx,)\n\u001b[0;32m    362\u001b[0m \u001b[38;5;28;01mif\u001b[39;00m return_counts:\n\u001b[1;32m--> 363\u001b[0m     idx \u001b[38;5;241m=\u001b[39m np\u001b[38;5;241m.\u001b[39mconcatenate(np\u001b[38;5;241m.\u001b[39mnonzero(mask) \u001b[38;5;241m+\u001b[39m ([mask\u001b[38;5;241m.\u001b[39msize],))\n\u001b[0;32m    364\u001b[0m     ret \u001b[38;5;241m+\u001b[39m\u001b[38;5;241m=\u001b[39m (np\u001b[38;5;241m.\u001b[39mdiff(idx),)\n\u001b[0;32m    365\u001b[0m \u001b[38;5;28;01mreturn\u001b[39;00m ret\n",
      "\u001b[1;31mKeyboardInterrupt\u001b[0m: "
     ]
    }
   ],
   "source": [
    "X = df_subset['Numbers'].apply(lambda x: sum(x) if isinstance(x, list) else 0).values.reshape(-1, 1)\n",
    "y = df_subset['allowed']\n",
    "\n",
    "X_train, X_test, y_train, y_test = train_test_split(X, y, test_size=0.3, random_state=42)\n",
    "accuracies, precisions, recalls, f1_scores = [], [], [], []\n",
    "tp_values, tn_values, fp_values, fn_values = [], [], [], []\n",
    "\n",
    "for k in range(1, 13):\n",
    "    print(\"=\"*50)\n",
    "    print(f\"Results for k={k}\")\n",
    "    print(\"=\"*50)\n",
    "    \n",
    "    knn = KNeighborsClassifier(n_neighbors=k)\n",
    "    knn.fit(X_train, y_train)\n",
    "    \n",
    "    y_pred = knn.predict(X_test)\n",
    "    \n",
    "    accuracy = accuracy_score(y_test, y_pred)\n",
    "    print(f'Accuracy for k={k}: {accuracy * 100:.2f}%')\n",
    "    \n",
    "    cm = confusion_matrix(y_test, y_pred)\n",
    "    print(f\"\\nConfusion Matrix for k={k}:\")\n",
    "    print(cm)\n",
    "    \n",
    "    tn, fp, fn, tp = cm.ravel()\n",
    "    \n",
    "    print(f\"\\nTrue Positives (TP): {tp}\")\n",
    "    print(f\"True Negatives (TN): {tn}\")\n",
    "    print(f\"False Positives (FP): {fp}\")\n",
    "    print(f\"False Negatives (FN): {fn}\")\n",
    "    \n",
    "    precision = tp / (tp + fp) if tp + fp > 0 else 0\n",
    "    recall = tp / (tp + fn) if tp + fn > 0 else 0\n",
    "    f1_score = 2 * (precision * recall) / (precision + recall) if precision + recall > 0 else 0\n",
    "    accuracies.append(accuracy)\n",
    "    precisions.append(precision)\n",
    "    recalls.append(recall)\n",
    "    f1_scores.append(f1_score)\n",
    "    tp_values.append(tp)\n",
    "    tn_values.append(tn)\n",
    "    fp_values.append(fp)\n",
    "    fn_values.append(fn)\n",
    "    print(f\"Precision for k={k}: {precision * 100:.2f}%\")\n",
    "    print(f\"Recall for k={k}: {recall * 100:.2f}%\")\n",
    "    print(f\"F1 Score for k={k}: {f1_score * 100:.2f}%\")\n",
    "    \n",
    "    print(\"\\nFirst 5 predictions vs actual values:\")\n",
    "    for i in range(5):\n",
    "        print(f\"Sample {i+1} - Predicted: {y_pred[i]}, Actual: {y_test.iloc[i]}\")\n",
    "    \n",
    "    print(\"\\n\" + \"=\"*50 + \"\\n\")\n",
    "k_values = list(range(1, 13))\n",
    "\n",
    "fig, axes = plt.subplots(3, 2, figsize=(12, 12))\n",
    "\n",
    "metrics = [\n",
    "    (tp_values, \"True Positives\", \"green\", \"o\"),\n",
    "    (tn_values, \"True Negatives\", \"blue\", \"s\"),\n",
    "    (fp_values, \"False Positives\", \"red\", \"^\"),\n",
    "    (fn_values, \"False Negatives\", \"orange\", \"v\"),\n",
    "    (accuracies, \"Accuracy\", \"purple\", \"D\")\n",
    "]\n",
    "\n",
    "for i, (values, title, color, marker) in enumerate(metrics):\n",
    "    row, col = divmod(i, 2)  \n",
    "    axes[row, col].plot(k_values, values, marker=marker, linestyle=\"-\", color=color, label=title)\n",
    "    axes[row, col].set_xlabel(\"k (Number of Neighbors)\")\n",
    "    axes[row, col].set_ylabel(\"Count\" if title != \"Accuracy\" else \"Score\")\n",
    "    axes[row, col].set_title(f\"{title} Across Different k Values\")\n",
    "    axes[row, col].grid(True)\n",
    "    axes[row, col].legend()\n",
    "\n",
    "fig.delaxes(axes[2, 1])\n",
    "\n",
    "plt.subplots_adjust(hspace=0.4)\n",
    "plt.show()"
   ]
  },
  {
   "cell_type": "code",
   "execution_count": 204,
   "id": "d6f315c7-5f4d-4460-8b72-b2b5be81f471",
   "metadata": {},
   "outputs": [
    {
     "ename": "KeyboardInterrupt",
     "evalue": "",
     "output_type": "error",
     "traceback": [
      "\u001b[1;31m---------------------------------------------------------------------------\u001b[0m",
      "\u001b[1;31mKeyboardInterrupt\u001b[0m                         Traceback (most recent call last)",
      "Cell \u001b[1;32mIn[204], line 20\u001b[0m\n\u001b[0;32m     18\u001b[0m \u001b[38;5;28;01mif\u001b[39;00m word \u001b[38;5;129;01mnot\u001b[39;00m \u001b[38;5;129;01min\u001b[39;00m word_classifications:\n\u001b[0;32m     19\u001b[0m     classification_value \u001b[38;5;241m=\u001b[39m classify_word(word)  \n\u001b[1;32m---> 20\u001b[0m     numeric_value, interpreted_word \u001b[38;5;241m=\u001b[39m numberify(word)  \n\u001b[0;32m     21\u001b[0m     word_classifications[word] \u001b[38;5;241m=\u001b[39m {\u001b[38;5;124m'\u001b[39m\u001b[38;5;124mClassification\u001b[39m\u001b[38;5;124m'\u001b[39m: classification_value, \n\u001b[0;32m     22\u001b[0m                                    \u001b[38;5;124m'\u001b[39m\u001b[38;5;124mNumber\u001b[39m\u001b[38;5;124m'\u001b[39m: numeric_value, \u001b[38;5;124m'\u001b[39m\u001b[38;5;124mNumericInterpretedWord\u001b[39m\u001b[38;5;124m'\u001b[39m: interpreted_word}\n\u001b[0;32m     23\u001b[0m \u001b[38;5;28;01melse\u001b[39;00m:\n",
      "Cell \u001b[1;32mIn[10], line 9\u001b[0m, in \u001b[0;36mnumberify\u001b[1;34m(word)\u001b[0m\n\u001b[0;32m      5\u001b[0m prompt \u001b[38;5;241m=\u001b[39m \u001b[38;5;124mf\u001b[39m\u001b[38;5;124m\"\u001b[39m\u001b[38;5;124mHERE IS THE WORD: \u001b[39m\u001b[38;5;132;01m{\u001b[39;00mword\u001b[38;5;132;01m}\u001b[39;00m\u001b[38;5;124m\"\u001b[39m\n\u001b[0;32m      7\u001b[0m \u001b[38;5;28;01mtry\u001b[39;00m:\n\u001b[0;32m      8\u001b[0m     \u001b[38;5;66;03m# First classification: 4-digit number\u001b[39;00m\n\u001b[1;32m----> 9\u001b[0m     response \u001b[38;5;241m=\u001b[39m client\u001b[38;5;241m.\u001b[39mchat\u001b[38;5;241m.\u001b[39mcompletions\u001b[38;5;241m.\u001b[39mcreate(\n\u001b[0;32m     10\u001b[0m         model\u001b[38;5;241m=\u001b[39m\u001b[38;5;124m\"\u001b[39m\u001b[38;5;124mgpt-4o-mini\u001b[39m\u001b[38;5;124m\"\u001b[39m,\n\u001b[0;32m     11\u001b[0m         messages\u001b[38;5;241m=\u001b[39m[\n\u001b[0;32m     12\u001b[0m             {\u001b[38;5;124m\"\u001b[39m\u001b[38;5;124mrole\u001b[39m\u001b[38;5;124m\"\u001b[39m: \u001b[38;5;124m\"\u001b[39m\u001b[38;5;124msystem\u001b[39m\u001b[38;5;124m\"\u001b[39m, \u001b[38;5;124m\"\u001b[39m\u001b[38;5;124mcontent\u001b[39m\u001b[38;5;124m\"\u001b[39m: \u001b[38;5;124m\"\"\"\u001b[39m\u001b[38;5;124mAssign the word a number based on the following criteria.\u001b[39m\n\u001b[0;32m     13\u001b[0m \u001b[38;5;124mThe number will be 4 digits. The first 4 digits determine how \u001b[39m\u001b[38;5;124m'\u001b[39m\u001b[38;5;124mbad\u001b[39m\u001b[38;5;124m'\u001b[39m\u001b[38;5;124m the word may be.\u001b[39m\n\u001b[0;32m     14\u001b[0m \u001b[38;5;124m- Filler words = 1111\u001b[39m\n\u001b[0;32m     15\u001b[0m \u001b[38;5;124m- Non-explicit subjects = 2222\u001b[39m\n\u001b[0;32m     16\u001b[0m \u001b[38;5;124m- Non-explicit verbs = 3333\u001b[39m\n\u001b[0;32m     17\u001b[0m \u001b[38;5;124m- Explicit words increase progressively (e.g., 5555, 6666, 7777, 8888)\u001b[39m\n\u001b[0;32m     18\u001b[0m \u001b[38;5;124m- Use 9999 only for extreme cases.\u001b[39m\n\u001b[0;32m     19\u001b[0m \u001b[38;5;124mRespond with just the number!.\u001b[39m\u001b[38;5;124m\"\"\"\u001b[39m},\n\u001b[0;32m     20\u001b[0m             {\u001b[38;5;124m\"\u001b[39m\u001b[38;5;124mrole\u001b[39m\u001b[38;5;124m\"\u001b[39m: \u001b[38;5;124m\"\u001b[39m\u001b[38;5;124muser\u001b[39m\u001b[38;5;124m\"\u001b[39m, \u001b[38;5;124m\"\u001b[39m\u001b[38;5;124mcontent\u001b[39m\u001b[38;5;124m\"\u001b[39m: prompt}\n\u001b[0;32m     21\u001b[0m         ],\n\u001b[0;32m     22\u001b[0m         max_tokens\u001b[38;5;241m=\u001b[39m\u001b[38;5;241m10\u001b[39m\n\u001b[0;32m     23\u001b[0m     )\n\u001b[0;32m     24\u001b[0m     classification \u001b[38;5;241m=\u001b[39m response\u001b[38;5;241m.\u001b[39mchoices[\u001b[38;5;241m0\u001b[39m]\u001b[38;5;241m.\u001b[39mmessage\u001b[38;5;241m.\u001b[39mcontent\u001b[38;5;241m.\u001b[39mstrip()\n\u001b[0;32m     26\u001b[0m     \u001b[38;5;66;03m# Second classification: 2-digit number based on implication\u001b[39;00m\n",
      "File \u001b[1;32m~\\anaconda3\\Lib\\site-packages\\openai\\_utils\\_utils.py:279\u001b[0m, in \u001b[0;36mrequired_args.<locals>.inner.<locals>.wrapper\u001b[1;34m(*args, **kwargs)\u001b[0m\n\u001b[0;32m    277\u001b[0m             msg \u001b[38;5;241m=\u001b[39m \u001b[38;5;124mf\u001b[39m\u001b[38;5;124m\"\u001b[39m\u001b[38;5;124mMissing required argument: \u001b[39m\u001b[38;5;132;01m{\u001b[39;00mquote(missing[\u001b[38;5;241m0\u001b[39m])\u001b[38;5;132;01m}\u001b[39;00m\u001b[38;5;124m\"\u001b[39m\n\u001b[0;32m    278\u001b[0m     \u001b[38;5;28;01mraise\u001b[39;00m \u001b[38;5;167;01mTypeError\u001b[39;00m(msg)\n\u001b[1;32m--> 279\u001b[0m \u001b[38;5;28;01mreturn\u001b[39;00m func(\u001b[38;5;241m*\u001b[39margs, \u001b[38;5;241m*\u001b[39m\u001b[38;5;241m*\u001b[39mkwargs)\n",
      "File \u001b[1;32m~\\anaconda3\\Lib\\site-packages\\openai\\resources\\chat\\completions.py:859\u001b[0m, in \u001b[0;36mCompletions.create\u001b[1;34m(self, messages, model, audio, frequency_penalty, function_call, functions, logit_bias, logprobs, max_completion_tokens, max_tokens, metadata, modalities, n, parallel_tool_calls, prediction, presence_penalty, reasoning_effort, response_format, seed, service_tier, stop, store, stream, stream_options, temperature, tool_choice, tools, top_logprobs, top_p, user, extra_headers, extra_query, extra_body, timeout)\u001b[0m\n\u001b[0;32m    817\u001b[0m \u001b[38;5;129m@required_args\u001b[39m([\u001b[38;5;124m\"\u001b[39m\u001b[38;5;124mmessages\u001b[39m\u001b[38;5;124m\"\u001b[39m, \u001b[38;5;124m\"\u001b[39m\u001b[38;5;124mmodel\u001b[39m\u001b[38;5;124m\"\u001b[39m], [\u001b[38;5;124m\"\u001b[39m\u001b[38;5;124mmessages\u001b[39m\u001b[38;5;124m\"\u001b[39m, \u001b[38;5;124m\"\u001b[39m\u001b[38;5;124mmodel\u001b[39m\u001b[38;5;124m\"\u001b[39m, \u001b[38;5;124m\"\u001b[39m\u001b[38;5;124mstream\u001b[39m\u001b[38;5;124m\"\u001b[39m])\n\u001b[0;32m    818\u001b[0m \u001b[38;5;28;01mdef\u001b[39;00m \u001b[38;5;21mcreate\u001b[39m(\n\u001b[0;32m    819\u001b[0m     \u001b[38;5;28mself\u001b[39m,\n\u001b[1;32m   (...)\u001b[0m\n\u001b[0;32m    856\u001b[0m     timeout: \u001b[38;5;28mfloat\u001b[39m \u001b[38;5;241m|\u001b[39m httpx\u001b[38;5;241m.\u001b[39mTimeout \u001b[38;5;241m|\u001b[39m \u001b[38;5;28;01mNone\u001b[39;00m \u001b[38;5;241m|\u001b[39m NotGiven \u001b[38;5;241m=\u001b[39m NOT_GIVEN,\n\u001b[0;32m    857\u001b[0m ) \u001b[38;5;241m-\u001b[39m\u001b[38;5;241m>\u001b[39m ChatCompletion \u001b[38;5;241m|\u001b[39m Stream[ChatCompletionChunk]:\n\u001b[0;32m    858\u001b[0m     validate_response_format(response_format)\n\u001b[1;32m--> 859\u001b[0m     \u001b[38;5;28;01mreturn\u001b[39;00m \u001b[38;5;28mself\u001b[39m\u001b[38;5;241m.\u001b[39m_post(\n\u001b[0;32m    860\u001b[0m         \u001b[38;5;124m\"\u001b[39m\u001b[38;5;124m/chat/completions\u001b[39m\u001b[38;5;124m\"\u001b[39m,\n\u001b[0;32m    861\u001b[0m         body\u001b[38;5;241m=\u001b[39mmaybe_transform(\n\u001b[0;32m    862\u001b[0m             {\n\u001b[0;32m    863\u001b[0m                 \u001b[38;5;124m\"\u001b[39m\u001b[38;5;124mmessages\u001b[39m\u001b[38;5;124m\"\u001b[39m: messages,\n\u001b[0;32m    864\u001b[0m                 \u001b[38;5;124m\"\u001b[39m\u001b[38;5;124mmodel\u001b[39m\u001b[38;5;124m\"\u001b[39m: model,\n\u001b[0;32m    865\u001b[0m                 \u001b[38;5;124m\"\u001b[39m\u001b[38;5;124maudio\u001b[39m\u001b[38;5;124m\"\u001b[39m: audio,\n\u001b[0;32m    866\u001b[0m                 \u001b[38;5;124m\"\u001b[39m\u001b[38;5;124mfrequency_penalty\u001b[39m\u001b[38;5;124m\"\u001b[39m: frequency_penalty,\n\u001b[0;32m    867\u001b[0m                 \u001b[38;5;124m\"\u001b[39m\u001b[38;5;124mfunction_call\u001b[39m\u001b[38;5;124m\"\u001b[39m: function_call,\n\u001b[0;32m    868\u001b[0m                 \u001b[38;5;124m\"\u001b[39m\u001b[38;5;124mfunctions\u001b[39m\u001b[38;5;124m\"\u001b[39m: functions,\n\u001b[0;32m    869\u001b[0m                 \u001b[38;5;124m\"\u001b[39m\u001b[38;5;124mlogit_bias\u001b[39m\u001b[38;5;124m\"\u001b[39m: logit_bias,\n\u001b[0;32m    870\u001b[0m                 \u001b[38;5;124m\"\u001b[39m\u001b[38;5;124mlogprobs\u001b[39m\u001b[38;5;124m\"\u001b[39m: logprobs,\n\u001b[0;32m    871\u001b[0m                 \u001b[38;5;124m\"\u001b[39m\u001b[38;5;124mmax_completion_tokens\u001b[39m\u001b[38;5;124m\"\u001b[39m: max_completion_tokens,\n\u001b[0;32m    872\u001b[0m                 \u001b[38;5;124m\"\u001b[39m\u001b[38;5;124mmax_tokens\u001b[39m\u001b[38;5;124m\"\u001b[39m: max_tokens,\n\u001b[0;32m    873\u001b[0m                 \u001b[38;5;124m\"\u001b[39m\u001b[38;5;124mmetadata\u001b[39m\u001b[38;5;124m\"\u001b[39m: metadata,\n\u001b[0;32m    874\u001b[0m                 \u001b[38;5;124m\"\u001b[39m\u001b[38;5;124mmodalities\u001b[39m\u001b[38;5;124m\"\u001b[39m: modalities,\n\u001b[0;32m    875\u001b[0m                 \u001b[38;5;124m\"\u001b[39m\u001b[38;5;124mn\u001b[39m\u001b[38;5;124m\"\u001b[39m: n,\n\u001b[0;32m    876\u001b[0m                 \u001b[38;5;124m\"\u001b[39m\u001b[38;5;124mparallel_tool_calls\u001b[39m\u001b[38;5;124m\"\u001b[39m: parallel_tool_calls,\n\u001b[0;32m    877\u001b[0m                 \u001b[38;5;124m\"\u001b[39m\u001b[38;5;124mprediction\u001b[39m\u001b[38;5;124m\"\u001b[39m: prediction,\n\u001b[0;32m    878\u001b[0m                 \u001b[38;5;124m\"\u001b[39m\u001b[38;5;124mpresence_penalty\u001b[39m\u001b[38;5;124m\"\u001b[39m: presence_penalty,\n\u001b[0;32m    879\u001b[0m                 \u001b[38;5;124m\"\u001b[39m\u001b[38;5;124mreasoning_effort\u001b[39m\u001b[38;5;124m\"\u001b[39m: reasoning_effort,\n\u001b[0;32m    880\u001b[0m                 \u001b[38;5;124m\"\u001b[39m\u001b[38;5;124mresponse_format\u001b[39m\u001b[38;5;124m\"\u001b[39m: response_format,\n\u001b[0;32m    881\u001b[0m                 \u001b[38;5;124m\"\u001b[39m\u001b[38;5;124mseed\u001b[39m\u001b[38;5;124m\"\u001b[39m: seed,\n\u001b[0;32m    882\u001b[0m                 \u001b[38;5;124m\"\u001b[39m\u001b[38;5;124mservice_tier\u001b[39m\u001b[38;5;124m\"\u001b[39m: service_tier,\n\u001b[0;32m    883\u001b[0m                 \u001b[38;5;124m\"\u001b[39m\u001b[38;5;124mstop\u001b[39m\u001b[38;5;124m\"\u001b[39m: stop,\n\u001b[0;32m    884\u001b[0m                 \u001b[38;5;124m\"\u001b[39m\u001b[38;5;124mstore\u001b[39m\u001b[38;5;124m\"\u001b[39m: store,\n\u001b[0;32m    885\u001b[0m                 \u001b[38;5;124m\"\u001b[39m\u001b[38;5;124mstream\u001b[39m\u001b[38;5;124m\"\u001b[39m: stream,\n\u001b[0;32m    886\u001b[0m                 \u001b[38;5;124m\"\u001b[39m\u001b[38;5;124mstream_options\u001b[39m\u001b[38;5;124m\"\u001b[39m: stream_options,\n\u001b[0;32m    887\u001b[0m                 \u001b[38;5;124m\"\u001b[39m\u001b[38;5;124mtemperature\u001b[39m\u001b[38;5;124m\"\u001b[39m: temperature,\n\u001b[0;32m    888\u001b[0m                 \u001b[38;5;124m\"\u001b[39m\u001b[38;5;124mtool_choice\u001b[39m\u001b[38;5;124m\"\u001b[39m: tool_choice,\n\u001b[0;32m    889\u001b[0m                 \u001b[38;5;124m\"\u001b[39m\u001b[38;5;124mtools\u001b[39m\u001b[38;5;124m\"\u001b[39m: tools,\n\u001b[0;32m    890\u001b[0m                 \u001b[38;5;124m\"\u001b[39m\u001b[38;5;124mtop_logprobs\u001b[39m\u001b[38;5;124m\"\u001b[39m: top_logprobs,\n\u001b[0;32m    891\u001b[0m                 \u001b[38;5;124m\"\u001b[39m\u001b[38;5;124mtop_p\u001b[39m\u001b[38;5;124m\"\u001b[39m: top_p,\n\u001b[0;32m    892\u001b[0m                 \u001b[38;5;124m\"\u001b[39m\u001b[38;5;124muser\u001b[39m\u001b[38;5;124m\"\u001b[39m: user,\n\u001b[0;32m    893\u001b[0m             },\n\u001b[0;32m    894\u001b[0m             completion_create_params\u001b[38;5;241m.\u001b[39mCompletionCreateParams,\n\u001b[0;32m    895\u001b[0m         ),\n\u001b[0;32m    896\u001b[0m         options\u001b[38;5;241m=\u001b[39mmake_request_options(\n\u001b[0;32m    897\u001b[0m             extra_headers\u001b[38;5;241m=\u001b[39mextra_headers, extra_query\u001b[38;5;241m=\u001b[39mextra_query, extra_body\u001b[38;5;241m=\u001b[39mextra_body, timeout\u001b[38;5;241m=\u001b[39mtimeout\n\u001b[0;32m    898\u001b[0m         ),\n\u001b[0;32m    899\u001b[0m         cast_to\u001b[38;5;241m=\u001b[39mChatCompletion,\n\u001b[0;32m    900\u001b[0m         stream\u001b[38;5;241m=\u001b[39mstream \u001b[38;5;129;01mor\u001b[39;00m \u001b[38;5;28;01mFalse\u001b[39;00m,\n\u001b[0;32m    901\u001b[0m         stream_cls\u001b[38;5;241m=\u001b[39mStream[ChatCompletionChunk],\n\u001b[0;32m    902\u001b[0m     )\n",
      "File \u001b[1;32m~\\anaconda3\\Lib\\site-packages\\openai\\_base_client.py:1283\u001b[0m, in \u001b[0;36mSyncAPIClient.post\u001b[1;34m(self, path, cast_to, body, options, files, stream, stream_cls)\u001b[0m\n\u001b[0;32m   1269\u001b[0m \u001b[38;5;28;01mdef\u001b[39;00m \u001b[38;5;21mpost\u001b[39m(\n\u001b[0;32m   1270\u001b[0m     \u001b[38;5;28mself\u001b[39m,\n\u001b[0;32m   1271\u001b[0m     path: \u001b[38;5;28mstr\u001b[39m,\n\u001b[1;32m   (...)\u001b[0m\n\u001b[0;32m   1278\u001b[0m     stream_cls: \u001b[38;5;28mtype\u001b[39m[_StreamT] \u001b[38;5;241m|\u001b[39m \u001b[38;5;28;01mNone\u001b[39;00m \u001b[38;5;241m=\u001b[39m \u001b[38;5;28;01mNone\u001b[39;00m,\n\u001b[0;32m   1279\u001b[0m ) \u001b[38;5;241m-\u001b[39m\u001b[38;5;241m>\u001b[39m ResponseT \u001b[38;5;241m|\u001b[39m _StreamT:\n\u001b[0;32m   1280\u001b[0m     opts \u001b[38;5;241m=\u001b[39m FinalRequestOptions\u001b[38;5;241m.\u001b[39mconstruct(\n\u001b[0;32m   1281\u001b[0m         method\u001b[38;5;241m=\u001b[39m\u001b[38;5;124m\"\u001b[39m\u001b[38;5;124mpost\u001b[39m\u001b[38;5;124m\"\u001b[39m, url\u001b[38;5;241m=\u001b[39mpath, json_data\u001b[38;5;241m=\u001b[39mbody, files\u001b[38;5;241m=\u001b[39mto_httpx_files(files), \u001b[38;5;241m*\u001b[39m\u001b[38;5;241m*\u001b[39moptions\n\u001b[0;32m   1282\u001b[0m     )\n\u001b[1;32m-> 1283\u001b[0m     \u001b[38;5;28;01mreturn\u001b[39;00m cast(ResponseT, \u001b[38;5;28mself\u001b[39m\u001b[38;5;241m.\u001b[39mrequest(cast_to, opts, stream\u001b[38;5;241m=\u001b[39mstream, stream_cls\u001b[38;5;241m=\u001b[39mstream_cls))\n",
      "File \u001b[1;32m~\\anaconda3\\Lib\\site-packages\\openai\\_base_client.py:960\u001b[0m, in \u001b[0;36mSyncAPIClient.request\u001b[1;34m(self, cast_to, options, remaining_retries, stream, stream_cls)\u001b[0m\n\u001b[0;32m    957\u001b[0m \u001b[38;5;28;01melse\u001b[39;00m:\n\u001b[0;32m    958\u001b[0m     retries_taken \u001b[38;5;241m=\u001b[39m \u001b[38;5;241m0\u001b[39m\n\u001b[1;32m--> 960\u001b[0m \u001b[38;5;28;01mreturn\u001b[39;00m \u001b[38;5;28mself\u001b[39m\u001b[38;5;241m.\u001b[39m_request(\n\u001b[0;32m    961\u001b[0m     cast_to\u001b[38;5;241m=\u001b[39mcast_to,\n\u001b[0;32m    962\u001b[0m     options\u001b[38;5;241m=\u001b[39moptions,\n\u001b[0;32m    963\u001b[0m     stream\u001b[38;5;241m=\u001b[39mstream,\n\u001b[0;32m    964\u001b[0m     stream_cls\u001b[38;5;241m=\u001b[39mstream_cls,\n\u001b[0;32m    965\u001b[0m     retries_taken\u001b[38;5;241m=\u001b[39mretries_taken,\n\u001b[0;32m    966\u001b[0m )\n",
      "File \u001b[1;32m~\\anaconda3\\Lib\\site-packages\\openai\\_base_client.py:996\u001b[0m, in \u001b[0;36mSyncAPIClient._request\u001b[1;34m(self, cast_to, options, retries_taken, stream, stream_cls)\u001b[0m\n\u001b[0;32m    993\u001b[0m log\u001b[38;5;241m.\u001b[39mdebug(\u001b[38;5;124m\"\u001b[39m\u001b[38;5;124mSending HTTP Request: \u001b[39m\u001b[38;5;132;01m%s\u001b[39;00m\u001b[38;5;124m \u001b[39m\u001b[38;5;132;01m%s\u001b[39;00m\u001b[38;5;124m\"\u001b[39m, request\u001b[38;5;241m.\u001b[39mmethod, request\u001b[38;5;241m.\u001b[39murl)\n\u001b[0;32m    995\u001b[0m \u001b[38;5;28;01mtry\u001b[39;00m:\n\u001b[1;32m--> 996\u001b[0m     response \u001b[38;5;241m=\u001b[39m \u001b[38;5;28mself\u001b[39m\u001b[38;5;241m.\u001b[39m_client\u001b[38;5;241m.\u001b[39msend(\n\u001b[0;32m    997\u001b[0m         request,\n\u001b[0;32m    998\u001b[0m         stream\u001b[38;5;241m=\u001b[39mstream \u001b[38;5;129;01mor\u001b[39;00m \u001b[38;5;28mself\u001b[39m\u001b[38;5;241m.\u001b[39m_should_stream_response_body(request\u001b[38;5;241m=\u001b[39mrequest),\n\u001b[0;32m    999\u001b[0m         \u001b[38;5;241m*\u001b[39m\u001b[38;5;241m*\u001b[39mkwargs,\n\u001b[0;32m   1000\u001b[0m     )\n\u001b[0;32m   1001\u001b[0m \u001b[38;5;28;01mexcept\u001b[39;00m httpx\u001b[38;5;241m.\u001b[39mTimeoutException \u001b[38;5;28;01mas\u001b[39;00m err:\n\u001b[0;32m   1002\u001b[0m     log\u001b[38;5;241m.\u001b[39mdebug(\u001b[38;5;124m\"\u001b[39m\u001b[38;5;124mEncountered httpx.TimeoutException\u001b[39m\u001b[38;5;124m\"\u001b[39m, exc_info\u001b[38;5;241m=\u001b[39m\u001b[38;5;28;01mTrue\u001b[39;00m)\n",
      "File \u001b[1;32m~\\anaconda3\\Lib\\site-packages\\httpx\\_client.py:914\u001b[0m, in \u001b[0;36mClient.send\u001b[1;34m(self, request, stream, auth, follow_redirects)\u001b[0m\n\u001b[0;32m    906\u001b[0m follow_redirects \u001b[38;5;241m=\u001b[39m (\n\u001b[0;32m    907\u001b[0m     \u001b[38;5;28mself\u001b[39m\u001b[38;5;241m.\u001b[39mfollow_redirects\n\u001b[0;32m    908\u001b[0m     \u001b[38;5;28;01mif\u001b[39;00m \u001b[38;5;28misinstance\u001b[39m(follow_redirects, UseClientDefault)\n\u001b[0;32m    909\u001b[0m     \u001b[38;5;28;01melse\u001b[39;00m follow_redirects\n\u001b[0;32m    910\u001b[0m )\n\u001b[0;32m    912\u001b[0m auth \u001b[38;5;241m=\u001b[39m \u001b[38;5;28mself\u001b[39m\u001b[38;5;241m.\u001b[39m_build_request_auth(request, auth)\n\u001b[1;32m--> 914\u001b[0m response \u001b[38;5;241m=\u001b[39m \u001b[38;5;28mself\u001b[39m\u001b[38;5;241m.\u001b[39m_send_handling_auth(\n\u001b[0;32m    915\u001b[0m     request,\n\u001b[0;32m    916\u001b[0m     auth\u001b[38;5;241m=\u001b[39mauth,\n\u001b[0;32m    917\u001b[0m     follow_redirects\u001b[38;5;241m=\u001b[39mfollow_redirects,\n\u001b[0;32m    918\u001b[0m     history\u001b[38;5;241m=\u001b[39m[],\n\u001b[0;32m    919\u001b[0m )\n\u001b[0;32m    920\u001b[0m \u001b[38;5;28;01mtry\u001b[39;00m:\n\u001b[0;32m    921\u001b[0m     \u001b[38;5;28;01mif\u001b[39;00m \u001b[38;5;129;01mnot\u001b[39;00m stream:\n",
      "File \u001b[1;32m~\\anaconda3\\Lib\\site-packages\\httpx\\_client.py:942\u001b[0m, in \u001b[0;36mClient._send_handling_auth\u001b[1;34m(self, request, auth, follow_redirects, history)\u001b[0m\n\u001b[0;32m    939\u001b[0m request \u001b[38;5;241m=\u001b[39m \u001b[38;5;28mnext\u001b[39m(auth_flow)\n\u001b[0;32m    941\u001b[0m \u001b[38;5;28;01mwhile\u001b[39;00m \u001b[38;5;28;01mTrue\u001b[39;00m:\n\u001b[1;32m--> 942\u001b[0m     response \u001b[38;5;241m=\u001b[39m \u001b[38;5;28mself\u001b[39m\u001b[38;5;241m.\u001b[39m_send_handling_redirects(\n\u001b[0;32m    943\u001b[0m         request,\n\u001b[0;32m    944\u001b[0m         follow_redirects\u001b[38;5;241m=\u001b[39mfollow_redirects,\n\u001b[0;32m    945\u001b[0m         history\u001b[38;5;241m=\u001b[39mhistory,\n\u001b[0;32m    946\u001b[0m     )\n\u001b[0;32m    947\u001b[0m     \u001b[38;5;28;01mtry\u001b[39;00m:\n\u001b[0;32m    948\u001b[0m         \u001b[38;5;28;01mtry\u001b[39;00m:\n",
      "File \u001b[1;32m~\\anaconda3\\Lib\\site-packages\\httpx\\_client.py:979\u001b[0m, in \u001b[0;36mClient._send_handling_redirects\u001b[1;34m(self, request, follow_redirects, history)\u001b[0m\n\u001b[0;32m    976\u001b[0m \u001b[38;5;28;01mfor\u001b[39;00m hook \u001b[38;5;129;01min\u001b[39;00m \u001b[38;5;28mself\u001b[39m\u001b[38;5;241m.\u001b[39m_event_hooks[\u001b[38;5;124m\"\u001b[39m\u001b[38;5;124mrequest\u001b[39m\u001b[38;5;124m\"\u001b[39m]:\n\u001b[0;32m    977\u001b[0m     hook(request)\n\u001b[1;32m--> 979\u001b[0m response \u001b[38;5;241m=\u001b[39m \u001b[38;5;28mself\u001b[39m\u001b[38;5;241m.\u001b[39m_send_single_request(request)\n\u001b[0;32m    980\u001b[0m \u001b[38;5;28;01mtry\u001b[39;00m:\n\u001b[0;32m    981\u001b[0m     \u001b[38;5;28;01mfor\u001b[39;00m hook \u001b[38;5;129;01min\u001b[39;00m \u001b[38;5;28mself\u001b[39m\u001b[38;5;241m.\u001b[39m_event_hooks[\u001b[38;5;124m\"\u001b[39m\u001b[38;5;124mresponse\u001b[39m\u001b[38;5;124m\"\u001b[39m]:\n",
      "File \u001b[1;32m~\\anaconda3\\Lib\\site-packages\\httpx\\_client.py:1015\u001b[0m, in \u001b[0;36mClient._send_single_request\u001b[1;34m(self, request)\u001b[0m\n\u001b[0;32m   1010\u001b[0m     \u001b[38;5;28;01mraise\u001b[39;00m \u001b[38;5;167;01mRuntimeError\u001b[39;00m(\n\u001b[0;32m   1011\u001b[0m         \u001b[38;5;124m\"\u001b[39m\u001b[38;5;124mAttempted to send an async request with a sync Client instance.\u001b[39m\u001b[38;5;124m\"\u001b[39m\n\u001b[0;32m   1012\u001b[0m     )\n\u001b[0;32m   1014\u001b[0m \u001b[38;5;28;01mwith\u001b[39;00m request_context(request\u001b[38;5;241m=\u001b[39mrequest):\n\u001b[1;32m-> 1015\u001b[0m     response \u001b[38;5;241m=\u001b[39m transport\u001b[38;5;241m.\u001b[39mhandle_request(request)\n\u001b[0;32m   1017\u001b[0m \u001b[38;5;28;01massert\u001b[39;00m \u001b[38;5;28misinstance\u001b[39m(response\u001b[38;5;241m.\u001b[39mstream, SyncByteStream)\n\u001b[0;32m   1019\u001b[0m response\u001b[38;5;241m.\u001b[39mrequest \u001b[38;5;241m=\u001b[39m request\n",
      "File \u001b[1;32m~\\anaconda3\\Lib\\site-packages\\httpx\\_transports\\default.py:233\u001b[0m, in \u001b[0;36mHTTPTransport.handle_request\u001b[1;34m(self, request)\u001b[0m\n\u001b[0;32m    220\u001b[0m req \u001b[38;5;241m=\u001b[39m httpcore\u001b[38;5;241m.\u001b[39mRequest(\n\u001b[0;32m    221\u001b[0m     method\u001b[38;5;241m=\u001b[39mrequest\u001b[38;5;241m.\u001b[39mmethod,\n\u001b[0;32m    222\u001b[0m     url\u001b[38;5;241m=\u001b[39mhttpcore\u001b[38;5;241m.\u001b[39mURL(\n\u001b[1;32m   (...)\u001b[0m\n\u001b[0;32m    230\u001b[0m     extensions\u001b[38;5;241m=\u001b[39mrequest\u001b[38;5;241m.\u001b[39mextensions,\n\u001b[0;32m    231\u001b[0m )\n\u001b[0;32m    232\u001b[0m \u001b[38;5;28;01mwith\u001b[39;00m map_httpcore_exceptions():\n\u001b[1;32m--> 233\u001b[0m     resp \u001b[38;5;241m=\u001b[39m \u001b[38;5;28mself\u001b[39m\u001b[38;5;241m.\u001b[39m_pool\u001b[38;5;241m.\u001b[39mhandle_request(req)\n\u001b[0;32m    235\u001b[0m \u001b[38;5;28;01massert\u001b[39;00m \u001b[38;5;28misinstance\u001b[39m(resp\u001b[38;5;241m.\u001b[39mstream, typing\u001b[38;5;241m.\u001b[39mIterable)\n\u001b[0;32m    237\u001b[0m \u001b[38;5;28;01mreturn\u001b[39;00m Response(\n\u001b[0;32m    238\u001b[0m     status_code\u001b[38;5;241m=\u001b[39mresp\u001b[38;5;241m.\u001b[39mstatus,\n\u001b[0;32m    239\u001b[0m     headers\u001b[38;5;241m=\u001b[39mresp\u001b[38;5;241m.\u001b[39mheaders,\n\u001b[0;32m    240\u001b[0m     stream\u001b[38;5;241m=\u001b[39mResponseStream(resp\u001b[38;5;241m.\u001b[39mstream),\n\u001b[0;32m    241\u001b[0m     extensions\u001b[38;5;241m=\u001b[39mresp\u001b[38;5;241m.\u001b[39mextensions,\n\u001b[0;32m    242\u001b[0m )\n",
      "File \u001b[1;32m~\\anaconda3\\Lib\\site-packages\\httpcore\\_sync\\connection_pool.py:268\u001b[0m, in \u001b[0;36mConnectionPool.handle_request\u001b[1;34m(self, request)\u001b[0m\n\u001b[0;32m    266\u001b[0m     \u001b[38;5;28;01mwith\u001b[39;00m ShieldCancellation():\n\u001b[0;32m    267\u001b[0m         \u001b[38;5;28mself\u001b[39m\u001b[38;5;241m.\u001b[39mresponse_closed(status)\n\u001b[1;32m--> 268\u001b[0m     \u001b[38;5;28;01mraise\u001b[39;00m exc\n\u001b[0;32m    269\u001b[0m \u001b[38;5;28;01melse\u001b[39;00m:\n\u001b[0;32m    270\u001b[0m     \u001b[38;5;28;01mbreak\u001b[39;00m\n",
      "File \u001b[1;32m~\\anaconda3\\Lib\\site-packages\\httpcore\\_sync\\connection_pool.py:251\u001b[0m, in \u001b[0;36mConnectionPool.handle_request\u001b[1;34m(self, request)\u001b[0m\n\u001b[0;32m    248\u001b[0m         \u001b[38;5;28;01mraise\u001b[39;00m exc\n\u001b[0;32m    250\u001b[0m \u001b[38;5;28;01mtry\u001b[39;00m:\n\u001b[1;32m--> 251\u001b[0m     response \u001b[38;5;241m=\u001b[39m connection\u001b[38;5;241m.\u001b[39mhandle_request(request)\n\u001b[0;32m    252\u001b[0m \u001b[38;5;28;01mexcept\u001b[39;00m ConnectionNotAvailable:\n\u001b[0;32m    253\u001b[0m     \u001b[38;5;66;03m# The ConnectionNotAvailable exception is a special case, that\u001b[39;00m\n\u001b[0;32m    254\u001b[0m     \u001b[38;5;66;03m# indicates we need to retry the request on a new connection.\u001b[39;00m\n\u001b[1;32m   (...)\u001b[0m\n\u001b[0;32m    258\u001b[0m     \u001b[38;5;66;03m# might end up as an HTTP/2 connection, but which actually ends\u001b[39;00m\n\u001b[0;32m    259\u001b[0m     \u001b[38;5;66;03m# up as HTTP/1.1.\u001b[39;00m\n\u001b[0;32m    260\u001b[0m     \u001b[38;5;28;01mwith\u001b[39;00m \u001b[38;5;28mself\u001b[39m\u001b[38;5;241m.\u001b[39m_pool_lock:\n\u001b[0;32m    261\u001b[0m         \u001b[38;5;66;03m# Maintain our position in the request queue, but reset the\u001b[39;00m\n\u001b[0;32m    262\u001b[0m         \u001b[38;5;66;03m# status so that the request becomes queued again.\u001b[39;00m\n",
      "File \u001b[1;32m~\\anaconda3\\Lib\\site-packages\\httpcore\\_sync\\connection.py:103\u001b[0m, in \u001b[0;36mHTTPConnection.handle_request\u001b[1;34m(self, request)\u001b[0m\n\u001b[0;32m    100\u001b[0m     \u001b[38;5;28;01melif\u001b[39;00m \u001b[38;5;129;01mnot\u001b[39;00m \u001b[38;5;28mself\u001b[39m\u001b[38;5;241m.\u001b[39m_connection\u001b[38;5;241m.\u001b[39mis_available():\n\u001b[0;32m    101\u001b[0m         \u001b[38;5;28;01mraise\u001b[39;00m ConnectionNotAvailable()\n\u001b[1;32m--> 103\u001b[0m \u001b[38;5;28;01mreturn\u001b[39;00m \u001b[38;5;28mself\u001b[39m\u001b[38;5;241m.\u001b[39m_connection\u001b[38;5;241m.\u001b[39mhandle_request(request)\n",
      "File \u001b[1;32m~\\anaconda3\\Lib\\site-packages\\httpcore\\_sync\\http11.py:133\u001b[0m, in \u001b[0;36mHTTP11Connection.handle_request\u001b[1;34m(self, request)\u001b[0m\n\u001b[0;32m    131\u001b[0m     \u001b[38;5;28;01mwith\u001b[39;00m Trace(\u001b[38;5;124m\"\u001b[39m\u001b[38;5;124mresponse_closed\u001b[39m\u001b[38;5;124m\"\u001b[39m, logger, request) \u001b[38;5;28;01mas\u001b[39;00m trace:\n\u001b[0;32m    132\u001b[0m         \u001b[38;5;28mself\u001b[39m\u001b[38;5;241m.\u001b[39m_response_closed()\n\u001b[1;32m--> 133\u001b[0m \u001b[38;5;28;01mraise\u001b[39;00m exc\n",
      "File \u001b[1;32m~\\anaconda3\\Lib\\site-packages\\httpcore\\_sync\\http11.py:111\u001b[0m, in \u001b[0;36mHTTP11Connection.handle_request\u001b[1;34m(self, request)\u001b[0m\n\u001b[0;32m    101\u001b[0m     \u001b[38;5;28;01mpass\u001b[39;00m\n\u001b[0;32m    103\u001b[0m \u001b[38;5;28;01mwith\u001b[39;00m Trace(\n\u001b[0;32m    104\u001b[0m     \u001b[38;5;124m\"\u001b[39m\u001b[38;5;124mreceive_response_headers\u001b[39m\u001b[38;5;124m\"\u001b[39m, logger, request, kwargs\n\u001b[0;32m    105\u001b[0m ) \u001b[38;5;28;01mas\u001b[39;00m trace:\n\u001b[0;32m    106\u001b[0m     (\n\u001b[0;32m    107\u001b[0m         http_version,\n\u001b[0;32m    108\u001b[0m         status,\n\u001b[0;32m    109\u001b[0m         reason_phrase,\n\u001b[0;32m    110\u001b[0m         headers,\n\u001b[1;32m--> 111\u001b[0m     ) \u001b[38;5;241m=\u001b[39m \u001b[38;5;28mself\u001b[39m\u001b[38;5;241m.\u001b[39m_receive_response_headers(\u001b[38;5;241m*\u001b[39m\u001b[38;5;241m*\u001b[39mkwargs)\n\u001b[0;32m    112\u001b[0m     trace\u001b[38;5;241m.\u001b[39mreturn_value \u001b[38;5;241m=\u001b[39m (\n\u001b[0;32m    113\u001b[0m         http_version,\n\u001b[0;32m    114\u001b[0m         status,\n\u001b[0;32m    115\u001b[0m         reason_phrase,\n\u001b[0;32m    116\u001b[0m         headers,\n\u001b[0;32m    117\u001b[0m     )\n\u001b[0;32m    119\u001b[0m \u001b[38;5;28;01mreturn\u001b[39;00m Response(\n\u001b[0;32m    120\u001b[0m     status\u001b[38;5;241m=\u001b[39mstatus,\n\u001b[0;32m    121\u001b[0m     headers\u001b[38;5;241m=\u001b[39mheaders,\n\u001b[1;32m   (...)\u001b[0m\n\u001b[0;32m    127\u001b[0m     },\n\u001b[0;32m    128\u001b[0m )\n",
      "File \u001b[1;32m~\\anaconda3\\Lib\\site-packages\\httpcore\\_sync\\http11.py:176\u001b[0m, in \u001b[0;36mHTTP11Connection._receive_response_headers\u001b[1;34m(self, request)\u001b[0m\n\u001b[0;32m    173\u001b[0m timeout \u001b[38;5;241m=\u001b[39m timeouts\u001b[38;5;241m.\u001b[39mget(\u001b[38;5;124m\"\u001b[39m\u001b[38;5;124mread\u001b[39m\u001b[38;5;124m\"\u001b[39m, \u001b[38;5;28;01mNone\u001b[39;00m)\n\u001b[0;32m    175\u001b[0m \u001b[38;5;28;01mwhile\u001b[39;00m \u001b[38;5;28;01mTrue\u001b[39;00m:\n\u001b[1;32m--> 176\u001b[0m     event \u001b[38;5;241m=\u001b[39m \u001b[38;5;28mself\u001b[39m\u001b[38;5;241m.\u001b[39m_receive_event(timeout\u001b[38;5;241m=\u001b[39mtimeout)\n\u001b[0;32m    177\u001b[0m     \u001b[38;5;28;01mif\u001b[39;00m \u001b[38;5;28misinstance\u001b[39m(event, h11\u001b[38;5;241m.\u001b[39mResponse):\n\u001b[0;32m    178\u001b[0m         \u001b[38;5;28;01mbreak\u001b[39;00m\n",
      "File \u001b[1;32m~\\anaconda3\\Lib\\site-packages\\httpcore\\_sync\\http11.py:212\u001b[0m, in \u001b[0;36mHTTP11Connection._receive_event\u001b[1;34m(self, timeout)\u001b[0m\n\u001b[0;32m    209\u001b[0m     event \u001b[38;5;241m=\u001b[39m \u001b[38;5;28mself\u001b[39m\u001b[38;5;241m.\u001b[39m_h11_state\u001b[38;5;241m.\u001b[39mnext_event()\n\u001b[0;32m    211\u001b[0m \u001b[38;5;28;01mif\u001b[39;00m event \u001b[38;5;129;01mis\u001b[39;00m h11\u001b[38;5;241m.\u001b[39mNEED_DATA:\n\u001b[1;32m--> 212\u001b[0m     data \u001b[38;5;241m=\u001b[39m \u001b[38;5;28mself\u001b[39m\u001b[38;5;241m.\u001b[39m_network_stream\u001b[38;5;241m.\u001b[39mread(\n\u001b[0;32m    213\u001b[0m         \u001b[38;5;28mself\u001b[39m\u001b[38;5;241m.\u001b[39mREAD_NUM_BYTES, timeout\u001b[38;5;241m=\u001b[39mtimeout\n\u001b[0;32m    214\u001b[0m     )\n\u001b[0;32m    216\u001b[0m     \u001b[38;5;66;03m# If we feed this case through h11 we'll raise an exception like:\u001b[39;00m\n\u001b[0;32m    217\u001b[0m     \u001b[38;5;66;03m#\u001b[39;00m\n\u001b[0;32m    218\u001b[0m     \u001b[38;5;66;03m#     httpcore.RemoteProtocolError: can't handle event type\u001b[39;00m\n\u001b[1;32m   (...)\u001b[0m\n\u001b[0;32m    222\u001b[0m     \u001b[38;5;66;03m# perspective. Instead we handle this case distinctly and treat\u001b[39;00m\n\u001b[0;32m    223\u001b[0m     \u001b[38;5;66;03m# it as a ConnectError.\u001b[39;00m\n\u001b[0;32m    224\u001b[0m     \u001b[38;5;28;01mif\u001b[39;00m data \u001b[38;5;241m==\u001b[39m \u001b[38;5;124mb\u001b[39m\u001b[38;5;124m\"\u001b[39m\u001b[38;5;124m\"\u001b[39m \u001b[38;5;129;01mand\u001b[39;00m \u001b[38;5;28mself\u001b[39m\u001b[38;5;241m.\u001b[39m_h11_state\u001b[38;5;241m.\u001b[39mtheir_state \u001b[38;5;241m==\u001b[39m h11\u001b[38;5;241m.\u001b[39mSEND_RESPONSE:\n",
      "File \u001b[1;32m~\\anaconda3\\Lib\\site-packages\\httpcore\\_backends\\sync.py:126\u001b[0m, in \u001b[0;36mSyncStream.read\u001b[1;34m(self, max_bytes, timeout)\u001b[0m\n\u001b[0;32m    124\u001b[0m \u001b[38;5;28;01mwith\u001b[39;00m map_exceptions(exc_map):\n\u001b[0;32m    125\u001b[0m     \u001b[38;5;28mself\u001b[39m\u001b[38;5;241m.\u001b[39m_sock\u001b[38;5;241m.\u001b[39msettimeout(timeout)\n\u001b[1;32m--> 126\u001b[0m     \u001b[38;5;28;01mreturn\u001b[39;00m \u001b[38;5;28mself\u001b[39m\u001b[38;5;241m.\u001b[39m_sock\u001b[38;5;241m.\u001b[39mrecv(max_bytes)\n",
      "File \u001b[1;32m~\\anaconda3\\Lib\\ssl.py:1232\u001b[0m, in \u001b[0;36mSSLSocket.recv\u001b[1;34m(self, buflen, flags)\u001b[0m\n\u001b[0;32m   1228\u001b[0m     \u001b[38;5;28;01mif\u001b[39;00m flags \u001b[38;5;241m!=\u001b[39m \u001b[38;5;241m0\u001b[39m:\n\u001b[0;32m   1229\u001b[0m         \u001b[38;5;28;01mraise\u001b[39;00m \u001b[38;5;167;01mValueError\u001b[39;00m(\n\u001b[0;32m   1230\u001b[0m             \u001b[38;5;124m\"\u001b[39m\u001b[38;5;124mnon-zero flags not allowed in calls to recv() on \u001b[39m\u001b[38;5;132;01m%s\u001b[39;00m\u001b[38;5;124m\"\u001b[39m \u001b[38;5;241m%\u001b[39m\n\u001b[0;32m   1231\u001b[0m             \u001b[38;5;28mself\u001b[39m\u001b[38;5;241m.\u001b[39m\u001b[38;5;18m__class__\u001b[39m)\n\u001b[1;32m-> 1232\u001b[0m     \u001b[38;5;28;01mreturn\u001b[39;00m \u001b[38;5;28mself\u001b[39m\u001b[38;5;241m.\u001b[39mread(buflen)\n\u001b[0;32m   1233\u001b[0m \u001b[38;5;28;01melse\u001b[39;00m:\n\u001b[0;32m   1234\u001b[0m     \u001b[38;5;28;01mreturn\u001b[39;00m \u001b[38;5;28msuper\u001b[39m()\u001b[38;5;241m.\u001b[39mrecv(buflen, flags)\n",
      "File \u001b[1;32m~\\anaconda3\\Lib\\ssl.py:1105\u001b[0m, in \u001b[0;36mSSLSocket.read\u001b[1;34m(self, len, buffer)\u001b[0m\n\u001b[0;32m   1103\u001b[0m         \u001b[38;5;28;01mreturn\u001b[39;00m \u001b[38;5;28mself\u001b[39m\u001b[38;5;241m.\u001b[39m_sslobj\u001b[38;5;241m.\u001b[39mread(\u001b[38;5;28mlen\u001b[39m, buffer)\n\u001b[0;32m   1104\u001b[0m     \u001b[38;5;28;01melse\u001b[39;00m:\n\u001b[1;32m-> 1105\u001b[0m         \u001b[38;5;28;01mreturn\u001b[39;00m \u001b[38;5;28mself\u001b[39m\u001b[38;5;241m.\u001b[39m_sslobj\u001b[38;5;241m.\u001b[39mread(\u001b[38;5;28mlen\u001b[39m)\n\u001b[0;32m   1106\u001b[0m \u001b[38;5;28;01mexcept\u001b[39;00m SSLError \u001b[38;5;28;01mas\u001b[39;00m x:\n\u001b[0;32m   1107\u001b[0m     \u001b[38;5;28;01mif\u001b[39;00m x\u001b[38;5;241m.\u001b[39margs[\u001b[38;5;241m0\u001b[39m] \u001b[38;5;241m==\u001b[39m SSL_ERROR_EOF \u001b[38;5;129;01mand\u001b[39;00m \u001b[38;5;28mself\u001b[39m\u001b[38;5;241m.\u001b[39msuppress_ragged_eofs:\n",
      "\u001b[1;31mKeyboardInterrupt\u001b[0m: "
     ]
    }
   ],
   "source": [
    "import re\n",
    "import numpy as np\n",
    "from tqdm import tqdm\n",
    "\n",
    "\n",
    "custom_prompt = NSFWPrompt\n",
    "\n",
    "word_classifications = {}\n",
    "rows = []\n",
    "\n",
    "Classprompt = custom_prompt\n",
    "Numprompt = custom_prompt\n",
    "\n",
    "Classprompt = re.sub(r'[^a-zA-Z\\s]', '', Classprompt)  \n",
    "Numprompt = re.sub(r'[^a-zA-Z\\s]', '', Numprompt)\n",
    "\n",
    "for word in re.findall(r'\\b\\w+\\b', Classprompt):\n",
    "    if word not in word_classifications:\n",
    "        classification_value = classify_word(word)  \n",
    "        numeric_value, interpreted_word = numberify(word)  \n",
    "        word_classifications[word] = {'Classification': classification_value, \n",
    "                                       'Number': numeric_value, 'NumericInterpretedWord': interpreted_word}\n",
    "    else:\n",
    "        classification_value = word_classifications[word]['Classification']\n",
    "        numeric_value = word_classifications[word]['Number']\n",
    "    \n",
    "    Classprompt = re.sub(r'\\b' + re.escape(word) + r'\\b', str(classification_value), Classprompt)\n",
    "    Numprompt = re.sub(r'\\b' + re.escape(word) + r'\\b', str(numeric_value), Numprompt)\n",
    "\n",
    "print(\"Processed Classprompt:\", Classprompt)\n",
    "print(\"Processed Numprompt:\", Numprompt)\n",
    "\n",
    "Class_3_count = Classprompt.count('3')\n",
    "Class_2_count = Classprompt.count('2')\n",
    "Class_1_count = Classprompt.count('1')\n",
    "\n",
    "Class_Sum_count = Class_3_count + Class_2_count + Class_1_count\n",
    "\n",
    "Guess_allowed = 1  \n",
    "if Class_3_count > 4 or Class_2_count > 4 or Class_1_count > 4 or Class_Sum_count > 4:\n",
    "    Guess_allowed = 0\n",
    "\n",
    "Numbers = list(map(int, re.findall(r'\\d+', Numprompt)))\n",
    "Average_Number = sum(Numbers)/len(Numbers) if Numbers else 0\n",
    "\n",
    "if Average_Number > 50000000:\n",
    "    Guess_allowed = 0\n",
    "elif any(num > 60000000 for num in Numbers):\n",
    "    Guess_allowed = 0\n",
    "\n",
    "print(f\"Guess allowed: {Guess_allowed}\")\n",
    "\n",
    "actual_allowed = 0\n",
    "\n",
    "if Guess_allowed == actual_allowed:\n",
    "    print(\"Filter is correct.\")\n",
    "else:\n",
    "    print(\"Filter is incorrect.\")\n",
    "\n",
    "def preprocess_custom_prompt(prompt):\n",
    "    numbers = re.findall(r'\\d+', prompt)\n",
    "    \n",
    "    numbers = list(map(int, numbers))\n",
    "    \n",
    "    sum_of_numbers = sum(numbers) if numbers else 0\n",
    "    \n",
    "    return np.array([[sum_of_numbers]])\n",
    "\n",
    "X_custom = preprocess_custom_prompt(custom_prompt)\n",
    "\n",
    "knn = KNeighborsClassifier(n_neighbors=2)\n",
    "knn.fit(X_train, y_train)\n",
    "custom_prediction = knn.predict(X_custom)\n",
    "if custom_prediction == actual_allowed:\n",
    "    print(\"KNN Prediction is correct.\")\n",
    "else:\n",
    "    print(\"KNN Prediction is incorrect.\")\n",
    "print(f\"KNN Prediction for the custom prompt: {custom_prediction[0]}\")\n"
   ]
  },
  {
   "cell_type": "code",
   "execution_count": null,
   "id": "dc803c05-62ca-45cd-9dff-9475fb18c18f",
   "metadata": {},
   "outputs": [],
   "source": [
    "import re\n",
    "import numpy as np\n",
    "from tqdm import tqdm\n",
    "\n",
    "\n",
    "custom_prompt = SafePrompt\n",
    "\n",
    "word_classifications = {}\n",
    "rows = []\n",
    "\n",
    "Classprompt = custom_prompt\n",
    "Numprompt = custom_prompt\n",
    "\n",
    "Classprompt = re.sub(r'[^a-zA-Z\\s]', '', Classprompt)  \n",
    "Numprompt = re.sub(r'[^a-zA-Z\\s]', '', Numprompt)\n",
    "\n",
    "for word in re.findall(r'\\b\\w+\\b', Classprompt): \n",
    "    if word not in word_classifications:\n",
    "        classification_value = classify_word(word)  \n",
    "        numeric_value, interpreted_word = numberify(word) \n",
    "        word_classifications[word] = {'Classification': classification_value, \n",
    "                                       'Number': numeric_value, 'NumericInterpretedWord': interpreted_word}\n",
    "    else:\n",
    "        classification_value = word_classifications[word]['Classification']\n",
    "        numeric_value = word_classifications[word]['Number']\n",
    "    \n",
    "    Classprompt = re.sub(r'\\b' + re.escape(word) + r'\\b', str(classification_value), Classprompt)\n",
    "    Numprompt = re.sub(r'\\b' + re.escape(word) + r'\\b', str(numeric_value), Numprompt)\n",
    "\n",
    "print(\"Processed Classprompt:\", Classprompt)\n",
    "print(\"Processed Numprompt:\", Numprompt)\n",
    "\n",
    "Class_3_count = Classprompt.count('3')\n",
    "Class_2_count = Classprompt.count('2')\n",
    "Class_1_count = Classprompt.count('1')\n",
    "\n",
    "Class_Sum_count = Class_3_count + Class_2_count + Class_1_count\n",
    "\n",
    "Guess_allowed = 1  \n",
    "if Class_3_count > 4 or Class_2_count > 4 or Class_1_count > 4 or Class_Sum_count > 4:\n",
    "    Guess_allowed = 0\n",
    "\n",
    "Numbers = list(map(int, re.findall(r'\\d+', Numprompt)))\n",
    "Average_Number = sum(Numbers)/len(Numbers) if Numbers else 0\n",
    "\n",
    "if Average_Number > 50000000:\n",
    "    Guess_allowed = 0\n",
    "elif any(num > 60000000 for num in Numbers):\n",
    "    Guess_allowed = 0\n",
    "\n",
    "print(f\"Guess allowed: {Guess_allowed}\")\n",
    "\n",
    "\n",
    "actual_allowed = 1  \n",
    "\n",
    "if Guess_allowed == actual_allowed:\n",
    "    print(\"Filter is correct.\")\n",
    "else:\n",
    "    print(\"Filter is incorrect.\")\n",
    "\n",
    "def preprocess_custom_prompt(prompt):\n",
    "    numbers = re.findall(r'\\d+', prompt)\n",
    "    \n",
    "    numbers = list(map(int, numbers))\n",
    "    \n",
    "    sum_of_numbers = sum(numbers) if numbers else 0\n",
    "    \n",
    "    return np.array([[sum_of_numbers]])\n",
    "\n",
    "X_custom = preprocess_custom_prompt(custom_prompt)\n",
    "\n",
    "knn = KNeighborsClassifier(n_neighbors=2)\n",
    "knn.fit(X_train, y_train)\n",
    "custom_prediction = knn.predict(X_custom)\n",
    "if custom_prediction == actual_allowed:\n",
    "    print(\"KNN Prediction is correct.\")\n",
    "else:\n",
    "    print(\"KNN Prediction is incorrect.\")\n",
    "print(f\"KNN Prediction for the custom prompt: {custom_prediction[0]}\")\n"
   ]
  },
  {
   "cell_type": "code",
   "execution_count": 205,
   "id": "d26136e7-6046-4d8a-b406-91307b2725b4",
   "metadata": {},
   "outputs": [],
   "source": [
    "from sklearn.naive_bayes import GaussianNB\n",
    "from sklearn.preprocessing import StandardScaler\n",
    "scaler = StandardScaler()"
   ]
  },
  {
   "cell_type": "code",
   "execution_count": 206,
   "id": "d29bd93d-621c-456a-9ce0-e045463e8eaf",
   "metadata": {},
   "outputs": [],
   "source": [
    "from imblearn.over_sampling import SMOTE\n",
    "\n",
    "smote = SMOTE()\n",
    "X_train_resampled, y_train_resampled = smote.fit_resample(X_train, y_train)"
   ]
  },
  {
   "cell_type": "code",
   "execution_count": 207,
   "id": "a211a55a-ec7c-4ce0-a276-bac3ccd0aa46",
   "metadata": {},
   "outputs": [
    {
     "name": "stdout",
     "output_type": "stream",
     "text": [
      "==================================================\n",
      "Results for Naïve Bayes Classifier\n",
      "==================================================\n",
      "\n",
      "Confusion Matrix:\n",
      "[[  2153    940]\n",
      " [125651 131584]]\n",
      "\n",
      "True Positives (TP): 131584\n",
      "True Negatives (TN): 2153\n",
      "False Positives (FP): 940\n",
      "False Negatives (FN): 125651\n",
      "\n",
      "Accuracy: 51.37%\n",
      "Precision: 99.29%\n",
      "Recall: 51.15%\n",
      "F1 Score: 67.52%\n"
     ]
    },
    {
     "data": {
      "image/png": "[encoded data removed]",
      "text/plain": [
       "<Figure size 1000x600 with 1 Axes>"
      ]
     },
     "metadata": {},
     "output_type": "display_data"
    }
   ],
   "source": [
    "X = df_subset['Numbers'].apply(lambda x: sum(x) if isinstance(x, list) else 0).values.reshape(-1, 1)\n",
    "y = df_subset['allowed']\n",
    "nb = GaussianNB()\n",
    "\n",
    "X_train, X_test, y_train, y_test = train_test_split(X, y, test_size=0.3, random_state=42)\n",
    "X_train_resampled, y_train_resampled = smote.fit_resample(X_train, y_train)\n",
    "nb.fit(X_train_resampled, y_train_resampled)\n",
    "\n",
    "y_pred = nb.predict(X_test)\n",
    "\n",
    "cm = confusion_matrix(y_test, y_pred)\n",
    "tn, fp, fn, tp = cm.ravel()\n",
    "\n",
    "accuracies = [accuracy_score(y_test, y_pred)]\n",
    "tp_values = [tp]\n",
    "tn_values = [tn]\n",
    "fp_values = [fp]\n",
    "fn_values = [fn]\n",
    "\n",
    "print(\"=\"*50)\n",
    "print(\"Results for Naïve Bayes Classifier\")\n",
    "print(\"=\"*50)\n",
    "print(f\"\\nConfusion Matrix:\\n{cm}\")\n",
    "print(f\"\\nTrue Positives (TP): {tp}\")\n",
    "print(f\"True Negatives (TN): {tn}\")\n",
    "print(f\"False Positives (FP): {fp}\")\n",
    "print(f\"False Negatives (FN): {fn}\")\n",
    "\n",
    "precision = tp / (tp + fp) if tp + fp > 0 else 0\n",
    "recall = tp / (tp + fn) if tp + fn > 0 else 0\n",
    "f1_score = 2 * (precision * recall) / (precision + recall) if precision + recall > 0 else 0\n",
    "\n",
    "print(f\"\\nAccuracy: {accuracies[0] * 100:.2f}%\")\n",
    "print(f\"Precision: {precision * 100:.2f}%\")\n",
    "print(f\"Recall: {recall * 100:.2f}%\")\n",
    "print(f\"F1 Score: {f1_score * 100:.2f}%\")\n",
    "\n",
    "fig, ax = plt.subplots(figsize=(10, 6))\n",
    "metrics = ['True Positives', 'True Negatives', 'False Positives', 'False Negatives']\n",
    "values = [tp, tn, fp, fn]\n",
    "colors = ['green', 'blue', 'red', 'orange']\n",
    "\n",
    "ax.bar(metrics, values, color=colors)\n",
    "ax.set_ylabel(\"Count\")\n",
    "ax.set_title(\"Confusion Matrix Breakdown for Naïve Bayes\")\n",
    "ax.grid(axis='y', linestyle='--', alpha=0.7)\n",
    "\n",
    "plt.show()"
   ]
  },
  {
   "cell_type": "code",
   "execution_count": null,
   "id": "8f947e2e-686a-4963-9924-e344bbf5d462",
   "metadata": {},
   "outputs": [
    {
     "name": "stdout",
     "output_type": "stream",
     "text": [
      "==================================================\n",
      "Results for k=1\n",
      "==================================================\n",
      "Accuracy for k=1: 88.07%\n",
      "\n",
      "Confusion Matrix for k=1:\n",
      "[[  1190   1903]\n",
      " [ 29161 228074]]\n",
      "\n",
      "True Positives (TP): 228074\n",
      "True Negatives (TN): 1190\n",
      "False Positives (FP): 1903\n",
      "False Negatives (FN): 29161\n",
      "Precision for k=1: 99.17%\n",
      "Recall for k=1: 88.66%\n",
      "F1 Score for k=1: 93.62%\n",
      "\n",
      "First 5 predictions vs actual values:\n",
      "Sample 1 - Predicted: 1, Actual: 1\n",
      "Sample 2 - Predicted: 0, Actual: 1\n",
      "Sample 3 - Predicted: 1, Actual: 1\n",
      "Sample 4 - Predicted: 1, Actual: 1\n",
      "Sample 5 - Predicted: 1, Actual: 1\n",
      "\n",
      "==================================================\n",
      "\n",
      "==================================================\n",
      "Results for k=2\n",
      "==================================================\n",
      "Accuracy for k=2: 79.85%\n",
      "\n",
      "Confusion Matrix for k=2:\n",
      "[[  1525   1568]\n",
      " [ 50898 206337]]\n",
      "\n",
      "True Positives (TP): 206337\n",
      "True Negatives (TN): 1525\n",
      "False Positives (FP): 1568\n",
      "False Negatives (FN): 50898\n",
      "Precision for k=2: 99.25%\n",
      "Recall for k=2: 80.21%\n",
      "F1 Score for k=2: 88.72%\n",
      "\n",
      "First 5 predictions vs actual values:\n",
      "Sample 1 - Predicted: 1, Actual: 1\n",
      "Sample 2 - Predicted: 0, Actual: 1\n",
      "Sample 3 - Predicted: 0, Actual: 1\n",
      "Sample 4 - Predicted: 1, Actual: 1\n",
      "Sample 5 - Predicted: 1, Actual: 1\n",
      "\n",
      "==================================================\n",
      "\n",
      "==================================================\n",
      "Results for k=3\n",
      "==================================================\n"
     ]
    }
   ],
   "source": [
    "X = df_subset['Numbers'].apply(lambda x: sum(x) if isinstance(x, list) else 0).values.reshape(-1, 1)  # If 'Numbers' is a list, sum them as a feature\n",
    "y = df_subset['allowed']\n",
    "\n",
    "X_train, X_test, y_train, y_test = train_test_split(X, y, test_size=0.3, random_state=42)\n",
    "\n",
    "X_train_resampled, y_train_resampled = smote.fit_resample(X_train, y_train)\n",
    "\n",
    "\n",
    "accuracies, precisions, recalls, f1_scores = [], [], [], []\n",
    "tp_values, tn_values, fp_values, fn_values = [], [], [], []\n",
    "\n",
    "for k in range(1, 13):  \n",
    "    print(\"=\"*50)\n",
    "    print(f\"Results for k={k}\")\n",
    "    print(\"=\"*50)\n",
    "    \n",
    "    knn = KNeighborsClassifier(n_neighbors=k)\n",
    "    knn.fit(X_train_resampled, y_train_resampled)\n",
    "    \n",
    "    y_pred = knn.predict(X_test)\n",
    "    \n",
    "    accuracy = accuracy_score(y_test, y_pred)\n",
    "    print(f'Accuracy for k={k}: {accuracy * 100:.2f}%')\n",
    "    \n",
    "    cm = confusion_matrix(y_test, y_pred)\n",
    "    print(f\"\\nConfusion Matrix for k={k}:\")\n",
    "    print(cm)\n",
    "    \n",
    "    tn, fp, fn, tp = cm.ravel()\n",
    "    \n",
    "    print(f\"\\nTrue Positives (TP): {tp}\")\n",
    "    print(f\"True Negatives (TN): {tn}\")\n",
    "    print(f\"False Positives (FP): {fp}\")\n",
    "    print(f\"False Negatives (FN): {fn}\")\n",
    "    \n",
    "    precision = tp / (tp + fp) if tp + fp > 0 else 0\n",
    "    recall = tp / (tp + fn) if tp + fn > 0 else 0\n",
    "    f1_score = 2 * (precision * recall) / (precision + recall) if precision + recall > 0 else 0\n",
    "    accuracies.append(accuracy)\n",
    "    precisions.append(precision)\n",
    "    recalls.append(recall)\n",
    "    f1_scores.append(f1_score)\n",
    "    tp_values.append(tp)\n",
    "    tn_values.append(tn)\n",
    "    fp_values.append(fp)\n",
    "    fn_values.append(fn)\n",
    "    print(f\"Precision for k={k}: {precision * 100:.2f}%\")\n",
    "    print(f\"Recall for k={k}: {recall * 100:.2f}%\")\n",
    "    print(f\"F1 Score for k={k}: {f1_score * 100:.2f}%\")\n",
    "    \n",
    "    print(\"\\nFirst 5 predictions vs actual values:\")\n",
    "    for i in range(5):\n",
    "        print(f\"Sample {i+1} - Predicted: {y_pred[i]}, Actual: {y_test.iloc[i]}\")\n",
    "    \n",
    "    print(\"\\n\" + \"=\"*50 + \"\\n\")\n",
    "k_values = list(range(1, 13))\n",
    "\n",
    "fig, axes = plt.subplots(3, 2, figsize=(12, 12)) \n",
    "\n",
    "metrics = [\n",
    "    (tp_values, \"True Positives\", \"green\", \"o\"),\n",
    "    (tn_values, \"True Negatives\", \"blue\", \"s\"),\n",
    "    (fp_values, \"False Positives\", \"red\", \"^\"),\n",
    "    (fn_values, \"False Negatives\", \"orange\", \"v\"),\n",
    "    (accuracies, \"Accuracy\", \"purple\", \"D\")\n",
    "]\n",
    "\n",
    "for i, (values, title, color, marker) in enumerate(metrics):\n",
    "    row, col = divmod(i, 2) \n",
    "    axes[row, col].plot(k_values, values, marker=marker, linestyle=\"-\", color=color, label=title)\n",
    "    axes[row, col].set_xlabel(\"k (Number of Neighbors)\")\n",
    "    axes[row, col].set_ylabel(\"Count\" if title != \"Accuracy\" else \"Score\")\n",
    "    axes[row, col].set_title(f\"{title} Across Different k Values\")\n",
    "    axes[row, col].grid(True)\n",
    "    axes[row, col].legend()\n",
    "\n",
    "fig.delaxes(axes[2, 1])\n",
    "\n",
    "plt.subplots_adjust(hspace=0.4)\n",
    "plt.show()"
   ]
  },
  {
   "cell_type": "code",
   "execution_count": null,
   "id": "bdd8004f-ff77-4813-8262-8791c796e882",
   "metadata": {},
   "outputs": [],
   "source": [
    "nb.fit(X_train_resampled, y_train_resampled)\n",
    "knn = KNeighborsClassifier(n_neighbors=2)\n",
    "knn.fit(X_train, y_train)\n",
    "while True:\n",
    "    custom_prompt = input(\"Enter your prompt (or 'exit' to quit): \")\n",
    "    if custom_prompt.lower() == 'exit':\n",
    "        break\n",
    "    elif custom_prompt.strip() == '':\n",
    "        print(\"Prompt cannot be empty.\")\n",
    "        continue\n",
    "    rows = []\n",
    "    Classprompt = custom_prompt.lower()\n",
    "    word_classifications = df.set_index('Word').to_dict()\n",
    "    Classprompt = re.sub(r'[^a-zA-Z\\s]', '', Classprompt)  \n",
    "    Numprompt = re.sub(r'[^a-zA-Z\\s]', '', Classprompt)  \n",
    "\n",
    "    numeric_values = []\n",
    "    classification_values = []\n",
    "\n",
    "    for word in re.findall(r'\\b\\w+\\b', Classprompt):  \n",
    "        word_row = df[df['Word'] == word]\n",
    "        if word_row.empty:\n",
    "            classification_value = classify_word(word)  \n",
    "            numeric_value, interpreted_word = numberify(word)\n",
    "            new_row = pd.DataFrame({'Word': [word], 'Classification': [classification_value], \n",
    "                                    'Number': [numeric_value]})\n",
    "            df = pd.concat([df, new_row], ignore_index=True)\n",
    "            \n",
    "            current_classification = classification_value\n",
    "            current_numeric_value = numeric_value\n",
    "        else:\n",
    "            current_classification = word_row['Classification'].values[0]\n",
    "            current_numeric_value = word_row['Number'].values[0]\n",
    "            print(current_classification)\n",
    "            print(current_numeric_value)\n",
    "        Classprompt = re.sub(r'\\b' + re.escape(word) + r'\\b', str(current_classification), Classprompt)\n",
    "        Numprompt = re.sub(r'\\b' + re.escape(word) + r'\\b', str(current_numeric_value), Numprompt)\n",
    "    \n",
    "    print(\"Processed Classprompt:\", Classprompt)\n",
    "    print(\"Processed Numprompt:\", Numprompt)\n",
    "    print(\"Pre Checks\")\n",
    "    Class_3_count = Classprompt.count('3')\n",
    "    Class_2_count = Classprompt.count('2')\n",
    "    Class_1_count = Classprompt.count('1')\n",
    "\n",
    "    Class_Sum_count = Class_3_count + Class_2_count + Class_1_count\n",
    "\n",
    "    Guess_allowed = 1 \n",
    "    if Class_3_count > 4 or Class_2_count > 4 or Class_1_count > 4 or Class_Sum_count > 4:\n",
    "        Guess_allowed = 0\n",
    "\n",
    "    Numbers = list(map(int, re.findall(r'\\d+', Numprompt)))\n",
    "    Average_Number = sum(Numbers)/len(Numbers) if Numbers else 0\n",
    "\n",
    "    if Average_Number > 50000000:\n",
    "        Guess_allowed = 0\n",
    "    elif any(num > 60000000 for num in Numbers):\n",
    "        Guess_allowed = 0\n",
    "\n",
    "    print(f\"Filter check allowed: {Guess_allowed}\")\n",
    "\n",
    "    print(\"running model...\")\n",
    "    def preprocess_custom_prompt(prompt):\n",
    "        numbers = re.findall(r'\\d+', prompt)\n",
    "    \n",
    "        numbers = list(map(int, numbers))\n",
    "        \n",
    "        sum_of_numbers = sum(numbers) if numbers else 0\n",
    "        \n",
    "        sum_of_numbers = max(1, min(sum_of_numbers, 1e8))\n",
    "        \n",
    "        return np.array([[sum_of_numbers]])\n",
    "\n",
    "    X_custom = preprocess_custom_prompt(Numprompt)\n",
    "    custom_prediction = knn.predict(X_custom)\n",
    "    print(f\"KNN Prediction for the custom prompt: {custom_prediction[0]}\")\n",
    "    NBPredict = nb.predict(X_custom)\n",
    "    print(f\"Naive Bayes Prediction for the custom prompt: {NBPredict[0]}\")"
   ]
  },
  {
   "cell_type": "code",
   "execution_count": null,
   "id": "67ca17ca-0b0f-468d-8b39-be1d7439f527",
   "metadata": {},
   "outputs": [],
   "source": []
  },
  {
   "cell_type": "code",
   "execution_count": null,
   "id": "f6806469-fff1-4c3f-8fe2-31e4885a2aba",
   "metadata": {},
   "outputs": [],
   "source": []
  },
  {
   "cell_type": "code",
   "execution_count": 154,
   "id": "9a7007de-2603-4661-b443-a3d8030992f6",
   "metadata": {},
   "outputs": [
    {
     "name": "stdout",
     "output_type": "stream",
     "text": [
      "10236\n"
     ]
    }
   ],
   "source": [
    "notallowed= df_subset[df_subset['allowed']==0].copy()\n",
    "print(len(notallowed))"
   ]
  },
  {
   "cell_type": "code",
   "execution_count": null,
   "id": "e234346d-aa37-4713-b1db-453fbdc72920",
   "metadata": {},
   "outputs": [],
   "source": [
    "notallowed.head()"
   ]
  },
  {
   "cell_type": "code",
   "execution_count": 155,
   "id": "b96cde33-e5aa-471a-803e-bc6368b17551",
   "metadata": {},
   "outputs": [
    {
     "name": "stdout",
     "output_type": "stream",
     "text": [
      "10236\n"
     ]
    }
   ],
   "source": [
    "allowed=df_subset[df_subset['allowed']==1].head(10236).copy()\n",
    "print(len(allowed))"
   ]
  },
  {
   "cell_type": "code",
   "execution_count": 166,
   "id": "b1bc3c70-7ed0-4d83-bffe-93fc3ccc70f3",
   "metadata": {},
   "outputs": [
    {
     "data": {
      "text/html": [
       "<div>\n",
       "<style scoped>\n",
       "    .dataframe tbody tr th:only-of-type {\n",
       "        vertical-align: middle;\n",
       "    }\n",
       "\n",
       "    .dataframe tbody tr th {\n",
       "        vertical-align: top;\n",
       "    }\n",
       "\n",
       "    .dataframe thead th {\n",
       "        text-align: right;\n",
       "    }\n",
       "</style>\n",
       "<table border=\"1\" class=\"dataframe\">\n",
       "  <thead>\n",
       "    <tr style=\"text-align: right;\">\n",
       "      <th></th>\n",
       "      <th>image</th>\n",
       "      <th>prompt</th>\n",
       "      <th>seed</th>\n",
       "      <th>step</th>\n",
       "      <th>cfg</th>\n",
       "      <th>sampler</th>\n",
       "      <th>width</th>\n",
       "      <th>height</th>\n",
       "      <th>user_name</th>\n",
       "      <th>timestamp</th>\n",
       "      <th>image_nsfw</th>\n",
       "      <th>prompt_nsfw</th>\n",
       "      <th>allowed</th>\n",
       "      <th>Classprompt</th>\n",
       "      <th>Numprompt</th>\n",
       "      <th>Class 3 appearance count</th>\n",
       "      <th>Class 2 appearance count</th>\n",
       "      <th>Class 1 appearance count</th>\n",
       "      <th>Class Sum count</th>\n",
       "      <th>Guess allowed</th>\n",
       "      <th>Numbers</th>\n",
       "      <th>Average Number</th>\n",
       "      <th>Banned</th>\n",
       "    </tr>\n",
       "  </thead>\n",
       "  <tbody>\n",
       "    <tr>\n",
       "      <th>0</th>\n",
       "      <td>{'bytes': None, 'path': 'C:\\Users\\georg\\.cache\\huggingface\\datasets\\downloads\\extracted\\8b8225f4c51599e99c7d8b471661b86c16f7f7b1d783cb2e9ec11312031ea1aa\\f396d2d6-0668-46d6-833c-6a7da4c1038b.webp'}</td>\n",
       "      <td>goddess portrait, ismail inceoglu</td>\n",
       "      <td>9.119600e+08</td>\n",
       "      <td>50.0</td>\n",
       "      <td>10.0</td>\n",
       "      <td>k_lms</td>\n",
       "      <td>704.0</td>\n",
       "      <td>512.0</td>\n",
       "      <td>d4393f4711a09b71abe9ac39a849b68d70f88ad15b94b0f0b554571bee4e6741</td>\n",
       "      <td>2022-08-20 09:32:00+00:00</td>\n",
       "      <td>0.055936</td>\n",
       "      <td>0.007284</td>\n",
       "      <td>1</td>\n",
       "      <td>0 0 0 0</td>\n",
       "      <td>22220715 22220810 22220600 11110800</td>\n",
       "      <td>0.0</td>\n",
       "      <td>0.0</td>\n",
       "      <td>0.0</td>\n",
       "      <td>0.0</td>\n",
       "      <td>1.0</td>\n",
       "      <td>[22220715, 22220810, 22220600, 11110800]</td>\n",
       "      <td>1.944323e+07</td>\n",
       "      <td>0</td>\n",
       "    </tr>\n",
       "    <tr>\n",
       "      <th>1</th>\n",
       "      <td>{'bytes': None, 'path': 'C:\\Users\\georg\\.cache\\huggingface\\datasets\\downloads\\extracted\\8b8225f4c51599e99c7d8b471661b86c16f7f7b1d783cb2e9ec11312031ea1aa\\941d339b-5481-4ee2-b92d-d8a8d2cbfc50.webp'}</td>\n",
       "      <td>goddess portrait, ismail inceoglu</td>\n",
       "      <td>3.614154e+09</td>\n",
       "      <td>50.0</td>\n",
       "      <td>10.0</td>\n",
       "      <td>k_lms</td>\n",
       "      <td>704.0</td>\n",
       "      <td>512.0</td>\n",
       "      <td>d4393f4711a09b71abe9ac39a849b68d70f88ad15b94b0f0b554571bee4e6741</td>\n",
       "      <td>2022-08-20 09:32:00+00:00</td>\n",
       "      <td>0.103962</td>\n",
       "      <td>0.007284</td>\n",
       "      <td>1</td>\n",
       "      <td>0 0 0 0</td>\n",
       "      <td>22220715 22220810 22220600 11110800</td>\n",
       "      <td>0.0</td>\n",
       "      <td>0.0</td>\n",
       "      <td>0.0</td>\n",
       "      <td>0.0</td>\n",
       "      <td>1.0</td>\n",
       "      <td>[22220715, 22220810, 22220600, 11110800]</td>\n",
       "      <td>1.944323e+07</td>\n",
       "      <td>0</td>\n",
       "    </tr>\n",
       "    <tr>\n",
       "      <th>2</th>\n",
       "      <td>{'bytes': None, 'path': 'C:\\Users\\georg\\.cache\\huggingface\\datasets\\downloads\\extracted\\8b8225f4c51599e99c7d8b471661b86c16f7f7b1d783cb2e9ec11312031ea1aa\\411fd6fe-8b57-430a-a8f6-60d51a8085d1.webp'}</td>\n",
       "      <td>portrait of king of candy mr harry haribo oil painting bloody conquest tap [ e</td>\n",
       "      <td>2.271109e+09</td>\n",
       "      <td>50.0</td>\n",
       "      <td>7.0</td>\n",
       "      <td>k_lms</td>\n",
       "      <td>512.0</td>\n",
       "      <td>512.0</td>\n",
       "      <td>7c375c633f3ac3961453837abde94580b043b1c2eb5abce4d2c609650b08f08b</td>\n",
       "      <td>2022-08-20 09:33:00+00:00</td>\n",
       "      <td>0.034399</td>\n",
       "      <td>0.022897</td>\n",
       "      <td>1</td>\n",
       "      <td>0 0 0 0 0 0 0 0 0 0 3 3 0  0</td>\n",
       "      <td>22220810 11110200 22220425 11110200 22220510 11110200 33330510 22220600 22220320 22220810 66660675 22220845 33330310  11110100</td>\n",
       "      <td>2.0</td>\n",
       "      <td>0.0</td>\n",
       "      <td>0.0</td>\n",
       "      <td>2.0</td>\n",
       "      <td>0.0</td>\n",
       "      <td>[22220810, 11110200, 22220425, 11110200, 22220510, 11110200, 33330510, 22220600, 22220320, 22220810, 66660675, 22220845, 33330310, 11110100]</td>\n",
       "      <td>2.380761e+07</td>\n",
       "      <td>0</td>\n",
       "    </tr>\n",
       "    <tr>\n",
       "      <th>3</th>\n",
       "      <td>{'bytes': None, 'path': 'C:\\Users\\georg\\.cache\\huggingface\\datasets\\downloads\\extracted\\8b8225f4c51599e99c7d8b471661b86c16f7f7b1d783cb2e9ec11312031ea1aa\\6f169011-9809-48a6-9b48-cad6cb07e37f.webp'}</td>\n",
       "      <td>super epic realistic nature photo trending on instagram with lonely person in yellow raincoat standing at a distance</td>\n",
       "      <td>1.947975e+09</td>\n",
       "      <td>50.0</td>\n",
       "      <td>7.0</td>\n",
       "      <td>k_lms</td>\n",
       "      <td>832.0</td>\n",
       "      <td>1024.0</td>\n",
       "      <td>bd227929e003e69eee392c1d8a409445dd790455c1e9bd86ae9e32f4341a874f</td>\n",
       "      <td>2022-08-20 09:34:00+00:00</td>\n",
       "      <td>0.113144</td>\n",
       "      <td>0.001688</td>\n",
       "      <td>1</td>\n",
       "      <td>0 0 0 0 0 0 0 0 0 0 0 0 0 0 0 0 0 0</td>\n",
       "      <td>33330545 22220475 22220945 22220630 22220510 33330825 33330201 22220925 11110410 22220625 22220650 11110200 22220620 22220810 33330825 11110200 11110100 22220825</td>\n",
       "      <td>0.0</td>\n",
       "      <td>0.0</td>\n",
       "      <td>0.0</td>\n",
       "      <td>0.0</td>\n",
       "      <td>1.0</td>\n",
       "      <td>[33330545, 22220475, 22220945, 22220630, 22220510, 33330825, 33330201, 22220925, 11110410, 22220625, 22220650, 11110200, 22220620, 22220810, 33330825, 11110200, 11110100, 22220825]</td>\n",
       "      <td>2.222057e+07</td>\n",
       "      <td>0</td>\n",
       "    </tr>\n",
       "    <tr>\n",
       "      <th>4</th>\n",
       "      <td>{'bytes': None, 'path': 'C:\\Users\\georg\\.cache\\huggingface\\datasets\\downloads\\extracted\\8b8225f4c51599e99c7d8b471661b86c16f7f7b1d783cb2e9ec11312031ea1aa\\f88c16f5-5c8c-4427-b50e-2f155204eb11.webp'}</td>\n",
       "      <td>super epic realistic nature photo trending on instagram with lonely person in yellow raincoat standing at a distance</td>\n",
       "      <td>1.035761e+09</td>\n",
       "      <td>50.0</td>\n",
       "      <td>7.0</td>\n",
       "      <td>k_lms</td>\n",
       "      <td>832.0</td>\n",
       "      <td>1024.0</td>\n",
       "      <td>bd227929e003e69eee392c1d8a409445dd790455c1e9bd86ae9e32f4341a874f</td>\n",
       "      <td>2022-08-20 09:34:00+00:00</td>\n",
       "      <td>0.096025</td>\n",
       "      <td>0.001688</td>\n",
       "      <td>1</td>\n",
       "      <td>0 0 0 0 0 0 0 0 0 0 0 0 0 0 0 0 0 0</td>\n",
       "      <td>33330545 22220475 22220945 22220630 22220510 33330825 33330201 22220925 11110410 22220625 22220650 11110200 22220620 22220810 33330825 11110200 11110100 22220825</td>\n",
       "      <td>0.0</td>\n",
       "      <td>0.0</td>\n",
       "      <td>0.0</td>\n",
       "      <td>0.0</td>\n",
       "      <td>1.0</td>\n",
       "      <td>[33330545, 22220475, 22220945, 22220630, 22220510, 33330825, 33330201, 22220925, 11110410, 22220625, 22220650, 11110200, 22220620, 22220810, 33330825, 11110200, 11110100, 22220825]</td>\n",
       "      <td>2.222057e+07</td>\n",
       "      <td>0</td>\n",
       "    </tr>\n",
       "    <tr>\n",
       "      <th>5</th>\n",
       "      <td>{'bytes': None, 'path': 'C:\\Users\\georg\\.cache\\huggingface\\datasets\\downloads\\extracted\\8b8225f4c51599e99c7d8b471661b86c16f7f7b1d783cb2e9ec11312031ea1aa\\23791460-0d32-4402-afb8-27ed2c39e874.webp'}</td>\n",
       "      <td>super epic realistic nature photo trending on instagram with lonely person in yellow raincoat standing at a distance</td>\n",
       "      <td>3.122333e+09</td>\n",
       "      <td>50.0</td>\n",
       "      <td>7.0</td>\n",
       "      <td>k_lms</td>\n",
       "      <td>832.0</td>\n",
       "      <td>1024.0</td>\n",
       "      <td>bd227929e003e69eee392c1d8a409445dd790455c1e9bd86ae9e32f4341a874f</td>\n",
       "      <td>2022-08-20 09:34:00+00:00</td>\n",
       "      <td>0.094178</td>\n",
       "      <td>0.001688</td>\n",
       "      <td>1</td>\n",
       "      <td>0 0 0 0 0 0 0 0 0 0 0 0 0 0 0 0 0 0</td>\n",
       "      <td>33330545 22220475 22220945 22220630 22220510 33330825 33330201 22220925 11110410 22220625 22220650 11110200 22220620 22220810 33330825 11110200 11110100 22220825</td>\n",
       "      <td>0.0</td>\n",
       "      <td>0.0</td>\n",
       "      <td>0.0</td>\n",
       "      <td>0.0</td>\n",
       "      <td>1.0</td>\n",
       "      <td>[33330545, 22220475, 22220945, 22220630, 22220510, 33330825, 33330201, 22220925, 11110410, 22220625, 22220650, 11110200, 22220620, 22220810, 33330825, 11110200, 11110100, 22220825]</td>\n",
       "      <td>2.222057e+07</td>\n",
       "      <td>0</td>\n",
       "    </tr>\n",
       "    <tr>\n",
       "      <th>6</th>\n",
       "      <td>{'bytes': None, 'path': 'C:\\Users\\georg\\.cache\\huggingface\\datasets\\downloads\\extracted\\8b8225f4c51599e99c7d8b471661b86c16f7f7b1d783cb2e9ec11312031ea1aa\\43bf3256-4a4d-4bd4-aa55-454690466987.webp'}</td>\n",
       "      <td>super epic realistic nature photo trending on instagram with lonely person in yellow raincoat standing at a distance</td>\n",
       "      <td>8.990821e+08</td>\n",
       "      <td>50.0</td>\n",
       "      <td>7.0</td>\n",
       "      <td>k_lms</td>\n",
       "      <td>832.0</td>\n",
       "      <td>1024.0</td>\n",
       "      <td>bd227929e003e69eee392c1d8a409445dd790455c1e9bd86ae9e32f4341a874f</td>\n",
       "      <td>2022-08-20 09:34:00+00:00</td>\n",
       "      <td>0.084722</td>\n",
       "      <td>0.001688</td>\n",
       "      <td>1</td>\n",
       "      <td>0 0 0 0 0 0 0 0 0 0 0 0 0 0 0 0 0 0</td>\n",
       "      <td>33330545 22220475 22220945 22220630 22220510 33330825 33330201 22220925 11110410 22220625 22220650 11110200 22220620 22220810 33330825 11110200 11110100 22220825</td>\n",
       "      <td>0.0</td>\n",
       "      <td>0.0</td>\n",
       "      <td>0.0</td>\n",
       "      <td>0.0</td>\n",
       "      <td>1.0</td>\n",
       "      <td>[33330545, 22220475, 22220945, 22220630, 22220510, 33330825, 33330201, 22220925, 11110410, 22220625, 22220650, 11110200, 22220620, 22220810, 33330825, 11110200, 11110100, 22220825]</td>\n",
       "      <td>2.222057e+07</td>\n",
       "      <td>0</td>\n",
       "    </tr>\n",
       "    <tr>\n",
       "      <th>7</th>\n",
       "      <td>{'bytes': None, 'path': 'C:\\Users\\georg\\.cache\\huggingface\\datasets\\downloads\\extracted\\8b8225f4c51599e99c7d8b471661b86c16f7f7b1d783cb2e9ec11312031ea1aa\\19bd91e6-4436-4f9e-be74-0fbd9182f01a.webp'}</td>\n",
       "      <td>portrait of a beautiful princess wearing evil black oily tar by hr giger, greg rutkowski, luis royo and wayne barlowe, 8 k</td>\n",
       "      <td>1.309945e+09</td>\n",
       "      <td>50.0</td>\n",
       "      <td>7.0</td>\n",
       "      <td>k_lms</td>\n",
       "      <td>512.0</td>\n",
       "      <td>704.0</td>\n",
       "      <td>9e01c31a09dd2acc2061474b9cc95f1813f636332e120a5aa7cf435dda212075</td>\n",
       "      <td>2022-08-20 09:35:00+00:00</td>\n",
       "      <td>2.000000</td>\n",
       "      <td>0.035336</td>\n",
       "      <td>1</td>\n",
       "      <td>0 0 0 0 0 0 0 0 0 0 0 0 0 0 0 0 0 0 0 0  0</td>\n",
       "      <td>22220810 11110200 11110100 22220935 22220805 33330720 66660485 22220530 22220435 22220315 11110200 11110210 22220522 22220415 22220900 22220400 33330420 11110300 22220500 22220700  11110100</td>\n",
       "      <td>0.0</td>\n",
       "      <td>0.0</td>\n",
       "      <td>0.0</td>\n",
       "      <td>0.0</td>\n",
       "      <td>0.0</td>\n",
       "      <td>[22220810, 11110200, 11110100, 22220935, 22220805, 33330720, 66660485, 22220530, 22220435, 22220315, 11110200, 11110210, 22220522, 22220415, 22220900, 22220400, 33330420, 11110300, 22220500, 22220700, 11110100]</td>\n",
       "      <td>2.222048e+07</td>\n",
       "      <td>0</td>\n",
       "    </tr>\n",
       "    <tr>\n",
       "      <th>8</th>\n",
       "      <td>{'bytes': None, 'path': 'C:\\Users\\georg\\.cache\\huggingface\\datasets\\downloads\\extracted\\8b8225f4c51599e99c7d8b471661b86c16f7f7b1d783cb2e9ec11312031ea1aa\\0bf92bc5-cc93-49d6-b3be-074ea8433c27.webp'}</td>\n",
       "      <td>portrait of a beautiful princess wearing evil black oily tar by hr giger, greg rutkowski, luis royo and wayne barlowe, 8 k</td>\n",
       "      <td>4.373623e+08</td>\n",
       "      <td>50.0</td>\n",
       "      <td>7.0</td>\n",
       "      <td>k_lms</td>\n",
       "      <td>512.0</td>\n",
       "      <td>704.0</td>\n",
       "      <td>9e01c31a09dd2acc2061474b9cc95f1813f636332e120a5aa7cf435dda212075</td>\n",
       "      <td>2022-08-20 09:35:00+00:00</td>\n",
       "      <td>2.000000</td>\n",
       "      <td>0.035336</td>\n",
       "      <td>1</td>\n",
       "      <td>0 0 0 0 0 0 0 0 0 0 0 0 0 0 0 0 0 0 0 0  0</td>\n",
       "      <td>22220810 11110200 11110100 22220935 22220805 33330720 66660485 22220530 22220435 22220315 11110200 11110210 22220522 22220415 22220900 22220400 33330420 11110300 22220500 22220700  11110100</td>\n",
       "      <td>0.0</td>\n",
       "      <td>0.0</td>\n",
       "      <td>0.0</td>\n",
       "      <td>0.0</td>\n",
       "      <td>0.0</td>\n",
       "      <td>[22220810, 11110200, 11110100, 22220935, 22220805, 33330720, 66660485, 22220530, 22220435, 22220315, 11110200, 11110210, 22220522, 22220415, 22220900, 22220400, 33330420, 11110300, 22220500, 22220700, 11110100]</td>\n",
       "      <td>2.222048e+07</td>\n",
       "      <td>0</td>\n",
       "    </tr>\n",
       "    <tr>\n",
       "      <th>9</th>\n",
       "      <td>{'bytes': None, 'path': 'C:\\Users\\georg\\.cache\\huggingface\\datasets\\downloads\\extracted\\8b8225f4c51599e99c7d8b471661b86c16f7f7b1d783cb2e9ec11312031ea1aa\\25e998c2-1830-4308-bb57-3e6c8b54dbf8.webp'}</td>\n",
       "      <td>portrait of a beautiful princess wearing evil black oily tar by hr giger, greg rutkowski, luis royo and wayne barlowe, 8 k</td>\n",
       "      <td>3.366059e+08</td>\n",
       "      <td>50.0</td>\n",
       "      <td>7.0</td>\n",
       "      <td>k_lms</td>\n",
       "      <td>512.0</td>\n",
       "      <td>704.0</td>\n",
       "      <td>9e01c31a09dd2acc2061474b9cc95f1813f636332e120a5aa7cf435dda212075</td>\n",
       "      <td>2022-08-20 09:35:00+00:00</td>\n",
       "      <td>0.206981</td>\n",
       "      <td>0.035336</td>\n",
       "      <td>1</td>\n",
       "      <td>0 0 0 0 0 0 0 0 0 0 0 0 0 0 0 0 0 0 0 0  0</td>\n",
       "      <td>22220810 11110200 11110100 22220935 22220805 33330720 66660485 22220530 22220435 22220315 11110200 11110210 22220522 22220415 22220900 22220400 33330420 11110300 22220500 22220700  11110100</td>\n",
       "      <td>0.0</td>\n",
       "      <td>0.0</td>\n",
       "      <td>0.0</td>\n",
       "      <td>0.0</td>\n",
       "      <td>0.0</td>\n",
       "      <td>[22220810, 11110200, 11110100, 22220935, 22220805, 33330720, 66660485, 22220530, 22220435, 22220315, 11110200, 11110210, 22220522, 22220415, 22220900, 22220400, 33330420, 11110300, 22220500, 22220700, 11110100]</td>\n",
       "      <td>2.222048e+07</td>\n",
       "      <td>0</td>\n",
       "    </tr>\n",
       "    <tr>\n",
       "      <th>10</th>\n",
       "      <td>{'bytes': None, 'path': 'C:\\Users\\georg\\.cache\\huggingface\\datasets\\downloads\\extracted\\8b8225f4c51599e99c7d8b471661b86c16f7f7b1d783cb2e9ec11312031ea1aa\\0922c650-0a42-44d1-9324-f0e66f25c25f.webp'}</td>\n",
       "      <td>portrait of a beautiful princess wearing evil black oily tar by hr giger, greg rutkowski, luis royo and wayne barlowe, 8 k</td>\n",
       "      <td>3.222020e+09</td>\n",
       "      <td>50.0</td>\n",
       "      <td>7.0</td>\n",
       "      <td>k_lms</td>\n",
       "      <td>512.0</td>\n",
       "      <td>704.0</td>\n",
       "      <td>9e01c31a09dd2acc2061474b9cc95f1813f636332e120a5aa7cf435dda212075</td>\n",
       "      <td>2022-08-20 09:35:00+00:00</td>\n",
       "      <td>0.319989</td>\n",
       "      <td>0.035336</td>\n",
       "      <td>1</td>\n",
       "      <td>0 0 0 0 0 0 0 0 0 0 0 0 0 0 0 0 0 0 0 0  0</td>\n",
       "      <td>22220810 11110200 11110100 22220935 22220805 33330720 66660485 22220530 22220435 22220315 11110200 11110210 22220522 22220415 22220900 22220400 33330420 11110300 22220500 22220700  11110100</td>\n",
       "      <td>0.0</td>\n",
       "      <td>0.0</td>\n",
       "      <td>0.0</td>\n",
       "      <td>0.0</td>\n",
       "      <td>0.0</td>\n",
       "      <td>[22220810, 11110200, 11110100, 22220935, 22220805, 33330720, 66660485, 22220530, 22220435, 22220315, 11110200, 11110210, 22220522, 22220415, 22220900, 22220400, 33330420, 11110300, 22220500, 22220700, 11110100]</td>\n",
       "      <td>2.222048e+07</td>\n",
       "      <td>0</td>\n",
       "    </tr>\n",
       "    <tr>\n",
       "      <th>11</th>\n",
       "      <td>{'bytes': None, 'path': 'C:\\Users\\georg\\.cache\\huggingface\\datasets\\downloads\\extracted\\8b8225f4c51599e99c7d8b471661b86c16f7f7b1d783cb2e9ec11312031ea1aa\\a035b81f-4ecd-4525-b7ea-b84999029a72.webp'}</td>\n",
       "      <td>super epic realistic nature mountains and lake walley liminal photo trending on instagram with lonely person in yellow raincoat standing at a distance</td>\n",
       "      <td>1.345974e+09</td>\n",
       "      <td>50.0</td>\n",
       "      <td>7.0</td>\n",
       "      <td>k_lms</td>\n",
       "      <td>832.0</td>\n",
       "      <td>1024.0</td>\n",
       "      <td>bd227929e003e69eee392c1d8a409445dd790455c1e9bd86ae9e32f4341a874f</td>\n",
       "      <td>2022-08-20 09:35:00+00:00</td>\n",
       "      <td>0.044029</td>\n",
       "      <td>0.000937</td>\n",
       "      <td>1</td>\n",
       "      <td>0 0 0 0 0 0 0 0 0 0 0 0 0 0 0 0 0 0 0 0 0 0 0</td>\n",
       "      <td>33330545 22220475 22220945 22220630 22220910 11110300 22220410 22220610 22220745 22220510 33330825 33330201 22220925 11110410 22220625 22220650 11110200 22220620 22220810 33330825 11110200 11110100 22220825</td>\n",
       "      <td>0.0</td>\n",
       "      <td>0.0</td>\n",
       "      <td>0.0</td>\n",
       "      <td>0.0</td>\n",
       "      <td>1.0</td>\n",
       "      <td>[33330545, 22220475, 22220945, 22220630, 22220910, 11110300, 22220410, 22220610, 22220745, 22220510, 33330825, 33330201, 22220925, 11110410, 22220625, 22220650, 11110200, 22220620, 22220810, 33330825, 11110200, 11110100, 22220825]</td>\n",
       "      <td>2.173753e+07</td>\n",
       "      <td>0</td>\n",
       "    </tr>\n",
       "    <tr>\n",
       "      <th>12</th>\n",
       "      <td>{'bytes': None, 'path': 'C:\\Users\\georg\\.cache\\huggingface\\datasets\\downloads\\extracted\\8b8225f4c51599e99c7d8b471661b86c16f7f7b1d783cb2e9ec11312031ea1aa\\77b86295-3403-4782-ac72-53e487bf5bdc.webp'}</td>\n",
       "      <td>super epic realistic nature mountains and lake walley liminal photo trending on instagram with lonely person in yellow raincoat standing at a distance</td>\n",
       "      <td>1.414788e+09</td>\n",
       "      <td>50.0</td>\n",
       "      <td>7.0</td>\n",
       "      <td>k_lms</td>\n",
       "      <td>832.0</td>\n",
       "      <td>1024.0</td>\n",
       "      <td>bd227929e003e69eee392c1d8a409445dd790455c1e9bd86ae9e32f4341a874f</td>\n",
       "      <td>2022-08-20 09:35:00+00:00</td>\n",
       "      <td>0.141820</td>\n",
       "      <td>0.000937</td>\n",
       "      <td>1</td>\n",
       "      <td>0 0 0 0 0 0 0 0 0 0 0 0 0 0 0 0 0 0 0 0 0 0 0</td>\n",
       "      <td>33330545 22220475 22220945 22220630 22220910 11110300 22220410 22220610 22220745 22220510 33330825 33330201 22220925 11110410 22220625 22220650 11110200 22220620 22220810 33330825 11110200 11110100 22220825</td>\n",
       "      <td>0.0</td>\n",
       "      <td>0.0</td>\n",
       "      <td>0.0</td>\n",
       "      <td>0.0</td>\n",
       "      <td>1.0</td>\n",
       "      <td>[33330545, 22220475, 22220945, 22220630, 22220910, 11110300, 22220410, 22220610, 22220745, 22220510, 33330825, 33330201, 22220925, 11110410, 22220625, 22220650, 11110200, 22220620, 22220810, 33330825, 11110200, 11110100, 22220825]</td>\n",
       "      <td>2.173753e+07</td>\n",
       "      <td>0</td>\n",
       "    </tr>\n",
       "    <tr>\n",
       "      <th>13</th>\n",
       "      <td>{'bytes': None, 'path': 'C:\\Users\\georg\\.cache\\huggingface\\datasets\\downloads\\extracted\\8b8225f4c51599e99c7d8b471661b86c16f7f7b1d783cb2e9ec11312031ea1aa\\69150f4b-a2f7-4743-a4c4-c183694d68a3.webp'}</td>\n",
       "      <td>super epic realistic nature mountains and lake walley liminal photo trending on instagram with lonely person in yellow raincoat standing at a distance</td>\n",
       "      <td>2.888053e+09</td>\n",
       "      <td>50.0</td>\n",
       "      <td>7.0</td>\n",
       "      <td>k_lms</td>\n",
       "      <td>832.0</td>\n",
       "      <td>1024.0</td>\n",
       "      <td>bd227929e003e69eee392c1d8a409445dd790455c1e9bd86ae9e32f4341a874f</td>\n",
       "      <td>2022-08-20 09:35:00+00:00</td>\n",
       "      <td>0.051015</td>\n",
       "      <td>0.000937</td>\n",
       "      <td>1</td>\n",
       "      <td>0 0 0 0 0 0 0 0 0 0 0 0 0 0 0 0 0 0 0 0 0 0 0</td>\n",
       "      <td>33330545 22220475 22220945 22220630 22220910 11110300 22220410 22220610 22220745 22220510 33330825 33330201 22220925 11110410 22220625 22220650 11110200 22220620 22220810 33330825 11110200 11110100 22220825</td>\n",
       "      <td>0.0</td>\n",
       "      <td>0.0</td>\n",
       "      <td>0.0</td>\n",
       "      <td>0.0</td>\n",
       "      <td>1.0</td>\n",
       "      <td>[33330545, 22220475, 22220945, 22220630, 22220910, 11110300, 22220410, 22220610, 22220745, 22220510, 33330825, 33330201, 22220925, 11110410, 22220625, 22220650, 11110200, 22220620, 22220810, 33330825, 11110200, 11110100, 22220825]</td>\n",
       "      <td>2.173753e+07</td>\n",
       "      <td>0</td>\n",
       "    </tr>\n",
       "    <tr>\n",
       "      <th>14</th>\n",
       "      <td>{'bytes': None, 'path': 'C:\\Users\\georg\\.cache\\huggingface\\datasets\\downloads\\extracted\\8b8225f4c51599e99c7d8b471661b86c16f7f7b1d783cb2e9ec11312031ea1aa\\2bfdad94-e383-470c-a91d-4db1bcdbeadc.webp'}</td>\n",
       "      <td>super epic realistic nature mountains and lake walley liminal photo trending on instagram with lonely person in yellow raincoat standing at a distance</td>\n",
       "      <td>1.825978e+09</td>\n",
       "      <td>50.0</td>\n",
       "      <td>7.0</td>\n",
       "      <td>k_lms</td>\n",
       "      <td>832.0</td>\n",
       "      <td>1024.0</td>\n",
       "      <td>bd227929e003e69eee392c1d8a409445dd790455c1e9bd86ae9e32f4341a874f</td>\n",
       "      <td>2022-08-20 09:35:00+00:00</td>\n",
       "      <td>0.059192</td>\n",
       "      <td>0.000937</td>\n",
       "      <td>1</td>\n",
       "      <td>0 0 0 0 0 0 0 0 0 0 0 0 0 0 0 0 0 0 0 0 0 0 0</td>\n",
       "      <td>33330545 22220475 22220945 22220630 22220910 11110300 22220410 22220610 22220745 22220510 33330825 33330201 22220925 11110410 22220625 22220650 11110200 22220620 22220810 33330825 11110200 11110100 22220825</td>\n",
       "      <td>0.0</td>\n",
       "      <td>0.0</td>\n",
       "      <td>0.0</td>\n",
       "      <td>0.0</td>\n",
       "      <td>1.0</td>\n",
       "      <td>[33330545, 22220475, 22220945, 22220630, 22220910, 11110300, 22220410, 22220610, 22220745, 22220510, 33330825, 33330201, 22220925, 11110410, 22220625, 22220650, 11110200, 22220620, 22220810, 33330825, 11110200, 11110100, 22220825]</td>\n",
       "      <td>2.173753e+07</td>\n",
       "      <td>0</td>\n",
       "    </tr>\n",
       "  </tbody>\n",
       "</table>\n",
       "</div>"
      ],
      "text/plain": [
       "                                                                                                                                                                                                   image  \\\n",
       "0   {'bytes': None, 'path': 'C:\\Users\\georg\\.cache\\huggingface\\datasets\\downloads\\extracted\\8b8225f4c51599e99c7d8b471661b86c16f7f7b1d783cb2e9ec11312031ea1aa\\f396d2d6-0668-46d6-833c-6a7da4c1038b.webp'}   \n",
       "1   {'bytes': None, 'path': 'C:\\Users\\georg\\.cache\\huggingface\\datasets\\downloads\\extracted\\8b8225f4c51599e99c7d8b471661b86c16f7f7b1d783cb2e9ec11312031ea1aa\\941d339b-5481-4ee2-b92d-d8a8d2cbfc50.webp'}   \n",
       "2   {'bytes': None, 'path': 'C:\\Users\\georg\\.cache\\huggingface\\datasets\\downloads\\extracted\\8b8225f4c51599e99c7d8b471661b86c16f7f7b1d783cb2e9ec11312031ea1aa\\411fd6fe-8b57-430a-a8f6-60d51a8085d1.webp'}   \n",
       "3   {'bytes': None, 'path': 'C:\\Users\\georg\\.cache\\huggingface\\datasets\\downloads\\extracted\\8b8225f4c51599e99c7d8b471661b86c16f7f7b1d783cb2e9ec11312031ea1aa\\6f169011-9809-48a6-9b48-cad6cb07e37f.webp'}   \n",
       "4   {'bytes': None, 'path': 'C:\\Users\\georg\\.cache\\huggingface\\datasets\\downloads\\extracted\\8b8225f4c51599e99c7d8b471661b86c16f7f7b1d783cb2e9ec11312031ea1aa\\f88c16f5-5c8c-4427-b50e-2f155204eb11.webp'}   \n",
       "5   {'bytes': None, 'path': 'C:\\Users\\georg\\.cache\\huggingface\\datasets\\downloads\\extracted\\8b8225f4c51599e99c7d8b471661b86c16f7f7b1d783cb2e9ec11312031ea1aa\\23791460-0d32-4402-afb8-27ed2c39e874.webp'}   \n",
       "6   {'bytes': None, 'path': 'C:\\Users\\georg\\.cache\\huggingface\\datasets\\downloads\\extracted\\8b8225f4c51599e99c7d8b471661b86c16f7f7b1d783cb2e9ec11312031ea1aa\\43bf3256-4a4d-4bd4-aa55-454690466987.webp'}   \n",
       "7   {'bytes': None, 'path': 'C:\\Users\\georg\\.cache\\huggingface\\datasets\\downloads\\extracted\\8b8225f4c51599e99c7d8b471661b86c16f7f7b1d783cb2e9ec11312031ea1aa\\19bd91e6-4436-4f9e-be74-0fbd9182f01a.webp'}   \n",
       "8   {'bytes': None, 'path': 'C:\\Users\\georg\\.cache\\huggingface\\datasets\\downloads\\extracted\\8b8225f4c51599e99c7d8b471661b86c16f7f7b1d783cb2e9ec11312031ea1aa\\0bf92bc5-cc93-49d6-b3be-074ea8433c27.webp'}   \n",
       "9   {'bytes': None, 'path': 'C:\\Users\\georg\\.cache\\huggingface\\datasets\\downloads\\extracted\\8b8225f4c51599e99c7d8b471661b86c16f7f7b1d783cb2e9ec11312031ea1aa\\25e998c2-1830-4308-bb57-3e6c8b54dbf8.webp'}   \n",
       "10  {'bytes': None, 'path': 'C:\\Users\\georg\\.cache\\huggingface\\datasets\\downloads\\extracted\\8b8225f4c51599e99c7d8b471661b86c16f7f7b1d783cb2e9ec11312031ea1aa\\0922c650-0a42-44d1-9324-f0e66f25c25f.webp'}   \n",
       "11  {'bytes': None, 'path': 'C:\\Users\\georg\\.cache\\huggingface\\datasets\\downloads\\extracted\\8b8225f4c51599e99c7d8b471661b86c16f7f7b1d783cb2e9ec11312031ea1aa\\a035b81f-4ecd-4525-b7ea-b84999029a72.webp'}   \n",
       "12  {'bytes': None, 'path': 'C:\\Users\\georg\\.cache\\huggingface\\datasets\\downloads\\extracted\\8b8225f4c51599e99c7d8b471661b86c16f7f7b1d783cb2e9ec11312031ea1aa\\77b86295-3403-4782-ac72-53e487bf5bdc.webp'}   \n",
       "13  {'bytes': None, 'path': 'C:\\Users\\georg\\.cache\\huggingface\\datasets\\downloads\\extracted\\8b8225f4c51599e99c7d8b471661b86c16f7f7b1d783cb2e9ec11312031ea1aa\\69150f4b-a2f7-4743-a4c4-c183694d68a3.webp'}   \n",
       "14  {'bytes': None, 'path': 'C:\\Users\\georg\\.cache\\huggingface\\datasets\\downloads\\extracted\\8b8225f4c51599e99c7d8b471661b86c16f7f7b1d783cb2e9ec11312031ea1aa\\2bfdad94-e383-470c-a91d-4db1bcdbeadc.webp'}   \n",
       "\n",
       "                                                                                                                                                     prompt  \\\n",
       "0                                                                                                                        goddess portrait, ismail inceoglu    \n",
       "1                                                                                                                        goddess portrait, ismail inceoglu    \n",
       "2                                                                           portrait of king of candy mr harry haribo oil painting bloody conquest tap [ e    \n",
       "3                                     super epic realistic nature photo trending on instagram with lonely person in yellow raincoat standing at a distance    \n",
       "4                                     super epic realistic nature photo trending on instagram with lonely person in yellow raincoat standing at a distance    \n",
       "5                                     super epic realistic nature photo trending on instagram with lonely person in yellow raincoat standing at a distance    \n",
       "6                                     super epic realistic nature photo trending on instagram with lonely person in yellow raincoat standing at a distance    \n",
       "7                               portrait of a beautiful princess wearing evil black oily tar by hr giger, greg rutkowski, luis royo and wayne barlowe, 8 k    \n",
       "8                               portrait of a beautiful princess wearing evil black oily tar by hr giger, greg rutkowski, luis royo and wayne barlowe, 8 k    \n",
       "9                               portrait of a beautiful princess wearing evil black oily tar by hr giger, greg rutkowski, luis royo and wayne barlowe, 8 k    \n",
       "10                              portrait of a beautiful princess wearing evil black oily tar by hr giger, greg rutkowski, luis royo and wayne barlowe, 8 k    \n",
       "11  super epic realistic nature mountains and lake walley liminal photo trending on instagram with lonely person in yellow raincoat standing at a distance    \n",
       "12  super epic realistic nature mountains and lake walley liminal photo trending on instagram with lonely person in yellow raincoat standing at a distance    \n",
       "13  super epic realistic nature mountains and lake walley liminal photo trending on instagram with lonely person in yellow raincoat standing at a distance    \n",
       "14  super epic realistic nature mountains and lake walley liminal photo trending on instagram with lonely person in yellow raincoat standing at a distance    \n",
       "\n",
       "            seed  step   cfg sampler  width  height  \\\n",
       "0   9.119600e+08  50.0  10.0   k_lms  704.0   512.0   \n",
       "1   3.614154e+09  50.0  10.0   k_lms  704.0   512.0   \n",
       "2   2.271109e+09  50.0   7.0   k_lms  512.0   512.0   \n",
       "3   1.947975e+09  50.0   7.0   k_lms  832.0  1024.0   \n",
       "4   1.035761e+09  50.0   7.0   k_lms  832.0  1024.0   \n",
       "5   3.122333e+09  50.0   7.0   k_lms  832.0  1024.0   \n",
       "6   8.990821e+08  50.0   7.0   k_lms  832.0  1024.0   \n",
       "7   1.309945e+09  50.0   7.0   k_lms  512.0   704.0   \n",
       "8   4.373623e+08  50.0   7.0   k_lms  512.0   704.0   \n",
       "9   3.366059e+08  50.0   7.0   k_lms  512.0   704.0   \n",
       "10  3.222020e+09  50.0   7.0   k_lms  512.0   704.0   \n",
       "11  1.345974e+09  50.0   7.0   k_lms  832.0  1024.0   \n",
       "12  1.414788e+09  50.0   7.0   k_lms  832.0  1024.0   \n",
       "13  2.888053e+09  50.0   7.0   k_lms  832.0  1024.0   \n",
       "14  1.825978e+09  50.0   7.0   k_lms  832.0  1024.0   \n",
       "\n",
       "                                                           user_name  \\\n",
       "0   d4393f4711a09b71abe9ac39a849b68d70f88ad15b94b0f0b554571bee4e6741   \n",
       "1   d4393f4711a09b71abe9ac39a849b68d70f88ad15b94b0f0b554571bee4e6741   \n",
       "2   7c375c633f3ac3961453837abde94580b043b1c2eb5abce4d2c609650b08f08b   \n",
       "3   bd227929e003e69eee392c1d8a409445dd790455c1e9bd86ae9e32f4341a874f   \n",
       "4   bd227929e003e69eee392c1d8a409445dd790455c1e9bd86ae9e32f4341a874f   \n",
       "5   bd227929e003e69eee392c1d8a409445dd790455c1e9bd86ae9e32f4341a874f   \n",
       "6   bd227929e003e69eee392c1d8a409445dd790455c1e9bd86ae9e32f4341a874f   \n",
       "7   9e01c31a09dd2acc2061474b9cc95f1813f636332e120a5aa7cf435dda212075   \n",
       "8   9e01c31a09dd2acc2061474b9cc95f1813f636332e120a5aa7cf435dda212075   \n",
       "9   9e01c31a09dd2acc2061474b9cc95f1813f636332e120a5aa7cf435dda212075   \n",
       "10  9e01c31a09dd2acc2061474b9cc95f1813f636332e120a5aa7cf435dda212075   \n",
       "11  bd227929e003e69eee392c1d8a409445dd790455c1e9bd86ae9e32f4341a874f   \n",
       "12  bd227929e003e69eee392c1d8a409445dd790455c1e9bd86ae9e32f4341a874f   \n",
       "13  bd227929e003e69eee392c1d8a409445dd790455c1e9bd86ae9e32f4341a874f   \n",
       "14  bd227929e003e69eee392c1d8a409445dd790455c1e9bd86ae9e32f4341a874f   \n",
       "\n",
       "                   timestamp  image_nsfw  prompt_nsfw  allowed  \\\n",
       "0  2022-08-20 09:32:00+00:00    0.055936     0.007284        1   \n",
       "1  2022-08-20 09:32:00+00:00    0.103962     0.007284        1   \n",
       "2  2022-08-20 09:33:00+00:00    0.034399     0.022897        1   \n",
       "3  2022-08-20 09:34:00+00:00    0.113144     0.001688        1   \n",
       "4  2022-08-20 09:34:00+00:00    0.096025     0.001688        1   \n",
       "5  2022-08-20 09:34:00+00:00    0.094178     0.001688        1   \n",
       "6  2022-08-20 09:34:00+00:00    0.084722     0.001688        1   \n",
       "7  2022-08-20 09:35:00+00:00    2.000000     0.035336        1   \n",
       "8  2022-08-20 09:35:00+00:00    2.000000     0.035336        1   \n",
       "9  2022-08-20 09:35:00+00:00    0.206981     0.035336        1   \n",
       "10 2022-08-20 09:35:00+00:00    0.319989     0.035336        1   \n",
       "11 2022-08-20 09:35:00+00:00    0.044029     0.000937        1   \n",
       "12 2022-08-20 09:35:00+00:00    0.141820     0.000937        1   \n",
       "13 2022-08-20 09:35:00+00:00    0.051015     0.000937        1   \n",
       "14 2022-08-20 09:35:00+00:00    0.059192     0.000937        1   \n",
       "\n",
       "                                       Classprompt  \\\n",
       "0                                         0 0 0 0    \n",
       "1                                         0 0 0 0    \n",
       "2                    0 0 0 0 0 0 0 0 0 0 3 3 0  0    \n",
       "3             0 0 0 0 0 0 0 0 0 0 0 0 0 0 0 0 0 0    \n",
       "4             0 0 0 0 0 0 0 0 0 0 0 0 0 0 0 0 0 0    \n",
       "5             0 0 0 0 0 0 0 0 0 0 0 0 0 0 0 0 0 0    \n",
       "6             0 0 0 0 0 0 0 0 0 0 0 0 0 0 0 0 0 0    \n",
       "7      0 0 0 0 0 0 0 0 0 0 0 0 0 0 0 0 0 0 0 0  0    \n",
       "8      0 0 0 0 0 0 0 0 0 0 0 0 0 0 0 0 0 0 0 0  0    \n",
       "9      0 0 0 0 0 0 0 0 0 0 0 0 0 0 0 0 0 0 0 0  0    \n",
       "10     0 0 0 0 0 0 0 0 0 0 0 0 0 0 0 0 0 0 0 0  0    \n",
       "11  0 0 0 0 0 0 0 0 0 0 0 0 0 0 0 0 0 0 0 0 0 0 0    \n",
       "12  0 0 0 0 0 0 0 0 0 0 0 0 0 0 0 0 0 0 0 0 0 0 0    \n",
       "13  0 0 0 0 0 0 0 0 0 0 0 0 0 0 0 0 0 0 0 0 0 0 0    \n",
       "14  0 0 0 0 0 0 0 0 0 0 0 0 0 0 0 0 0 0 0 0 0 0 0    \n",
       "\n",
       "                                                                                                                                                                                                          Numprompt  \\\n",
       "0                                                                                                                                                                              22220715 22220810 22220600 11110800    \n",
       "1                                                                                                                                                                              22220715 22220810 22220600 11110800    \n",
       "2                                                                                   22220810 11110200 22220425 11110200 22220510 11110200 33330510 22220600 22220320 22220810 66660675 22220845 33330310  11110100    \n",
       "3                                                33330545 22220475 22220945 22220630 22220510 33330825 33330201 22220925 11110410 22220625 22220650 11110200 22220620 22220810 33330825 11110200 11110100 22220825    \n",
       "4                                                33330545 22220475 22220945 22220630 22220510 33330825 33330201 22220925 11110410 22220625 22220650 11110200 22220620 22220810 33330825 11110200 11110100 22220825    \n",
       "5                                                33330545 22220475 22220945 22220630 22220510 33330825 33330201 22220925 11110410 22220625 22220650 11110200 22220620 22220810 33330825 11110200 11110100 22220825    \n",
       "6                                                33330545 22220475 22220945 22220630 22220510 33330825 33330201 22220925 11110410 22220625 22220650 11110200 22220620 22220810 33330825 11110200 11110100 22220825    \n",
       "7                    22220810 11110200 11110100 22220935 22220805 33330720 66660485 22220530 22220435 22220315 11110200 11110210 22220522 22220415 22220900 22220400 33330420 11110300 22220500 22220700  11110100    \n",
       "8                    22220810 11110200 11110100 22220935 22220805 33330720 66660485 22220530 22220435 22220315 11110200 11110210 22220522 22220415 22220900 22220400 33330420 11110300 22220500 22220700  11110100    \n",
       "9                    22220810 11110200 11110100 22220935 22220805 33330720 66660485 22220530 22220435 22220315 11110200 11110210 22220522 22220415 22220900 22220400 33330420 11110300 22220500 22220700  11110100    \n",
       "10                   22220810 11110200 11110100 22220935 22220805 33330720 66660485 22220530 22220435 22220315 11110200 11110210 22220522 22220415 22220900 22220400 33330420 11110300 22220500 22220700  11110100    \n",
       "11  33330545 22220475 22220945 22220630 22220910 11110300 22220410 22220610 22220745 22220510 33330825 33330201 22220925 11110410 22220625 22220650 11110200 22220620 22220810 33330825 11110200 11110100 22220825    \n",
       "12  33330545 22220475 22220945 22220630 22220910 11110300 22220410 22220610 22220745 22220510 33330825 33330201 22220925 11110410 22220625 22220650 11110200 22220620 22220810 33330825 11110200 11110100 22220825    \n",
       "13  33330545 22220475 22220945 22220630 22220910 11110300 22220410 22220610 22220745 22220510 33330825 33330201 22220925 11110410 22220625 22220650 11110200 22220620 22220810 33330825 11110200 11110100 22220825    \n",
       "14  33330545 22220475 22220945 22220630 22220910 11110300 22220410 22220610 22220745 22220510 33330825 33330201 22220925 11110410 22220625 22220650 11110200 22220620 22220810 33330825 11110200 11110100 22220825    \n",
       "\n",
       "    Class 3 appearance count  Class 2 appearance count  \\\n",
       "0                        0.0                       0.0   \n",
       "1                        0.0                       0.0   \n",
       "2                        2.0                       0.0   \n",
       "3                        0.0                       0.0   \n",
       "4                        0.0                       0.0   \n",
       "5                        0.0                       0.0   \n",
       "6                        0.0                       0.0   \n",
       "7                        0.0                       0.0   \n",
       "8                        0.0                       0.0   \n",
       "9                        0.0                       0.0   \n",
       "10                       0.0                       0.0   \n",
       "11                       0.0                       0.0   \n",
       "12                       0.0                       0.0   \n",
       "13                       0.0                       0.0   \n",
       "14                       0.0                       0.0   \n",
       "\n",
       "    Class 1 appearance count  Class Sum count  Guess allowed  \\\n",
       "0                        0.0              0.0            1.0   \n",
       "1                        0.0              0.0            1.0   \n",
       "2                        0.0              2.0            0.0   \n",
       "3                        0.0              0.0            1.0   \n",
       "4                        0.0              0.0            1.0   \n",
       "5                        0.0              0.0            1.0   \n",
       "6                        0.0              0.0            1.0   \n",
       "7                        0.0              0.0            0.0   \n",
       "8                        0.0              0.0            0.0   \n",
       "9                        0.0              0.0            0.0   \n",
       "10                       0.0              0.0            0.0   \n",
       "11                       0.0              0.0            1.0   \n",
       "12                       0.0              0.0            1.0   \n",
       "13                       0.0              0.0            1.0   \n",
       "14                       0.0              0.0            1.0   \n",
       "\n",
       "                                                                                                                                                                                                                                   Numbers  \\\n",
       "0                                                                                                                                                                                                 [22220715, 22220810, 22220600, 11110800]   \n",
       "1                                                                                                                                                                                                 [22220715, 22220810, 22220600, 11110800]   \n",
       "2                                                                                             [22220810, 11110200, 22220425, 11110200, 22220510, 11110200, 33330510, 22220600, 22220320, 22220810, 66660675, 22220845, 33330310, 11110100]   \n",
       "3                                                     [33330545, 22220475, 22220945, 22220630, 22220510, 33330825, 33330201, 22220925, 11110410, 22220625, 22220650, 11110200, 22220620, 22220810, 33330825, 11110200, 11110100, 22220825]   \n",
       "4                                                     [33330545, 22220475, 22220945, 22220630, 22220510, 33330825, 33330201, 22220925, 11110410, 22220625, 22220650, 11110200, 22220620, 22220810, 33330825, 11110200, 11110100, 22220825]   \n",
       "5                                                     [33330545, 22220475, 22220945, 22220630, 22220510, 33330825, 33330201, 22220925, 11110410, 22220625, 22220650, 11110200, 22220620, 22220810, 33330825, 11110200, 11110100, 22220825]   \n",
       "6                                                     [33330545, 22220475, 22220945, 22220630, 22220510, 33330825, 33330201, 22220925, 11110410, 22220625, 22220650, 11110200, 22220620, 22220810, 33330825, 11110200, 11110100, 22220825]   \n",
       "7                       [22220810, 11110200, 11110100, 22220935, 22220805, 33330720, 66660485, 22220530, 22220435, 22220315, 11110200, 11110210, 22220522, 22220415, 22220900, 22220400, 33330420, 11110300, 22220500, 22220700, 11110100]   \n",
       "8                       [22220810, 11110200, 11110100, 22220935, 22220805, 33330720, 66660485, 22220530, 22220435, 22220315, 11110200, 11110210, 22220522, 22220415, 22220900, 22220400, 33330420, 11110300, 22220500, 22220700, 11110100]   \n",
       "9                       [22220810, 11110200, 11110100, 22220935, 22220805, 33330720, 66660485, 22220530, 22220435, 22220315, 11110200, 11110210, 22220522, 22220415, 22220900, 22220400, 33330420, 11110300, 22220500, 22220700, 11110100]   \n",
       "10                      [22220810, 11110200, 11110100, 22220935, 22220805, 33330720, 66660485, 22220530, 22220435, 22220315, 11110200, 11110210, 22220522, 22220415, 22220900, 22220400, 33330420, 11110300, 22220500, 22220700, 11110100]   \n",
       "11  [33330545, 22220475, 22220945, 22220630, 22220910, 11110300, 22220410, 22220610, 22220745, 22220510, 33330825, 33330201, 22220925, 11110410, 22220625, 22220650, 11110200, 22220620, 22220810, 33330825, 11110200, 11110100, 22220825]   \n",
       "12  [33330545, 22220475, 22220945, 22220630, 22220910, 11110300, 22220410, 22220610, 22220745, 22220510, 33330825, 33330201, 22220925, 11110410, 22220625, 22220650, 11110200, 22220620, 22220810, 33330825, 11110200, 11110100, 22220825]   \n",
       "13  [33330545, 22220475, 22220945, 22220630, 22220910, 11110300, 22220410, 22220610, 22220745, 22220510, 33330825, 33330201, 22220925, 11110410, 22220625, 22220650, 11110200, 22220620, 22220810, 33330825, 11110200, 11110100, 22220825]   \n",
       "14  [33330545, 22220475, 22220945, 22220630, 22220910, 11110300, 22220410, 22220610, 22220745, 22220510, 33330825, 33330201, 22220925, 11110410, 22220625, 22220650, 11110200, 22220620, 22220810, 33330825, 11110200, 11110100, 22220825]   \n",
       "\n",
       "    Average Number  Banned  \n",
       "0     1.944323e+07       0  \n",
       "1     1.944323e+07       0  \n",
       "2     2.380761e+07       0  \n",
       "3     2.222057e+07       0  \n",
       "4     2.222057e+07       0  \n",
       "5     2.222057e+07       0  \n",
       "6     2.222057e+07       0  \n",
       "7     2.222048e+07       0  \n",
       "8     2.222048e+07       0  \n",
       "9     2.222048e+07       0  \n",
       "10    2.222048e+07       0  \n",
       "11    2.173753e+07       0  \n",
       "12    2.173753e+07       0  \n",
       "13    2.173753e+07       0  \n",
       "14    2.173753e+07       0  "
      ]
     },
     "execution_count": 166,
     "metadata": {},
     "output_type": "execute_result"
    }
   ],
   "source": [
    "allowed.head(15)"
   ]
  },
  {
   "cell_type": "code",
   "execution_count": 157,
   "id": "123bd204-cbb0-4b49-8e2d-5d0d23a3badf",
   "metadata": {},
   "outputs": [
    {
     "name": "stdout",
     "output_type": "stream",
     "text": [
      "<class 'pandas.core.frame.DataFrame'>\n",
      "RangeIndex: 20472 entries, 0 to 20471\n",
      "Data columns (total 23 columns):\n",
      " #   Column                    Non-Null Count  Dtype              \n",
      "---  ------                    --------------  -----              \n",
      " 0   image                     10695 non-null  object             \n",
      " 1   prompt                    20472 non-null  object             \n",
      " 2   seed                      10695 non-null  float64            \n",
      " 3   step                      10695 non-null  float64            \n",
      " 4   cfg                       10695 non-null  float32            \n",
      " 5   sampler                   10695 non-null  object             \n",
      " 6   width                     10695 non-null  float64            \n",
      " 7   height                    10695 non-null  float64            \n",
      " 8   user_name                 10695 non-null  object             \n",
      " 9   timestamp                 10695 non-null  datetime64[us, UTC]\n",
      " 10  image_nsfw                20472 non-null  float64            \n",
      " 11  prompt_nsfw               20472 non-null  float64            \n",
      " 12  allowed                   20472 non-null  int32              \n",
      " 13  Classprompt               20472 non-null  object             \n",
      " 14  Numprompt                 20472 non-null  object             \n",
      " 15  Class 3 appearance count  20472 non-null  float64            \n",
      " 16  Class 2 appearance count  20472 non-null  float64            \n",
      " 17  Class 1 appearance count  20472 non-null  float64            \n",
      " 18  Class Sum count           20472 non-null  float64            \n",
      " 19  Guess allowed             20472 non-null  float64            \n",
      " 20  Numbers                   20472 non-null  object             \n",
      " 21  Average Number            20472 non-null  float64            \n",
      " 22  Banned                    20472 non-null  int32              \n",
      "dtypes: datetime64[us, UTC](1), float32(1), float64(12), int32(2), object(7)\n",
      "memory usage: 3.4+ MB\n"
     ]
    }
   ],
   "source": [
    "df_combined = pd.concat([notallowed, allowed], ignore_index=True)\n",
    "df_combined.info()"
   ]
  },
  {
   "cell_type": "code",
   "execution_count": 170,
   "id": "a8b75d5c-12e1-4324-bfab-12bdb6041604",
   "metadata": {},
   "outputs": [
    {
     "data": {
      "text/html": [
       "<div>\n",
       "<style scoped>\n",
       "    .dataframe tbody tr th:only-of-type {\n",
       "        vertical-align: middle;\n",
       "    }\n",
       "\n",
       "    .dataframe tbody tr th {\n",
       "        vertical-align: top;\n",
       "    }\n",
       "\n",
       "    .dataframe thead th {\n",
       "        text-align: right;\n",
       "    }\n",
       "</style>\n",
       "<table border=\"1\" class=\"dataframe\">\n",
       "  <thead>\n",
       "    <tr style=\"text-align: right;\">\n",
       "      <th></th>\n",
       "      <th>image</th>\n",
       "      <th>prompt</th>\n",
       "      <th>seed</th>\n",
       "      <th>step</th>\n",
       "      <th>cfg</th>\n",
       "      <th>sampler</th>\n",
       "      <th>width</th>\n",
       "      <th>height</th>\n",
       "      <th>user_name</th>\n",
       "      <th>timestamp</th>\n",
       "      <th>image_nsfw</th>\n",
       "      <th>prompt_nsfw</th>\n",
       "      <th>allowed</th>\n",
       "      <th>Classprompt</th>\n",
       "      <th>Numprompt</th>\n",
       "      <th>Class 3 appearance count</th>\n",
       "      <th>Class 2 appearance count</th>\n",
       "      <th>Class 1 appearance count</th>\n",
       "      <th>Class Sum count</th>\n",
       "      <th>Guess allowed</th>\n",
       "      <th>Numbers</th>\n",
       "      <th>Average Number</th>\n",
       "      <th>Banned</th>\n",
       "    </tr>\n",
       "  </thead>\n",
       "  <tbody>\n",
       "    <tr>\n",
       "      <th>0</th>\n",
       "      <td>{'bytes': None, 'path': 'C:\\Users\\georg\\.cache\\huggingface\\datasets\\downloads\\extracted\\8b8225f4c51599e99c7d8b471661b86c16f7f7b1d783cb2e9ec11312031ea1aa\\78b288bb-b04a-4ac2-b466-1749e4c7e5c3.webp'}</td>\n",
       "      <td>portrait of a clown by hr giger, greg rutkowski, luis royo and wayne barlowe, 8 k</td>\n",
       "      <td>6.562743e+08</td>\n",
       "      <td>50.0</td>\n",
       "      <td>7.0</td>\n",
       "      <td>k_lms</td>\n",
       "      <td>512.0</td>\n",
       "      <td>704.0</td>\n",
       "      <td>9e01c31a09dd2acc2061474b9cc95f1813f636332e120a5aa7cf435dda212075</td>\n",
       "      <td>2022-08-20 08:08:00+00:00</td>\n",
       "      <td>0.187132</td>\n",
       "      <td>0.606248</td>\n",
       "      <td>0</td>\n",
       "      <td>0 0 0 0 0 0 0 0 0 0 0 0 0 0  0</td>\n",
       "      <td>22220810 11110200 11110100 22220515 11110200 11110210 22220522 22220415 22220900 22220400 33330420 11110300 22220500 22220700  11110100</td>\n",
       "      <td>0.0</td>\n",
       "      <td>0.0</td>\n",
       "      <td>0.0</td>\n",
       "      <td>0.0</td>\n",
       "      <td>1.0</td>\n",
       "      <td>[22220810, 11110200, 11110100, 22220515, 11110200, 11110210, 22220522, 22220415, 22220900, 22220400, 33330420, 11110300, 22220500, 22220700, 11110100]</td>\n",
       "      <td>1.851709e+07</td>\n",
       "      <td>1</td>\n",
       "    </tr>\n",
       "    <tr>\n",
       "      <th>1</th>\n",
       "      <td>{'bytes': None, 'path': 'C:\\Users\\georg\\.cache\\huggingface\\datasets\\downloads\\extracted\\8b8225f4c51599e99c7d8b471661b86c16f7f7b1d783cb2e9ec11312031ea1aa\\5eedb5b2-7da5-40f1-b77d-b8bb3295c2a6.webp'}</td>\n",
       "      <td>portrait of a clown by hr giger, greg rutkowski, luis royo and wayne barlowe, 8 k</td>\n",
       "      <td>4.054062e+09</td>\n",
       "      <td>50.0</td>\n",
       "      <td>7.0</td>\n",
       "      <td>k_lms</td>\n",
       "      <td>512.0</td>\n",
       "      <td>704.0</td>\n",
       "      <td>9e01c31a09dd2acc2061474b9cc95f1813f636332e120a5aa7cf435dda212075</td>\n",
       "      <td>2022-08-20 08:08:00+00:00</td>\n",
       "      <td>0.108867</td>\n",
       "      <td>0.606248</td>\n",
       "      <td>0</td>\n",
       "      <td>0 0 0 0 0 0 0 0 0 0 0 0 0 0  0</td>\n",
       "      <td>22220810 11110200 11110100 22220515 11110200 11110210 22220522 22220415 22220900 22220400 33330420 11110300 22220500 22220700  11110100</td>\n",
       "      <td>0.0</td>\n",
       "      <td>0.0</td>\n",
       "      <td>0.0</td>\n",
       "      <td>0.0</td>\n",
       "      <td>1.0</td>\n",
       "      <td>[22220810, 11110200, 11110100, 22220515, 11110200, 11110210, 22220522, 22220415, 22220900, 22220400, 33330420, 11110300, 22220500, 22220700, 11110100]</td>\n",
       "      <td>1.851709e+07</td>\n",
       "      <td>1</td>\n",
       "    </tr>\n",
       "    <tr>\n",
       "      <th>2</th>\n",
       "      <td>{'bytes': None, 'path': 'C:\\Users\\georg\\.cache\\huggingface\\datasets\\downloads\\extracted\\8b8225f4c51599e99c7d8b471661b86c16f7f7b1d783cb2e9ec11312031ea1aa\\dc921dd3-204a-462d-8cb5-34e08bdb51c1.webp'}</td>\n",
       "      <td>portrait of a clown by hr giger, greg rutkowski, luis royo and wayne barlowe, 8 k</td>\n",
       "      <td>1.359984e+09</td>\n",
       "      <td>50.0</td>\n",
       "      <td>7.0</td>\n",
       "      <td>k_lms</td>\n",
       "      <td>512.0</td>\n",
       "      <td>704.0</td>\n",
       "      <td>9e01c31a09dd2acc2061474b9cc95f1813f636332e120a5aa7cf435dda212075</td>\n",
       "      <td>2022-08-20 08:08:00+00:00</td>\n",
       "      <td>0.135886</td>\n",
       "      <td>0.606248</td>\n",
       "      <td>0</td>\n",
       "      <td>0 0 0 0 0 0 0 0 0 0 0 0 0 0  0</td>\n",
       "      <td>22220810 11110200 11110100 22220515 11110200 11110210 22220522 22220415 22220900 22220400 33330420 11110300 22220500 22220700  11110100</td>\n",
       "      <td>0.0</td>\n",
       "      <td>0.0</td>\n",
       "      <td>0.0</td>\n",
       "      <td>0.0</td>\n",
       "      <td>1.0</td>\n",
       "      <td>[22220810, 11110200, 11110100, 22220515, 11110200, 11110210, 22220522, 22220415, 22220900, 22220400, 33330420, 11110300, 22220500, 22220700, 11110100]</td>\n",
       "      <td>1.851709e+07</td>\n",
       "      <td>1</td>\n",
       "    </tr>\n",
       "    <tr>\n",
       "      <th>3</th>\n",
       "      <td>{'bytes': None, 'path': 'C:\\Users\\georg\\.cache\\huggingface\\datasets\\downloads\\extracted\\8b8225f4c51599e99c7d8b471661b86c16f7f7b1d783cb2e9ec11312031ea1aa\\5c09e6de-a93c-4822-b703-fb269ece62e4.webp'}</td>\n",
       "      <td>portrait of a clown by hr giger, greg rutkowski, luis royo and wayne barlowe, 8 k</td>\n",
       "      <td>7.654669e+08</td>\n",
       "      <td>50.0</td>\n",
       "      <td>7.0</td>\n",
       "      <td>k_lms</td>\n",
       "      <td>512.0</td>\n",
       "      <td>704.0</td>\n",
       "      <td>9e01c31a09dd2acc2061474b9cc95f1813f636332e120a5aa7cf435dda212075</td>\n",
       "      <td>2022-08-20 08:08:00+00:00</td>\n",
       "      <td>0.128021</td>\n",
       "      <td>0.606248</td>\n",
       "      <td>0</td>\n",
       "      <td>0 0 0 0 0 0 0 0 0 0 0 0 0 0  0</td>\n",
       "      <td>22220810 11110200 11110100 22220515 11110200 11110210 22220522 22220415 22220900 22220400 33330420 11110300 22220500 22220700  11110100</td>\n",
       "      <td>0.0</td>\n",
       "      <td>0.0</td>\n",
       "      <td>0.0</td>\n",
       "      <td>0.0</td>\n",
       "      <td>1.0</td>\n",
       "      <td>[22220810, 11110200, 11110100, 22220515, 11110200, 11110210, 22220522, 22220415, 22220900, 22220400, 33330420, 11110300, 22220500, 22220700, 11110100]</td>\n",
       "      <td>1.851709e+07</td>\n",
       "      <td>1</td>\n",
       "    </tr>\n",
       "    <tr>\n",
       "      <th>4</th>\n",
       "      <td>{'bytes': None, 'path': 'C:\\Users\\georg\\.cache\\huggingface\\datasets\\downloads\\extracted\\8b8225f4c51599e99c7d8b471661b86c16f7f7b1d783cb2e9ec11312031ea1aa\\76f0a35b-9ff2-48d3-98eb-9e1961db2533.webp'}</td>\n",
       "      <td>portrait of a beautiful female clown by hr giger, greg rutkowski, luis royo and wayne barlowe, 8 k</td>\n",
       "      <td>3.727804e+09</td>\n",
       "      <td>50.0</td>\n",
       "      <td>7.0</td>\n",
       "      <td>k_lms</td>\n",
       "      <td>512.0</td>\n",
       "      <td>704.0</td>\n",
       "      <td>9e01c31a09dd2acc2061474b9cc95f1813f636332e120a5aa7cf435dda212075</td>\n",
       "      <td>2022-08-20 08:11:00+00:00</td>\n",
       "      <td>0.102913</td>\n",
       "      <td>0.815494</td>\n",
       "      <td>0</td>\n",
       "      <td>0 0 0 0 0 0 0 0 0 0 0 0 0 0 0 0  0</td>\n",
       "      <td>22220810 11110200 11110100 22220935 22220620 22220515 11110200 11110210 22220522 22220415 22220900 22220400 33330420 11110300 22220500 22220700  11110100</td>\n",
       "      <td>0.0</td>\n",
       "      <td>0.0</td>\n",
       "      <td>0.0</td>\n",
       "      <td>0.0</td>\n",
       "      <td>1.0</td>\n",
       "      <td>[22220810, 11110200, 11110100, 22220935, 22220620, 22220515, 11110200, 11110210, 22220522, 22220415, 22220900, 22220400, 33330420, 11110300, 22220500, 22220700, 11110100]</td>\n",
       "      <td>1.895281e+07</td>\n",
       "      <td>1</td>\n",
       "    </tr>\n",
       "    <tr>\n",
       "      <th>5</th>\n",
       "      <td>{'bytes': None, 'path': 'C:\\Users\\georg\\.cache\\huggingface\\datasets\\downloads\\extracted\\8b8225f4c51599e99c7d8b471661b86c16f7f7b1d783cb2e9ec11312031ea1aa\\4e9c7056-3fe3-4cb4-a636-f387a3689294.webp'}</td>\n",
       "      <td>portrait of a beautiful female clown by hr giger, greg rutkowski, luis royo and wayne barlowe, 8 k</td>\n",
       "      <td>3.098236e+09</td>\n",
       "      <td>50.0</td>\n",
       "      <td>7.0</td>\n",
       "      <td>k_lms</td>\n",
       "      <td>512.0</td>\n",
       "      <td>704.0</td>\n",
       "      <td>9e01c31a09dd2acc2061474b9cc95f1813f636332e120a5aa7cf435dda212075</td>\n",
       "      <td>2022-08-20 08:11:00+00:00</td>\n",
       "      <td>0.134565</td>\n",
       "      <td>0.815494</td>\n",
       "      <td>0</td>\n",
       "      <td>0 0 0 0 0 0 0 0 0 0 0 0 0 0 0 0  0</td>\n",
       "      <td>22220810 11110200 11110100 22220935 22220620 22220515 11110200 11110210 22220522 22220415 22220900 22220400 33330420 11110300 22220500 22220700  11110100</td>\n",
       "      <td>0.0</td>\n",
       "      <td>0.0</td>\n",
       "      <td>0.0</td>\n",
       "      <td>0.0</td>\n",
       "      <td>1.0</td>\n",
       "      <td>[22220810, 11110200, 11110100, 22220935, 22220620, 22220515, 11110200, 11110210, 22220522, 22220415, 22220900, 22220400, 33330420, 11110300, 22220500, 22220700, 11110100]</td>\n",
       "      <td>1.895281e+07</td>\n",
       "      <td>1</td>\n",
       "    </tr>\n",
       "    <tr>\n",
       "      <th>6</th>\n",
       "      <td>{'bytes': None, 'path': 'C:\\Users\\georg\\.cache\\huggingface\\datasets\\downloads\\extracted\\8b8225f4c51599e99c7d8b471661b86c16f7f7b1d783cb2e9ec11312031ea1aa\\815d5085-16ca-42c0-a2e7-6e05d2e33676.webp'}</td>\n",
       "      <td>portrait of a beautiful female clown by hr giger, greg rutkowski, luis royo and wayne barlowe, 8 k</td>\n",
       "      <td>7.926764e+08</td>\n",
       "      <td>50.0</td>\n",
       "      <td>7.0</td>\n",
       "      <td>k_lms</td>\n",
       "      <td>512.0</td>\n",
       "      <td>704.0</td>\n",
       "      <td>9e01c31a09dd2acc2061474b9cc95f1813f636332e120a5aa7cf435dda212075</td>\n",
       "      <td>2022-08-20 08:11:00+00:00</td>\n",
       "      <td>0.261573</td>\n",
       "      <td>0.815494</td>\n",
       "      <td>0</td>\n",
       "      <td>0 0 0 0 0 0 0 0 0 0 0 0 0 0 0 0  0</td>\n",
       "      <td>22220810 11110200 11110100 22220935 22220620 22220515 11110200 11110210 22220522 22220415 22220900 22220400 33330420 11110300 22220500 22220700  11110100</td>\n",
       "      <td>0.0</td>\n",
       "      <td>0.0</td>\n",
       "      <td>0.0</td>\n",
       "      <td>0.0</td>\n",
       "      <td>1.0</td>\n",
       "      <td>[22220810, 11110200, 11110100, 22220935, 22220620, 22220515, 11110200, 11110210, 22220522, 22220415, 22220900, 22220400, 33330420, 11110300, 22220500, 22220700, 11110100]</td>\n",
       "      <td>1.895281e+07</td>\n",
       "      <td>1</td>\n",
       "    </tr>\n",
       "    <tr>\n",
       "      <th>7</th>\n",
       "      <td>{'bytes': None, 'path': 'C:\\Users\\georg\\.cache\\huggingface\\datasets\\downloads\\extracted\\8b8225f4c51599e99c7d8b471661b86c16f7f7b1d783cb2e9ec11312031ea1aa\\c74d637b-3865-4843-a7c5-f1ec1d2d1764.webp'}</td>\n",
       "      <td>portrait of a beautiful female clown by hr giger, greg rutkowski, luis royo and wayne barlowe, 8 k</td>\n",
       "      <td>1.290794e+09</td>\n",
       "      <td>50.0</td>\n",
       "      <td>7.0</td>\n",
       "      <td>k_lms</td>\n",
       "      <td>512.0</td>\n",
       "      <td>704.0</td>\n",
       "      <td>9e01c31a09dd2acc2061474b9cc95f1813f636332e120a5aa7cf435dda212075</td>\n",
       "      <td>2022-08-20 08:11:00+00:00</td>\n",
       "      <td>0.098774</td>\n",
       "      <td>0.815494</td>\n",
       "      <td>0</td>\n",
       "      <td>0 0 0 0 0 0 0 0 0 0 0 0 0 0 0 0  0</td>\n",
       "      <td>22220810 11110200 11110100 22220935 22220620 22220515 11110200 11110210 22220522 22220415 22220900 22220400 33330420 11110300 22220500 22220700  11110100</td>\n",
       "      <td>0.0</td>\n",
       "      <td>0.0</td>\n",
       "      <td>0.0</td>\n",
       "      <td>0.0</td>\n",
       "      <td>1.0</td>\n",
       "      <td>[22220810, 11110200, 11110100, 22220935, 22220620, 22220515, 11110200, 11110210, 22220522, 22220415, 22220900, 22220400, 33330420, 11110300, 22220500, 22220700, 11110100]</td>\n",
       "      <td>1.895281e+07</td>\n",
       "      <td>1</td>\n",
       "    </tr>\n",
       "    <tr>\n",
       "      <th>8</th>\n",
       "      <td>{'bytes': None, 'path': 'C:\\Users\\georg\\.cache\\huggingface\\datasets\\downloads\\extracted\\8b8225f4c51599e99c7d8b471661b86c16f7f7b1d783cb2e9ec11312031ea1aa\\e0ad57ed-5113-440e-a9ad-6ea757a5a366.webp'}</td>\n",
       "      <td>portrait of a killer robot with the face of a female clown by hr giger, greg rutkowski, luis royo and wayne barlowe, 8 k</td>\n",
       "      <td>1.863822e+09</td>\n",
       "      <td>50.0</td>\n",
       "      <td>7.0</td>\n",
       "      <td>k_lms</td>\n",
       "      <td>512.0</td>\n",
       "      <td>704.0</td>\n",
       "      <td>9e01c31a09dd2acc2061474b9cc95f1813f636332e120a5aa7cf435dda212075</td>\n",
       "      <td>2022-08-20 08:14:00+00:00</td>\n",
       "      <td>0.357786</td>\n",
       "      <td>0.779255</td>\n",
       "      <td>0</td>\n",
       "      <td>0 0 0 3 0 0 0 0 0 0 0 0 0 0 0 0 0 0 0 0 0 0  0</td>\n",
       "      <td>22220810 11110200 11110100 66660690 22220510 11110410 11110300 33330410 11110200 11110100 22220620 22220515 11110200 11110210 22220522 22220415 22220900 22220400 33330420 11110300 22220500 22220700  11110100</td>\n",
       "      <td>1.0</td>\n",
       "      <td>0.0</td>\n",
       "      <td>0.0</td>\n",
       "      <td>1.0</td>\n",
       "      <td>0.0</td>\n",
       "      <td>[22220810, 11110200, 11110100, 66660690, 22220510, 11110410, 11110300, 33330410, 11110200, 11110100, 22220620, 22220515, 11110200, 11110210, 22220522, 22220415, 22220900, 22220400, 33330420, 11110300, 22220500, 22220700, 11110100]</td>\n",
       "      <td>2.028824e+07</td>\n",
       "      <td>1</td>\n",
       "    </tr>\n",
       "    <tr>\n",
       "      <th>9</th>\n",
       "      <td>{'bytes': None, 'path': 'C:\\Users\\georg\\.cache\\huggingface\\datasets\\downloads\\extracted\\8b8225f4c51599e99c7d8b471661b86c16f7f7b1d783cb2e9ec11312031ea1aa\\3347fa33-b77c-47c8-a82e-3aa5c91d42da.webp'}</td>\n",
       "      <td>portrait of a killer robot with the face of a female clown by hr giger, greg rutkowski, luis royo and wayne barlowe, 8 k</td>\n",
       "      <td>3.704704e+09</td>\n",
       "      <td>50.0</td>\n",
       "      <td>7.0</td>\n",
       "      <td>k_lms</td>\n",
       "      <td>512.0</td>\n",
       "      <td>704.0</td>\n",
       "      <td>9e01c31a09dd2acc2061474b9cc95f1813f636332e120a5aa7cf435dda212075</td>\n",
       "      <td>2022-08-20 08:14:00+00:00</td>\n",
       "      <td>0.168311</td>\n",
       "      <td>0.779255</td>\n",
       "      <td>0</td>\n",
       "      <td>0 0 0 3 0 0 0 0 0 0 0 0 0 0 0 0 0 0 0 0 0 0  0</td>\n",
       "      <td>22220810 11110200 11110100 66660690 22220510 11110410 11110300 33330410 11110200 11110100 22220620 22220515 11110200 11110210 22220522 22220415 22220900 22220400 33330420 11110300 22220500 22220700  11110100</td>\n",
       "      <td>1.0</td>\n",
       "      <td>0.0</td>\n",
       "      <td>0.0</td>\n",
       "      <td>1.0</td>\n",
       "      <td>0.0</td>\n",
       "      <td>[22220810, 11110200, 11110100, 66660690, 22220510, 11110410, 11110300, 33330410, 11110200, 11110100, 22220620, 22220515, 11110200, 11110210, 22220522, 22220415, 22220900, 22220400, 33330420, 11110300, 22220500, 22220700, 11110100]</td>\n",
       "      <td>2.028824e+07</td>\n",
       "      <td>1</td>\n",
       "    </tr>\n",
       "    <tr>\n",
       "      <th>10</th>\n",
       "      <td>{'bytes': None, 'path': 'C:\\Users\\georg\\.cache\\huggingface\\datasets\\downloads\\extracted\\8b8225f4c51599e99c7d8b471661b86c16f7f7b1d783cb2e9ec11312031ea1aa\\73ac03e8-7fb6-469e-aae4-be7fe8c18db7.webp'}</td>\n",
       "      <td>portrait of a killer robot with the face of a female clown by hr giger, greg rutkowski, luis royo and wayne barlowe, 8 k</td>\n",
       "      <td>2.857197e+09</td>\n",
       "      <td>50.0</td>\n",
       "      <td>7.0</td>\n",
       "      <td>k_lms</td>\n",
       "      <td>512.0</td>\n",
       "      <td>704.0</td>\n",
       "      <td>9e01c31a09dd2acc2061474b9cc95f1813f636332e120a5aa7cf435dda212075</td>\n",
       "      <td>2022-08-20 08:14:00+00:00</td>\n",
       "      <td>0.180051</td>\n",
       "      <td>0.779255</td>\n",
       "      <td>0</td>\n",
       "      <td>0 0 0 3 0 0 0 0 0 0 0 0 0 0 0 0 0 0 0 0 0 0  0</td>\n",
       "      <td>22220810 11110200 11110100 66660690 22220510 11110410 11110300 33330410 11110200 11110100 22220620 22220515 11110200 11110210 22220522 22220415 22220900 22220400 33330420 11110300 22220500 22220700  11110100</td>\n",
       "      <td>1.0</td>\n",
       "      <td>0.0</td>\n",
       "      <td>0.0</td>\n",
       "      <td>1.0</td>\n",
       "      <td>0.0</td>\n",
       "      <td>[22220810, 11110200, 11110100, 66660690, 22220510, 11110410, 11110300, 33330410, 11110200, 11110100, 22220620, 22220515, 11110200, 11110210, 22220522, 22220415, 22220900, 22220400, 33330420, 11110300, 22220500, 22220700, 11110100]</td>\n",
       "      <td>2.028824e+07</td>\n",
       "      <td>1</td>\n",
       "    </tr>\n",
       "    <tr>\n",
       "      <th>11</th>\n",
       "      <td>{'bytes': None, 'path': 'C:\\Users\\georg\\.cache\\huggingface\\datasets\\downloads\\extracted\\8b8225f4c51599e99c7d8b471661b86c16f7f7b1d783cb2e9ec11312031ea1aa\\9987a0f9-6fcc-499a-9e23-f97e06836b54.webp'}</td>\n",
       "      <td>portrait of a killer robot with the face of a female clown by hr giger, greg rutkowski, luis royo and wayne barlowe, 8 k</td>\n",
       "      <td>1.268265e+09</td>\n",
       "      <td>50.0</td>\n",
       "      <td>7.0</td>\n",
       "      <td>k_lms</td>\n",
       "      <td>512.0</td>\n",
       "      <td>704.0</td>\n",
       "      <td>9e01c31a09dd2acc2061474b9cc95f1813f636332e120a5aa7cf435dda212075</td>\n",
       "      <td>2022-08-20 08:14:00+00:00</td>\n",
       "      <td>0.184501</td>\n",
       "      <td>0.779255</td>\n",
       "      <td>0</td>\n",
       "      <td>0 0 0 3 0 0 0 0 0 0 0 0 0 0 0 0 0 0 0 0 0 0  0</td>\n",
       "      <td>22220810 11110200 11110100 66660690 22220510 11110410 11110300 33330410 11110200 11110100 22220620 22220515 11110200 11110210 22220522 22220415 22220900 22220400 33330420 11110300 22220500 22220700  11110100</td>\n",
       "      <td>1.0</td>\n",
       "      <td>0.0</td>\n",
       "      <td>0.0</td>\n",
       "      <td>1.0</td>\n",
       "      <td>0.0</td>\n",
       "      <td>[22220810, 11110200, 11110100, 66660690, 22220510, 11110410, 11110300, 33330410, 11110200, 11110100, 22220620, 22220515, 11110200, 11110210, 22220522, 22220415, 22220900, 22220400, 33330420, 11110300, 22220500, 22220700, 11110100]</td>\n",
       "      <td>2.028824e+07</td>\n",
       "      <td>1</td>\n",
       "    </tr>\n",
       "    <tr>\n",
       "      <th>12</th>\n",
       "      <td>{'bytes': None, 'path': 'C:\\Users\\georg\\.cache\\huggingface\\datasets\\downloads\\extracted\\8b8225f4c51599e99c7d8b471661b86c16f7f7b1d783cb2e9ec11312031ea1aa\\01c895e7-856f-4b7a-bb49-bb00da83a5a1.webp'}</td>\n",
       "      <td>the letters d i j i k u l written in graffiti on a brick wall in colorful font</td>\n",
       "      <td>1.487377e+09</td>\n",
       "      <td>50.0</td>\n",
       "      <td>7.0</td>\n",
       "      <td>k_lms</td>\n",
       "      <td>512.0</td>\n",
       "      <td>512.0</td>\n",
       "      <td>2cf7dfc0bafbf7dae0868a2756c4d2eae6a082ae89971c3584dd57b537c300f0</td>\n",
       "      <td>2022-08-20 07:06:00+00:00</td>\n",
       "      <td>0.034654</td>\n",
       "      <td>0.513464</td>\n",
       "      <td>0</td>\n",
       "      <td>0 0 0 0 0 0 0 0 0 0 0 1 0 0 0 0 0 0 0</td>\n",
       "      <td>11110300 22220715 11110100 11110100 11110100 11110100 11110100 11110101 11110100 33330710 11110200 22220835 33330201 11110100 22220515 22220410 11110200 22220825 11110410</td>\n",
       "      <td>0.0</td>\n",
       "      <td>0.0</td>\n",
       "      <td>1.0</td>\n",
       "      <td>1.0</td>\n",
       "      <td>1.0</td>\n",
       "      <td>[11110300, 22220715, 11110100, 11110100, 11110100, 11110100, 11110100, 11110101, 11110100, 33330710, 11110200, 22220835, 33330201, 11110100, 22220515, 22220410, 11110200, 22220825, 11110410]</td>\n",
       "      <td>1.637295e+07</td>\n",
       "      <td>1</td>\n",
       "    </tr>\n",
       "    <tr>\n",
       "      <th>13</th>\n",
       "      <td>{'bytes': None, 'path': 'C:\\Users\\georg\\.cache\\huggingface\\datasets\\downloads\\extracted\\8b8225f4c51599e99c7d8b471661b86c16f7f7b1d783cb2e9ec11312031ea1aa\\3cbba7db-e243-4cd2-8a76-50a5bdaec64b.webp'}</td>\n",
       "      <td>the letters d i j i k u l written in graffiti on a brick wall in colorful font</td>\n",
       "      <td>1.169781e+09</td>\n",
       "      <td>50.0</td>\n",
       "      <td>7.0</td>\n",
       "      <td>k_lms</td>\n",
       "      <td>512.0</td>\n",
       "      <td>512.0</td>\n",
       "      <td>2cf7dfc0bafbf7dae0868a2756c4d2eae6a082ae89971c3584dd57b537c300f0</td>\n",
       "      <td>2022-08-20 07:06:00+00:00</td>\n",
       "      <td>0.117175</td>\n",
       "      <td>0.513464</td>\n",
       "      <td>0</td>\n",
       "      <td>0 0 0 0 0 0 0 0 0 0 0 1 0 0 0 0 0 0 0</td>\n",
       "      <td>11110300 22220715 11110100 11110100 11110100 11110100 11110100 11110101 11110100 33330710 11110200 22220835 33330201 11110100 22220515 22220410 11110200 22220825 11110410</td>\n",
       "      <td>0.0</td>\n",
       "      <td>0.0</td>\n",
       "      <td>1.0</td>\n",
       "      <td>1.0</td>\n",
       "      <td>1.0</td>\n",
       "      <td>[11110300, 22220715, 11110100, 11110100, 11110100, 11110100, 11110100, 11110101, 11110100, 33330710, 11110200, 22220835, 33330201, 11110100, 22220515, 22220410, 11110200, 22220825, 11110410]</td>\n",
       "      <td>1.637295e+07</td>\n",
       "      <td>1</td>\n",
       "    </tr>\n",
       "    <tr>\n",
       "      <th>14</th>\n",
       "      <td>{'bytes': None, 'path': 'C:\\Users\\georg\\.cache\\huggingface\\datasets\\downloads\\extracted\\8b8225f4c51599e99c7d8b471661b86c16f7f7b1d783cb2e9ec11312031ea1aa\\8e8f470f-4656-4a15-8891-4173d2a9f468.webp'}</td>\n",
       "      <td>the letters d i j i k u l written in graffiti on a brick wall in colorful font</td>\n",
       "      <td>2.766598e+09</td>\n",
       "      <td>50.0</td>\n",
       "      <td>7.0</td>\n",
       "      <td>k_lms</td>\n",
       "      <td>512.0</td>\n",
       "      <td>512.0</td>\n",
       "      <td>2cf7dfc0bafbf7dae0868a2756c4d2eae6a082ae89971c3584dd57b537c300f0</td>\n",
       "      <td>2022-08-20 07:06:00+00:00</td>\n",
       "      <td>0.090773</td>\n",
       "      <td>0.513464</td>\n",
       "      <td>0</td>\n",
       "      <td>0 0 0 0 0 0 0 0 0 0 0 1 0 0 0 0 0 0 0</td>\n",
       "      <td>11110300 22220715 11110100 11110100 11110100 11110100 11110100 11110101 11110100 33330710 11110200 22220835 33330201 11110100 22220515 22220410 11110200 22220825 11110410</td>\n",
       "      <td>0.0</td>\n",
       "      <td>0.0</td>\n",
       "      <td>1.0</td>\n",
       "      <td>1.0</td>\n",
       "      <td>1.0</td>\n",
       "      <td>[11110300, 22220715, 11110100, 11110100, 11110100, 11110100, 11110100, 11110101, 11110100, 33330710, 11110200, 22220835, 33330201, 11110100, 22220515, 22220410, 11110200, 22220825, 11110410]</td>\n",
       "      <td>1.637295e+07</td>\n",
       "      <td>1</td>\n",
       "    </tr>\n",
       "  </tbody>\n",
       "</table>\n",
       "</div>"
      ],
      "text/plain": [
       "                                                                                                                                                                                                   image  \\\n",
       "0   {'bytes': None, 'path': 'C:\\Users\\georg\\.cache\\huggingface\\datasets\\downloads\\extracted\\8b8225f4c51599e99c7d8b471661b86c16f7f7b1d783cb2e9ec11312031ea1aa\\78b288bb-b04a-4ac2-b466-1749e4c7e5c3.webp'}   \n",
       "1   {'bytes': None, 'path': 'C:\\Users\\georg\\.cache\\huggingface\\datasets\\downloads\\extracted\\8b8225f4c51599e99c7d8b471661b86c16f7f7b1d783cb2e9ec11312031ea1aa\\5eedb5b2-7da5-40f1-b77d-b8bb3295c2a6.webp'}   \n",
       "2   {'bytes': None, 'path': 'C:\\Users\\georg\\.cache\\huggingface\\datasets\\downloads\\extracted\\8b8225f4c51599e99c7d8b471661b86c16f7f7b1d783cb2e9ec11312031ea1aa\\dc921dd3-204a-462d-8cb5-34e08bdb51c1.webp'}   \n",
       "3   {'bytes': None, 'path': 'C:\\Users\\georg\\.cache\\huggingface\\datasets\\downloads\\extracted\\8b8225f4c51599e99c7d8b471661b86c16f7f7b1d783cb2e9ec11312031ea1aa\\5c09e6de-a93c-4822-b703-fb269ece62e4.webp'}   \n",
       "4   {'bytes': None, 'path': 'C:\\Users\\georg\\.cache\\huggingface\\datasets\\downloads\\extracted\\8b8225f4c51599e99c7d8b471661b86c16f7f7b1d783cb2e9ec11312031ea1aa\\76f0a35b-9ff2-48d3-98eb-9e1961db2533.webp'}   \n",
       "5   {'bytes': None, 'path': 'C:\\Users\\georg\\.cache\\huggingface\\datasets\\downloads\\extracted\\8b8225f4c51599e99c7d8b471661b86c16f7f7b1d783cb2e9ec11312031ea1aa\\4e9c7056-3fe3-4cb4-a636-f387a3689294.webp'}   \n",
       "6   {'bytes': None, 'path': 'C:\\Users\\georg\\.cache\\huggingface\\datasets\\downloads\\extracted\\8b8225f4c51599e99c7d8b471661b86c16f7f7b1d783cb2e9ec11312031ea1aa\\815d5085-16ca-42c0-a2e7-6e05d2e33676.webp'}   \n",
       "7   {'bytes': None, 'path': 'C:\\Users\\georg\\.cache\\huggingface\\datasets\\downloads\\extracted\\8b8225f4c51599e99c7d8b471661b86c16f7f7b1d783cb2e9ec11312031ea1aa\\c74d637b-3865-4843-a7c5-f1ec1d2d1764.webp'}   \n",
       "8   {'bytes': None, 'path': 'C:\\Users\\georg\\.cache\\huggingface\\datasets\\downloads\\extracted\\8b8225f4c51599e99c7d8b471661b86c16f7f7b1d783cb2e9ec11312031ea1aa\\e0ad57ed-5113-440e-a9ad-6ea757a5a366.webp'}   \n",
       "9   {'bytes': None, 'path': 'C:\\Users\\georg\\.cache\\huggingface\\datasets\\downloads\\extracted\\8b8225f4c51599e99c7d8b471661b86c16f7f7b1d783cb2e9ec11312031ea1aa\\3347fa33-b77c-47c8-a82e-3aa5c91d42da.webp'}   \n",
       "10  {'bytes': None, 'path': 'C:\\Users\\georg\\.cache\\huggingface\\datasets\\downloads\\extracted\\8b8225f4c51599e99c7d8b471661b86c16f7f7b1d783cb2e9ec11312031ea1aa\\73ac03e8-7fb6-469e-aae4-be7fe8c18db7.webp'}   \n",
       "11  {'bytes': None, 'path': 'C:\\Users\\georg\\.cache\\huggingface\\datasets\\downloads\\extracted\\8b8225f4c51599e99c7d8b471661b86c16f7f7b1d783cb2e9ec11312031ea1aa\\9987a0f9-6fcc-499a-9e23-f97e06836b54.webp'}   \n",
       "12  {'bytes': None, 'path': 'C:\\Users\\georg\\.cache\\huggingface\\datasets\\downloads\\extracted\\8b8225f4c51599e99c7d8b471661b86c16f7f7b1d783cb2e9ec11312031ea1aa\\01c895e7-856f-4b7a-bb49-bb00da83a5a1.webp'}   \n",
       "13  {'bytes': None, 'path': 'C:\\Users\\georg\\.cache\\huggingface\\datasets\\downloads\\extracted\\8b8225f4c51599e99c7d8b471661b86c16f7f7b1d783cb2e9ec11312031ea1aa\\3cbba7db-e243-4cd2-8a76-50a5bdaec64b.webp'}   \n",
       "14  {'bytes': None, 'path': 'C:\\Users\\georg\\.cache\\huggingface\\datasets\\downloads\\extracted\\8b8225f4c51599e99c7d8b471661b86c16f7f7b1d783cb2e9ec11312031ea1aa\\8e8f470f-4656-4a15-8891-4173d2a9f468.webp'}   \n",
       "\n",
       "                                                                                                                       prompt  \\\n",
       "0                                          portrait of a clown by hr giger, greg rutkowski, luis royo and wayne barlowe, 8 k    \n",
       "1                                          portrait of a clown by hr giger, greg rutkowski, luis royo and wayne barlowe, 8 k    \n",
       "2                                          portrait of a clown by hr giger, greg rutkowski, luis royo and wayne barlowe, 8 k    \n",
       "3                                          portrait of a clown by hr giger, greg rutkowski, luis royo and wayne barlowe, 8 k    \n",
       "4                         portrait of a beautiful female clown by hr giger, greg rutkowski, luis royo and wayne barlowe, 8 k    \n",
       "5                         portrait of a beautiful female clown by hr giger, greg rutkowski, luis royo and wayne barlowe, 8 k    \n",
       "6                         portrait of a beautiful female clown by hr giger, greg rutkowski, luis royo and wayne barlowe, 8 k    \n",
       "7                         portrait of a beautiful female clown by hr giger, greg rutkowski, luis royo and wayne barlowe, 8 k    \n",
       "8   portrait of a killer robot with the face of a female clown by hr giger, greg rutkowski, luis royo and wayne barlowe, 8 k    \n",
       "9   portrait of a killer robot with the face of a female clown by hr giger, greg rutkowski, luis royo and wayne barlowe, 8 k    \n",
       "10  portrait of a killer robot with the face of a female clown by hr giger, greg rutkowski, luis royo and wayne barlowe, 8 k    \n",
       "11  portrait of a killer robot with the face of a female clown by hr giger, greg rutkowski, luis royo and wayne barlowe, 8 k    \n",
       "12                                            the letters d i j i k u l written in graffiti on a brick wall in colorful font    \n",
       "13                                            the letters d i j i k u l written in graffiti on a brick wall in colorful font    \n",
       "14                                            the letters d i j i k u l written in graffiti on a brick wall in colorful font    \n",
       "\n",
       "            seed  step  cfg sampler  width  height  \\\n",
       "0   6.562743e+08  50.0  7.0   k_lms  512.0   704.0   \n",
       "1   4.054062e+09  50.0  7.0   k_lms  512.0   704.0   \n",
       "2   1.359984e+09  50.0  7.0   k_lms  512.0   704.0   \n",
       "3   7.654669e+08  50.0  7.0   k_lms  512.0   704.0   \n",
       "4   3.727804e+09  50.0  7.0   k_lms  512.0   704.0   \n",
       "5   3.098236e+09  50.0  7.0   k_lms  512.0   704.0   \n",
       "6   7.926764e+08  50.0  7.0   k_lms  512.0   704.0   \n",
       "7   1.290794e+09  50.0  7.0   k_lms  512.0   704.0   \n",
       "8   1.863822e+09  50.0  7.0   k_lms  512.0   704.0   \n",
       "9   3.704704e+09  50.0  7.0   k_lms  512.0   704.0   \n",
       "10  2.857197e+09  50.0  7.0   k_lms  512.0   704.0   \n",
       "11  1.268265e+09  50.0  7.0   k_lms  512.0   704.0   \n",
       "12  1.487377e+09  50.0  7.0   k_lms  512.0   512.0   \n",
       "13  1.169781e+09  50.0  7.0   k_lms  512.0   512.0   \n",
       "14  2.766598e+09  50.0  7.0   k_lms  512.0   512.0   \n",
       "\n",
       "                                                           user_name  \\\n",
       "0   9e01c31a09dd2acc2061474b9cc95f1813f636332e120a5aa7cf435dda212075   \n",
       "1   9e01c31a09dd2acc2061474b9cc95f1813f636332e120a5aa7cf435dda212075   \n",
       "2   9e01c31a09dd2acc2061474b9cc95f1813f636332e120a5aa7cf435dda212075   \n",
       "3   9e01c31a09dd2acc2061474b9cc95f1813f636332e120a5aa7cf435dda212075   \n",
       "4   9e01c31a09dd2acc2061474b9cc95f1813f636332e120a5aa7cf435dda212075   \n",
       "5   9e01c31a09dd2acc2061474b9cc95f1813f636332e120a5aa7cf435dda212075   \n",
       "6   9e01c31a09dd2acc2061474b9cc95f1813f636332e120a5aa7cf435dda212075   \n",
       "7   9e01c31a09dd2acc2061474b9cc95f1813f636332e120a5aa7cf435dda212075   \n",
       "8   9e01c31a09dd2acc2061474b9cc95f1813f636332e120a5aa7cf435dda212075   \n",
       "9   9e01c31a09dd2acc2061474b9cc95f1813f636332e120a5aa7cf435dda212075   \n",
       "10  9e01c31a09dd2acc2061474b9cc95f1813f636332e120a5aa7cf435dda212075   \n",
       "11  9e01c31a09dd2acc2061474b9cc95f1813f636332e120a5aa7cf435dda212075   \n",
       "12  2cf7dfc0bafbf7dae0868a2756c4d2eae6a082ae89971c3584dd57b537c300f0   \n",
       "13  2cf7dfc0bafbf7dae0868a2756c4d2eae6a082ae89971c3584dd57b537c300f0   \n",
       "14  2cf7dfc0bafbf7dae0868a2756c4d2eae6a082ae89971c3584dd57b537c300f0   \n",
       "\n",
       "                   timestamp  image_nsfw  prompt_nsfw  allowed  \\\n",
       "0  2022-08-20 08:08:00+00:00    0.187132     0.606248        0   \n",
       "1  2022-08-20 08:08:00+00:00    0.108867     0.606248        0   \n",
       "2  2022-08-20 08:08:00+00:00    0.135886     0.606248        0   \n",
       "3  2022-08-20 08:08:00+00:00    0.128021     0.606248        0   \n",
       "4  2022-08-20 08:11:00+00:00    0.102913     0.815494        0   \n",
       "5  2022-08-20 08:11:00+00:00    0.134565     0.815494        0   \n",
       "6  2022-08-20 08:11:00+00:00    0.261573     0.815494        0   \n",
       "7  2022-08-20 08:11:00+00:00    0.098774     0.815494        0   \n",
       "8  2022-08-20 08:14:00+00:00    0.357786     0.779255        0   \n",
       "9  2022-08-20 08:14:00+00:00    0.168311     0.779255        0   \n",
       "10 2022-08-20 08:14:00+00:00    0.180051     0.779255        0   \n",
       "11 2022-08-20 08:14:00+00:00    0.184501     0.779255        0   \n",
       "12 2022-08-20 07:06:00+00:00    0.034654     0.513464        0   \n",
       "13 2022-08-20 07:06:00+00:00    0.117175     0.513464        0   \n",
       "14 2022-08-20 07:06:00+00:00    0.090773     0.513464        0   \n",
       "\n",
       "                                        Classprompt  \\\n",
       "0                   0 0 0 0 0 0 0 0 0 0 0 0 0 0  0    \n",
       "1                   0 0 0 0 0 0 0 0 0 0 0 0 0 0  0    \n",
       "2                   0 0 0 0 0 0 0 0 0 0 0 0 0 0  0    \n",
       "3                   0 0 0 0 0 0 0 0 0 0 0 0 0 0  0    \n",
       "4               0 0 0 0 0 0 0 0 0 0 0 0 0 0 0 0  0    \n",
       "5               0 0 0 0 0 0 0 0 0 0 0 0 0 0 0 0  0    \n",
       "6               0 0 0 0 0 0 0 0 0 0 0 0 0 0 0 0  0    \n",
       "7               0 0 0 0 0 0 0 0 0 0 0 0 0 0 0 0  0    \n",
       "8   0 0 0 3 0 0 0 0 0 0 0 0 0 0 0 0 0 0 0 0 0 0  0    \n",
       "9   0 0 0 3 0 0 0 0 0 0 0 0 0 0 0 0 0 0 0 0 0 0  0    \n",
       "10  0 0 0 3 0 0 0 0 0 0 0 0 0 0 0 0 0 0 0 0 0 0  0    \n",
       "11  0 0 0 3 0 0 0 0 0 0 0 0 0 0 0 0 0 0 0 0 0 0  0    \n",
       "12           0 0 0 0 0 0 0 0 0 0 0 1 0 0 0 0 0 0 0    \n",
       "13           0 0 0 0 0 0 0 0 0 0 0 1 0 0 0 0 0 0 0    \n",
       "14           0 0 0 0 0 0 0 0 0 0 0 1 0 0 0 0 0 0 0    \n",
       "\n",
       "                                                                                                                                                                                                           Numprompt  \\\n",
       "0                                                                           22220810 11110200 11110100 22220515 11110200 11110210 22220522 22220415 22220900 22220400 33330420 11110300 22220500 22220700  11110100    \n",
       "1                                                                           22220810 11110200 11110100 22220515 11110200 11110210 22220522 22220415 22220900 22220400 33330420 11110300 22220500 22220700  11110100    \n",
       "2                                                                           22220810 11110200 11110100 22220515 11110200 11110210 22220522 22220415 22220900 22220400 33330420 11110300 22220500 22220700  11110100    \n",
       "3                                                                           22220810 11110200 11110100 22220515 11110200 11110210 22220522 22220415 22220900 22220400 33330420 11110300 22220500 22220700  11110100    \n",
       "4                                                         22220810 11110200 11110100 22220935 22220620 22220515 11110200 11110210 22220522 22220415 22220900 22220400 33330420 11110300 22220500 22220700  11110100    \n",
       "5                                                         22220810 11110200 11110100 22220935 22220620 22220515 11110200 11110210 22220522 22220415 22220900 22220400 33330420 11110300 22220500 22220700  11110100    \n",
       "6                                                         22220810 11110200 11110100 22220935 22220620 22220515 11110200 11110210 22220522 22220415 22220900 22220400 33330420 11110300 22220500 22220700  11110100    \n",
       "7                                                         22220810 11110200 11110100 22220935 22220620 22220515 11110200 11110210 22220522 22220415 22220900 22220400 33330420 11110300 22220500 22220700  11110100    \n",
       "8   22220810 11110200 11110100 66660690 22220510 11110410 11110300 33330410 11110200 11110100 22220620 22220515 11110200 11110210 22220522 22220415 22220900 22220400 33330420 11110300 22220500 22220700  11110100    \n",
       "9   22220810 11110200 11110100 66660690 22220510 11110410 11110300 33330410 11110200 11110100 22220620 22220515 11110200 11110210 22220522 22220415 22220900 22220400 33330420 11110300 22220500 22220700  11110100    \n",
       "10  22220810 11110200 11110100 66660690 22220510 11110410 11110300 33330410 11110200 11110100 22220620 22220515 11110200 11110210 22220522 22220415 22220900 22220400 33330420 11110300 22220500 22220700  11110100    \n",
       "11  22220810 11110200 11110100 66660690 22220510 11110410 11110300 33330410 11110200 11110100 22220620 22220515 11110200 11110210 22220522 22220415 22220900 22220400 33330420 11110300 22220500 22220700  11110100    \n",
       "12                                       11110300 22220715 11110100 11110100 11110100 11110100 11110100 11110101 11110100 33330710 11110200 22220835 33330201 11110100 22220515 22220410 11110200 22220825 11110410    \n",
       "13                                       11110300 22220715 11110100 11110100 11110100 11110100 11110100 11110101 11110100 33330710 11110200 22220835 33330201 11110100 22220515 22220410 11110200 22220825 11110410    \n",
       "14                                       11110300 22220715 11110100 11110100 11110100 11110100 11110100 11110101 11110100 33330710 11110200 22220835 33330201 11110100 22220515 22220410 11110200 22220825 11110410    \n",
       "\n",
       "    Class 3 appearance count  Class 2 appearance count  \\\n",
       "0                        0.0                       0.0   \n",
       "1                        0.0                       0.0   \n",
       "2                        0.0                       0.0   \n",
       "3                        0.0                       0.0   \n",
       "4                        0.0                       0.0   \n",
       "5                        0.0                       0.0   \n",
       "6                        0.0                       0.0   \n",
       "7                        0.0                       0.0   \n",
       "8                        1.0                       0.0   \n",
       "9                        1.0                       0.0   \n",
       "10                       1.0                       0.0   \n",
       "11                       1.0                       0.0   \n",
       "12                       0.0                       0.0   \n",
       "13                       0.0                       0.0   \n",
       "14                       0.0                       0.0   \n",
       "\n",
       "    Class 1 appearance count  Class Sum count  Guess allowed  \\\n",
       "0                        0.0              0.0            1.0   \n",
       "1                        0.0              0.0            1.0   \n",
       "2                        0.0              0.0            1.0   \n",
       "3                        0.0              0.0            1.0   \n",
       "4                        0.0              0.0            1.0   \n",
       "5                        0.0              0.0            1.0   \n",
       "6                        0.0              0.0            1.0   \n",
       "7                        0.0              0.0            1.0   \n",
       "8                        0.0              1.0            0.0   \n",
       "9                        0.0              1.0            0.0   \n",
       "10                       0.0              1.0            0.0   \n",
       "11                       0.0              1.0            0.0   \n",
       "12                       1.0              1.0            1.0   \n",
       "13                       1.0              1.0            1.0   \n",
       "14                       1.0              1.0            1.0   \n",
       "\n",
       "                                                                                                                                                                                                                                   Numbers  \\\n",
       "0                                                                                   [22220810, 11110200, 11110100, 22220515, 11110200, 11110210, 22220522, 22220415, 22220900, 22220400, 33330420, 11110300, 22220500, 22220700, 11110100]   \n",
       "1                                                                                   [22220810, 11110200, 11110100, 22220515, 11110200, 11110210, 22220522, 22220415, 22220900, 22220400, 33330420, 11110300, 22220500, 22220700, 11110100]   \n",
       "2                                                                                   [22220810, 11110200, 11110100, 22220515, 11110200, 11110210, 22220522, 22220415, 22220900, 22220400, 33330420, 11110300, 22220500, 22220700, 11110100]   \n",
       "3                                                                                   [22220810, 11110200, 11110100, 22220515, 11110200, 11110210, 22220522, 22220415, 22220900, 22220400, 33330420, 11110300, 22220500, 22220700, 11110100]   \n",
       "4                                                               [22220810, 11110200, 11110100, 22220935, 22220620, 22220515, 11110200, 11110210, 22220522, 22220415, 22220900, 22220400, 33330420, 11110300, 22220500, 22220700, 11110100]   \n",
       "5                                                               [22220810, 11110200, 11110100, 22220935, 22220620, 22220515, 11110200, 11110210, 22220522, 22220415, 22220900, 22220400, 33330420, 11110300, 22220500, 22220700, 11110100]   \n",
       "6                                                               [22220810, 11110200, 11110100, 22220935, 22220620, 22220515, 11110200, 11110210, 22220522, 22220415, 22220900, 22220400, 33330420, 11110300, 22220500, 22220700, 11110100]   \n",
       "7                                                               [22220810, 11110200, 11110100, 22220935, 22220620, 22220515, 11110200, 11110210, 22220522, 22220415, 22220900, 22220400, 33330420, 11110300, 22220500, 22220700, 11110100]   \n",
       "8   [22220810, 11110200, 11110100, 66660690, 22220510, 11110410, 11110300, 33330410, 11110200, 11110100, 22220620, 22220515, 11110200, 11110210, 22220522, 22220415, 22220900, 22220400, 33330420, 11110300, 22220500, 22220700, 11110100]   \n",
       "9   [22220810, 11110200, 11110100, 66660690, 22220510, 11110410, 11110300, 33330410, 11110200, 11110100, 22220620, 22220515, 11110200, 11110210, 22220522, 22220415, 22220900, 22220400, 33330420, 11110300, 22220500, 22220700, 11110100]   \n",
       "10  [22220810, 11110200, 11110100, 66660690, 22220510, 11110410, 11110300, 33330410, 11110200, 11110100, 22220620, 22220515, 11110200, 11110210, 22220522, 22220415, 22220900, 22220400, 33330420, 11110300, 22220500, 22220700, 11110100]   \n",
       "11  [22220810, 11110200, 11110100, 66660690, 22220510, 11110410, 11110300, 33330410, 11110200, 11110100, 22220620, 22220515, 11110200, 11110210, 22220522, 22220415, 22220900, 22220400, 33330420, 11110300, 22220500, 22220700, 11110100]   \n",
       "12                                          [11110300, 22220715, 11110100, 11110100, 11110100, 11110100, 11110100, 11110101, 11110100, 33330710, 11110200, 22220835, 33330201, 11110100, 22220515, 22220410, 11110200, 22220825, 11110410]   \n",
       "13                                          [11110300, 22220715, 11110100, 11110100, 11110100, 11110100, 11110100, 11110101, 11110100, 33330710, 11110200, 22220835, 33330201, 11110100, 22220515, 22220410, 11110200, 22220825, 11110410]   \n",
       "14                                          [11110300, 22220715, 11110100, 11110100, 11110100, 11110100, 11110100, 11110101, 11110100, 33330710, 11110200, 22220835, 33330201, 11110100, 22220515, 22220410, 11110200, 22220825, 11110410]   \n",
       "\n",
       "    Average Number  Banned  \n",
       "0     1.851709e+07       1  \n",
       "1     1.851709e+07       1  \n",
       "2     1.851709e+07       1  \n",
       "3     1.851709e+07       1  \n",
       "4     1.895281e+07       1  \n",
       "5     1.895281e+07       1  \n",
       "6     1.895281e+07       1  \n",
       "7     1.895281e+07       1  \n",
       "8     2.028824e+07       1  \n",
       "9     2.028824e+07       1  \n",
       "10    2.028824e+07       1  \n",
       "11    2.028824e+07       1  \n",
       "12    1.637295e+07       1  \n",
       "13    1.637295e+07       1  \n",
       "14    1.637295e+07       1  "
      ]
     },
     "execution_count": 170,
     "metadata": {},
     "output_type": "execute_result"
    }
   ],
   "source": [
    "df_combined.head(15)"
   ]
  },
  {
   "cell_type": "code",
   "execution_count": 176,
   "id": "7e818572-faec-49f6-a600-6a45ec9293d6",
   "metadata": {},
   "outputs": [
    {
     "name": "stdout",
     "output_type": "stream",
     "text": [
      "==================================================\n",
      "Results for Naïve Bayes Classifier\n",
      "==================================================\n",
      "\n",
      "Confusion Matrix:\n",
      "[[1816 1256]\n",
      " [1050 2020]]\n",
      "\n",
      "True Positives (TP): 2020\n",
      "True Negatives (TN): 1816\n",
      "False Positives (FP): 1256\n",
      "False Negatives (FN): 1050\n",
      "\n",
      "Accuracy: 62.46%\n",
      "Precision: 61.66%\n",
      "Recall: 65.80%\n",
      "F1 Score: 63.66%\n"
     ]
    },
    {
     "data": {
      "image/png": "[encoded data removed]",
      "text/plain": [
       "<Figure size 1000x600 with 1 Axes>"
      ]
     },
     "metadata": {},
     "output_type": "display_data"
    }
   ],
   "source": [
    "X = df_combined['Numbers'].apply(lambda x: sum(x) if isinstance(x, list) else 0).values.reshape(-1, 1)\n",
    "y = df_combined['allowed']\n",
    "nb = GaussianNB()\n",
    "\n",
    "X_train, X_test, y_train, y_test = train_test_split(X, y, test_size=0.3, random_state=42)\n",
    "X_train_resampled, y_train_resampled = smote.fit_resample(X_train, y_train)\n",
    "nb.fit(X_train, y_train)\n",
    "\n",
    "y_pred = nb.predict(X_test)\n",
    "\n",
    "cm = confusion_matrix(y_test, y_pred)\n",
    "tn, fp, fn, tp = cm.ravel()\n",
    "\n",
    "accuracies = [accuracy_score(y_test, y_pred)]\n",
    "tp_values = [tp]\n",
    "tn_values = [tn]\n",
    "fp_values = [fp]\n",
    "fn_values = [fn]\n",
    "\n",
    "print(\"=\"*50)\n",
    "print(\"Results for Naïve Bayes Classifier\")\n",
    "print(\"=\"*50)\n",
    "print(f\"\\nConfusion Matrix:\\n{cm}\")\n",
    "print(f\"\\nTrue Positives (TP): {tp}\")\n",
    "print(f\"True Negatives (TN): {tn}\")\n",
    "print(f\"False Positives (FP): {fp}\")\n",
    "print(f\"False Negatives (FN): {fn}\")\n",
    "\n",
    "precision = tp / (tp + fp) if tp + fp > 0 else 0\n",
    "recall = tp / (tp + fn) if tp + fn > 0 else 0\n",
    "f1_score = 2 * (precision * recall) / (precision + recall) if precision + recall > 0 else 0\n",
    "\n",
    "print(f\"\\nAccuracy: {accuracies[0] * 100:.2f}%\")\n",
    "print(f\"Precision: {precision * 100:.2f}%\")\n",
    "print(f\"Recall: {recall * 100:.2f}%\")\n",
    "print(f\"F1 Score: {f1_score * 100:.2f}%\")\n",
    "\n",
    "fig, ax = plt.subplots(figsize=(10, 6))\n",
    "metrics = ['True Positives', 'True Negatives', 'False Positives', 'False Negatives']\n",
    "values = [tp, tn, fp, fn]\n",
    "colors = ['green', 'blue', 'red', 'orange']\n",
    "\n",
    "ax.bar(metrics, values, color=colors)\n",
    "ax.set_ylabel(\"Count\")\n",
    "ax.set_title(\"Confusion Matrix Breakdown for Naïve Bayes\")\n",
    "ax.grid(axis='y', linestyle='--', alpha=0.7)\n",
    "\n",
    "plt.show()"
   ]
  },
  {
   "cell_type": "code",
   "execution_count": 159,
   "id": "668669bb-09fc-4245-82ad-0febd3e0dcb5",
   "metadata": {},
   "outputs": [
    {
     "name": "stdout",
     "output_type": "stream",
     "text": [
      "==================================================\n",
      "Results for k=1\n",
      "==================================================\n",
      "Accuracy for k=1: 88.96%\n",
      "\n",
      "Confusion Matrix for k=1:\n",
      "[[2566  506]\n",
      " [ 172 2898]]\n",
      "\n",
      "True Positives (TP): 2898\n",
      "True Negatives (TN): 2566\n",
      "False Positives (FP): 506\n",
      "False Negatives (FN): 172\n",
      "Precision for k=1: 85.14%\n",
      "Recall for k=1: 94.40%\n",
      "F1 Score for k=1: 89.53%\n",
      "\n",
      "First 5 predictions vs actual values:\n",
      "Sample 1 - Predicted: 1, Actual: 1\n",
      "Sample 2 - Predicted: 1, Actual: 1\n",
      "Sample 3 - Predicted: 1, Actual: 1\n",
      "Sample 4 - Predicted: 1, Actual: 1\n",
      "Sample 5 - Predicted: 1, Actual: 1\n",
      "\n",
      "==================================================\n",
      "\n",
      "==================================================\n",
      "Results for k=2\n",
      "==================================================\n",
      "Accuracy for k=2: 86.67%\n",
      "\n",
      "Confusion Matrix for k=2:\n",
      "[[2663  409]\n",
      " [ 410 2660]]\n",
      "\n",
      "True Positives (TP): 2660\n",
      "True Negatives (TN): 2663\n",
      "False Positives (FP): 409\n",
      "False Negatives (FN): 410\n",
      "Precision for k=2: 86.67%\n",
      "Recall for k=2: 86.64%\n",
      "F1 Score for k=2: 86.66%\n",
      "\n",
      "First 5 predictions vs actual values:\n",
      "Sample 1 - Predicted: 1, Actual: 1\n",
      "Sample 2 - Predicted: 1, Actual: 1\n",
      "Sample 3 - Predicted: 1, Actual: 1\n",
      "Sample 4 - Predicted: 1, Actual: 1\n",
      "Sample 5 - Predicted: 1, Actual: 1\n",
      "\n",
      "==================================================\n",
      "\n",
      "==================================================\n",
      "Results for k=3\n",
      "==================================================\n",
      "Accuracy for k=3: 84.29%\n",
      "\n",
      "Confusion Matrix for k=3:\n",
      "[[2379  693]\n",
      " [ 272 2798]]\n",
      "\n",
      "True Positives (TP): 2798\n",
      "True Negatives (TN): 2379\n",
      "False Positives (FP): 693\n",
      "False Negatives (FN): 272\n",
      "Precision for k=3: 80.15%\n",
      "Recall for k=3: 91.14%\n",
      "F1 Score for k=3: 85.29%\n",
      "\n",
      "First 5 predictions vs actual values:\n",
      "Sample 1 - Predicted: 1, Actual: 1\n",
      "Sample 2 - Predicted: 1, Actual: 1\n",
      "Sample 3 - Predicted: 1, Actual: 1\n",
      "Sample 4 - Predicted: 1, Actual: 1\n",
      "Sample 5 - Predicted: 1, Actual: 1\n",
      "\n",
      "==================================================\n",
      "\n",
      "==================================================\n",
      "Results for k=4\n",
      "==================================================\n",
      "Accuracy for k=4: 79.94%\n",
      "\n",
      "Confusion Matrix for k=4:\n",
      "[[2475  597]\n",
      " [ 635 2435]]\n",
      "\n",
      "True Positives (TP): 2435\n",
      "True Negatives (TN): 2475\n",
      "False Positives (FP): 597\n",
      "False Negatives (FN): 635\n",
      "Precision for k=4: 80.31%\n",
      "Recall for k=4: 79.32%\n",
      "F1 Score for k=4: 79.81%\n",
      "\n",
      "First 5 predictions vs actual values:\n",
      "Sample 1 - Predicted: 1, Actual: 1\n",
      "Sample 2 - Predicted: 1, Actual: 1\n",
      "Sample 3 - Predicted: 1, Actual: 1\n",
      "Sample 4 - Predicted: 1, Actual: 1\n",
      "Sample 5 - Predicted: 0, Actual: 1\n",
      "\n",
      "==================================================\n",
      "\n",
      "==================================================\n",
      "Results for k=5\n",
      "==================================================\n",
      "Accuracy for k=5: 78.28%\n",
      "\n",
      "Confusion Matrix for k=5:\n",
      "[[2225  847]\n",
      " [ 487 2583]]\n",
      "\n",
      "True Positives (TP): 2583\n",
      "True Negatives (TN): 2225\n",
      "False Positives (FP): 847\n",
      "False Negatives (FN): 487\n",
      "Precision for k=5: 75.31%\n",
      "Recall for k=5: 84.14%\n",
      "F1 Score for k=5: 79.48%\n",
      "\n",
      "First 5 predictions vs actual values:\n",
      "Sample 1 - Predicted: 1, Actual: 1\n",
      "Sample 2 - Predicted: 1, Actual: 1\n",
      "Sample 3 - Predicted: 1, Actual: 1\n",
      "Sample 4 - Predicted: 1, Actual: 1\n",
      "Sample 5 - Predicted: 0, Actual: 1\n",
      "\n",
      "==================================================\n",
      "\n",
      "==================================================\n",
      "Results for k=6\n",
      "==================================================\n",
      "Accuracy for k=6: 76.69%\n",
      "\n",
      "Confusion Matrix for k=6:\n",
      "[[2415  657]\n",
      " [ 775 2295]]\n",
      "\n",
      "True Positives (TP): 2295\n",
      "True Negatives (TN): 2415\n",
      "False Positives (FP): 657\n",
      "False Negatives (FN): 775\n",
      "Precision for k=6: 77.74%\n",
      "Recall for k=6: 74.76%\n",
      "F1 Score for k=6: 76.22%\n",
      "\n",
      "First 5 predictions vs actual values:\n",
      "Sample 1 - Predicted: 1, Actual: 1\n",
      "Sample 2 - Predicted: 1, Actual: 1\n",
      "Sample 3 - Predicted: 1, Actual: 1\n",
      "Sample 4 - Predicted: 1, Actual: 1\n",
      "Sample 5 - Predicted: 0, Actual: 1\n",
      "\n",
      "==================================================\n",
      "\n",
      "==================================================\n",
      "Results for k=7\n",
      "==================================================\n",
      "Accuracy for k=7: 75.87%\n",
      "\n",
      "Confusion Matrix for k=7:\n",
      "[[2218  854]\n",
      " [ 628 2442]]\n",
      "\n",
      "True Positives (TP): 2442\n",
      "True Negatives (TN): 2218\n",
      "False Positives (FP): 854\n",
      "False Negatives (FN): 628\n",
      "Precision for k=7: 74.09%\n",
      "Recall for k=7: 79.54%\n",
      "F1 Score for k=7: 76.72%\n",
      "\n",
      "First 5 predictions vs actual values:\n",
      "Sample 1 - Predicted: 1, Actual: 1\n",
      "Sample 2 - Predicted: 1, Actual: 1\n",
      "Sample 3 - Predicted: 1, Actual: 1\n",
      "Sample 4 - Predicted: 1, Actual: 1\n",
      "Sample 5 - Predicted: 0, Actual: 1\n",
      "\n",
      "==================================================\n",
      "\n",
      "==================================================\n",
      "Results for k=8\n",
      "==================================================\n",
      "Accuracy for k=8: 77.56%\n",
      "\n",
      "Confusion Matrix for k=8:\n",
      "[[2425  647]\n",
      " [ 731 2339]]\n",
      "\n",
      "True Positives (TP): 2339\n",
      "True Negatives (TN): 2425\n",
      "False Positives (FP): 647\n",
      "False Negatives (FN): 731\n",
      "Precision for k=8: 78.33%\n",
      "Recall for k=8: 76.19%\n",
      "F1 Score for k=8: 77.25%\n",
      "\n",
      "First 5 predictions vs actual values:\n",
      "Sample 1 - Predicted: 1, Actual: 1\n",
      "Sample 2 - Predicted: 1, Actual: 1\n",
      "Sample 3 - Predicted: 1, Actual: 1\n",
      "Sample 4 - Predicted: 1, Actual: 1\n",
      "Sample 5 - Predicted: 0, Actual: 1\n",
      "\n",
      "==================================================\n",
      "\n",
      "==================================================\n",
      "Results for k=9\n",
      "==================================================\n",
      "Accuracy for k=9: 76.98%\n",
      "\n",
      "Confusion Matrix for k=9:\n",
      "[[2274  798]\n",
      " [ 616 2454]]\n",
      "\n",
      "True Positives (TP): 2454\n",
      "True Negatives (TN): 2274\n",
      "False Positives (FP): 798\n",
      "False Negatives (FN): 616\n",
      "Precision for k=9: 75.46%\n",
      "Recall for k=9: 79.93%\n",
      "F1 Score for k=9: 77.63%\n",
      "\n",
      "First 5 predictions vs actual values:\n",
      "Sample 1 - Predicted: 1, Actual: 1\n",
      "Sample 2 - Predicted: 1, Actual: 1\n",
      "Sample 3 - Predicted: 1, Actual: 1\n",
      "Sample 4 - Predicted: 1, Actual: 1\n",
      "Sample 5 - Predicted: 0, Actual: 1\n",
      "\n",
      "==================================================\n",
      "\n",
      "==================================================\n",
      "Results for k=10\n",
      "==================================================\n",
      "Accuracy for k=10: 76.82%\n",
      "\n",
      "Confusion Matrix for k=10:\n",
      "[[2381  691]\n",
      " [ 733 2337]]\n",
      "\n",
      "True Positives (TP): 2337\n",
      "True Negatives (TN): 2381\n",
      "False Positives (FP): 691\n",
      "False Negatives (FN): 733\n",
      "Precision for k=10: 77.18%\n",
      "Recall for k=10: 76.12%\n",
      "F1 Score for k=10: 76.65%\n",
      "\n",
      "First 5 predictions vs actual values:\n",
      "Sample 1 - Predicted: 1, Actual: 1\n",
      "Sample 2 - Predicted: 1, Actual: 1\n",
      "Sample 3 - Predicted: 1, Actual: 1\n",
      "Sample 4 - Predicted: 1, Actual: 1\n",
      "Sample 5 - Predicted: 0, Actual: 1\n",
      "\n",
      "==================================================\n",
      "\n",
      "==================================================\n",
      "Results for k=11\n",
      "==================================================\n",
      "Accuracy for k=11: 75.71%\n",
      "\n",
      "Confusion Matrix for k=11:\n",
      "[[2235  837]\n",
      " [ 655 2415]]\n",
      "\n",
      "True Positives (TP): 2415\n",
      "True Negatives (TN): 2235\n",
      "False Positives (FP): 837\n",
      "False Negatives (FN): 655\n",
      "Precision for k=11: 74.26%\n",
      "Recall for k=11: 78.66%\n",
      "F1 Score for k=11: 76.40%\n",
      "\n",
      "First 5 predictions vs actual values:\n",
      "Sample 1 - Predicted: 1, Actual: 1\n",
      "Sample 2 - Predicted: 1, Actual: 1\n",
      "Sample 3 - Predicted: 1, Actual: 1\n",
      "Sample 4 - Predicted: 1, Actual: 1\n",
      "Sample 5 - Predicted: 0, Actual: 1\n",
      "\n",
      "==================================================\n",
      "\n",
      "==================================================\n",
      "Results for k=12\n",
      "==================================================\n",
      "Accuracy for k=12: 75.56%\n",
      "\n",
      "Confusion Matrix for k=12:\n",
      "[[2346  726]\n",
      " [ 775 2295]]\n",
      "\n",
      "True Positives (TP): 2295\n",
      "True Negatives (TN): 2346\n",
      "False Positives (FP): 726\n",
      "False Negatives (FN): 775\n",
      "Precision for k=12: 75.97%\n",
      "Recall for k=12: 74.76%\n",
      "F1 Score for k=12: 75.36%\n",
      "\n",
      "First 5 predictions vs actual values:\n",
      "Sample 1 - Predicted: 1, Actual: 1\n",
      "Sample 2 - Predicted: 1, Actual: 1\n",
      "Sample 3 - Predicted: 1, Actual: 1\n",
      "Sample 4 - Predicted: 1, Actual: 1\n",
      "Sample 5 - Predicted: 0, Actual: 1\n",
      "\n",
      "==================================================\n",
      "\n"
     ]
    },
    {
     "data": {
      "image/png": "[encoded data removed]",
      "text/plain": [
       "<Figure size 1200x1200 with 5 Axes>"
      ]
     },
     "metadata": {},
     "output_type": "display_data"
    }
   ],
   "source": [
    "X = df_combined['Numbers'].apply(lambda x: sum(x) if isinstance(x, list) else 0).values.reshape(-1, 1)\n",
    "y = df_combined['allowed']\n",
    "\n",
    "X_train, X_test, y_train, y_test = train_test_split(X, y, test_size=0.3, random_state=42)\n",
    "accuracies, precisions, recalls, f1_scores = [], [], [], []\n",
    "tp_values, tn_values, fp_values, fn_values = [], [], [], []\n",
    "\n",
    "for k in range(1, 13):\n",
    "    print(\"=\"*50)\n",
    "    print(f\"Results for k={k}\")\n",
    "    print(\"=\"*50)\n",
    "    \n",
    "    knn = KNeighborsClassifier(n_neighbors=k)\n",
    "    knn.fit(X_train, y_train)\n",
    "    \n",
    "    y_pred = knn.predict(X_test)\n",
    "    \n",
    "    accuracy = accuracy_score(y_test, y_pred)\n",
    "    print(f'Accuracy for k={k}: {accuracy * 100:.2f}%')\n",
    "    \n",
    "    cm = confusion_matrix(y_test, y_pred)\n",
    "    print(f\"\\nConfusion Matrix for k={k}:\")\n",
    "    print(cm)\n",
    "    \n",
    "    tn, fp, fn, tp = cm.ravel()\n",
    "    \n",
    "    print(f\"\\nTrue Positives (TP): {tp}\")\n",
    "    print(f\"True Negatives (TN): {tn}\")\n",
    "    print(f\"False Positives (FP): {fp}\")\n",
    "    print(f\"False Negatives (FN): {fn}\")\n",
    "    \n",
    "    precision = tp / (tp + fp) if tp + fp > 0 else 0\n",
    "    recall = tp / (tp + fn) if tp + fn > 0 else 0\n",
    "    f1_score = 2 * (precision * recall) / (precision + recall) if precision + recall > 0 else 0\n",
    "    accuracies.append(accuracy)\n",
    "    precisions.append(precision)\n",
    "    recalls.append(recall)\n",
    "    f1_scores.append(f1_score)\n",
    "    tp_values.append(tp)\n",
    "    tn_values.append(tn)\n",
    "    fp_values.append(fp)\n",
    "    fn_values.append(fn)\n",
    "    print(f\"Precision for k={k}: {precision * 100:.2f}%\")\n",
    "    print(f\"Recall for k={k}: {recall * 100:.2f}%\")\n",
    "    print(f\"F1 Score for k={k}: {f1_score * 100:.2f}%\")\n",
    "    \n",
    "    print(\"\\nFirst 5 predictions vs actual values:\")\n",
    "    for i in range(5):\n",
    "        print(f\"Sample {i+1} - Predicted: {y_pred[i]}, Actual: {y_test.iloc[i]}\")\n",
    "    \n",
    "    print(\"\\n\" + \"=\"*50 + \"\\n\")\n",
    "k_values = list(range(1, 13))\n",
    "\n",
    "fig, axes = plt.subplots(3, 2, figsize=(12, 12))  \n",
    "metrics = [\n",
    "    (tp_values, \"True Positives\", \"green\", \"o\"),\n",
    "    (tn_values, \"True Negatives\", \"blue\", \"s\"),\n",
    "    (fp_values, \"False Positives\", \"red\", \"^\"),\n",
    "    (fn_values, \"False Negatives\", \"orange\", \"v\"),\n",
    "    (accuracies, \"Accuracy\", \"purple\", \"D\")\n",
    "]\n",
    "for i, (values, title, color, marker) in enumerate(metrics):\n",
    "    row, col = divmod(i, 2) \n",
    "    axes[row, col].plot(k_values, values, marker=marker, linestyle=\"-\", color=color, label=title)\n",
    "    axes[row, col].set_xlabel(\"k (Number of Neighbors)\")\n",
    "    axes[row, col].set_ylabel(\"Count\" if title != \"Accuracy\" else \"Score\")\n",
    "    axes[row, col].set_title(f\"{title} Across Different k Values\")\n",
    "    axes[row, col].grid(True)\n",
    "    axes[row, col].legend()\n",
    "\n",
    "fig.delaxes(axes[2, 1])\n",
    "\n",
    "plt.subplots_adjust(hspace=0.4)\n",
    "plt.show()"
   ]
  },
  {
   "cell_type": "code",
   "execution_count": 173,
   "id": "89f2ed5e-8d6b-41d1-895e-2432d4bce977",
   "metadata": {},
   "outputs": [
    {
     "name": "stdin",
     "output_type": "stream",
     "text": [
      "Enter your prompt (or 'exit' to quit):  goddess portrait, ismail inceoglu\n"
     ]
    },
    {
     "name": "stdout",
     "output_type": "stream",
     "text": [
      "Filter check allowed: 1\n",
      "running model...\n",
      "KNN Prediction for the custom prompt: 1\n",
      "Naive Bayes Prediction for the custom prompt: 0\n",
      "pass!\n"
     ]
    },
    {
     "name": "stdin",
     "output_type": "stream",
     "text": [
      "Enter your prompt (or 'exit' to quit):  portrait of king of candy mr harry haribo oil painting bloody conquest tap [ e\n"
     ]
    },
    {
     "name": "stdout",
     "output_type": "stream",
     "text": [
      "Filter check allowed: 0\n",
      "running model...\n",
      "KNN Prediction for the custom prompt: 0\n",
      "Naive Bayes Prediction for the custom prompt: 0\n",
      "Fail!\n"
     ]
    },
    {
     "ename": "KeyboardInterrupt",
     "evalue": "Interrupted by user",
     "output_type": "error",
     "traceback": [
      "\u001b[1;31m---------------------------------------------------------------------------\u001b[0m",
      "\u001b[1;31mKeyboardInterrupt\u001b[0m                         Traceback (most recent call last)",
      "Cell \u001b[1;32mIn[173], line 5\u001b[0m\n\u001b[0;32m      3\u001b[0m knn\u001b[38;5;241m.\u001b[39mfit(X_train, y_train)\n\u001b[0;32m      4\u001b[0m \u001b[38;5;28;01mwhile\u001b[39;00m \u001b[38;5;28;01mTrue\u001b[39;00m:\n\u001b[1;32m----> 5\u001b[0m     custom_prompt \u001b[38;5;241m=\u001b[39m \u001b[38;5;28minput\u001b[39m(\u001b[38;5;124m\"\u001b[39m\u001b[38;5;124mEnter your prompt (or \u001b[39m\u001b[38;5;124m'\u001b[39m\u001b[38;5;124mexit\u001b[39m\u001b[38;5;124m'\u001b[39m\u001b[38;5;124m to quit): \u001b[39m\u001b[38;5;124m\"\u001b[39m)\n\u001b[0;32m      6\u001b[0m     \u001b[38;5;28;01mif\u001b[39;00m custom_prompt\u001b[38;5;241m.\u001b[39mlower() \u001b[38;5;241m==\u001b[39m \u001b[38;5;124m'\u001b[39m\u001b[38;5;124mexit\u001b[39m\u001b[38;5;124m'\u001b[39m:\n\u001b[0;32m      7\u001b[0m         \u001b[38;5;28;01mbreak\u001b[39;00m\n",
      "File \u001b[1;32m~\\anaconda3\\Lib\\site-packages\\ipykernel\\kernelbase.py:1282\u001b[0m, in \u001b[0;36mKernel.raw_input\u001b[1;34m(self, prompt)\u001b[0m\n\u001b[0;32m   1280\u001b[0m     msg \u001b[38;5;241m=\u001b[39m \u001b[38;5;124m\"\u001b[39m\u001b[38;5;124mraw_input was called, but this frontend does not support input requests.\u001b[39m\u001b[38;5;124m\"\u001b[39m\n\u001b[0;32m   1281\u001b[0m     \u001b[38;5;28;01mraise\u001b[39;00m StdinNotImplementedError(msg)\n\u001b[1;32m-> 1282\u001b[0m \u001b[38;5;28;01mreturn\u001b[39;00m \u001b[38;5;28mself\u001b[39m\u001b[38;5;241m.\u001b[39m_input_request(\n\u001b[0;32m   1283\u001b[0m     \u001b[38;5;28mstr\u001b[39m(prompt),\n\u001b[0;32m   1284\u001b[0m     \u001b[38;5;28mself\u001b[39m\u001b[38;5;241m.\u001b[39m_parent_ident[\u001b[38;5;124m\"\u001b[39m\u001b[38;5;124mshell\u001b[39m\u001b[38;5;124m\"\u001b[39m],\n\u001b[0;32m   1285\u001b[0m     \u001b[38;5;28mself\u001b[39m\u001b[38;5;241m.\u001b[39mget_parent(\u001b[38;5;124m\"\u001b[39m\u001b[38;5;124mshell\u001b[39m\u001b[38;5;124m\"\u001b[39m),\n\u001b[0;32m   1286\u001b[0m     password\u001b[38;5;241m=\u001b[39m\u001b[38;5;28;01mFalse\u001b[39;00m,\n\u001b[0;32m   1287\u001b[0m )\n",
      "File \u001b[1;32m~\\anaconda3\\Lib\\site-packages\\ipykernel\\kernelbase.py:1325\u001b[0m, in \u001b[0;36mKernel._input_request\u001b[1;34m(self, prompt, ident, parent, password)\u001b[0m\n\u001b[0;32m   1322\u001b[0m \u001b[38;5;28;01mexcept\u001b[39;00m \u001b[38;5;167;01mKeyboardInterrupt\u001b[39;00m:\n\u001b[0;32m   1323\u001b[0m     \u001b[38;5;66;03m# re-raise KeyboardInterrupt, to truncate traceback\u001b[39;00m\n\u001b[0;32m   1324\u001b[0m     msg \u001b[38;5;241m=\u001b[39m \u001b[38;5;124m\"\u001b[39m\u001b[38;5;124mInterrupted by user\u001b[39m\u001b[38;5;124m\"\u001b[39m\n\u001b[1;32m-> 1325\u001b[0m     \u001b[38;5;28;01mraise\u001b[39;00m \u001b[38;5;167;01mKeyboardInterrupt\u001b[39;00m(msg) \u001b[38;5;28;01mfrom\u001b[39;00m \u001b[38;5;28;01mNone\u001b[39;00m\n\u001b[0;32m   1326\u001b[0m \u001b[38;5;28;01mexcept\u001b[39;00m \u001b[38;5;167;01mException\u001b[39;00m:\n\u001b[0;32m   1327\u001b[0m     \u001b[38;5;28mself\u001b[39m\u001b[38;5;241m.\u001b[39mlog\u001b[38;5;241m.\u001b[39mwarning(\u001b[38;5;124m\"\u001b[39m\u001b[38;5;124mInvalid Message:\u001b[39m\u001b[38;5;124m\"\u001b[39m, exc_info\u001b[38;5;241m=\u001b[39m\u001b[38;5;28;01mTrue\u001b[39;00m)\n",
      "\u001b[1;31mKeyboardInterrupt\u001b[0m: Interrupted by user"
     ]
    }
   ],
   "source": [
    "nb.fit(X_train_resampled, y_train_resampled)\n",
    "knn = KNeighborsClassifier(n_neighbors=1)\n",
    "knn.fit(X_train, y_train)\n",
    "while True:\n",
    "    custom_prompt = input(\"Enter your prompt (or 'exit' to quit): \")\n",
    "    if custom_prompt.lower() == 'exit':\n",
    "        break\n",
    "    elif custom_prompt.strip() == '':\n",
    "        print(\"Prompt cannot be empty.\")\n",
    "        continue\n",
    "    rows = []\n",
    "    Classprompt = custom_prompt.lower()\n",
    "    word_classifications = df.set_index('Word').to_dict()\n",
    "    Classprompt = re.sub(r'[^a-zA-Z\\s]', '', Classprompt)  \n",
    "    Numprompt = re.sub(r'[^a-zA-Z\\s]', '', Classprompt)  \n",
    "\n",
    "    numeric_values = []\n",
    "    classification_values = []\n",
    "\n",
    "    for word in re.findall(r'\\b\\w+\\b', Classprompt):  \n",
    "        word_row = df[df['Word'] == word]\n",
    "        if word_row.empty:\n",
    "            classification_value = classify_word(word)  \n",
    "            numeric_value, interpreted_word = numberify(word) \n",
    "            new_row = pd.DataFrame({'Word': [word], 'Classification': [classification_value], \n",
    "                                    'Number': [numeric_value]})\n",
    "            df = pd.concat([df, new_row], ignore_index=True)\n",
    "            \n",
    "            current_classification = classification_value\n",
    "            current_numeric_value = numeric_value\n",
    "        else:\n",
    "            current_classification = word_row['Classification'].values[0]\n",
    "            current_numeric_value = word_row['Number'].values[0]\n",
    "       \n",
    "        Classprompt = re.sub(r'\\b' + re.escape(word) + r'\\b', str(current_classification), Classprompt)\n",
    "        Numprompt = re.sub(r'\\b' + re.escape(word) + r'\\b', str(current_numeric_value), Numprompt)\n",
    "    \n",
    "    Class_3_count = Classprompt.count('3')\n",
    "    Class_2_count = Classprompt.count('2')\n",
    "    Class_1_count = Classprompt.count('1')\n",
    "\n",
    "    Class_Sum_count = Class_3_count + Class_2_count + Class_1_count\n",
    "\n",
    "    Guess_allowed = 1  \n",
    "    if Class_3_count > 4 or Class_2_count > 4 or Class_1_count > 4 or Class_Sum_count > 4:\n",
    "        Guess_allowed = 0\n",
    "\n",
    "    Numbers = list(map(int, re.findall(r'\\d+', Numprompt)))\n",
    "    Average_Number = sum(Numbers)/len(Numbers) if Numbers else 0\n",
    "\n",
    "    if Average_Number > 50000000:\n",
    "        Guess_allowed = 0\n",
    "    elif any(num > 60000000 for num in Numbers):\n",
    "        Guess_allowed = 0\n",
    "\n",
    "    print(f\"Filter check allowed: {Guess_allowed}\")\n",
    "\n",
    "    print(\"running model...\")\n",
    "    def preprocess_custom_prompt(prompt):\n",
    "        numbers = re.findall(r'\\d+', prompt)\n",
    "    \n",
    "        numbers = list(map(int, numbers))\n",
    "        \n",
    "        sum_of_numbers = sum(numbers) if numbers else 0\n",
    "        \n",
    "        sum_of_numbers = max(1, min(sum_of_numbers, 1e8))\n",
    "        \n",
    "        return np.array([[sum_of_numbers]])\n",
    "\n",
    "    X_custom = preprocess_custom_prompt(Numprompt)\n",
    "    custom_prediction = knn.predict(X_custom)\n",
    "    print(f\"KNN Prediction for the custom prompt: {custom_prediction[0]}\")\n",
    "    NBPredict = nb.predict(X_custom)\n",
    "    print(f\"Naive Bayes Prediction for the custom prompt: {NBPredict[0]}\")\n",
    "    verdict=NBPredict[0]+custom_prediction[0]+Guess_allowed\n",
    "    if verdict >= 2:\n",
    "        print(\"pass!\")\n",
    "    else:\n",
    "        print(\"Fail!\")"
   ]
  },
  {
   "cell_type": "code",
   "execution_count": null,
   "id": "add26707-8a86-406f-85ab-3fda854bf832",
   "metadata": {},
   "outputs": [],
   "source": []
  }
 ],
 "metadata": {
  "kernelspec": {
   "display_name": "Python 3 (ipykernel)",
   "language": "python",
   "name": "python3"
  },
  "language_info": {
   "codemirror_mode": {
    "name": "ipython",
    "version": 3
   },
   "file_extension": ".py",
   "mimetype": "text/x-python",
   "name": "python",
   "nbconvert_exporter": "python",
   "pygments_lexer": "ipython3",
   "version": "3.12.7"
  }
 },
 "nbformat": 4,
 "nbformat_minor": 5
}
