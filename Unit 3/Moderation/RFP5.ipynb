{
 "cells": [
  {
   "cell_type": "code",
   "execution_count": 1,
   "id": "cce2e76e-8fd2-4a14-95be-2a7bc05fa009",
   "metadata": {},
   "outputs": [],
   "source": [
    "import pandas as pd\n",
    "from datasets import load_dataset\n",
    "from PIL import Image\n",
    "import numpy as np\n",
    "import time\n",
    "import openai\n",
    "import os"
   ]
  },
  {
   "cell_type": "code",
   "execution_count": null,
   "id": "f446bcc5-7b3e-4072-87bd-8ec6df59fe1e",
   "metadata": {},
   "outputs": [],
   "source": []
  },
  {
   "cell_type": "code",
   "execution_count": null,
   "id": "59d078e7-7903-45d3-a0ab-d56275bb4796",
   "metadata": {},
   "outputs": [
    {
     "data": {
      "application/vnd.jupyter.widget-view+json": {
       "model_id": "cbb2016b8df44ec3a9c56d04f184d2e1",
       "version_major": 2,
       "version_minor": 0
      },
      "text/plain": [
       "part-000008.zip:   6%|5         | 31.5M/530M [00:00<?, ?B/s]"
      ]
     },
     "metadata": {},
     "output_type": "display_data"
    },
    {
     "data": {
      "application/vnd.jupyter.widget-view+json": {
       "model_id": "3314b2fdf6a844a889c4c4683d5d9c07",
       "version_major": 2,
       "version_minor": 0
      },
      "text/plain": [
       "part-000009.zip:   0%|          | 0.00/519M [00:00<?, ?B/s]"
      ]
     },
     "metadata": {},
     "output_type": "display_data"
    },
    {
     "data": {
      "application/vnd.jupyter.widget-view+json": {
       "model_id": "6a07e73f475e4a368ab249cb2ee26d29",
       "version_major": 2,
       "version_minor": 0
      },
      "text/plain": [
       "part-000010.zip:   0%|          | 0.00/459M [00:00<?, ?B/s]"
      ]
     },
     "metadata": {},
     "output_type": "display_data"
    },
    {
     "data": {
      "application/vnd.jupyter.widget-view+json": {
       "model_id": "d487151e597242d8a5de157bcd969dba",
       "version_major": 2,
       "version_minor": 0
      },
      "text/plain": [
       "part-000011.zip:   0%|          | 0.00/477M [00:00<?, ?B/s]"
      ]
     },
     "metadata": {},
     "output_type": "display_data"
    },
    {
     "data": {
      "application/vnd.jupyter.widget-view+json": {
       "model_id": "04c52258795e4bfc85a2250d2d822d82",
       "version_major": 2,
       "version_minor": 0
      },
      "text/plain": [
       "part-000012.zip:   0%|          | 0.00/476M [00:00<?, ?B/s]"
      ]
     },
     "metadata": {},
     "output_type": "display_data"
    },
    {
     "data": {
      "application/vnd.jupyter.widget-view+json": {
       "model_id": "52096933f155446b94b19b807bf77251",
       "version_major": 2,
       "version_minor": 0
      },
      "text/plain": [
       "part-000013.zip:   0%|          | 0.00/387M [00:00<?, ?B/s]"
      ]
     },
     "metadata": {},
     "output_type": "display_data"
    },
    {
     "data": {
      "application/vnd.jupyter.widget-view+json": {
       "model_id": "3ffc963cad444e25b191995b3fd0e045",
       "version_major": 2,
       "version_minor": 0
      },
      "text/plain": [
       "part-000014.zip:   0%|          | 0.00/401M [00:00<?, ?B/s]"
      ]
     },
     "metadata": {},
     "output_type": "display_data"
    },
    {
     "data": {
      "application/vnd.jupyter.widget-view+json": {
       "model_id": "548aced254f5443993524f4d2aea5db4",
       "version_major": 2,
       "version_minor": 0
      },
      "text/plain": [
       "part-000015.zip:   0%|          | 0.00/442M [00:00<?, ?B/s]"
      ]
     },
     "metadata": {},
     "output_type": "display_data"
    },
    {
     "data": {
      "application/vnd.jupyter.widget-view+json": {
       "model_id": "2239fe28d1c04406871bc0ac594e2b48",
       "version_major": 2,
       "version_minor": 0
      },
      "text/plain": [
       "part-000016.zip:   0%|          | 0.00/417M [00:00<?, ?B/s]"
      ]
     },
     "metadata": {},
     "output_type": "display_data"
    },
    {
     "data": {
      "application/vnd.jupyter.widget-view+json": {
       "model_id": "76bba62004f84d71a785460ed0ce80d6",
       "version_major": 2,
       "version_minor": 0
      },
      "text/plain": [
       "part-000017.zip:   0%|          | 0.00/433M [00:00<?, ?B/s]"
      ]
     },
     "metadata": {},
     "output_type": "display_data"
    },
    {
     "data": {
      "application/vnd.jupyter.widget-view+json": {
       "model_id": "9d91cbdc96404b438df7345a943cfae3",
       "version_major": 2,
       "version_minor": 0
      },
      "text/plain": [
       "part-000018.zip:   0%|          | 0.00/490M [00:00<?, ?B/s]"
      ]
     },
     "metadata": {},
     "output_type": "display_data"
    },
    {
     "data": {
      "application/vnd.jupyter.widget-view+json": {
       "model_id": "327502c7f2444fa79096bd98ae2376a0",
       "version_major": 2,
       "version_minor": 0
      },
      "text/plain": [
       "part-000019.zip:   0%|          | 0.00/457M [00:00<?, ?B/s]"
      ]
     },
     "metadata": {},
     "output_type": "display_data"
    },
    {
     "data": {
      "application/vnd.jupyter.widget-view+json": {
       "model_id": "bac1a3076cb64766b6ea8dfefa025e5e",
       "version_major": 2,
       "version_minor": 0
      },
      "text/plain": [
       "part-000020.zip:   0%|          | 0.00/429M [00:00<?, ?B/s]"
      ]
     },
     "metadata": {},
     "output_type": "display_data"
    },
    {
     "data": {
      "application/vnd.jupyter.widget-view+json": {
       "model_id": "2b49dfde391a436190a5cd9dc9a6939e",
       "version_major": 2,
       "version_minor": 0
      },
      "text/plain": [
       "part-000021.zip:   0%|          | 0.00/446M [00:00<?, ?B/s]"
      ]
     },
     "metadata": {},
     "output_type": "display_data"
    },
    {
     "data": {
      "application/vnd.jupyter.widget-view+json": {
       "model_id": "bd66817c80a349cea69ba645e8fec542",
       "version_major": 2,
       "version_minor": 0
      },
      "text/plain": [
       "part-000022.zip:   0%|          | 0.00/417M [00:00<?, ?B/s]"
      ]
     },
     "metadata": {},
     "output_type": "display_data"
    },
    {
     "data": {
      "application/vnd.jupyter.widget-view+json": {
       "model_id": "0283ffd9e30e4d1f806919e7001c996f",
       "version_major": 2,
       "version_minor": 0
      },
      "text/plain": [
       "part-000023.zip:   0%|          | 0.00/484M [00:00<?, ?B/s]"
      ]
     },
     "metadata": {},
     "output_type": "display_data"
    },
    {
     "data": {
      "application/vnd.jupyter.widget-view+json": {
       "model_id": "e5fdb12f4f4f491097508a906a65e565",
       "version_major": 2,
       "version_minor": 0
      },
      "text/plain": [
       "part-000024.zip:   0%|          | 0.00/445M [00:00<?, ?B/s]"
      ]
     },
     "metadata": {},
     "output_type": "display_data"
    },
    {
     "data": {
      "application/vnd.jupyter.widget-view+json": {
       "model_id": "6082c984fdc54aee85900ab5ef2f928d",
       "version_major": 2,
       "version_minor": 0
      },
      "text/plain": [
       "part-000025.zip:   0%|          | 0.00/474M [00:00<?, ?B/s]"
      ]
     },
     "metadata": {},
     "output_type": "display_data"
    },
    {
     "data": {
      "application/vnd.jupyter.widget-view+json": {
       "model_id": "799692e8703a4523b90012ba8d38c60a",
       "version_major": 2,
       "version_minor": 0
      },
      "text/plain": [
       "part-000026.zip:   0%|          | 0.00/429M [00:00<?, ?B/s]"
      ]
     },
     "metadata": {},
     "output_type": "display_data"
    },
    {
     "data": {
      "application/vnd.jupyter.widget-view+json": {
       "model_id": "a831967cc2b541d69311c89c5f64f9f7",
       "version_major": 2,
       "version_minor": 0
      },
      "text/plain": [
       "part-000027.zip:   0%|          | 0.00/471M [00:00<?, ?B/s]"
      ]
     },
     "metadata": {},
     "output_type": "display_data"
    },
    {
     "data": {
      "application/vnd.jupyter.widget-view+json": {
       "model_id": "fbdde1f36af14824937e58205fff5562",
       "version_major": 2,
       "version_minor": 0
      },
      "text/plain": [
       "part-000028.zip:   0%|          | 0.00/432M [00:00<?, ?B/s]"
      ]
     },
     "metadata": {},
     "output_type": "display_data"
    },
    {
     "data": {
      "application/vnd.jupyter.widget-view+json": {
       "model_id": "2bd0a23711404aa4bb37e32180bd91ce",
       "version_major": 2,
       "version_minor": 0
      },
      "text/plain": [
       "part-000029.zip:   0%|          | 0.00/411M [00:00<?, ?B/s]"
      ]
     },
     "metadata": {},
     "output_type": "display_data"
    },
    {
     "data": {
      "application/vnd.jupyter.widget-view+json": {
       "model_id": "b1adbd1bef234901a2b26022aaa43c21",
       "version_major": 2,
       "version_minor": 0
      },
      "text/plain": [
       "part-000030.zip:   0%|          | 0.00/428M [00:00<?, ?B/s]"
      ]
     },
     "metadata": {},
     "output_type": "display_data"
    },
    {
     "data": {
      "application/vnd.jupyter.widget-view+json": {
       "model_id": "ae0e325c5a0b4529b9b5bf978623a18f",
       "version_major": 2,
       "version_minor": 0
      },
      "text/plain": [
       "part-000031.zip:   0%|          | 0.00/442M [00:00<?, ?B/s]"
      ]
     },
     "metadata": {},
     "output_type": "display_data"
    },
    {
     "data": {
      "application/vnd.jupyter.widget-view+json": {
       "model_id": "83dcd5fd3a28401ab25ab791b0474d66",
       "version_major": 2,
       "version_minor": 0
      },
      "text/plain": [
       "part-000032.zip:   0%|          | 0.00/526M [00:00<?, ?B/s]"
      ]
     },
     "metadata": {},
     "output_type": "display_data"
    },
    {
     "data": {
      "application/vnd.jupyter.widget-view+json": {
       "model_id": "8dd8fa4eb19447a48cc20dae310c34a2",
       "version_major": 2,
       "version_minor": 0
      },
      "text/plain": [
       "part-000033.zip:   0%|          | 0.00/448M [00:00<?, ?B/s]"
      ]
     },
     "metadata": {},
     "output_type": "display_data"
    },
    {
     "data": {
      "application/vnd.jupyter.widget-view+json": {
       "model_id": "6e412ffc766542f7a72a346cc03d7fd5",
       "version_major": 2,
       "version_minor": 0
      },
      "text/plain": [
       "part-000034.zip:   0%|          | 0.00/442M [00:00<?, ?B/s]"
      ]
     },
     "metadata": {},
     "output_type": "display_data"
    },
    {
     "data": {
      "application/vnd.jupyter.widget-view+json": {
       "model_id": "325056e342164089b84701b3672f2f89",
       "version_major": 2,
       "version_minor": 0
      },
      "text/plain": [
       "part-000035.zip:   0%|          | 0.00/448M [00:00<?, ?B/s]"
      ]
     },
     "metadata": {},
     "output_type": "display_data"
    },
    {
     "data": {
      "application/vnd.jupyter.widget-view+json": {
       "model_id": "221facd920ba41c98e159094c0705216",
       "version_major": 2,
       "version_minor": 0
      },
      "text/plain": [
       "part-000036.zip:   0%|          | 0.00/497M [00:00<?, ?B/s]"
      ]
     },
     "metadata": {},
     "output_type": "display_data"
    },
    {
     "data": {
      "application/vnd.jupyter.widget-view+json": {
       "model_id": "9ffe12b5e62e4468ab204cd617433417",
       "version_major": 2,
       "version_minor": 0
      },
      "text/plain": [
       "part-000037.zip:   0%|          | 0.00/420M [00:00<?, ?B/s]"
      ]
     },
     "metadata": {},
     "output_type": "display_data"
    },
    {
     "data": {
      "application/vnd.jupyter.widget-view+json": {
       "model_id": "cf436c7fc6b749d0a88df26c3ba84893",
       "version_major": 2,
       "version_minor": 0
      },
      "text/plain": [
       "part-000038.zip:   0%|          | 0.00/463M [00:00<?, ?B/s]"
      ]
     },
     "metadata": {},
     "output_type": "display_data"
    },
    {
     "data": {
      "application/vnd.jupyter.widget-view+json": {
       "model_id": "9f97d569f64a406591b3f111ee07b503",
       "version_major": 2,
       "version_minor": 0
      },
      "text/plain": [
       "part-000039.zip:   0%|          | 0.00/498M [00:00<?, ?B/s]"
      ]
     },
     "metadata": {},
     "output_type": "display_data"
    },
    {
     "data": {
      "application/vnd.jupyter.widget-view+json": {
       "model_id": "cbf89ec5452647f5a0798383b4f4f993",
       "version_major": 2,
       "version_minor": 0
      },
      "text/plain": [
       "part-000040.zip:   0%|          | 0.00/490M [00:00<?, ?B/s]"
      ]
     },
     "metadata": {},
     "output_type": "display_data"
    },
    {
     "data": {
      "application/vnd.jupyter.widget-view+json": {
       "model_id": "413ea5b460c644d09e4d233182c7d7fb",
       "version_major": 2,
       "version_minor": 0
      },
      "text/plain": [
       "part-000041.zip:   0%|          | 0.00/494M [00:00<?, ?B/s]"
      ]
     },
     "metadata": {},
     "output_type": "display_data"
    },
    {
     "data": {
      "application/vnd.jupyter.widget-view+json": {
       "model_id": "033eda0b864a4ebfb44296af284f1916",
       "version_major": 2,
       "version_minor": 0
      },
      "text/plain": [
       "part-000042.zip:   0%|          | 0.00/461M [00:00<?, ?B/s]"
      ]
     },
     "metadata": {},
     "output_type": "display_data"
    },
    {
     "data": {
      "application/vnd.jupyter.widget-view+json": {
       "model_id": "db0d871a31e5458c9860d7fe199fb32c",
       "version_major": 2,
       "version_minor": 0
      },
      "text/plain": [
       "part-000043.zip:   0%|          | 0.00/446M [00:00<?, ?B/s]"
      ]
     },
     "metadata": {},
     "output_type": "display_data"
    },
    {
     "data": {
      "application/vnd.jupyter.widget-view+json": {
       "model_id": "42ea43eb52014490af9356d438f5f629",
       "version_major": 2,
       "version_minor": 0
      },
      "text/plain": [
       "part-000044.zip:   0%|          | 0.00/476M [00:00<?, ?B/s]"
      ]
     },
     "metadata": {},
     "output_type": "display_data"
    },
    {
     "data": {
      "application/vnd.jupyter.widget-view+json": {
       "model_id": "8411c75ecac046d8a2a98afacbe950a7",
       "version_major": 2,
       "version_minor": 0
      },
      "text/plain": [
       "part-000045.zip:   0%|          | 0.00/472M [00:00<?, ?B/s]"
      ]
     },
     "metadata": {},
     "output_type": "display_data"
    },
    {
     "data": {
      "application/vnd.jupyter.widget-view+json": {
       "model_id": "9db354aa376346c3a23bfeac3bf1362c",
       "version_major": 2,
       "version_minor": 0
      },
      "text/plain": [
       "part-000046.zip:   0%|          | 0.00/483M [00:00<?, ?B/s]"
      ]
     },
     "metadata": {},
     "output_type": "display_data"
    },
    {
     "data": {
      "application/vnd.jupyter.widget-view+json": {
       "model_id": "bb9e94865cce4abdb7ef3ff102dcb223",
       "version_major": 2,
       "version_minor": 0
      },
      "text/plain": [
       "part-000047.zip:   0%|          | 0.00/527M [00:00<?, ?B/s]"
      ]
     },
     "metadata": {},
     "output_type": "display_data"
    },
    {
     "data": {
      "application/vnd.jupyter.widget-view+json": {
       "model_id": "50040c71fc80470ca7a7596901a4b9bc",
       "version_major": 2,
       "version_minor": 0
      },
      "text/plain": [
       "part-000048.zip:   0%|          | 0.00/487M [00:00<?, ?B/s]"
      ]
     },
     "metadata": {},
     "output_type": "display_data"
    },
    {
     "data": {
      "application/vnd.jupyter.widget-view+json": {
       "model_id": "e2367dc1049f4cefab4a5a11efec045d",
       "version_major": 2,
       "version_minor": 0
      },
      "text/plain": [
       "part-000049.zip:   0%|          | 0.00/558M [00:00<?, ?B/s]"
      ]
     },
     "metadata": {},
     "output_type": "display_data"
    },
    {
     "data": {
      "application/vnd.jupyter.widget-view+json": {
       "model_id": "ddd7aa2de0454822afb3cf7b6f334552",
       "version_major": 2,
       "version_minor": 0
      },
      "text/plain": [
       "part-000050.zip:   0%|          | 0.00/500M [00:00<?, ?B/s]"
      ]
     },
     "metadata": {},
     "output_type": "display_data"
    },
    {
     "data": {
      "application/vnd.jupyter.widget-view+json": {
       "model_id": "4436d90bba7b4009acaa80b9a8cfb8e1",
       "version_major": 2,
       "version_minor": 0
      },
      "text/plain": [
       "part-000051.zip:   0%|          | 0.00/410M [00:00<?, ?B/s]"
      ]
     },
     "metadata": {},
     "output_type": "display_data"
    },
    {
     "data": {
      "application/vnd.jupyter.widget-view+json": {
       "model_id": "9393d843a7464352a8ddf46d69bb9785",
       "version_major": 2,
       "version_minor": 0
      },
      "text/plain": [
       "Generating train split: 0 examples [00:00, ? examples/s]"
      ]
     },
     "metadata": {},
     "output_type": "display_data"
    }
   ],
   "source": [
    "\n",
    "dataset = load_dataset('poloclub/diffusiondb', 'large_first_50k', trust_remote_code=True)"
   ]
  },
  {
   "cell_type": "code",
   "execution_count": null,
   "id": "605792fe-7fe2-40f4-b427-12bf2bb21dc7",
   "metadata": {},
   "outputs": [],
   "source": [
    "df = pd.DataFrame(dataset)\n",
    "df.head()"
   ]
  },
  {
   "cell_type": "code",
   "execution_count": null,
   "id": "79b8b529-3491-4b2e-9d2a-b630230bdbc1",
   "metadata": {},
   "outputs": [],
   "source": [
    "df = df['train'].apply(pd.Series)\n",
    "df.head()"
   ]
  },
  {
   "cell_type": "code",
   "execution_count": null,
   "id": "1a506e07-be42-421d-945e-4b138f32f826",
   "metadata": {},
   "outputs": [],
   "source": [
    "image = df.loc[0, 'image']\n",
    "image.show()\n",
    "image_array = np.array(image)\n",
    "print(image_array.shape)"
   ]
  },
  {
   "cell_type": "code",
   "execution_count": null,
   "id": "06a7218e-ec27-4a32-9e4f-a31bd5f79ab6",
   "metadata": {},
   "outputs": [],
   "source": [
    "image_rgb = image.convert('RGB')\n",
    "image_array = np.expand_dims(image_rgb, axis=0)\n"
   ]
  },
  {
   "cell_type": "code",
   "execution_count": null,
   "id": "f53c02a2-76e2-4936-86a2-e8f2563657b6",
   "metadata": {},
   "outputs": [],
   "source": [
    "print(image_array)"
   ]
  },
  {
   "cell_type": "code",
   "execution_count": null,
   "id": "1f8d7697-c0f3-49d1-a7f1-a44032002f87",
   "metadata": {},
   "outputs": [],
   "source": [
    "openai.api_key = os.getenv(\"OPENAI_API_KEY\")\n",
    "\n",
    "if openai.api_key is None:\n",
    "    print(' ValueError(\"API key is missing. Please set the OPENAI_API_KEY environment variable.\")')\n",
    "    openai.api_key=input(\"whats your API key?\")\n",
    "# Initialize the OpenAI client\n",
    "client = openai"
   ]
  },
  {
   "cell_type": "code",
   "execution_count": null,
   "id": "f7f3c594-7bf5-46a3-b918-656148635dcd",
   "metadata": {},
   "outputs": [],
   "source": [
    "def classify_word(word):\n",
    "    # Define a system message and user prompt to classify each word\n",
    "    prompt = f\"Classify the word '{word}' into one of the following categories: 'illegal', 'explicit', 'violent', 'innocent'. Provide just the category as the output.\"\n",
    "\n",
    "    # Call the OpenAI API with the prompt\n",
    "    try:\n",
    "        response = client.chat.completions.create(\n",
    "            model=\"gpt-4o-mini\",\n",
    "            messages=[\n",
    "                {\"role\": \"system\", \"content\": \"You are a helpful assistant that classifies words.\"},\n",
    "                {\"role\": \"user\", \"content\": prompt}\n",
    "            ],\n",
    "            max_tokens=10\n",
    "        )\n",
    "        \n",
    "        # Parse the response and extract the classification\n",
    "        classification = response.choices[0].message.content.strip()\n",
    "        if 'illegal' in classification:\n",
    "            classification = 'illegal'\n",
    "        elif 'explicit' in classification:\n",
    "            classification = 'explicit'\n",
    "        elif 'violent' in classification:\n",
    "            classification = 'violent'\n",
    "        elif 'innocent' in classification:\n",
    "            classification = 'innocent'\n",
    "        # Map the response to a unique value\n",
    "        category_mapping = {\n",
    "            \"illegal\": 1,\n",
    "            \"explicit\": 2,\n",
    "            \"violent\": 3,\n",
    "            \"innocent\": 0\n",
    "        }\n",
    "        \n",
    "        # Return the mapped value\n",
    "        return category_mapping.get(classification, -1)  # Return -1 for unknown categories\n",
    "    \n",
    "    except Exception as e:\n",
    "        print(f\"Error classifying word '{word}': {e}\")\n",
    "        return -1"
   ]
  },
  {
   "cell_type": "code",
   "execution_count": null,
   "id": "db226c5a-6e31-45cc-ae96-5fb9c364a73a",
   "metadata": {},
   "outputs": [],
   "source": [
    "def numberify(word):\n",
    "    # Define a system message and user prompt to classify each word\n",
    "    prompt = f\"\"\"Assign the word a number based on the following criteria. The number will be 8 digits. the first 4 are to determine how much censorship the word may be. \n",
    "    Ensure a pattern is involved. Filler words will be 1111xxxx. Subjects(non explicit) will be 2222xxxx. Verbs (non explicit) will be 3333xxxx. Then have forward scaling for explicit words. \n",
    "    For example the word 'sex' will be 8888xxxx and the word 'rape' will be 9999xxxx. Have intermediate words follow a similar scale. \n",
    "    The final four numbers will be determined with the following. The first 2 numbers of the final 4 numbers will be based on the amount of letters in the word. The following 2 numbers will be a fine scale of possible explicit value. \n",
    "    For example, the word sex will be classified as 88880395. If a word could have potential implications to violence, illegality, drugs, or explicit content, then give it a higher number than 400000. Use a good scale though. words like assassin or shot shouldnt be classified as 9999xxxx. Try to keep a balance with 5555xxxx, 6666xxxx, 7777xxxx, 8888xxxx with 9999xxxx being used to depict severe content like rape, incest, child porn, etc..\n",
    "    Respond with just the number! HERE IS THE WORD: {word}\"\"\"\n",
    "\n",
    "    # Call the OpenAI API with the prompt\n",
    "    try:\n",
    "        response = client.chat.completions.create(\n",
    "            model=\"gpt-4o-mini\",\n",
    "            messages=[\n",
    "                {\"role\": \"system\", \"content\": \"You are a helpful assistant that classifies words.\"},\n",
    "                {\"role\": \"user\", \"content\": prompt}\n",
    "            ],\n",
    "            max_tokens=10\n",
    "        )\n",
    "        \n",
    "        # Parse the response and extract the classification\n",
    "        classification = response.choices[0].message.content.strip()        \n",
    "        worded = word\n",
    "        return classification, worded\n",
    "    \n",
    "    except Exception as e:\n",
    "        print(f\"Error classifying word '{word}': {e}\")\n",
    "        return -1"
   ]
  },
  {
   "cell_type": "code",
   "execution_count": null,
   "id": "b3c6071a-b7e1-470a-a91b-1bbec24fcb92",
   "metadata": {},
   "outputs": [],
   "source": [
    "df.info()"
   ]
  },
  {
   "cell_type": "code",
   "execution_count": null,
   "id": "f68ba4c8-f545-45cb-99bf-7bfb9b5751f4",
   "metadata": {},
   "outputs": [],
   "source": [
    "import re\n",
    "\n",
    "# Example DataFrame (replace this with your actual DataFrame)\n",
    "\n",
    "word_classifications = {}\n",
    "rows = []\n",
    "words_set = set()\n",
    "# Loop through the DataFrame and classify words across all rows\n",
    "for idx, row in df.iterrows():\n",
    "    prompt = row['prompt']\n",
    "    for word in re.findall(r'\\b\\w+\\b', prompt):  # Split the prompt into individual words\n",
    "        if word not in words_set:  # Avoid classifying the same word twice\n",
    "            words_set.add(word)\n",
    "            word_classifications[word] = {}\n",
    "            classification_value = classify_word(word)\n",
    "            numeric_value, interpreted_word=numberify(word)\n",
    "            rows.append([word, classification_value, numeric_value, interpreted_word])\n",
    "            print(word, classification_value, numeric_value, interpreted_word)\n",
    "        # Sleep to avoid hitting API rate limits\n",
    "        time.sleep(.5)  # Adjust the sleep time as necessary\n",
    "\n",
    "# Convert the dictionary to a DataFrame for better visualization\n",
    "word_classification_df = pd.DataFrame(rows, columns=[\"Word\", \"Classification\", \"Number\", \"NumericInterpretedWord\"])\n",
    "# Display the final DataFrame with words and their classifications\n",
    "print(word_classification_df)\n"
   ]
  },
  {
   "cell_type": "code",
   "execution_count": 16,
   "id": "27628aed-241a-4f2c-b1a7-3baf7970934b",
   "metadata": {},
   "outputs": [
    {
     "name": "stdout",
     "output_type": "stream",
     "text": [
      "[0 3 2 1]\n"
     ]
    }
   ],
   "source": [
    "print(word_classification_df['Classification'].unique())"
   ]
  },
  {
   "cell_type": "code",
   "execution_count": null,
   "id": "9fbe2dd0-e935-4ac4-a11d-25d9be516d08",
   "metadata": {},
   "outputs": [],
   "source": []
  },
  {
   "cell_type": "code",
   "execution_count": null,
   "id": "4c73b51f-bb50-41e4-9f52-de91a502df36",
   "metadata": {},
   "outputs": [],
   "source": []
  }
 ],
 "metadata": {
  "kernelspec": {
   "display_name": "Python 3 (ipykernel)",
   "language": "python",
   "name": "python3"
  },
  "language_info": {
   "codemirror_mode": {
    "name": "ipython",
    "version": 3
   },
   "file_extension": ".py",
   "mimetype": "text/x-python",
   "name": "python",
   "nbconvert_exporter": "python",
   "pygments_lexer": "ipython3",
   "version": "3.12.7"
  }
 },
 "nbformat": 4,
 "nbformat_minor": 5
}
